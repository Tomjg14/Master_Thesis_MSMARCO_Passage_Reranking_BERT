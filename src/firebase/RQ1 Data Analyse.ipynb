{
 "cells": [
  {
   "cell_type": "markdown",
   "metadata": {},
   "source": [
    "This notebook is used to analyse the assessor labels collected via the online assessment. \n",
    "\n",
    "I will try to answer the following questions:\n",
    "\n",
    "**Query related**\n",
    "\n",
    "1. How many queries were assessed?\n",
    "2. How many queries had 3 or more different assessors?\n",
    "3. How many terms had each query?\n",
    "4. What type of queries were there?\n",
    "5. How many queries had the MS MARCO relevant passage in the top 20?\n",
    "\n",
    "**Assessor Related**\n",
    "\n",
    "1. How many assessors contributed?\n",
    "2. How was there English level?\n",
    "3. Did any low English level (<6) assessors assess the same queries?\n",
    "4. How many queries did each assessor assess?\n",
    "5. How many queries are assessed by low English level assessors?\n",
    "6. What is the number of assessors per query? \n",
    "\n",
    "**Assessment Related**\n",
    "\n",
    "1. Are there any missing data?\n",
    "2. How many times do the assessors disagree with the MS MARCO label (graded)?\n",
    "3. How many times do the assessors disagree with the MS MARCO label (binary threshold=2)?\n",
    "4. How many times do the assessors disagree with the MS MARCO label (binary thrheshold=3)?\n",
    "5. How many times is the MS MARCO relevant passage the only relevant (graded?)\n",
    "6. How many times is the MS MARCO relevant passage the only relevant (binary threshold=2)?\n",
    "7. How many times is the MS MARCO relevant passage the only relevant (binary thrheshold=3)?\n",
    "8. What are the number of queries that can be used for experiments (graded; threshold=2; threshold=3)?\n",
    "\n",
    "**Experiment Dataset Stats**\n",
    "\n",
    "1. How many queries does the dataset contain?\n",
    "2. What is the number of assessors per query?\n",
    "3. How many term does each query contain?\n",
    "4. What type of queries does the dataset contain?\n",
    "5. How many queries have the MS MARCO relevant passage in the top 20?\n",
    "6. How many queries are assessed by low English level assessors?"
   ]
  },
  {
   "cell_type": "markdown",
   "metadata": {},
   "source": [
    "## Import Libraries"
   ]
  },
  {
   "cell_type": "code",
   "execution_count": 1,
   "metadata": {},
   "outputs": [],
   "source": [
    "import pandas as pd\n",
    "import json\n",
    "import numpy as np\n",
    "from collections import Counter"
   ]
  },
  {
   "cell_type": "markdown",
   "metadata": {},
   "source": [
    "## Load Data"
   ]
  },
  {
   "cell_type": "code",
   "execution_count": 2,
   "metadata": {},
   "outputs": [],
   "source": [
    "# filenames\n",
    "firebase_data = 'data.json'\n",
    "query_subset_filename = 'queries.dev.small.tsv'\n",
    "qrels_filename = 'qrels.dev.small.tsv'\n",
    "bm25_filename = 'run_development_top100.tsv'\n",
    "assessor_info = 'assessor_info.tsv'"
   ]
  },
  {
   "cell_type": "code",
   "execution_count": 3,
   "metadata": {},
   "outputs": [],
   "source": [
    "with open(firebase_data, 'r') as infile:\n",
    "    data = json.load(infile)\n",
    "query_ids = list(data.keys())"
   ]
  },
  {
   "cell_type": "code",
   "execution_count": 4,
   "metadata": {},
   "outputs": [],
   "source": [
    "query_subset = pd.read_csv(query_subset_filename,delimiter='\\t',encoding='utf-8', header=None)\n",
    "query_subset.columns = ['query_id', 'query']"
   ]
  },
  {
   "cell_type": "code",
   "execution_count": 5,
   "metadata": {},
   "outputs": [],
   "source": [
    "bm25_df = pd.read_csv(bm25_filename,delimiter='\\t',encoding='utf-8',header=None)\n",
    "bm25_df.columns = ['query_id', 'passage_id','bm25_rank']"
   ]
  },
  {
   "cell_type": "code",
   "execution_count": 6,
   "metadata": {},
   "outputs": [],
   "source": [
    "qrels_df = pd.read_csv(qrels_filename,delimiter='\\t',encoding='utf-8',header=None)\n",
    "qrels_df.columns = ['query_id','label1','passage_id','label2']"
   ]
  },
  {
   "cell_type": "code",
   "execution_count": 7,
   "metadata": {},
   "outputs": [],
   "source": [
    "assessor_df = pd.read_csv(assessor_info,delimiter='\\t',encoding='utf-8',header=None)\n",
    "assessor_df.columns = [\"user_id\",\"email\",\"consent\",\"contact\",\"english\",\"progress\",\"assessed_queries\"]"
   ]
  },
  {
   "cell_type": "markdown",
   "metadata": {},
   "source": [
    "## Create Dataframes per Query"
   ]
  },
  {
   "cell_type": "code",
   "execution_count": 8,
   "metadata": {},
   "outputs": [],
   "source": [
    "def create_labels(nr_assessors):\n",
    "    labels = [\"query_id\",\"passageid\",\"msmarco\"]\n",
    "    for i in range(nr_assessors):\n",
    "        labels = labels + ['user%s_id'%(i+1),'user%s_label'%(i+1)]\n",
    "    return labels"
   ]
  },
  {
   "cell_type": "code",
   "execution_count": 9,
   "metadata": {},
   "outputs": [],
   "source": [
    "dataframe_data = {}\n",
    "label_data = {}\n",
    "assessor_data = {}\n",
    "for query_id in query_ids:\n",
    "    query_data_lists = []\n",
    "    query_data = data[query_id]\n",
    "    nr_assessors = 0\n",
    "    for i, passage_id in enumerate(query_data.keys()):\n",
    "        dataFrameRow2be = [query_id, passage_id] + query_data[passage_id]\n",
    "        query_data_lists.append(dataFrameRow2be)\n",
    "        if i == 0:\n",
    "            nr_assessors = int((len(query_data[passage_id])-1)/2)\n",
    "    dataframe_data[query_id] = query_data_lists\n",
    "    label_data[query_id] = create_labels(nr_assessors)\n",
    "    assessor_data[query_id] = nr_assessors"
   ]
  },
  {
   "cell_type": "code",
   "execution_count": 10,
   "metadata": {},
   "outputs": [],
   "source": [
    "dataframes = {}\n",
    "for query_id in query_ids:\n",
    "    df = pd.DataFrame(dataframe_data[query_id],columns=label_data[query_id])\n",
    "    dataframes[query_id] = df"
   ]
  },
  {
   "cell_type": "markdown",
   "metadata": {},
   "source": [
    "# Query Statistics"
   ]
  },
  {
   "cell_type": "markdown",
   "metadata": {},
   "source": [
    "1. How many queries were assessed?"
   ]
  },
  {
   "cell_type": "code",
   "execution_count": 11,
   "metadata": {},
   "outputs": [
    {
     "name": "stdout",
     "output_type": "stream",
     "text": [
      "Nr of unique assessed queries: 125\n"
     ]
    }
   ],
   "source": [
    "print(\"Nr of unique assessed queries: %s\"%(len(query_ids)))"
   ]
  },
  {
   "cell_type": "markdown",
   "metadata": {},
   "source": [
    "2. How many queries had 3 or more different assessors?"
   ]
  },
  {
   "cell_type": "code",
   "execution_count": 12,
   "metadata": {},
   "outputs": [
    {
     "name": "stdout",
     "output_type": "stream",
     "text": [
      "Nr of queries with 3 or more different assessors: 51\n"
     ]
    }
   ],
   "source": [
    "three_or_more_assessors = 0\n",
    "for query_id in query_ids:\n",
    "    nr_assessors = assessor_data[query_id]\n",
    "    if nr_assessors >= 3:\n",
    "        three_or_more_assessors += 1\n",
    "print(\"Nr of queries with 3 or more different assessors: %s\"%(three_or_more_assessors))"
   ]
  },
  {
   "cell_type": "markdown",
   "metadata": {},
   "source": [
    "3. How many terms had each query?"
   ]
  },
  {
   "cell_type": "markdown",
   "metadata": {},
   "source": [
    "First get the query texts for each query id in the firebase data:"
   ]
  },
  {
   "cell_type": "code",
   "execution_count": 13,
   "metadata": {},
   "outputs": [],
   "source": [
    "firebase_query_subset = query_subset[query_subset['query_id'].isin(query_ids)].copy()"
   ]
  },
  {
   "cell_type": "markdown",
   "metadata": {},
   "source": [
    "This subset is also nice to have for other analyses, so I save it as a tsv file and I then save the query texts to a txt file as well."
   ]
  },
  {
   "cell_type": "code",
   "execution_count": 14,
   "metadata": {},
   "outputs": [],
   "source": [
    "firebase_query_subset.to_csv(\"firebase_query_subset.tsv\",sep=\"\\t\", header=False,index=False)"
   ]
  },
  {
   "cell_type": "code",
   "execution_count": 15,
   "metadata": {},
   "outputs": [],
   "source": [
    "firebase_query_texts = firebase_query_subset['query'].values.tolist()\n",
    "with open(\"firebase_query_texts.txt\",\"w\") as outfile:\n",
    "    for query_text in firebase_query_texts:\n",
    "        outfile.write(\"%s\\n\"%(query_text))"
   ]
  },
  {
   "cell_type": "code",
   "execution_count": 16,
   "metadata": {},
   "outputs": [],
   "source": [
    "query_texts = firebase_query_subset['query'].values.tolist()"
   ]
  },
  {
   "cell_type": "code",
   "execution_count": 17,
   "metadata": {},
   "outputs": [],
   "source": [
    "query_lengths = []\n",
    "for query_text in query_texts:\n",
    "    query_lengths.append(len(query_text.split()))\n",
    "query_lengths_counter = Counter(query_lengths)"
   ]
  },
  {
   "cell_type": "code",
   "execution_count": 18,
   "metadata": {},
   "outputs": [
    {
     "data": {
      "text/plain": [
       "Counter({2: 4,\n",
       "         3: 18,\n",
       "         4: 13,\n",
       "         5: 22,\n",
       "         6: 20,\n",
       "         7: 19,\n",
       "         8: 9,\n",
       "         9: 3,\n",
       "         10: 7,\n",
       "         11: 5,\n",
       "         12: 1,\n",
       "         13: 2,\n",
       "         15: 2})"
      ]
     },
     "execution_count": 18,
     "metadata": {},
     "output_type": "execute_result"
    }
   ],
   "source": [
    "query_lengths_counter"
   ]
  },
  {
   "cell_type": "code",
   "execution_count": 19,
   "metadata": {},
   "outputs": [
    {
     "data": {
      "image/png": "[encoded data removed]",
      "text/plain": [
       "<Figure size 432x288 with 1 Axes>"
      ]
     },
     "metadata": {
      "needs_background": "light"
     },
     "output_type": "display_data"
    }
   ],
   "source": [
    "import matplotlib.pyplot as plt\n",
    "%matplotlib inline\n",
    "plt.bar(list(query_lengths_counter.keys()), query_lengths_counter.values(), color='g')\n",
    "plt.xlabel(\"Nr of Query Terms\")\n",
    "plt.ylabel(\"Nr of Queries\")\n",
    "plt.show()"
   ]
  },
  {
   "cell_type": "markdown",
   "metadata": {},
   "source": [
    "4. What type of queries were there?"
   ]
  },
  {
   "cell_type": "markdown",
   "metadata": {},
   "source": [
    "To be able to answer this question I follow the work by Padigela et al (2019). They make use of the answer type classifier found here: https://github.com/superscriptjs/qtypes"
   ]
  },
  {
   "cell_type": "markdown",
   "metadata": {},
   "source": [
    "I make use of the query text file I made at the previous question and feed it to a special .js script I wrote that uses the answer type classifier to compute the answer type for each query. The output is stored in a file named \"firebase_answer_types.txt\" so lets load that."
   ]
  },
  {
   "cell_type": "code",
   "execution_count": 20,
   "metadata": {},
   "outputs": [],
   "source": [
    "firebase_answer_types = {}\n",
    "counter_answer_types = 0\n",
    "counter_no_answer_types = 0\n",
    "with open(\"firebase_answer_types.txt\", \"r\") as infile:\n",
    "    for line in infile:\n",
    "        if(\"\\t\" in line.rstrip()):\n",
    "            counter_answer_types += 1\n",
    "            [query_text,answer_type] = line.rstrip().split(\"\\t\")\n",
    "            firebase_answer_types[query_text] = answer_type.split(\":\")[0]\n",
    "        else:\n",
    "            if not line.rstrip() == \"\":\n",
    "                counter_no_answer_types += 1\n",
    "                firebase_answer_types[line.rstrip()] = \"\""
   ]
  },
  {
   "cell_type": "code",
   "execution_count": 21,
   "metadata": {},
   "outputs": [
    {
     "name": "stdout",
     "output_type": "stream",
     "text": [
      "There are 54 queries for which no answer type could be classified.\n"
     ]
    }
   ],
   "source": [
    "print(\"There are %s queries for which no answer type could be classified.\"%(counter_no_answer_types))"
   ]
  },
  {
   "cell_type": "code",
   "execution_count": 22,
   "metadata": {},
   "outputs": [
    {
     "name": "stdout",
     "output_type": "stream",
     "text": [
      "rigorous testing definition\n",
      "is cortana smart???\n",
      "neonatal hemochromatosis causes\n",
      "definition of purse\n",
      "definition, nepotism\n",
      "how big is a micron\n",
      "molar mass of phenol\n",
      "who is the boss of google?\n",
      "phone number for bc transit junction\n",
      "temperature diode\n",
      "can vcenter standard manage essentials plus\n",
      "how could the courts check the bureaucracy\n",
      "weather in fletcher,nc\n",
      "why food products or food contaminated wastes cannot be recycled?\n",
      "statute of limitations definition\n",
      "carnationï¿½ evaporated milk total calories\n",
      "effects hot stone has on the circulatory system\n",
      "how far is niagara on the lake to hamilton\n",
      "linking verb synonym\n",
      "hydrocodone price per pill\n",
      "what's the difference between jambalaya and paella\n",
      "difference between watt and hertz\n",
      "highest mileage crossover india\n",
      "was the great wall of china breached\n",
      "has a mlb team ever gone undefeated in the regular season\n",
      "____________________ is considered the father of modern medicine.\n",
      "blue sky charge controller price\n",
      "_______ sediments originate from elements in seawater that precipitate out of solution.\n",
      "who played fiddle for boxcar willie\n",
      "how old is lil moco\n",
      "does singing burn calories\n",
      "is it normal to have heartburn during the first trimester pregnancy\n",
      "apartment cost in phoenix az\n",
      "who owns cnn cable news network\n",
      "average amount of money stna make\n",
      "circulation money definition\n",
      "how big do newfypoo's get\n",
      "who was the basket of apples by\n",
      "what's the temperature in tucson arizona right now?\n",
      "average money market interest rates\n",
      "who owns charlotte hilton university place hotel\n",
      "carbon reactivation facilities california\n",
      "how long does it take to process your request for ssa retirement benefits?\n",
      "is the sec constitutional\n",
      "is education a constitutional right\n",
      "average temp in fort worth in march\n",
      "is the hawb the tracking number\n",
      "how long can i keep cooked italian sausage in refrigerator\n",
      "who is the grinning man\n",
      "who paul clark\n",
      "how tall is samus aran\n",
      "architectural design\n",
      "is callahan an irish name\n",
      "is thread.sleep implicit wait\n"
     ]
    }
   ],
   "source": [
    "for query_text, answer_type in firebase_answer_types.items():\n",
    "    if answer_type == \"\":\n",
    "        print(query_text)"
   ]
  },
  {
   "cell_type": "markdown",
   "metadata": {},
   "source": [
    "Now with help of this list: https://cogcomp.seas.upenn.edu/Data/QA/QC/definition.html I am going to manually label these answer types."
   ]
  },
  {
   "cell_type": "code",
   "execution_count": 23,
   "metadata": {},
   "outputs": [],
   "source": [
    "with open(\"manual_answer_types.txt\", \"r\", encoding='utf-8') as infile:\n",
    "    for line in infile:\n",
    "        [query_text,answer_type] = line.rstrip().split(\"\\t\")\n",
    "        firebase_answer_types[query_text] = answer_type"
   ]
  },
  {
   "cell_type": "code",
   "execution_count": 24,
   "metadata": {},
   "outputs": [],
   "source": [
    "for query_text, answer_type in firebase_answer_types.items():\n",
    "    if answer_type == \"\":\n",
    "        print(query_text)"
   ]
  },
  {
   "cell_type": "code",
   "execution_count": 25,
   "metadata": {},
   "outputs": [],
   "source": [
    "answer_types = list(firebase_answer_types.values())"
   ]
  },
  {
   "cell_type": "code",
   "execution_count": 26,
   "metadata": {},
   "outputs": [],
   "source": [
    "answer_types_counts = Counter(answer_types)"
   ]
  },
  {
   "cell_type": "code",
   "execution_count": 27,
   "metadata": {},
   "outputs": [
    {
     "data": {
      "text/plain": [
       "Counter({'DESC': 74, 'ENTY': 2, 'HUM': 12, 'LOC': 9, 'NUM': 28})"
      ]
     },
     "execution_count": 27,
     "metadata": {},
     "output_type": "execute_result"
    }
   ],
   "source": [
    "answer_types_counts"
   ]
  },
  {
   "cell_type": "code",
   "execution_count": 28,
   "metadata": {},
   "outputs": [
    {
     "data": {
      "image/png": "[encoded data removed]",
      "text/plain": [
       "<Figure size 432x288 with 1 Axes>"
      ]
     },
     "metadata": {
      "needs_background": "light"
     },
     "output_type": "display_data"
    }
   ],
   "source": [
    "plt.bar(list(answer_types_counts.keys()), answer_types_counts.values(), color='g')\n",
    "plt.xlabel(\"Answer Types\")\n",
    "plt.ylabel(\"Nr of Queries\")\n",
    "plt.show()"
   ]
  },
  {
   "cell_type": "markdown",
   "metadata": {},
   "source": [
    "There are no abbreviation questions in the dataset. Most answer types are **Description** followed by **Numeric**. According to the research by Padigela et al (2019) BERT seems to have the lowest performance on Numeric questions. It will be interesting to see if this is the case with my research."
   ]
  },
  {
   "cell_type": "markdown",
   "metadata": {},
   "source": [
    "5. How many queries had the MS MARCO relevant passage in the top 20?"
   ]
  },
  {
   "cell_type": "markdown",
   "metadata": {},
   "source": [
    "To answer this question we need the output from Anserini's BM25 on the development set with hits=100. And we need MS MARCO qrels file for the development set. We then merge these files to find the ms marco relevant passage in each top 100. Then we filter on <21 to get the top20 for each query and check how many of these top20's contain the ms marco relevant passage."
   ]
  },
  {
   "cell_type": "code",
   "execution_count": 29,
   "metadata": {},
   "outputs": [],
   "source": [
    "bm25_subset_df = bm25_df[bm25_df['query_id'].isin(query_ids)].copy()"
   ]
  },
  {
   "cell_type": "code",
   "execution_count": 30,
   "metadata": {},
   "outputs": [],
   "source": [
    "qrels_subset_df = qrels_df[qrels_df['query_id'].isin(query_ids)].copy()"
   ]
  },
  {
   "cell_type": "code",
   "execution_count": 31,
   "metadata": {},
   "outputs": [],
   "source": [
    "result = pd.merge(bm25_subset_df, qrels_subset_df, on=['query_id','passage_id'],how='left')"
   ]
  },
  {
   "cell_type": "code",
   "execution_count": 32,
   "metadata": {},
   "outputs": [],
   "source": [
    "result = result.dropna()"
   ]
  },
  {
   "cell_type": "code",
   "execution_count": 33,
   "metadata": {},
   "outputs": [
    {
     "name": "stdout",
     "output_type": "stream",
     "text": [
      "There are 118 queries with the ms marco relevant passage in the top 20 by BM25.\n"
     ]
    }
   ],
   "source": [
    "print(\"There are %s queries with the ms marco relevant passage in the top 20 by BM25.\"%(len(result[result['bm25_rank'] < 21])))"
   ]
  },
  {
   "cell_type": "markdown",
   "metadata": {},
   "source": [
    "# Assessor Statistics"
   ]
  },
  {
   "cell_type": "markdown",
   "metadata": {},
   "source": [
    "1. How many assessors contributed?"
   ]
  },
  {
   "cell_type": "code",
   "execution_count": 34,
   "metadata": {},
   "outputs": [],
   "source": [
    "assessor_ids = []\n",
    "for query_id in query_ids:\n",
    "    df = dataframes[query_id]\n",
    "    nr_assessors = assessor_data[query_id]\n",
    "    user_id_columns = [\"user%s_id\"%(i+1) for i in range(nr_assessors)]\n",
    "    for user_id_column in user_id_columns:\n",
    "        user_id = list(np.unique(df[user_id_column].values.tolist()))[0]\n",
    "        if not user_id in assessor_ids:\n",
    "            assessor_ids.append(user_id)"
   ]
  },
  {
   "cell_type": "code",
   "execution_count": 35,
   "metadata": {},
   "outputs": [
    {
     "name": "stdout",
     "output_type": "stream",
     "text": [
      "The number of assessors is 37.\n"
     ]
    }
   ],
   "source": [
    "print(\"The number of assessors is %s.\"%(len(assessor_ids)))"
   ]
  },
  {
   "cell_type": "markdown",
   "metadata": {},
   "source": [
    "2. How was there English level?"
   ]
  },
  {
   "cell_type": "code",
   "execution_count": 36,
   "metadata": {},
   "outputs": [
    {
     "data": {
      "image/png": "[encoded data removed]",
      "text/plain": [
       "<Figure size 432x288 with 1 Axes>"
      ]
     },
     "metadata": {
      "needs_background": "light"
     },
     "output_type": "display_data"
    }
   ],
   "source": [
    "english_levels = assessor_df['english'].values.tolist()\n",
    "level_counts = Counter(english_levels)\n",
    "plt.bar(list(level_counts.keys()), level_counts.values(), color='g')\n",
    "plt.xlabel(\"Assessor English Level\")\n",
    "plt.ylabel(\"Nr of Assessors\")\n",
    "plt.show()"
   ]
  },
  {
   "cell_type": "code",
   "execution_count": 37,
   "metadata": {},
   "outputs": [
    {
     "data": {
      "text/plain": [
       "Counter({5: 4, 6: 1, 7: 7, 8: 13, 9: 12})"
      ]
     },
     "execution_count": 37,
     "metadata": {},
     "output_type": "execute_result"
    }
   ],
   "source": [
    "level_counts"
   ]
  },
  {
   "cell_type": "markdown",
   "metadata": {},
   "source": [
    "3. Did any low English level (<6) assessors assess the same queries?"
   ]
  },
  {
   "cell_type": "markdown",
   "metadata": {},
   "source": [
    "We will need to filter on the assessors with an english level of below 7 and see if they assessed the same queries."
   ]
  },
  {
   "cell_type": "code",
   "execution_count": 38,
   "metadata": {},
   "outputs": [],
   "source": [
    "import ast\n",
    "\n",
    "low_level_assessors_df = assessor_df[assessor_df['english'] < 7]\n",
    "\n",
    "query_assessor_dict = {}\n",
    "\n",
    "for index, row in low_level_assessors_df.iterrows():\n",
    "    user_id = row['user_id']\n",
    "    assessed_queries = ast.literal_eval(row['assessed_queries'])\n",
    "    for query_id in assessed_queries:\n",
    "        if not query_id in query_assessor_dict.keys():\n",
    "            query_assessor_dict[query_id] = [user_id]\n",
    "        else:\n",
    "            qeury_assessor_dict[query_id].append(user_id)"
   ]
  },
  {
   "cell_type": "code",
   "execution_count": 39,
   "metadata": {},
   "outputs": [
    {
     "data": {
      "text/plain": [
       "{'1006199': ['VuW5Bs9hZ5QYshUJICGGdMRJE803'],\n",
       " '1007473': ['RIH7GordAScQ8PxzXHptOYhe5La2'],\n",
       " '1040461': ['VuW5Bs9hZ5QYshUJICGGdMRJE803'],\n",
       " '1045227': ['RIH7GordAScQ8PxzXHptOYhe5La2'],\n",
       " '1046648': ['RIH7GordAScQ8PxzXHptOYhe5La2'],\n",
       " '1056446': ['VuW5Bs9hZ5QYshUJICGGdMRJE803'],\n",
       " '1065558': ['RIH7GordAScQ8PxzXHptOYhe5La2'],\n",
       " '1077356': ['IEem2CuVB8U5paYaSJPyxZML0lJ2'],\n",
       " '1083663': ['RIH7GordAScQ8PxzXHptOYhe5La2'],\n",
       " '1083852': ['IEem2CuVB8U5paYaSJPyxZML0lJ2'],\n",
       " '1085457': ['v1PE6B964Jd7CdtcUM26gX1giwe2'],\n",
       " '1088541': ['IEem2CuVB8U5paYaSJPyxZML0lJ2'],\n",
       " '1091688': ['VuW5Bs9hZ5QYshUJICGGdMRJE803'],\n",
       " '1095278': ['v1PE6B964Jd7CdtcUM26gX1giwe2'],\n",
       " '117113': ['IEem2CuVB8U5paYaSJPyxZML0lJ2'],\n",
       " '149161': ['RIH7GordAScQ8PxzXHptOYhe5La2'],\n",
       " '178468': ['IEem2CuVB8U5paYaSJPyxZML0lJ2'],\n",
       " '202306': ['Edf7tjdNpAYDtdJnkKkgrR11BDZ2'],\n",
       " '208494': ['Edf7tjdNpAYDtdJnkKkgrR11BDZ2'],\n",
       " '231877': ['RIH7GordAScQ8PxzXHptOYhe5La2'],\n",
       " '30860': ['Edf7tjdNpAYDtdJnkKkgrR11BDZ2'],\n",
       " '321951': ['VuW5Bs9hZ5QYshUJICGGdMRJE803'],\n",
       " '409143': ['VuW5Bs9hZ5QYshUJICGGdMRJE803'],\n",
       " '455456': ['IEem2CuVB8U5paYaSJPyxZML0lJ2'],\n",
       " '463230': ['v1PE6B964Jd7CdtcUM26gX1giwe2'],\n",
       " '503390': ['RIH7GordAScQ8PxzXHptOYhe5La2'],\n",
       " '564668': ['v1PE6B964Jd7CdtcUM26gX1giwe2'],\n",
       " '608323': ['IEem2CuVB8U5paYaSJPyxZML0lJ2'],\n",
       " '687375': ['IEem2CuVB8U5paYaSJPyxZML0lJ2'],\n",
       " '689885': ['IEem2CuVB8U5paYaSJPyxZML0lJ2'],\n",
       " '741392': ['RIH7GordAScQ8PxzXHptOYhe5La2'],\n",
       " '758519': ['v1PE6B964Jd7CdtcUM26gX1giwe2'],\n",
       " '785176': ['IEem2CuVB8U5paYaSJPyxZML0lJ2'],\n",
       " '785721': ['Edf7tjdNpAYDtdJnkKkgrR11BDZ2'],\n",
       " '837681': ['RIH7GordAScQ8PxzXHptOYhe5La2'],\n",
       " '846082': ['RIH7GordAScQ8PxzXHptOYhe5La2'],\n",
       " '897476': ['RIH7GordAScQ8PxzXHptOYhe5La2'],\n",
       " '904389': ['Edf7tjdNpAYDtdJnkKkgrR11BDZ2'],\n",
       " '991590': ['v1PE6B964Jd7CdtcUM26gX1giwe2'],\n",
       " '993987': ['Edf7tjdNpAYDtdJnkKkgrR11BDZ2']}"
      ]
     },
     "execution_count": 39,
     "metadata": {},
     "output_type": "execute_result"
    }
   ],
   "source": [
    "query_assessor_dict"
   ]
  },
  {
   "cell_type": "markdown",
   "metadata": {},
   "source": [
    "As you can see each query only has one low english level user id connected to it. This means that no query id has been assessed by more than 1 low level english assessor."
   ]
  },
  {
   "cell_type": "markdown",
   "metadata": {},
   "source": [
    "4. How many queries did each assessor assess?"
   ]
  },
  {
   "cell_type": "code",
   "execution_count": 40,
   "metadata": {},
   "outputs": [
    {
     "data": {
      "image/png": "[encoded data removed]",
      "text/plain": [
       "<Figure size 432x288 with 1 Axes>"
      ]
     },
     "metadata": {
      "needs_background": "light"
     },
     "output_type": "display_data"
    }
   ],
   "source": [
    "progress_numbers = assessor_df['progress'].values.tolist()\n",
    "progress_counter = Counter(progress_numbers)\n",
    "plt.bar(list(progress_counter.keys()), progress_counter.values(), color='g')\n",
    "plt.xlabel(\"nr. of queries assessed\")\n",
    "plt.ylabel(\"nr. of assessors\")\n",
    "plt.xticks(np.arange(0, 22, 2.0))\n",
    "plt.yticks(np.arange(0, 22, 2.0))\n",
    "plt.show()"
   ]
  },
  {
   "cell_type": "markdown",
   "metadata": {},
   "source": [
    "5. How many queries are assessed by low English level assessors?"
   ]
  },
  {
   "cell_type": "code",
   "execution_count": 41,
   "metadata": {},
   "outputs": [],
   "source": [
    "queries_assessed_by_low_english_level_assessors = []\n",
    "for index, row in low_level_assessors_df.iterrows():\n",
    "    user_id = row['user_id']\n",
    "    assessed_queries = ast.literal_eval(row['assessed_queries'])\n",
    "    for query_id in assessed_queries:\n",
    "        if not query_id in queries_assessed_by_low_english_level_assessors:\n",
    "            queries_assessed_by_low_english_level_assessors.append(query_id)"
   ]
  },
  {
   "cell_type": "code",
   "execution_count": 42,
   "metadata": {},
   "outputs": [
    {
     "name": "stdout",
     "output_type": "stream",
     "text": [
      "There are 40 queries assessed by low English level assessors.\n"
     ]
    }
   ],
   "source": [
    "print(\"There are %s queries assessed by low English level assessors.\"%(len(queries_assessed_by_low_english_level_assessors)))"
   ]
  },
  {
   "cell_type": "markdown",
   "metadata": {},
   "source": [
    "5. How many queries are assessed by low English level assessors and have at least 3 assessors?"
   ]
  },
  {
   "cell_type": "code",
   "execution_count": 43,
   "metadata": {},
   "outputs": [
    {
     "name": "stdout",
     "output_type": "stream",
     "text": [
      "There are 23 queries with at least 3 assessors and of which one is a low english level assessor.\n"
     ]
    }
   ],
   "source": [
    "low_english_level_users = list(np.unique(low_level_assessors_df['user_id'].values.tolist()))\n",
    "counter = 0\n",
    "for query_id in query_ids:\n",
    "    df = dataframes[query_id]\n",
    "    nr_assessors = assessor_data[query_id]\n",
    "    user_id_columns = [\"user%s_id\"%(i+1) for i in range(nr_assessors)]\n",
    "    if nr_assessors >= 3:\n",
    "        for user_id_column in user_id_columns:\n",
    "            if df[user_id_column][0] in low_english_level_users:\n",
    "                counter += 1\n",
    "print(\"There are %s queries with at least 3 assessors and of which one is a low english level assessor.\"%(counter))"
   ]
  },
  {
   "cell_type": "markdown",
   "metadata": {},
   "source": [
    "6. What is the number of assessors per query? "
   ]
  },
  {
   "cell_type": "code",
   "execution_count": 44,
   "metadata": {},
   "outputs": [
    {
     "name": "stdout",
     "output_type": "stream",
     "text": [
      "Counter({1: 57, 3: 41, 2: 17, 5: 5, 6: 2, 7: 2, 4: 1})\n"
     ]
    }
   ],
   "source": [
    "assessor_counts = Counter(list(assessor_data.values()))\n",
    "print(assessor_counts)"
   ]
  },
  {
   "cell_type": "code",
   "execution_count": 45,
   "metadata": {},
   "outputs": [
    {
     "data": {
      "image/png": "[encoded data removed]",
      "text/plain": [
       "<Figure size 432x288 with 1 Axes>"
      ]
     },
     "metadata": {
      "needs_background": "light"
     },
     "output_type": "display_data"
    }
   ],
   "source": [
    "plt.bar(list(assessor_counts.keys()), assessor_counts.values(), color='g')\n",
    "plt.xlabel(\"nr. of assessors\")\n",
    "plt.ylabel(\"nr. of queries\")\n",
    "#plt.xticks(np.arange(0, 22, 2.0))\n",
    "#plt.yticks(np.arange(0, 22, 2.0))\n",
    "plt.show()"
   ]
  },
  {
   "cell_type": "code",
   "execution_count": 46,
   "metadata": {},
   "outputs": [
    {
     "data": {
      "text/plain": [
       "0.592"
      ]
     },
     "execution_count": 46,
     "metadata": {},
     "output_type": "execute_result"
    }
   ],
   "source": [
    "(57+17)/125"
   ]
  },
  {
   "cell_type": "code",
   "execution_count": 47,
   "metadata": {},
   "outputs": [
    {
     "data": {
      "text/plain": [
       "0.408"
      ]
     },
     "execution_count": 47,
     "metadata": {},
     "output_type": "execute_result"
    }
   ],
   "source": [
    "(41+5+3+1+1)/125"
   ]
  },
  {
   "cell_type": "markdown",
   "metadata": {},
   "source": [
    "# Assessment Statistics"
   ]
  },
  {
   "cell_type": "markdown",
   "metadata": {},
   "source": [
    "1. Are there any missing data?"
   ]
  },
  {
   "cell_type": "code",
   "execution_count": 48,
   "metadata": {},
   "outputs": [
    {
     "name": "stdout",
     "output_type": "stream",
     "text": [
      "1077356\n",
      "993153\n",
      "38946\n",
      "825147\n",
      "785176\n",
      "973362\n",
      "971653\n",
      "1096257\n",
      "1045826\n",
      "904389\n",
      "1083852\n",
      "426442\n",
      "988142\n",
      "758519\n",
      "689885\n",
      "257885\n",
      "1097449\n",
      "92542\n",
      "1101714\n",
      "637459\n",
      "202306\n",
      "736125\n",
      "nr of queries with missing data: 22\n"
     ]
    }
   ],
   "source": [
    "queries_with_missing_data = []\n",
    "counter = 0\n",
    "for query_id in query_ids:\n",
    "    df = dataframes[query_id]\n",
    "    if 'no_input' in df.values:\n",
    "        counter += 1\n",
    "        print(query_id)\n",
    "        queries_with_missing_data.append(query_id)\n",
    "print(\"nr of queries with missing data: %s\"%(counter))"
   ]
  },
  {
   "cell_type": "code",
   "execution_count": 49,
   "metadata": {},
   "outputs": [
    {
     "name": "stdout",
     "output_type": "stream",
     "text": [
      "1077356\n",
      "993153\n",
      "825147\n",
      "1096257\n",
      "904389\n",
      "426442\n",
      "758519\n",
      "689885\n",
      "1097449\n",
      "92542\n",
      "202306\n",
      "nr of queries (with at least 3 assessors) with missing data: 11\n"
     ]
    }
   ],
   "source": [
    "queries_with_missing_data = []\n",
    "counter = 0\n",
    "for query_id in query_ids:\n",
    "    df = dataframes[query_id]\n",
    "    nr_assessors = assessor_data[query_id]\n",
    "    if nr_assessors >= 3:\n",
    "        if 'no_input' in df.values:\n",
    "            counter += 1\n",
    "            print(query_id)\n",
    "            queries_with_missing_data.append(query_id)\n",
    "print(\"nr of queries (with at least 3 assessors) with missing data: %s\"%(counter))"
   ]
  },
  {
   "cell_type": "markdown",
   "metadata": {},
   "source": [
    "Lets see how many data is missing per user per query"
   ]
  },
  {
   "cell_type": "code",
   "execution_count": 50,
   "metadata": {},
   "outputs": [
    {
     "name": "stdout",
     "output_type": "stream",
     "text": [
      "1077356\n",
      "user1_label\n",
      "1\n",
      "user2_label\n",
      "0\n",
      "user3_label\n",
      "0\n",
      "\n",
      "\n",
      "993153\n",
      "user1_label\n",
      "0\n",
      "user2_label\n",
      "19\n",
      "user3_label\n",
      "1\n",
      "user4_label\n",
      "0\n",
      "user5_label\n",
      "0\n",
      "user6_label\n",
      "0\n",
      "user7_label\n",
      "0\n",
      "\n",
      "\n",
      "825147\n",
      "user1_label\n",
      "0\n",
      "user2_label\n",
      "0\n",
      "user3_label\n",
      "1\n",
      "user4_label\n",
      "0\n",
      "user5_label\n",
      "0\n",
      "\n",
      "\n",
      "1096257\n",
      "user1_label\n",
      "0\n",
      "user2_label\n",
      "1\n",
      "user3_label\n",
      "0\n",
      "\n",
      "\n",
      "904389\n",
      "user1_label\n",
      "0\n",
      "user2_label\n",
      "0\n",
      "user3_label\n",
      "1\n",
      "\n",
      "\n",
      "426442\n",
      "user1_label\n",
      "0\n",
      "user2_label\n",
      "3\n",
      "user3_label\n",
      "0\n",
      "\n",
      "\n",
      "758519\n",
      "user1_label\n",
      "0\n",
      "user2_label\n",
      "1\n",
      "user3_label\n",
      "0\n",
      "\n",
      "\n",
      "689885\n",
      "user1_label\n",
      "1\n",
      "user2_label\n",
      "0\n",
      "user3_label\n",
      "0\n",
      "\n",
      "\n",
      "1097449\n",
      "user1_label\n",
      "0\n",
      "user2_label\n",
      "0\n",
      "user3_label\n",
      "0\n",
      "user4_label\n",
      "1\n",
      "user5_label\n",
      "0\n",
      "user6_label\n",
      "0\n",
      "user7_label\n",
      "0\n",
      "\n",
      "\n",
      "92542\n",
      "user1_label\n",
      "0\n",
      "user2_label\n",
      "0\n",
      "user3_label\n",
      "1\n",
      "\n",
      "\n",
      "202306\n",
      "user1_label\n",
      "0\n",
      "user2_label\n",
      "1\n",
      "user3_label\n",
      "0\n",
      "\n",
      "\n"
     ]
    }
   ],
   "source": [
    "for query_id in queries_with_missing_data:\n",
    "    print(query_id)\n",
    "    df = dataframes[query_id]\n",
    "    nr_assessors = assessor_data[query_id]\n",
    "    user_id_columns = [\"user%s_label\"%(i+1) for i in range(nr_assessors)]\n",
    "    for user_id_column in user_id_columns:\n",
    "        print(user_id_column)\n",
    "        print(len(df[df[user_id_column].isin([\"no_input\"])]))\n",
    "    print(\"\\n\")"
   ]
  },
  {
   "cell_type": "markdown",
   "metadata": {},
   "source": [
    "Most of the times it is just one data entry. Except for query 993153 for which user 2 only entered one label. We could either remove this query entirely from the dataset or we could just leave out the input from user 2 as there are 6 other assessors for this query. I will do the latter."
   ]
  },
  {
   "cell_type": "code",
   "execution_count": 51,
   "metadata": {},
   "outputs": [],
   "source": [
    "del dataframes['993153']['user2_label']\n",
    "del dataframes['993153']['user2_id']"
   ]
  },
  {
   "cell_type": "code",
   "execution_count": 52,
   "metadata": {},
   "outputs": [],
   "source": [
    "assessor_data['993153'] = 6"
   ]
  },
  {
   "cell_type": "code",
   "execution_count": 53,
   "metadata": {},
   "outputs": [],
   "source": [
    "nr_assessors = assessor_data['993153']\n",
    "user_column_names = []\n",
    "for i in range(nr_assessors):\n",
    "    user_column_names = user_column_names + [\"user%s_id\"%(i+1), \"user%s_label\"%(i+1)]\n",
    "dataframes['993153'].columns = ['query_id','passageid','msmarco'] + user_column_names"
   ]
  },
  {
   "cell_type": "code",
   "execution_count": 54,
   "metadata": {},
   "outputs": [
    {
     "data": {
      "text/html": [
       "<div>\n",
       "<style scoped>\n",
       "    .dataframe tbody tr th:only-of-type {\n",
       "        vertical-align: middle;\n",
       "    }\n",
       "\n",
       "    .dataframe tbody tr th {\n",
       "        vertical-align: top;\n",
       "    }\n",
       "\n",
       "    .dataframe thead th {\n",
       "        text-align: right;\n",
       "    }\n",
       "</style>\n",
       "<table border=\"1\" class=\"dataframe\">\n",
       "  <thead>\n",
       "    <tr style=\"text-align: right;\">\n",
       "      <th></th>\n",
       "      <th>query_id</th>\n",
       "      <th>passageid</th>\n",
       "      <th>msmarco</th>\n",
       "      <th>user1_id</th>\n",
       "      <th>user1_label</th>\n",
       "      <th>user2_id</th>\n",
       "      <th>user2_label</th>\n",
       "      <th>user3_id</th>\n",
       "      <th>user3_label</th>\n",
       "      <th>user4_id</th>\n",
       "      <th>user4_label</th>\n",
       "      <th>user5_id</th>\n",
       "      <th>user5_label</th>\n",
       "      <th>user6_id</th>\n",
       "      <th>user6_label</th>\n",
       "    </tr>\n",
       "  </thead>\n",
       "  <tbody>\n",
       "    <tr>\n",
       "      <th>0</th>\n",
       "      <td>993153</td>\n",
       "      <td>8174479</td>\n",
       "      <td>irrelevant</td>\n",
       "      <td>AdqXiUfSnyZTKzaEEUtz4JrITjD2</td>\n",
       "      <td>1</td>\n",
       "      <td>XqZsRA3c3QQdWbsJ27oEs8plMYl2</td>\n",
       "      <td>1</td>\n",
       "      <td>bJ8IzR4NOPRXuDFEBVpiTZzdxUG2</td>\n",
       "      <td>2</td>\n",
       "      <td>jIAS83dqkiWODrjmPAvj8CIfsYP2</td>\n",
       "      <td>1</td>\n",
       "      <td>stmaxqNmmMPHcRWGv2BsI6tp0rH3</td>\n",
       "      <td>2</td>\n",
       "      <td>xkVAJ8mrGPUrhBPQC38nFa6Q3Za2</td>\n",
       "      <td>1</td>\n",
       "    </tr>\n",
       "    <tr>\n",
       "      <th>1</th>\n",
       "      <td>993153</td>\n",
       "      <td>447864</td>\n",
       "      <td>irrelevant</td>\n",
       "      <td>AdqXiUfSnyZTKzaEEUtz4JrITjD2</td>\n",
       "      <td>1</td>\n",
       "      <td>XqZsRA3c3QQdWbsJ27oEs8plMYl2</td>\n",
       "      <td>1</td>\n",
       "      <td>bJ8IzR4NOPRXuDFEBVpiTZzdxUG2</td>\n",
       "      <td>1</td>\n",
       "      <td>jIAS83dqkiWODrjmPAvj8CIfsYP2</td>\n",
       "      <td>1</td>\n",
       "      <td>stmaxqNmmMPHcRWGv2BsI6tp0rH3</td>\n",
       "      <td>1</td>\n",
       "      <td>xkVAJ8mrGPUrhBPQC38nFa6Q3Za2</td>\n",
       "      <td>1</td>\n",
       "    </tr>\n",
       "    <tr>\n",
       "      <th>2</th>\n",
       "      <td>993153</td>\n",
       "      <td>931774</td>\n",
       "      <td>irrelevant</td>\n",
       "      <td>AdqXiUfSnyZTKzaEEUtz4JrITjD2</td>\n",
       "      <td>1</td>\n",
       "      <td>XqZsRA3c3QQdWbsJ27oEs8plMYl2</td>\n",
       "      <td>1</td>\n",
       "      <td>bJ8IzR4NOPRXuDFEBVpiTZzdxUG2</td>\n",
       "      <td>1</td>\n",
       "      <td>jIAS83dqkiWODrjmPAvj8CIfsYP2</td>\n",
       "      <td>1</td>\n",
       "      <td>stmaxqNmmMPHcRWGv2BsI6tp0rH3</td>\n",
       "      <td>1</td>\n",
       "      <td>xkVAJ8mrGPUrhBPQC38nFa6Q3Za2</td>\n",
       "      <td>1</td>\n",
       "    </tr>\n",
       "    <tr>\n",
       "      <th>3</th>\n",
       "      <td>993153</td>\n",
       "      <td>7278030</td>\n",
       "      <td>relevant</td>\n",
       "      <td>AdqXiUfSnyZTKzaEEUtz4JrITjD2</td>\n",
       "      <td>1</td>\n",
       "      <td>XqZsRA3c3QQdWbsJ27oEs8plMYl2</td>\n",
       "      <td>5</td>\n",
       "      <td>bJ8IzR4NOPRXuDFEBVpiTZzdxUG2</td>\n",
       "      <td>5</td>\n",
       "      <td>jIAS83dqkiWODrjmPAvj8CIfsYP2</td>\n",
       "      <td>4</td>\n",
       "      <td>stmaxqNmmMPHcRWGv2BsI6tp0rH3</td>\n",
       "      <td>5</td>\n",
       "      <td>xkVAJ8mrGPUrhBPQC38nFa6Q3Za2</td>\n",
       "      <td>5</td>\n",
       "    </tr>\n",
       "    <tr>\n",
       "      <th>4</th>\n",
       "      <td>993153</td>\n",
       "      <td>6874487</td>\n",
       "      <td>irrelevant</td>\n",
       "      <td>AdqXiUfSnyZTKzaEEUtz4JrITjD2</td>\n",
       "      <td>1</td>\n",
       "      <td>XqZsRA3c3QQdWbsJ27oEs8plMYl2</td>\n",
       "      <td>1</td>\n",
       "      <td>bJ8IzR4NOPRXuDFEBVpiTZzdxUG2</td>\n",
       "      <td>1</td>\n",
       "      <td>jIAS83dqkiWODrjmPAvj8CIfsYP2</td>\n",
       "      <td>1</td>\n",
       "      <td>stmaxqNmmMPHcRWGv2BsI6tp0rH3</td>\n",
       "      <td>2</td>\n",
       "      <td>xkVAJ8mrGPUrhBPQC38nFa6Q3Za2</td>\n",
       "      <td>1</td>\n",
       "    </tr>\n",
       "    <tr>\n",
       "      <th>5</th>\n",
       "      <td>993153</td>\n",
       "      <td>6304514</td>\n",
       "      <td>irrelevant</td>\n",
       "      <td>AdqXiUfSnyZTKzaEEUtz4JrITjD2</td>\n",
       "      <td>1</td>\n",
       "      <td>XqZsRA3c3QQdWbsJ27oEs8plMYl2</td>\n",
       "      <td>1</td>\n",
       "      <td>bJ8IzR4NOPRXuDFEBVpiTZzdxUG2</td>\n",
       "      <td>2</td>\n",
       "      <td>jIAS83dqkiWODrjmPAvj8CIfsYP2</td>\n",
       "      <td>1</td>\n",
       "      <td>stmaxqNmmMPHcRWGv2BsI6tp0rH3</td>\n",
       "      <td>1</td>\n",
       "      <td>xkVAJ8mrGPUrhBPQC38nFa6Q3Za2</td>\n",
       "      <td>1</td>\n",
       "    </tr>\n",
       "    <tr>\n",
       "      <th>6</th>\n",
       "      <td>993153</td>\n",
       "      <td>2100087</td>\n",
       "      <td>irrelevant</td>\n",
       "      <td>AdqXiUfSnyZTKzaEEUtz4JrITjD2</td>\n",
       "      <td>1</td>\n",
       "      <td>XqZsRA3c3QQdWbsJ27oEs8plMYl2</td>\n",
       "      <td>3</td>\n",
       "      <td>bJ8IzR4NOPRXuDFEBVpiTZzdxUG2</td>\n",
       "      <td>2</td>\n",
       "      <td>jIAS83dqkiWODrjmPAvj8CIfsYP2</td>\n",
       "      <td>3</td>\n",
       "      <td>stmaxqNmmMPHcRWGv2BsI6tp0rH3</td>\n",
       "      <td>4</td>\n",
       "      <td>xkVAJ8mrGPUrhBPQC38nFa6Q3Za2</td>\n",
       "      <td>3</td>\n",
       "    </tr>\n",
       "    <tr>\n",
       "      <th>7</th>\n",
       "      <td>993153</td>\n",
       "      <td>6160228</td>\n",
       "      <td>irrelevant</td>\n",
       "      <td>AdqXiUfSnyZTKzaEEUtz4JrITjD2</td>\n",
       "      <td>1</td>\n",
       "      <td>XqZsRA3c3QQdWbsJ27oEs8plMYl2</td>\n",
       "      <td>1</td>\n",
       "      <td>bJ8IzR4NOPRXuDFEBVpiTZzdxUG2</td>\n",
       "      <td>2</td>\n",
       "      <td>jIAS83dqkiWODrjmPAvj8CIfsYP2</td>\n",
       "      <td>1</td>\n",
       "      <td>stmaxqNmmMPHcRWGv2BsI6tp0rH3</td>\n",
       "      <td>3</td>\n",
       "      <td>xkVAJ8mrGPUrhBPQC38nFa6Q3Za2</td>\n",
       "      <td>2</td>\n",
       "    </tr>\n",
       "    <tr>\n",
       "      <th>8</th>\n",
       "      <td>993153</td>\n",
       "      <td>2565447</td>\n",
       "      <td>irrelevant</td>\n",
       "      <td>AdqXiUfSnyZTKzaEEUtz4JrITjD2</td>\n",
       "      <td>1</td>\n",
       "      <td>XqZsRA3c3QQdWbsJ27oEs8plMYl2</td>\n",
       "      <td>no_input</td>\n",
       "      <td>bJ8IzR4NOPRXuDFEBVpiTZzdxUG2</td>\n",
       "      <td>1</td>\n",
       "      <td>jIAS83dqkiWODrjmPAvj8CIfsYP2</td>\n",
       "      <td>1</td>\n",
       "      <td>stmaxqNmmMPHcRWGv2BsI6tp0rH3</td>\n",
       "      <td>2</td>\n",
       "      <td>xkVAJ8mrGPUrhBPQC38nFa6Q3Za2</td>\n",
       "      <td>1</td>\n",
       "    </tr>\n",
       "    <tr>\n",
       "      <th>9</th>\n",
       "      <td>993153</td>\n",
       "      <td>6818707</td>\n",
       "      <td>irrelevant</td>\n",
       "      <td>AdqXiUfSnyZTKzaEEUtz4JrITjD2</td>\n",
       "      <td>1</td>\n",
       "      <td>XqZsRA3c3QQdWbsJ27oEs8plMYl2</td>\n",
       "      <td>4</td>\n",
       "      <td>bJ8IzR4NOPRXuDFEBVpiTZzdxUG2</td>\n",
       "      <td>4</td>\n",
       "      <td>jIAS83dqkiWODrjmPAvj8CIfsYP2</td>\n",
       "      <td>1</td>\n",
       "      <td>stmaxqNmmMPHcRWGv2BsI6tp0rH3</td>\n",
       "      <td>3</td>\n",
       "      <td>xkVAJ8mrGPUrhBPQC38nFa6Q3Za2</td>\n",
       "      <td>1</td>\n",
       "    </tr>\n",
       "    <tr>\n",
       "      <th>10</th>\n",
       "      <td>993153</td>\n",
       "      <td>931772</td>\n",
       "      <td>irrelevant</td>\n",
       "      <td>AdqXiUfSnyZTKzaEEUtz4JrITjD2</td>\n",
       "      <td>1</td>\n",
       "      <td>XqZsRA3c3QQdWbsJ27oEs8plMYl2</td>\n",
       "      <td>1</td>\n",
       "      <td>bJ8IzR4NOPRXuDFEBVpiTZzdxUG2</td>\n",
       "      <td>1</td>\n",
       "      <td>jIAS83dqkiWODrjmPAvj8CIfsYP2</td>\n",
       "      <td>1</td>\n",
       "      <td>stmaxqNmmMPHcRWGv2BsI6tp0rH3</td>\n",
       "      <td>1</td>\n",
       "      <td>xkVAJ8mrGPUrhBPQC38nFa6Q3Za2</td>\n",
       "      <td>1</td>\n",
       "    </tr>\n",
       "    <tr>\n",
       "      <th>11</th>\n",
       "      <td>993153</td>\n",
       "      <td>7679926</td>\n",
       "      <td>irrelevant</td>\n",
       "      <td>AdqXiUfSnyZTKzaEEUtz4JrITjD2</td>\n",
       "      <td>1</td>\n",
       "      <td>XqZsRA3c3QQdWbsJ27oEs8plMYl2</td>\n",
       "      <td>1</td>\n",
       "      <td>bJ8IzR4NOPRXuDFEBVpiTZzdxUG2</td>\n",
       "      <td>1</td>\n",
       "      <td>jIAS83dqkiWODrjmPAvj8CIfsYP2</td>\n",
       "      <td>1</td>\n",
       "      <td>stmaxqNmmMPHcRWGv2BsI6tp0rH3</td>\n",
       "      <td>3</td>\n",
       "      <td>xkVAJ8mrGPUrhBPQC38nFa6Q3Za2</td>\n",
       "      <td>1</td>\n",
       "    </tr>\n",
       "    <tr>\n",
       "      <th>12</th>\n",
       "      <td>993153</td>\n",
       "      <td>7127152</td>\n",
       "      <td>irrelevant</td>\n",
       "      <td>AdqXiUfSnyZTKzaEEUtz4JrITjD2</td>\n",
       "      <td>1</td>\n",
       "      <td>XqZsRA3c3QQdWbsJ27oEs8plMYl2</td>\n",
       "      <td>1</td>\n",
       "      <td>bJ8IzR4NOPRXuDFEBVpiTZzdxUG2</td>\n",
       "      <td>2</td>\n",
       "      <td>jIAS83dqkiWODrjmPAvj8CIfsYP2</td>\n",
       "      <td>1</td>\n",
       "      <td>stmaxqNmmMPHcRWGv2BsI6tp0rH3</td>\n",
       "      <td>3</td>\n",
       "      <td>xkVAJ8mrGPUrhBPQC38nFa6Q3Za2</td>\n",
       "      <td>3</td>\n",
       "    </tr>\n",
       "    <tr>\n",
       "      <th>13</th>\n",
       "      <td>993153</td>\n",
       "      <td>156463</td>\n",
       "      <td>irrelevant</td>\n",
       "      <td>AdqXiUfSnyZTKzaEEUtz4JrITjD2</td>\n",
       "      <td>1</td>\n",
       "      <td>XqZsRA3c3QQdWbsJ27oEs8plMYl2</td>\n",
       "      <td>4</td>\n",
       "      <td>bJ8IzR4NOPRXuDFEBVpiTZzdxUG2</td>\n",
       "      <td>5</td>\n",
       "      <td>jIAS83dqkiWODrjmPAvj8CIfsYP2</td>\n",
       "      <td>4</td>\n",
       "      <td>stmaxqNmmMPHcRWGv2BsI6tp0rH3</td>\n",
       "      <td>4</td>\n",
       "      <td>xkVAJ8mrGPUrhBPQC38nFa6Q3Za2</td>\n",
       "      <td>2</td>\n",
       "    </tr>\n",
       "    <tr>\n",
       "      <th>14</th>\n",
       "      <td>993153</td>\n",
       "      <td>931773</td>\n",
       "      <td>irrelevant</td>\n",
       "      <td>AdqXiUfSnyZTKzaEEUtz4JrITjD2</td>\n",
       "      <td>1</td>\n",
       "      <td>XqZsRA3c3QQdWbsJ27oEs8plMYl2</td>\n",
       "      <td>1</td>\n",
       "      <td>bJ8IzR4NOPRXuDFEBVpiTZzdxUG2</td>\n",
       "      <td>1</td>\n",
       "      <td>jIAS83dqkiWODrjmPAvj8CIfsYP2</td>\n",
       "      <td>1</td>\n",
       "      <td>stmaxqNmmMPHcRWGv2BsI6tp0rH3</td>\n",
       "      <td>1</td>\n",
       "      <td>xkVAJ8mrGPUrhBPQC38nFa6Q3Za2</td>\n",
       "      <td>1</td>\n",
       "    </tr>\n",
       "    <tr>\n",
       "      <th>15</th>\n",
       "      <td>993153</td>\n",
       "      <td>1124938</td>\n",
       "      <td>irrelevant</td>\n",
       "      <td>AdqXiUfSnyZTKzaEEUtz4JrITjD2</td>\n",
       "      <td>1</td>\n",
       "      <td>XqZsRA3c3QQdWbsJ27oEs8plMYl2</td>\n",
       "      <td>1</td>\n",
       "      <td>bJ8IzR4NOPRXuDFEBVpiTZzdxUG2</td>\n",
       "      <td>1</td>\n",
       "      <td>jIAS83dqkiWODrjmPAvj8CIfsYP2</td>\n",
       "      <td>1</td>\n",
       "      <td>stmaxqNmmMPHcRWGv2BsI6tp0rH3</td>\n",
       "      <td>1</td>\n",
       "      <td>xkVAJ8mrGPUrhBPQC38nFa6Q3Za2</td>\n",
       "      <td>1</td>\n",
       "    </tr>\n",
       "    <tr>\n",
       "      <th>16</th>\n",
       "      <td>993153</td>\n",
       "      <td>2970085</td>\n",
       "      <td>irrelevant</td>\n",
       "      <td>AdqXiUfSnyZTKzaEEUtz4JrITjD2</td>\n",
       "      <td>1</td>\n",
       "      <td>XqZsRA3c3QQdWbsJ27oEs8plMYl2</td>\n",
       "      <td>2</td>\n",
       "      <td>bJ8IzR4NOPRXuDFEBVpiTZzdxUG2</td>\n",
       "      <td>3</td>\n",
       "      <td>jIAS83dqkiWODrjmPAvj8CIfsYP2</td>\n",
       "      <td>1</td>\n",
       "      <td>stmaxqNmmMPHcRWGv2BsI6tp0rH3</td>\n",
       "      <td>5</td>\n",
       "      <td>xkVAJ8mrGPUrhBPQC38nFa6Q3Za2</td>\n",
       "      <td>4</td>\n",
       "    </tr>\n",
       "    <tr>\n",
       "      <th>17</th>\n",
       "      <td>993153</td>\n",
       "      <td>4983041</td>\n",
       "      <td>irrelevant</td>\n",
       "      <td>AdqXiUfSnyZTKzaEEUtz4JrITjD2</td>\n",
       "      <td>1</td>\n",
       "      <td>XqZsRA3c3QQdWbsJ27oEs8plMYl2</td>\n",
       "      <td>1</td>\n",
       "      <td>bJ8IzR4NOPRXuDFEBVpiTZzdxUG2</td>\n",
       "      <td>2</td>\n",
       "      <td>jIAS83dqkiWODrjmPAvj8CIfsYP2</td>\n",
       "      <td>1</td>\n",
       "      <td>stmaxqNmmMPHcRWGv2BsI6tp0rH3</td>\n",
       "      <td>2</td>\n",
       "      <td>xkVAJ8mrGPUrhBPQC38nFa6Q3Za2</td>\n",
       "      <td>1</td>\n",
       "    </tr>\n",
       "    <tr>\n",
       "      <th>18</th>\n",
       "      <td>993153</td>\n",
       "      <td>2565445</td>\n",
       "      <td>irrelevant</td>\n",
       "      <td>AdqXiUfSnyZTKzaEEUtz4JrITjD2</td>\n",
       "      <td>1</td>\n",
       "      <td>XqZsRA3c3QQdWbsJ27oEs8plMYl2</td>\n",
       "      <td>1</td>\n",
       "      <td>bJ8IzR4NOPRXuDFEBVpiTZzdxUG2</td>\n",
       "      <td>2</td>\n",
       "      <td>jIAS83dqkiWODrjmPAvj8CIfsYP2</td>\n",
       "      <td>1</td>\n",
       "      <td>stmaxqNmmMPHcRWGv2BsI6tp0rH3</td>\n",
       "      <td>1</td>\n",
       "      <td>xkVAJ8mrGPUrhBPQC38nFa6Q3Za2</td>\n",
       "      <td>1</td>\n",
       "    </tr>\n",
       "    <tr>\n",
       "      <th>19</th>\n",
       "      <td>993153</td>\n",
       "      <td>3731448</td>\n",
       "      <td>irrelevant</td>\n",
       "      <td>AdqXiUfSnyZTKzaEEUtz4JrITjD2</td>\n",
       "      <td>1</td>\n",
       "      <td>XqZsRA3c3QQdWbsJ27oEs8plMYl2</td>\n",
       "      <td>1</td>\n",
       "      <td>bJ8IzR4NOPRXuDFEBVpiTZzdxUG2</td>\n",
       "      <td>2</td>\n",
       "      <td>jIAS83dqkiWODrjmPAvj8CIfsYP2</td>\n",
       "      <td>1</td>\n",
       "      <td>stmaxqNmmMPHcRWGv2BsI6tp0rH3</td>\n",
       "      <td>2</td>\n",
       "      <td>xkVAJ8mrGPUrhBPQC38nFa6Q3Za2</td>\n",
       "      <td>1</td>\n",
       "    </tr>\n",
       "  </tbody>\n",
       "</table>\n",
       "</div>"
      ],
      "text/plain": [
       "   query_id passageid     msmarco                      user1_id user1_label  \\\n",
       "0    993153   8174479  irrelevant  AdqXiUfSnyZTKzaEEUtz4JrITjD2           1   \n",
       "1    993153    447864  irrelevant  AdqXiUfSnyZTKzaEEUtz4JrITjD2           1   \n",
       "2    993153    931774  irrelevant  AdqXiUfSnyZTKzaEEUtz4JrITjD2           1   \n",
       "3    993153   7278030    relevant  AdqXiUfSnyZTKzaEEUtz4JrITjD2           1   \n",
       "4    993153   6874487  irrelevant  AdqXiUfSnyZTKzaEEUtz4JrITjD2           1   \n",
       "5    993153   6304514  irrelevant  AdqXiUfSnyZTKzaEEUtz4JrITjD2           1   \n",
       "6    993153   2100087  irrelevant  AdqXiUfSnyZTKzaEEUtz4JrITjD2           1   \n",
       "7    993153   6160228  irrelevant  AdqXiUfSnyZTKzaEEUtz4JrITjD2           1   \n",
       "8    993153   2565447  irrelevant  AdqXiUfSnyZTKzaEEUtz4JrITjD2           1   \n",
       "9    993153   6818707  irrelevant  AdqXiUfSnyZTKzaEEUtz4JrITjD2           1   \n",
       "10   993153    931772  irrelevant  AdqXiUfSnyZTKzaEEUtz4JrITjD2           1   \n",
       "11   993153   7679926  irrelevant  AdqXiUfSnyZTKzaEEUtz4JrITjD2           1   \n",
       "12   993153   7127152  irrelevant  AdqXiUfSnyZTKzaEEUtz4JrITjD2           1   \n",
       "13   993153    156463  irrelevant  AdqXiUfSnyZTKzaEEUtz4JrITjD2           1   \n",
       "14   993153    931773  irrelevant  AdqXiUfSnyZTKzaEEUtz4JrITjD2           1   \n",
       "15   993153   1124938  irrelevant  AdqXiUfSnyZTKzaEEUtz4JrITjD2           1   \n",
       "16   993153   2970085  irrelevant  AdqXiUfSnyZTKzaEEUtz4JrITjD2           1   \n",
       "17   993153   4983041  irrelevant  AdqXiUfSnyZTKzaEEUtz4JrITjD2           1   \n",
       "18   993153   2565445  irrelevant  AdqXiUfSnyZTKzaEEUtz4JrITjD2           1   \n",
       "19   993153   3731448  irrelevant  AdqXiUfSnyZTKzaEEUtz4JrITjD2           1   \n",
       "\n",
       "                        user2_id user2_label                      user3_id  \\\n",
       "0   XqZsRA3c3QQdWbsJ27oEs8plMYl2           1  bJ8IzR4NOPRXuDFEBVpiTZzdxUG2   \n",
       "1   XqZsRA3c3QQdWbsJ27oEs8plMYl2           1  bJ8IzR4NOPRXuDFEBVpiTZzdxUG2   \n",
       "2   XqZsRA3c3QQdWbsJ27oEs8plMYl2           1  bJ8IzR4NOPRXuDFEBVpiTZzdxUG2   \n",
       "3   XqZsRA3c3QQdWbsJ27oEs8plMYl2           5  bJ8IzR4NOPRXuDFEBVpiTZzdxUG2   \n",
       "4   XqZsRA3c3QQdWbsJ27oEs8plMYl2           1  bJ8IzR4NOPRXuDFEBVpiTZzdxUG2   \n",
       "5   XqZsRA3c3QQdWbsJ27oEs8plMYl2           1  bJ8IzR4NOPRXuDFEBVpiTZzdxUG2   \n",
       "6   XqZsRA3c3QQdWbsJ27oEs8plMYl2           3  bJ8IzR4NOPRXuDFEBVpiTZzdxUG2   \n",
       "7   XqZsRA3c3QQdWbsJ27oEs8plMYl2           1  bJ8IzR4NOPRXuDFEBVpiTZzdxUG2   \n",
       "8   XqZsRA3c3QQdWbsJ27oEs8plMYl2    no_input  bJ8IzR4NOPRXuDFEBVpiTZzdxUG2   \n",
       "9   XqZsRA3c3QQdWbsJ27oEs8plMYl2           4  bJ8IzR4NOPRXuDFEBVpiTZzdxUG2   \n",
       "10  XqZsRA3c3QQdWbsJ27oEs8plMYl2           1  bJ8IzR4NOPRXuDFEBVpiTZzdxUG2   \n",
       "11  XqZsRA3c3QQdWbsJ27oEs8plMYl2           1  bJ8IzR4NOPRXuDFEBVpiTZzdxUG2   \n",
       "12  XqZsRA3c3QQdWbsJ27oEs8plMYl2           1  bJ8IzR4NOPRXuDFEBVpiTZzdxUG2   \n",
       "13  XqZsRA3c3QQdWbsJ27oEs8plMYl2           4  bJ8IzR4NOPRXuDFEBVpiTZzdxUG2   \n",
       "14  XqZsRA3c3QQdWbsJ27oEs8plMYl2           1  bJ8IzR4NOPRXuDFEBVpiTZzdxUG2   \n",
       "15  XqZsRA3c3QQdWbsJ27oEs8plMYl2           1  bJ8IzR4NOPRXuDFEBVpiTZzdxUG2   \n",
       "16  XqZsRA3c3QQdWbsJ27oEs8plMYl2           2  bJ8IzR4NOPRXuDFEBVpiTZzdxUG2   \n",
       "17  XqZsRA3c3QQdWbsJ27oEs8plMYl2           1  bJ8IzR4NOPRXuDFEBVpiTZzdxUG2   \n",
       "18  XqZsRA3c3QQdWbsJ27oEs8plMYl2           1  bJ8IzR4NOPRXuDFEBVpiTZzdxUG2   \n",
       "19  XqZsRA3c3QQdWbsJ27oEs8plMYl2           1  bJ8IzR4NOPRXuDFEBVpiTZzdxUG2   \n",
       "\n",
       "   user3_label                      user4_id user4_label  \\\n",
       "0            2  jIAS83dqkiWODrjmPAvj8CIfsYP2           1   \n",
       "1            1  jIAS83dqkiWODrjmPAvj8CIfsYP2           1   \n",
       "2            1  jIAS83dqkiWODrjmPAvj8CIfsYP2           1   \n",
       "3            5  jIAS83dqkiWODrjmPAvj8CIfsYP2           4   \n",
       "4            1  jIAS83dqkiWODrjmPAvj8CIfsYP2           1   \n",
       "5            2  jIAS83dqkiWODrjmPAvj8CIfsYP2           1   \n",
       "6            2  jIAS83dqkiWODrjmPAvj8CIfsYP2           3   \n",
       "7            2  jIAS83dqkiWODrjmPAvj8CIfsYP2           1   \n",
       "8            1  jIAS83dqkiWODrjmPAvj8CIfsYP2           1   \n",
       "9            4  jIAS83dqkiWODrjmPAvj8CIfsYP2           1   \n",
       "10           1  jIAS83dqkiWODrjmPAvj8CIfsYP2           1   \n",
       "11           1  jIAS83dqkiWODrjmPAvj8CIfsYP2           1   \n",
       "12           2  jIAS83dqkiWODrjmPAvj8CIfsYP2           1   \n",
       "13           5  jIAS83dqkiWODrjmPAvj8CIfsYP2           4   \n",
       "14           1  jIAS83dqkiWODrjmPAvj8CIfsYP2           1   \n",
       "15           1  jIAS83dqkiWODrjmPAvj8CIfsYP2           1   \n",
       "16           3  jIAS83dqkiWODrjmPAvj8CIfsYP2           1   \n",
       "17           2  jIAS83dqkiWODrjmPAvj8CIfsYP2           1   \n",
       "18           2  jIAS83dqkiWODrjmPAvj8CIfsYP2           1   \n",
       "19           2  jIAS83dqkiWODrjmPAvj8CIfsYP2           1   \n",
       "\n",
       "                        user5_id user5_label                      user6_id  \\\n",
       "0   stmaxqNmmMPHcRWGv2BsI6tp0rH3           2  xkVAJ8mrGPUrhBPQC38nFa6Q3Za2   \n",
       "1   stmaxqNmmMPHcRWGv2BsI6tp0rH3           1  xkVAJ8mrGPUrhBPQC38nFa6Q3Za2   \n",
       "2   stmaxqNmmMPHcRWGv2BsI6tp0rH3           1  xkVAJ8mrGPUrhBPQC38nFa6Q3Za2   \n",
       "3   stmaxqNmmMPHcRWGv2BsI6tp0rH3           5  xkVAJ8mrGPUrhBPQC38nFa6Q3Za2   \n",
       "4   stmaxqNmmMPHcRWGv2BsI6tp0rH3           2  xkVAJ8mrGPUrhBPQC38nFa6Q3Za2   \n",
       "5   stmaxqNmmMPHcRWGv2BsI6tp0rH3           1  xkVAJ8mrGPUrhBPQC38nFa6Q3Za2   \n",
       "6   stmaxqNmmMPHcRWGv2BsI6tp0rH3           4  xkVAJ8mrGPUrhBPQC38nFa6Q3Za2   \n",
       "7   stmaxqNmmMPHcRWGv2BsI6tp0rH3           3  xkVAJ8mrGPUrhBPQC38nFa6Q3Za2   \n",
       "8   stmaxqNmmMPHcRWGv2BsI6tp0rH3           2  xkVAJ8mrGPUrhBPQC38nFa6Q3Za2   \n",
       "9   stmaxqNmmMPHcRWGv2BsI6tp0rH3           3  xkVAJ8mrGPUrhBPQC38nFa6Q3Za2   \n",
       "10  stmaxqNmmMPHcRWGv2BsI6tp0rH3           1  xkVAJ8mrGPUrhBPQC38nFa6Q3Za2   \n",
       "11  stmaxqNmmMPHcRWGv2BsI6tp0rH3           3  xkVAJ8mrGPUrhBPQC38nFa6Q3Za2   \n",
       "12  stmaxqNmmMPHcRWGv2BsI6tp0rH3           3  xkVAJ8mrGPUrhBPQC38nFa6Q3Za2   \n",
       "13  stmaxqNmmMPHcRWGv2BsI6tp0rH3           4  xkVAJ8mrGPUrhBPQC38nFa6Q3Za2   \n",
       "14  stmaxqNmmMPHcRWGv2BsI6tp0rH3           1  xkVAJ8mrGPUrhBPQC38nFa6Q3Za2   \n",
       "15  stmaxqNmmMPHcRWGv2BsI6tp0rH3           1  xkVAJ8mrGPUrhBPQC38nFa6Q3Za2   \n",
       "16  stmaxqNmmMPHcRWGv2BsI6tp0rH3           5  xkVAJ8mrGPUrhBPQC38nFa6Q3Za2   \n",
       "17  stmaxqNmmMPHcRWGv2BsI6tp0rH3           2  xkVAJ8mrGPUrhBPQC38nFa6Q3Za2   \n",
       "18  stmaxqNmmMPHcRWGv2BsI6tp0rH3           1  xkVAJ8mrGPUrhBPQC38nFa6Q3Za2   \n",
       "19  stmaxqNmmMPHcRWGv2BsI6tp0rH3           2  xkVAJ8mrGPUrhBPQC38nFa6Q3Za2   \n",
       "\n",
       "   user6_label  \n",
       "0            1  \n",
       "1            1  \n",
       "2            1  \n",
       "3            5  \n",
       "4            1  \n",
       "5            1  \n",
       "6            3  \n",
       "7            2  \n",
       "8            1  \n",
       "9            1  \n",
       "10           1  \n",
       "11           1  \n",
       "12           3  \n",
       "13           2  \n",
       "14           1  \n",
       "15           1  \n",
       "16           4  \n",
       "17           1  \n",
       "18           1  \n",
       "19           1  "
      ]
     },
     "execution_count": 54,
     "metadata": {},
     "output_type": "execute_result"
    }
   ],
   "source": [
    "dataframes['993153']"
   ]
  },
  {
   "cell_type": "markdown",
   "metadata": {},
   "source": [
    "2. How many times do the assessors disagree with the MS MARCO label (graded)?"
   ]
  },
  {
   "cell_type": "markdown",
   "metadata": {},
   "source": [
    "Go over all dataframes and take the row where the msmarco label is 'relevant'. Compute the agreement under the assessors and check if they get the same label as ms marco. In case of graded relevance assume that 'relevant' can mean anything but a grade of 1. "
   ]
  },
  {
   "cell_type": "code",
   "execution_count": 55,
   "metadata": {},
   "outputs": [],
   "source": [
    "def str2int(labels):\n",
    "    integer_labels = []\n",
    "    for label in labels:\n",
    "        if not label == \"no_input\":\n",
    "            integer_labels.append(int(label))\n",
    "    return integer_labels"
   ]
  },
  {
   "cell_type": "code",
   "execution_count": 56,
   "metadata": {},
   "outputs": [],
   "source": [
    "def getAgreementLabel(labels):\n",
    "    return int(np.ceil(np.median(labels)))"
   ]
  },
  {
   "cell_type": "code",
   "execution_count": 57,
   "metadata": {},
   "outputs": [],
   "source": [
    "def toNum(label):\n",
    "    if label == \"irrelevant\":\n",
    "        return 1\n",
    "    else:\n",
    "        return 5"
   ]
  },
  {
   "cell_type": "code",
   "execution_count": 58,
   "metadata": {},
   "outputs": [
    {
     "name": "stdout",
     "output_type": "stream",
     "text": [
      "540906\n",
      "427323\n",
      "993987\n"
     ]
    },
    {
     "name": "stderr",
     "output_type": "stream",
     "text": [
      "c:\\users\\tomjg\\appdata\\local\\programs\\python\\python35\\lib\\site-packages\\ipykernel_launcher.py:12: SettingWithCopyWarning: \n",
      "A value is trying to be set on a copy of a slice from a DataFrame.\n",
      "Try using .loc[row_indexer,col_indexer] = value instead\n",
      "\n",
      "See the caveats in the documentation: http://pandas.pydata.org/pandas-docs/stable/user_guide/indexing.html#returning-a-view-versus-a-copy\n",
      "  if sys.path[0] == '':\n",
      "c:\\users\\tomjg\\appdata\\local\\programs\\python\\python35\\lib\\site-packages\\ipykernel_launcher.py:13: SettingWithCopyWarning: \n",
      "A value is trying to be set on a copy of a slice from a DataFrame.\n",
      "Try using .loc[row_indexer,col_indexer] = value instead\n",
      "\n",
      "See the caveats in the documentation: http://pandas.pydata.org/pandas-docs/stable/user_guide/indexing.html#returning-a-view-versus-a-copy\n",
      "  del sys.path[0]\n"
     ]
    }
   ],
   "source": [
    "counter_no_relevant_in_top_20 = 0\n",
    "counter_disagreement = 0\n",
    "for query_id in query_ids:\n",
    "    df = dataframes[query_id]\n",
    "    nr_assessors = assessor_data[query_id]\n",
    "    if nr_assessors >= 3:\n",
    "        relevant_row = df.loc[df['msmarco'] == 'relevant']\n",
    "        if not len(relevant_row) == 0:\n",
    "            assessor_labels = relevant_row.iloc[:,4::2].values[0]\n",
    "            integer_labels = str2int(assessor_labels)\n",
    "            agreement_label = getAgreementLabel(integer_labels)\n",
    "            relevant_row['agreement_label'] = agreement_label\n",
    "            relevant_row['msmarco'] = toNum(relevant_row['msmarco'].values)\n",
    "            [msmarco_label, agreement_label] = relevant_row[['msmarco','agreement_label']].values[0]\n",
    "            if agreement_label == 1:\n",
    "                print(query_id)\n",
    "                counter_disagreement += 1\n",
    "        else:\n",
    "            counter_no_relevant_in_top_20 += 1"
   ]
  },
  {
   "cell_type": "code",
   "execution_count": 59,
   "metadata": {},
   "outputs": [
    {
     "name": "stdout",
     "output_type": "stream",
     "text": [
      "There are 3 queries for which there is disagreement among the assessors and the MS MARCO relevant label\n"
     ]
    }
   ],
   "source": [
    "print(\"There are %s queries for which there is disagreement among the assessors and the MS MARCO relevant label\"%(counter_disagreement))"
   ]
  },
  {
   "cell_type": "code",
   "execution_count": 61,
   "metadata": {},
   "outputs": [
    {
     "name": "stdout",
     "output_type": "stream",
     "text": [
      "There are 3 queries for which the ms marco relevant passage is not in the top 20 and there are 3 assessors\n"
     ]
    }
   ],
   "source": [
    "print(\"There are %s queries for which the ms marco relevant passage is not in the top 20 and there are 3 assessors\"%(counter_no_relevant_in_top_20))"
   ]
  },
  {
   "cell_type": "markdown",
   "metadata": {},
   "source": [
    "3. How many times do the assessors disagree with the MS MARCO label (binary threshold=2)?"
   ]
  },
  {
   "cell_type": "code",
   "execution_count": 62,
   "metadata": {},
   "outputs": [],
   "source": [
    "# < 2 is irrelevant >= 2 is relevant\n",
    "binary_threshold = 2"
   ]
  },
  {
   "cell_type": "code",
   "execution_count": 63,
   "metadata": {},
   "outputs": [],
   "source": [
    "def getListUserLabelColumns(nr_assessors):\n",
    "    label_columns = []\n",
    "    for i in range(nr_assessors):\n",
    "        label_columns.append(\"user%s_label\"%(i+1))\n",
    "    return label_columns"
   ]
  },
  {
   "cell_type": "code",
   "execution_count": 64,
   "metadata": {},
   "outputs": [],
   "source": [
    "def makeBinary(labels):\n",
    "    binary_labels = []\n",
    "    for label in labels:\n",
    "        if not label == \"no_input\":\n",
    "            if int(label) < binary_threshold:\n",
    "                binary_labels.append(0)\n",
    "            else:\n",
    "                binary_labels.append(1)\n",
    "        else:\n",
    "            binary_labels.append(label)\n",
    "    return binary_labels"
   ]
  },
  {
   "cell_type": "code",
   "execution_count": 65,
   "metadata": {},
   "outputs": [],
   "source": [
    "def getAgreementLabel(msmarco_label,labels):\n",
    "    if \"no_input\" in labels:\n",
    "        labels.remove('no_input')\n",
    "        if usersDoAgree(labels):\n",
    "            return labels[0]\n",
    "        else:\n",
    "            return performMajorityVote(msmarco_label,labels)\n",
    "    else:\n",
    "        if usersDoAgree(labels):\n",
    "            return labels[0]\n",
    "        else:\n",
    "            return performMajorityVote(msmarco_label,labels)"
   ]
  },
  {
   "cell_type": "code",
   "execution_count": 66,
   "metadata": {},
   "outputs": [],
   "source": [
    "def usersDoAgree(labels):\n",
    "    if len(set(labels)) == 1:\n",
    "        return True\n",
    "    else:\n",
    "        return False"
   ]
  },
  {
   "cell_type": "code",
   "execution_count": 67,
   "metadata": {},
   "outputs": [],
   "source": [
    "def performMajorityVote(msmarco_label,labels):\n",
    "    count_votes = Counter(labels)\n",
    "    majority_label = msmarco_label\n",
    "    if (len(labels) % 2) == 0:\n",
    "        vote_threshold = int(len(labels)/2)\n",
    "        for label,votes in count_votes.items():\n",
    "            if votes > vote_threshold:\n",
    "                majority_label = label\n",
    "    else:\n",
    "        vote_threshold = int(np.ceil(len(labels)/2))\n",
    "        for label, votes in count_votes.items():\n",
    "            if votes >= vote_threshold:\n",
    "                majority_label = label\n",
    "    return majority_label"
   ]
  },
  {
   "cell_type": "code",
   "execution_count": 68,
   "metadata": {},
   "outputs": [
    {
     "name": "stdout",
     "output_type": "stream",
     "text": [
      "540906\n",
      "427323\n",
      "993987\n"
     ]
    },
    {
     "name": "stderr",
     "output_type": "stream",
     "text": [
      "c:\\users\\tomjg\\appdata\\local\\programs\\python\\python35\\lib\\site-packages\\ipykernel_launcher.py:9: SettingWithCopyWarning: \n",
      "A value is trying to be set on a copy of a slice from a DataFrame.\n",
      "Try using .loc[row_indexer,col_indexer] = value instead\n",
      "\n",
      "See the caveats in the documentation: http://pandas.pydata.org/pandas-docs/stable/user_guide/indexing.html#returning-a-view-versus-a-copy\n",
      "  if __name__ == '__main__':\n"
     ]
    }
   ],
   "source": [
    "counter_disagreement = 0\n",
    "for query_id in query_ids:\n",
    "    df = dataframes[query_id]\n",
    "    agreement_labels = []\n",
    "    nr_assessors = assessor_data[query_id]\n",
    "    if nr_assessors >= 3:\n",
    "        relevant_row = df.loc[df['msmarco'] == 'relevant']\n",
    "        if not len(relevant_row) == 0:\n",
    "            relevant_row['msmarco_binary'] = relevant_row['msmarco'].apply(lambda x: 0 if (x == 'irrelevant') else 1)\n",
    "            user_labels = relevant_row[getListUserLabelColumns(nr_assessors)].values[0]\n",
    "            binary_labels = makeBinary(user_labels)\n",
    "            agreement_label = getAgreementLabel(relevant_row['msmarco_binary'],binary_labels)\n",
    "            if agreement_label == 0:\n",
    "                print(query_id)\n",
    "                counter_disagreement += 1"
   ]
  },
  {
   "cell_type": "code",
   "execution_count": 69,
   "metadata": {},
   "outputs": [
    {
     "name": "stdout",
     "output_type": "stream",
     "text": [
      "There are 3 queries for which there is disagreement among the assessors and the MS MARCO relevant label\n"
     ]
    }
   ],
   "source": [
    "print(\"There are %s queries for which there is disagreement among the assessors and the MS MARCO relevant label\"%(counter_disagreement))"
   ]
  },
  {
   "cell_type": "markdown",
   "metadata": {},
   "source": [
    "4. How many times do the assessors disagree with the MS MARCO label (binary thrheshold=3)?"
   ]
  },
  {
   "cell_type": "code",
   "execution_count": 70,
   "metadata": {},
   "outputs": [],
   "source": [
    "# < 3 is irrelevant >= 3 is relevant\n",
    "binary_threshold = 3"
   ]
  },
  {
   "cell_type": "code",
   "execution_count": 71,
   "metadata": {},
   "outputs": [],
   "source": [
    "def getListUserLabelColumns(nr_assessors):\n",
    "    label_columns = []\n",
    "    for i in range(nr_assessors):\n",
    "        label_columns.append(\"user%s_label\"%(i+1))\n",
    "    return label_columns"
   ]
  },
  {
   "cell_type": "code",
   "execution_count": 72,
   "metadata": {},
   "outputs": [],
   "source": [
    "def makeBinary(labels):\n",
    "    binary_labels = []\n",
    "    for label in labels:\n",
    "        if not label == \"no_input\":\n",
    "            if int(label) < binary_threshold:\n",
    "                binary_labels.append(0)\n",
    "            else:\n",
    "                binary_labels.append(1)\n",
    "        else:\n",
    "            binary_labels.append(label)\n",
    "    return binary_labels"
   ]
  },
  {
   "cell_type": "code",
   "execution_count": 73,
   "metadata": {},
   "outputs": [],
   "source": [
    "def getAgreementLabel(msmarco_label,labels):\n",
    "    if \"no_input\" in labels:\n",
    "        labels.remove('no_input')\n",
    "        if usersDoAgree(labels):\n",
    "            return labels[0]\n",
    "        else:\n",
    "            return performMajorityVote(msmarco_label,labels)\n",
    "    else:\n",
    "        if usersDoAgree(labels):\n",
    "            return labels[0]\n",
    "        else:\n",
    "            return performMajorityVote(msmarco_label,labels)"
   ]
  },
  {
   "cell_type": "code",
   "execution_count": 74,
   "metadata": {},
   "outputs": [],
   "source": [
    "def usersDoAgree(labels):\n",
    "    if len(set(labels)) == 1:\n",
    "        return True\n",
    "    else:\n",
    "        return False"
   ]
  },
  {
   "cell_type": "code",
   "execution_count": 75,
   "metadata": {},
   "outputs": [],
   "source": [
    "def performMajorityVote(msmarco_label,labels):\n",
    "    count_votes = Counter(labels)\n",
    "    majority_label = msmarco_label\n",
    "    if (len(labels) % 2) == 0:\n",
    "        vote_threshold = int(len(labels)/2)\n",
    "        for label,votes in count_votes.items():\n",
    "            if votes > vote_threshold:\n",
    "                majority_label = label\n",
    "    else:\n",
    "        vote_threshold = int(np.ceil(len(labels)/2))\n",
    "        for label, votes in count_votes.items():\n",
    "            if votes >= vote_threshold:\n",
    "                majority_label = label\n",
    "    return majority_label"
   ]
  },
  {
   "cell_type": "code",
   "execution_count": 76,
   "metadata": {},
   "outputs": [
    {
     "name": "stdout",
     "output_type": "stream",
     "text": [
      "838453\n",
      "540906\n",
      "321951\n",
      "427323\n",
      "993987\n",
      "866251\n"
     ]
    },
    {
     "name": "stderr",
     "output_type": "stream",
     "text": [
      "c:\\users\\tomjg\\appdata\\local\\programs\\python\\python35\\lib\\site-packages\\ipykernel_launcher.py:9: SettingWithCopyWarning: \n",
      "A value is trying to be set on a copy of a slice from a DataFrame.\n",
      "Try using .loc[row_indexer,col_indexer] = value instead\n",
      "\n",
      "See the caveats in the documentation: http://pandas.pydata.org/pandas-docs/stable/user_guide/indexing.html#returning-a-view-versus-a-copy\n",
      "  if __name__ == '__main__':\n"
     ]
    }
   ],
   "source": [
    "counter_disagreement = 0\n",
    "for query_id in query_ids:\n",
    "    df = dataframes[query_id]\n",
    "    agreement_labels = []\n",
    "    nr_assessors = assessor_data[query_id]\n",
    "    if nr_assessors >= 3:\n",
    "        relevant_row = df.loc[df['msmarco'] == 'relevant']\n",
    "        if not len(relevant_row) == 0:\n",
    "            relevant_row['msmarco_binary'] = relevant_row['msmarco'].apply(lambda x: 0 if (x == 'irrelevant') else 1)\n",
    "            user_labels = relevant_row[getListUserLabelColumns(nr_assessors)].values[0]\n",
    "            binary_labels = makeBinary(user_labels)\n",
    "            agreement_label = getAgreementLabel(relevant_row['msmarco_binary'],binary_labels)\n",
    "            if agreement_label == 0:\n",
    "                print(query_id)\n",
    "                counter_disagreement += 1"
   ]
  },
  {
   "cell_type": "code",
   "execution_count": 77,
   "metadata": {},
   "outputs": [
    {
     "name": "stdout",
     "output_type": "stream",
     "text": [
      "There are 6 queries for which there is disagreement among the assessors and the MS MARCO relevant label\n"
     ]
    }
   ],
   "source": [
    "print(\"There are %s queries for which there is disagreement among the assessors and the MS MARCO relevant label\"%(counter_disagreement))"
   ]
  },
  {
   "cell_type": "markdown",
   "metadata": {},
   "source": [
    "5. How many times is the MS MARCO relevant passage the only relevant (graded)?"
   ]
  },
  {
   "cell_type": "markdown",
   "metadata": {},
   "source": [
    "To be able to compute this we will need to find all those queries for which all but the ms marco relevant passage have a graded relevance label of 1."
   ]
  },
  {
   "cell_type": "code",
   "execution_count": 78,
   "metadata": {},
   "outputs": [],
   "source": [
    "def getListUserLabelColumns(nr_assessors):\n",
    "    label_columns = []\n",
    "    for i in range(nr_assessors):\n",
    "        label_columns.append(\"user%s_label\"%(i+1))\n",
    "    return label_columns"
   ]
  },
  {
   "cell_type": "code",
   "execution_count": 79,
   "metadata": {},
   "outputs": [],
   "source": [
    "def str2int(labels):\n",
    "    integer_labels = []\n",
    "    for label in labels:\n",
    "        if not label == \"no_input\":\n",
    "            integer_labels.append(int(label))\n",
    "    return integer_labels"
   ]
  },
  {
   "cell_type": "code",
   "execution_count": 80,
   "metadata": {},
   "outputs": [],
   "source": [
    "def getAgreementLabel(labels):\n",
    "    return int(np.ceil(np.median(labels)))"
   ]
  },
  {
   "cell_type": "code",
   "execution_count": 81,
   "metadata": {},
   "outputs": [],
   "source": [
    "count_cases_where_only_ms_relevant = 0\n",
    "for query_id in query_ids:\n",
    "    df = dataframes[query_id]\n",
    "    agreement_labels = []\n",
    "    nr_assessors = assessor_data[query_id]\n",
    "    if nr_assessors >= 3:\n",
    "        for index, row in df.iterrows():\n",
    "            user_labels = row[getListUserLabelColumns(nr_assessors)].values\n",
    "            integer_labels = str2int(user_labels)\n",
    "            agreement_label = getAgreementLabel(integer_labels)\n",
    "            agreement_labels.append(agreement_label)\n",
    "        df['agreement_label'] = agreement_labels\n",
    "        unique_labels = set(df[df['msmarco'] == 'irrelevant']['agreement_label'].values.tolist())\n",
    "        if len(unique_labels) == 1 and unique_labels[0] == 1:\n",
    "            count_cases_where_only_ms_relevant += 1"
   ]
  },
  {
   "cell_type": "code",
   "execution_count": 82,
   "metadata": {},
   "outputs": [
    {
     "name": "stdout",
     "output_type": "stream",
     "text": [
      "There are 0 queries for which only the ms marco relevant passage is assessed as relevant.\n"
     ]
    }
   ],
   "source": [
    "print(\"There are %s queries for which only the ms marco relevant passage is assessed as relevant.\"%(count_cases_where_only_ms_relevant))"
   ]
  },
  {
   "cell_type": "markdown",
   "metadata": {},
   "source": [
    "6. How many times is the MS MARCO relevant passage the only relevant (binary threshold=2)?"
   ]
  },
  {
   "cell_type": "code",
   "execution_count": 83,
   "metadata": {},
   "outputs": [],
   "source": [
    "for query_id in query_ids:\n",
    "    df = dataframes[query_id]\n",
    "    df['msmarco_binary'] = df['msmarco'].apply(lambda x: 0 if (x == 'irrelevant') else 1)"
   ]
  },
  {
   "cell_type": "code",
   "execution_count": 84,
   "metadata": {},
   "outputs": [],
   "source": [
    "# < 2 is irrelevant >= 2 is relevant\n",
    "binary_threshold = 2"
   ]
  },
  {
   "cell_type": "code",
   "execution_count": 85,
   "metadata": {},
   "outputs": [],
   "source": [
    "def makeBinary(labels):\n",
    "    binary_labels = []\n",
    "    for label in labels:\n",
    "        if not label == \"no_input\":\n",
    "            if int(label) < binary_threshold:\n",
    "                binary_labels.append(0)\n",
    "            else:\n",
    "                binary_labels.append(1)\n",
    "        else:\n",
    "            binary_labels.append(label)\n",
    "    return binary_labels"
   ]
  },
  {
   "cell_type": "code",
   "execution_count": 86,
   "metadata": {},
   "outputs": [],
   "source": [
    "def getListUserLabelColumns(nr_assessors):\n",
    "    label_columns = []\n",
    "    for i in range(nr_assessors):\n",
    "        label_columns.append(\"user%s_label\"%(i+1))\n",
    "    return label_columns"
   ]
  },
  {
   "cell_type": "code",
   "execution_count": 87,
   "metadata": {},
   "outputs": [],
   "source": [
    "def getAgreementLabel(msmarco_label,labels):\n",
    "    if \"no_input\" in labels:\n",
    "        labels.remove('no_input')\n",
    "        if usersDoAgree(labels):\n",
    "            return labels[0]\n",
    "        else:\n",
    "            return performMajorityVote(msmarco_label,labels)\n",
    "    else:\n",
    "        if usersDoAgree(labels):\n",
    "            return labels[0]\n",
    "        else:\n",
    "            return performMajorityVote(msmarco_label,labels)"
   ]
  },
  {
   "cell_type": "code",
   "execution_count": 88,
   "metadata": {},
   "outputs": [],
   "source": [
    "def usersDoAgree(labels):\n",
    "    if len(set(labels)) == 1:\n",
    "        return True\n",
    "    else:\n",
    "        return False"
   ]
  },
  {
   "cell_type": "code",
   "execution_count": 89,
   "metadata": {},
   "outputs": [],
   "source": [
    "def performMajorityVote(msmarco_label,labels):\n",
    "    count_votes = Counter(labels)\n",
    "    majority_label = msmarco_label\n",
    "    if (len(labels) % 2) == 0:\n",
    "        vote_threshold = int(len(labels)/2)\n",
    "        for label,votes in count_votes.items():\n",
    "            if votes > vote_threshold:\n",
    "                majority_label = label\n",
    "    else:\n",
    "        vote_threshold = int(np.ceil(len(labels)/2))\n",
    "        for label, votes in count_votes.items():\n",
    "            if votes >= vote_threshold:\n",
    "                majority_label = label\n",
    "    return majority_label"
   ]
  },
  {
   "cell_type": "code",
   "execution_count": 90,
   "metadata": {},
   "outputs": [
    {
     "name": "stdout",
     "output_type": "stream",
     "text": [
      "335710\n"
     ]
    }
   ],
   "source": [
    "count_cases_where_only_ms_relevant = 0\n",
    "for query_id in query_ids:\n",
    "    df = dataframes[query_id]\n",
    "    agreement_labels = []\n",
    "    nr_assessors = assessor_data[query_id]\n",
    "    if nr_assessors >= 3:\n",
    "        for index, row in df.iterrows():\n",
    "            user_labels = row[getListUserLabelColumns(nr_assessors)].values\n",
    "            binary_labels = makeBinary(user_labels)\n",
    "            agreement_label = getAgreementLabel(row['msmarco_binary'],binary_labels)\n",
    "            agreement_labels.append(agreement_label)\n",
    "        df['agreement_label'] = agreement_labels\n",
    "        if (len(df[(df['msmarco_binary'] == 1) & (df['agreement_label'] == 1)]) == 1):\n",
    "            if(sum(df[df['msmarco_binary'] == 0]['agreement_label'].values.tolist()) == 0):\n",
    "                count_cases_where_only_ms_relevant += 1\n",
    "                print(query_id)"
   ]
  },
  {
   "cell_type": "code",
   "execution_count": 91,
   "metadata": {},
   "outputs": [
    {
     "name": "stdout",
     "output_type": "stream",
     "text": [
      "There are 1 queries for which the msmarco relevant passage is the only relevant passage after majority voting\n"
     ]
    }
   ],
   "source": [
    "print(\"There are %s queries for which the msmarco relevant passage is the only relevant passage after majority voting\"%(count_cases_where_only_ms_relevant))"
   ]
  },
  {
   "cell_type": "markdown",
   "metadata": {},
   "source": [
    "7. How many times is the MS MARCO relevant passage the only relevant (binary thrheshold=3)?"
   ]
  },
  {
   "cell_type": "code",
   "execution_count": 92,
   "metadata": {},
   "outputs": [],
   "source": [
    "for query_id in query_ids:\n",
    "    df = dataframes[query_id]\n",
    "    df['msmarco_binary'] = df['msmarco'].apply(lambda x: 0 if (x == 'irrelevant') else 1)"
   ]
  },
  {
   "cell_type": "code",
   "execution_count": 93,
   "metadata": {},
   "outputs": [],
   "source": [
    "# < 3 is irrelevant >= 3 is relevant\n",
    "binary_threshold = 3"
   ]
  },
  {
   "cell_type": "code",
   "execution_count": 94,
   "metadata": {},
   "outputs": [],
   "source": [
    "def makeBinary(labels):\n",
    "    binary_labels = []\n",
    "    for label in labels:\n",
    "        if not label == \"no_input\":\n",
    "            if int(label) < binary_threshold:\n",
    "                binary_labels.append(0)\n",
    "            else:\n",
    "                binary_labels.append(1)\n",
    "        else:\n",
    "            binary_labels.append(label)\n",
    "    return binary_labels"
   ]
  },
  {
   "cell_type": "code",
   "execution_count": 95,
   "metadata": {},
   "outputs": [],
   "source": [
    "def getListUserLabelColumns(nr_assessors):\n",
    "    label_columns = []\n",
    "    for i in range(nr_assessors):\n",
    "        label_columns.append(\"user%s_label\"%(i+1))\n",
    "    return label_columns"
   ]
  },
  {
   "cell_type": "code",
   "execution_count": 96,
   "metadata": {},
   "outputs": [],
   "source": [
    "def getAgreementLabel(msmarco_label,labels):\n",
    "    if \"no_input\" in labels:\n",
    "        labels.remove('no_input')\n",
    "        if usersDoAgree(labels):\n",
    "            return labels[0]\n",
    "        else:\n",
    "            return performMajorityVote(msmarco_label,labels)\n",
    "    else:\n",
    "        if usersDoAgree(labels):\n",
    "            return labels[0]\n",
    "        else:\n",
    "            return performMajorityVote(msmarco_label,labels)"
   ]
  },
  {
   "cell_type": "code",
   "execution_count": 97,
   "metadata": {},
   "outputs": [],
   "source": [
    "def usersDoAgree(labels):\n",
    "    if len(set(labels)) == 1:\n",
    "        return True\n",
    "    else:\n",
    "        return False"
   ]
  },
  {
   "cell_type": "code",
   "execution_count": 98,
   "metadata": {},
   "outputs": [],
   "source": [
    "def performMajorityVote(msmarco_label,labels):\n",
    "    count_votes = Counter(labels)\n",
    "    majority_label = msmarco_label\n",
    "    if (len(labels) % 2) == 0:\n",
    "        vote_threshold = int(len(labels)/2)\n",
    "        for label,votes in count_votes.items():\n",
    "            if votes > vote_threshold:\n",
    "                majority_label = label\n",
    "    else:\n",
    "        vote_threshold = int(np.ceil(len(labels)/2))\n",
    "        for label, votes in count_votes.items():\n",
    "            if votes >= vote_threshold:\n",
    "                majority_label = label\n",
    "    return majority_label"
   ]
  },
  {
   "cell_type": "code",
   "execution_count": 99,
   "metadata": {},
   "outputs": [
    {
     "name": "stdout",
     "output_type": "stream",
     "text": [
      "335710\n",
      "489257\n"
     ]
    }
   ],
   "source": [
    "count_cases_where_only_ms_relevant = 0\n",
    "for query_id in query_ids:\n",
    "    df = dataframes[query_id]\n",
    "    agreement_labels = []\n",
    "    nr_assessors = assessor_data[query_id]\n",
    "    if nr_assessors >= 3:\n",
    "        for index, row in df.iterrows():\n",
    "            user_labels = row[getListUserLabelColumns(nr_assessors)].values\n",
    "            binary_labels = makeBinary(user_labels)\n",
    "            agreement_label = getAgreementLabel(row['msmarco_binary'],binary_labels)\n",
    "            agreement_labels.append(agreement_label)\n",
    "        df['agreement_label'] = agreement_labels\n",
    "        if (len(df[(df['msmarco_binary'] == 1) & (df['agreement_label'] == 1)]) == 1):\n",
    "            if(sum(df[df['msmarco_binary'] == 0]['agreement_label'].values.tolist()) == 0):\n",
    "                count_cases_where_only_ms_relevant += 1\n",
    "                print(query_id)"
   ]
  },
  {
   "cell_type": "code",
   "execution_count": 100,
   "metadata": {},
   "outputs": [
    {
     "name": "stdout",
     "output_type": "stream",
     "text": [
      "There are 2 queries for which the msmarco relevant passage is the only relevant passage after majority voting\n"
     ]
    }
   ],
   "source": [
    "print(\"There are %s queries for which the msmarco relevant passage is the only relevant passage after majority voting\"%(count_cases_where_only_ms_relevant))"
   ]
  },
  {
   "cell_type": "markdown",
   "metadata": {},
   "source": [
    "8. What are the number of queries that can be used for experiments (graded; threshold=2; threshold=3)?"
   ]
  },
  {
   "cell_type": "markdown",
   "metadata": {},
   "source": [
    "For the actual experiments there are a few criteria that will matter in order for a query to be used:\n",
    "\n",
    "1. There should be at least 3 assessors.\n",
    "2. The assessors should agree with the ms marco relevant passage.\n",
    "3. The ms marco relevant passage should not be the only relevant passage after majority voting."
   ]
  },
  {
   "cell_type": "code",
   "execution_count": 101,
   "metadata": {},
   "outputs": [],
   "source": [
    "at_least_3 = []\n",
    "for query_id in query_ids:\n",
    "    df = dataframes[query_id]\n",
    "    nr_assessors = assessor_data[query_id]\n",
    "    if nr_assessors >= 3:\n",
    "        at_least_3.append(query_id)"
   ]
  },
  {
   "cell_type": "code",
   "execution_count": 102,
   "metadata": {},
   "outputs": [
    {
     "name": "stdout",
     "output_type": "stream",
     "text": [
      "There are 51 queries with at least 3 assessors.\n"
     ]
    }
   ],
   "source": [
    "print(\"There are %s queries with at least 3 assessors.\"%(len(at_least_3)))"
   ]
  },
  {
   "cell_type": "code",
   "execution_count": 103,
   "metadata": {},
   "outputs": [
    {
     "name": "stdout",
     "output_type": "stream",
     "text": [
      "These are those queries:\n",
      "['54819', '1077356', '838453', '540906', '993153', '1095876', '242107', '321951', '178468', '9083', '1040461', '825147', '409143', '427323', '1083663', '212195', '1056446', '1006199', '1034595', '993987', '608323', '208822', '440362', '1096257', '30860', '741392', '414155', '687375', '904389', '335710', '149161', '866251', '1084469', '1003875', '426442', '785721', '341317', '117113', '1091688', '758519', '689885', '1097449', '831784', '1007473', '92542', '75266', '1049791', '202306', '1086248', '208494', '489257']\n"
     ]
    }
   ],
   "source": [
    "print(\"These are those queries:\")\n",
    "print(at_least_3)"
   ]
  },
  {
   "cell_type": "markdown",
   "metadata": {},
   "source": [
    "From above computations we know that the following queries do not met the other 2 criteria:"
   ]
  },
  {
   "cell_type": "markdown",
   "metadata": {},
   "source": [
    "**Assessors do not agree with ms marco relevant passage:**\n",
    "\n",
    "838453\n",
    "\n",
    "866251\n",
    "\n",
    "321951\n",
    "\n",
    "427323\n",
    "\n",
    "993987\n",
    "\n",
    "540906"
   ]
  },
  {
   "cell_type": "markdown",
   "metadata": {},
   "source": [
    "**Only have ms marco relevant passage as relevant:**\n",
    "\n",
    "335710\n",
    "\n",
    "489257"
   ]
  },
  {
   "cell_type": "markdown",
   "metadata": {},
   "source": [
    "This means that if we remove those queries from the list we are left with 43 queries which we can use for experiments:"
   ]
  },
  {
   "cell_type": "code",
   "execution_count": 104,
   "metadata": {},
   "outputs": [],
   "source": [
    "assessors_do_not_agree = [\"838453\", \"866251\", \"321951\", \"427323\", \"993987\", \"540906\"]\n",
    "msmarco_only_relevant = [\"335710\", \"489257\"]"
   ]
  },
  {
   "cell_type": "code",
   "execution_count": 105,
   "metadata": {},
   "outputs": [],
   "source": [
    "experiment_query_ids = [query_id for query_id in at_least_3 if (not (query_id in assessors_do_not_agree)) and (not (query_id in msmarco_only_relevant))]"
   ]
  },
  {
   "cell_type": "code",
   "execution_count": 106,
   "metadata": {},
   "outputs": [
    {
     "data": {
      "text/plain": [
       "43"
      ]
     },
     "execution_count": 106,
     "metadata": {},
     "output_type": "execute_result"
    }
   ],
   "source": [
    "len(experiment_query_ids)"
   ]
  },
  {
   "cell_type": "markdown",
   "metadata": {},
   "source": [
    "# Experiment Dataset Stats"
   ]
  },
  {
   "cell_type": "markdown",
   "metadata": {},
   "source": [
    "1. How many queries does the dataset contain?"
   ]
  },
  {
   "cell_type": "code",
   "execution_count": 107,
   "metadata": {},
   "outputs": [
    {
     "data": {
      "text/plain": [
       "125"
      ]
     },
     "execution_count": 107,
     "metadata": {},
     "output_type": "execute_result"
    }
   ],
   "source": [
    "len(query_ids)"
   ]
  },
  {
   "cell_type": "code",
   "execution_count": 108,
   "metadata": {},
   "outputs": [],
   "source": [
    "assessors_do_not_agree = [\"838453\", \"866251\", \"321951\", \"427323\", \"993987\", \"540906\"]\n",
    "msmarco_only_relevant = [\"335710\", \"489257\"]\n",
    "at_least_3 = []\n",
    "for query_id in query_ids:\n",
    "    nr_assessors = assessor_data[query_id]\n",
    "    if nr_assessors >= 3:\n",
    "        at_least_3.append(query_id)"
   ]
  },
  {
   "cell_type": "code",
   "execution_count": 109,
   "metadata": {},
   "outputs": [],
   "source": [
    "experiment_query_ids = [query_id for query_id in at_least_3 if (not (query_id in assessors_do_not_agree)) and (not (query_id in msmarco_only_relevant))]"
   ]
  },
  {
   "cell_type": "code",
   "execution_count": 110,
   "metadata": {},
   "outputs": [
    {
     "name": "stdout",
     "output_type": "stream",
     "text": [
      "There are 43 queries in the final dataset used for my thesis.\n"
     ]
    }
   ],
   "source": [
    "print(\"There are %s queries in the final dataset used for my thesis.\"%(len(experiment_query_ids)))"
   ]
  },
  {
   "cell_type": "markdown",
   "metadata": {},
   "source": [
    "2. What is the number of assessors per query?"
   ]
  },
  {
   "cell_type": "code",
   "execution_count": 111,
   "metadata": {},
   "outputs": [],
   "source": [
    "assessor_count_list = []\n",
    "for query_id in experiment_query_ids:\n",
    "    nr_assessors = assessor_data[query_id]\n",
    "    assessor_count_list.append(nr_assessors)"
   ]
  },
  {
   "cell_type": "code",
   "execution_count": 112,
   "metadata": {},
   "outputs": [
    {
     "data": {
      "image/png": "[encoded data removed]",
      "text/plain": [
       "<Figure size 432x288 with 1 Axes>"
      ]
     },
     "metadata": {
      "needs_background": "light"
     },
     "output_type": "display_data"
    }
   ],
   "source": [
    "assessor_counts = Counter(assessor_count_list)\n",
    "plt.bar(list(assessor_counts.keys()), assessor_counts.values(), color='g')\n",
    "plt.xlabel(\"Nr of Assessors\")\n",
    "plt.ylabel(\"Nr of Queries\")\n",
    "plt.show()"
   ]
  },
  {
   "cell_type": "code",
   "execution_count": 113,
   "metadata": {},
   "outputs": [
    {
     "data": {
      "text/plain": [
       "Counter({3: 37, 4: 1, 5: 3, 6: 1, 7: 1})"
      ]
     },
     "execution_count": 113,
     "metadata": {},
     "output_type": "execute_result"
    }
   ],
   "source": [
    "assessor_counts"
   ]
  },
  {
   "cell_type": "markdown",
   "metadata": {},
   "source": [
    "3. How many term does each query contain?"
   ]
  },
  {
   "cell_type": "code",
   "execution_count": 114,
   "metadata": {},
   "outputs": [],
   "source": [
    "experiment_query_subset = query_subset[query_subset['query_id'].isin(experiment_query_ids)].copy()"
   ]
  },
  {
   "cell_type": "code",
   "execution_count": 115,
   "metadata": {},
   "outputs": [],
   "source": [
    "experiment_query_subset.to_csv(\"experiment_query_subset.tsv\",sep=\"\\t\", header=False,index=False)"
   ]
  },
  {
   "cell_type": "code",
   "execution_count": 116,
   "metadata": {},
   "outputs": [],
   "source": [
    "experiment_query_texts = experiment_query_subset['query'].values.tolist()\n",
    "with open(\"experiment_query_texts.txt\",\"w\") as outfile:\n",
    "    for query_text in experiment_query_texts:\n",
    "        outfile.write(\"%s\\n\"%(query_text))"
   ]
  },
  {
   "cell_type": "code",
   "execution_count": 117,
   "metadata": {},
   "outputs": [],
   "source": [
    "query_texts = experiment_query_subset['query'].values.tolist()"
   ]
  },
  {
   "cell_type": "code",
   "execution_count": 118,
   "metadata": {},
   "outputs": [],
   "source": [
    "query_lengths = []\n",
    "for query_text in query_texts:\n",
    "    query_lengths.append(len(query_text.split()))\n",
    "query_lengths_counter = Counter(query_lengths)"
   ]
  },
  {
   "cell_type": "code",
   "execution_count": 119,
   "metadata": {},
   "outputs": [
    {
     "data": {
      "text/plain": [
       "Counter({3: 3,\n",
       "         4: 3,\n",
       "         5: 9,\n",
       "         6: 11,\n",
       "         7: 6,\n",
       "         8: 4,\n",
       "         9: 1,\n",
       "         10: 2,\n",
       "         11: 2,\n",
       "         12: 1,\n",
       "         15: 1})"
      ]
     },
     "execution_count": 119,
     "metadata": {},
     "output_type": "execute_result"
    }
   ],
   "source": [
    "query_lengths_counter"
   ]
  },
  {
   "cell_type": "code",
   "execution_count": 120,
   "metadata": {},
   "outputs": [
    {
     "data": {
      "image/png": "[encoded data removed]",
      "text/plain": [
       "<Figure size 432x288 with 1 Axes>"
      ]
     },
     "metadata": {
      "needs_background": "light"
     },
     "output_type": "display_data"
    }
   ],
   "source": [
    "plt.bar(list(query_lengths_counter.keys()), query_lengths_counter.values(), color='g')\n",
    "plt.xlabel(\"Nr of Query Terms\")\n",
    "plt.ylabel(\"Nr of Queries\")\n",
    "plt.show()"
   ]
  },
  {
   "cell_type": "code",
   "execution_count": 121,
   "metadata": {},
   "outputs": [
    {
     "data": {
      "image/png": "[encoded data removed]",
      "text/plain": [
       "<Figure size 432x288 with 1 Axes>"
      ]
     },
     "metadata": {
      "needs_background": "light"
     },
     "output_type": "display_data"
    }
   ],
   "source": [
    "plt.boxplot(list(query_lengths_counter.values()))\n",
    "plt.show()"
   ]
  },
  {
   "cell_type": "code",
   "execution_count": 122,
   "metadata": {},
   "outputs": [
    {
     "data": {
      "text/plain": [
       "3.0"
      ]
     },
     "execution_count": 122,
     "metadata": {},
     "output_type": "execute_result"
    }
   ],
   "source": [
    "np.median(list(query_lengths_counter.values()))"
   ]
  },
  {
   "cell_type": "markdown",
   "metadata": {},
   "source": [
    "4. What type of queries does the dataset contain?"
   ]
  },
  {
   "cell_type": "code",
   "execution_count": 123,
   "metadata": {},
   "outputs": [],
   "source": [
    "experiment_answer_types = {}\n",
    "counter_answer_types = 0\n",
    "counter_no_answer_types = 0\n",
    "with open(\"experiment_answer_types.txt\", \"r\") as infile:\n",
    "    for line in infile:\n",
    "        if(\"\\t\" in line.rstrip()):\n",
    "            counter_answer_types += 1\n",
    "            [query_text,answer_type] = line.rstrip().split(\"\\t\")\n",
    "            experiment_answer_types[query_text] = answer_type.split(\":\")[0]\n",
    "        else:\n",
    "            if not line.rstrip() == \"\":\n",
    "                counter_no_answer_types += 1\n",
    "                experiment_answer_types[line.rstrip()] = \"\""
   ]
  },
  {
   "cell_type": "code",
   "execution_count": 124,
   "metadata": {},
   "outputs": [
    {
     "name": "stdout",
     "output_type": "stream",
     "text": [
      "There are 20 queries for which no answer type could be classified.\n"
     ]
    }
   ],
   "source": [
    "print(\"There are %s queries for which no answer type could be classified.\"%(counter_no_answer_types))"
   ]
  },
  {
   "cell_type": "code",
   "execution_count": 125,
   "metadata": {},
   "outputs": [],
   "source": [
    "with open(\"manual_answer_types.txt\", \"r\", encoding='utf-8') as infile:\n",
    "    for line in infile:\n",
    "        [query_text,answer_type] = line.rstrip().split(\"\\t\")\n",
    "        if query_text in experiment_answer_types.keys():\n",
    "            experiment_answer_types[query_text] = answer_type"
   ]
  },
  {
   "cell_type": "code",
   "execution_count": 126,
   "metadata": {},
   "outputs": [],
   "source": [
    "for query_text, answer_type in experiment_answer_types.items():\n",
    "    if answer_type == \"\":\n",
    "        print(query_text)"
   ]
  },
  {
   "cell_type": "code",
   "execution_count": 127,
   "metadata": {},
   "outputs": [],
   "source": [
    "answer_types = list(experiment_answer_types.values())\n",
    "answer_types_counts = Counter(answer_types)"
   ]
  },
  {
   "cell_type": "code",
   "execution_count": 128,
   "metadata": {},
   "outputs": [
    {
     "data": {
      "image/png": "[encoded data removed]",
      "text/plain": [
       "<Figure size 432x288 with 1 Axes>"
      ]
     },
     "metadata": {
      "needs_background": "light"
     },
     "output_type": "display_data"
    }
   ],
   "source": [
    "plt.bar(list(answer_types_counts.keys()), answer_types_counts.values(), color='g')\n",
    "plt.xlabel(\"Answer Types\")\n",
    "plt.ylabel(\"Nr of Queries\")\n",
    "plt.show()"
   ]
  },
  {
   "cell_type": "code",
   "execution_count": 129,
   "metadata": {},
   "outputs": [
    {
     "data": {
      "text/plain": [
       "Counter({'DESC': 26, 'ENTY': 1, 'HUM': 3, 'LOC': 1, 'NUM': 12})"
      ]
     },
     "execution_count": 129,
     "metadata": {},
     "output_type": "execute_result"
    }
   ],
   "source": [
    "answer_types_counts"
   ]
  },
  {
   "cell_type": "markdown",
   "metadata": {},
   "source": [
    "5. How many queries have the MS MARCO relevant passage in the top 20?"
   ]
  },
  {
   "cell_type": "code",
   "execution_count": 130,
   "metadata": {},
   "outputs": [
    {
     "name": "stdout",
     "output_type": "stream",
     "text": [
      "There are 40 queries with the ms marco relevant passage in the top 20 by BM25.\n"
     ]
    }
   ],
   "source": [
    "bm25_subset_df = bm25_df[bm25_df['query_id'].isin(experiment_query_ids)].copy()\n",
    "qrels_subset_df = qrels_df[qrels_df['query_id'].isin(experiment_query_ids)].copy()\n",
    "result = pd.merge(bm25_subset_df, qrels_subset_df, on=['query_id','passage_id'],how='left')\n",
    "result = result.dropna()\n",
    "print(\"There are %s queries with the ms marco relevant passage in the top 20 by BM25.\"%(len(result[result['bm25_rank'] < 21])))"
   ]
  },
  {
   "cell_type": "markdown",
   "metadata": {},
   "source": [
    "6. How many queries are assessed by low English level assessors?"
   ]
  },
  {
   "cell_type": "code",
   "execution_count": 131,
   "metadata": {},
   "outputs": [
    {
     "name": "stdout",
     "output_type": "stream",
     "text": [
      "There are 21 queries assessed by a low English level assessor.\n"
     ]
    }
   ],
   "source": [
    "low_level_assessors_df = assessor_df[assessor_df['english'] < 7]\n",
    "low_english_level_users = list(np.unique(low_level_assessors_df['user_id'].values.tolist()))\n",
    "counter = 0\n",
    "for query_id in experiment_query_ids:\n",
    "    df = dataframes[query_id]\n",
    "    nr_assessors = assessor_data[query_id]\n",
    "    user_id_columns = [\"user%s_id\"%(i+1) for i in range(nr_assessors)]\n",
    "    for user_id_column in user_id_columns:\n",
    "        if df[user_id_column][0] in low_english_level_users:\n",
    "            counter += 1\n",
    "print(\"There are %s queries assessed by a low English level assessor.\"%(counter))"
   ]
  }
 ],
 "metadata": {
  "kernelspec": {
   "display_name": "Python 3",
   "language": "python",
   "name": "python3"
  },
  "language_info": {
   "codemirror_mode": {
    "name": "ipython",
    "version": 3
   },
   "file_extension": ".py",
   "mimetype": "text/x-python",
   "name": "python",
   "nbconvert_exporter": "python",
   "pygments_lexer": "ipython3",
   "version": "3.5.4"
  }
 },
 "nbformat": 4,
 "nbformat_minor": 4
}
