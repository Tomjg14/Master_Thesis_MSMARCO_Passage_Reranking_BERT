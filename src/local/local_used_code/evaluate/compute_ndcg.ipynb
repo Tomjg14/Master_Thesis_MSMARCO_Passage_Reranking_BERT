{
 "cells": [
  {
   "cell_type": "markdown",
   "metadata": {},
   "source": [
    "This notebook will help to compute the NDCG for all experiment settings."
   ]
  },
  {
   "cell_type": "markdown",
   "metadata": {},
   "source": [
    "## Settings"
   ]
  },
  {
   "cell_type": "code",
   "execution_count": 1,
   "metadata": {},
   "outputs": [],
   "source": [
    "metric = \"ndcg\"\n",
    "models = [\"bm25\", \"bert\"]\n",
    "datasets = [\"graded\"]\n",
    "cutoffs = [5, 10, 20]"
   ]
  },
  {
   "cell_type": "markdown",
   "metadata": {},
   "source": [
    "## Import Libraries"
   ]
  },
  {
   "cell_type": "code",
   "execution_count": 2,
   "metadata": {},
   "outputs": [],
   "source": [
    "import pandas as pd\n",
    "import numpy as np\n",
    "from os import listdir\n",
    "from os.path import isfile, join\n",
    "from tqdm.auto import tqdm \n",
    "from tqdm import tqdm_notebook\n",
    "import math"
   ]
  },
  {
   "cell_type": "markdown",
   "metadata": {},
   "source": [
    "## Load Data"
   ]
  },
  {
   "cell_type": "code",
   "execution_count": 3,
   "metadata": {},
   "outputs": [],
   "source": [
    "data_dir = 'data/'\n",
    "\n",
    "# graded relevance file\n",
    "new_qrels_filename = 'thesis_dataset_graded_relevance.tsv'\n",
    "\n",
    "# msmarco relevance file\n",
    "og_qrels_filename = 'qrels.dev.small.tsv'\n",
    "\n",
    "# BM25 top 100 ranking\n",
    "bm25_top100_filename = 'run_development_top100.tsv'\n",
    "\n",
    "# BERT top 100 ranking\n",
    "bert_top100_filename = 'bert_thesis_dataset_top100.tsv'"
   ]
  },
  {
   "cell_type": "code",
   "execution_count": 4,
   "metadata": {},
   "outputs": [],
   "source": [
    "bm25_df = pd.read_csv(data_dir + bm25_top100_filename,delimiter='\\t',encoding='utf-8',header=None)\n",
    "bm25_df.columns = ['query_id', 'passage_id', 'bm25_rank']\n",
    "\n",
    "bert_df = pd.read_csv(data_dir + bert_top100_filename,delimiter='\\t',encoding='utf-8',header=None)\n",
    "bert_df.columns = ['query_id', 'passage_id', 'bm25_rank', 'query', 'passage', 'bert_score', 'bert_rank']\n",
    "\n",
    "og_qrels_df = pd.read_csv(data_dir + og_qrels_filename,delimiter='\\t',encoding='utf-8',header=None)\n",
    "og_qrels_df.columns = ['query_id','label1','passage_id','label2']\n",
    "\n",
    "new_qrels_df = pd.read_csv(data_dir + new_qrels_filename,delimiter='\\t',encoding='utf-8',header=None)\n",
    "new_qrels_df.columns = ['query_id','passage_id','graded_label']\n",
    "\n",
    "models_dict = {\"bm25\": bm25_df, \"bert\": bert_df}\n",
    "dataset_dict = {\"ms_marco\": og_qrels_df, \"graded\": new_qrels_df}"
   ]
  },
  {
   "cell_type": "markdown",
   "metadata": {},
   "source": [
    "## Helper Functions"
   ]
  },
  {
   "cell_type": "code",
   "execution_count": 32,
   "metadata": {},
   "outputs": [],
   "source": [
    "def get_query_ids(dataframe):\n",
    "    return list(np.unique(dataframe['query_id'].tolist()))\n",
    "\n",
    "def get_top_n_ranking(dataframe,rank_column,n):\n",
    "    top_n_ranking = dataframe[dataframe[rank_column] <= n].sort_values(by=[rank_column])\n",
    "    return top_n_ranking\n",
    "\n",
    "def get_relevance_labels(qrels_query_subset,top_n_ranking,model):\n",
    "    relevant_items_rank_df = top_n_ranking.merge(qrels_query_subset,how='left',on=['query_id','passage_id'])\n",
    "    relevant_items_rank_df['graded_label'].fillna(1.0, inplace=True)\n",
    "    relevant_items_rank_df['graded_label'] = relevant_items_rank_df['graded_label'].astype(int)\n",
    "    relevance_labels = relevant_items_rank_df.sort_values(by=['%s_rank'%(model)])['graded_label'].values.tolist()\n",
    "    return relevance_labels\n",
    "\n",
    "def compute_discounted_gain(index,rel):\n",
    "    dg = rel/math.log((index+2),2)\n",
    "    return dg\n",
    "\n",
    "def compute_discounted_cumulative_gain(relevance_labels):\n",
    "    dcg = 0.0\n",
    "    for index, rel in enumerate(relevance_labels):\n",
    "        dcg += compute_discounted_gain(index,rel)\n",
    "    return dcg\n",
    "\n",
    "def compute_dcg(qrels_query_subset,top_n_ranking,model):\n",
    "    relevance_labels = get_relevance_labels(qrels_query_subset,top_n_ranking,model)\n",
    "    dcg = compute_discounted_cumulative_gain(relevance_labels)\n",
    "    return dcg\n",
    "\n",
    "def compute_idcg(qrels_query_subset,N):\n",
    "    relevance_labels = qrels_query_subset['graded_label'].values.tolist()\n",
    "    ideal_list = sorted(relevance_labels,reverse=True)\n",
    "    idcg = compute_discounted_cumulative_gain(ideal_list[:N])\n",
    "    return idcg\n",
    "\n",
    "def compute_ndcg(relevance_labels):\n",
    "    dcg = compute_discounted_cumulative_gain(relevance_labels)\n",
    "    idcg = compute_discounted_cumulative_gain(sorted(relevance_labels,reverse=True))\n",
    "    ndcg = dcg/idcg\n",
    "    return round(ndcg,3)"
   ]
  },
  {
   "cell_type": "markdown",
   "metadata": {},
   "source": [
    "## Compute NDCG"
   ]
  },
  {
   "cell_type": "code",
   "execution_count": 33,
   "metadata": {},
   "outputs": [
    {
     "name": "stderr",
     "output_type": "stream",
     "text": [
      "c:\\users\\tomjg\\appdata\\local\\programs\\python\\python35\\lib\\site-packages\\ipykernel_launcher.py:20: TqdmDeprecationWarning: This function will be removed in tqdm==5.0.0\n",
      "Please use `tqdm.notebook.tqdm` instead of `tqdm.tqdm_notebook`\n"
     ]
    },
    {
     "data": {
      "application/vnd.jupyter.widget-view+json": {
       "model_id": "45f23772ba74451aa8f001582e1f76ee",
       "version_major": 2,
       "version_minor": 0
      },
      "text/plain": [
       "HBox(children=(FloatProgress(value=0.0, max=42.0), HTML(value='')))"
      ]
     },
     "metadata": {},
     "output_type": "display_data"
    },
    {
     "name": "stdout",
     "output_type": "stream",
     "text": [
      "\n"
     ]
    },
    {
     "data": {
      "application/vnd.jupyter.widget-view+json": {
       "model_id": "c7b5a3fd6aad443c9e898acc650fbc6b",
       "version_major": 2,
       "version_minor": 0
      },
      "text/plain": [
       "HBox(children=(FloatProgress(value=0.0, max=42.0), HTML(value='')))"
      ]
     },
     "metadata": {},
     "output_type": "display_data"
    },
    {
     "name": "stdout",
     "output_type": "stream",
     "text": [
      "\n"
     ]
    },
    {
     "data": {
      "application/vnd.jupyter.widget-view+json": {
       "model_id": "d061e8c4b0194b6c90f23080000946f0",
       "version_major": 2,
       "version_minor": 0
      },
      "text/plain": [
       "HBox(children=(FloatProgress(value=0.0, max=42.0), HTML(value='')))"
      ]
     },
     "metadata": {},
     "output_type": "display_data"
    },
    {
     "name": "stdout",
     "output_type": "stream",
     "text": [
      "\n"
     ]
    },
    {
     "data": {
      "application/vnd.jupyter.widget-view+json": {
       "model_id": "cc65b92527b240218198c323c885b232",
       "version_major": 2,
       "version_minor": 0
      },
      "text/plain": [
       "HBox(children=(FloatProgress(value=0.0, max=42.0), HTML(value='')))"
      ]
     },
     "metadata": {},
     "output_type": "display_data"
    },
    {
     "name": "stdout",
     "output_type": "stream",
     "text": [
      "\n"
     ]
    },
    {
     "data": {
      "application/vnd.jupyter.widget-view+json": {
       "model_id": "d2f895485a7d411d983b10a7201ba512",
       "version_major": 2,
       "version_minor": 0
      },
      "text/plain": [
       "HBox(children=(FloatProgress(value=0.0, max=42.0), HTML(value='')))"
      ]
     },
     "metadata": {},
     "output_type": "display_data"
    },
    {
     "name": "stdout",
     "output_type": "stream",
     "text": [
      "\n"
     ]
    },
    {
     "data": {
      "application/vnd.jupyter.widget-view+json": {
       "model_id": "d5dfb6232e594a86bfe0c0cc93d15738",
       "version_major": 2,
       "version_minor": 0
      },
      "text/plain": [
       "HBox(children=(FloatProgress(value=0.0, max=42.0), HTML(value='')))"
      ]
     },
     "metadata": {},
     "output_type": "display_data"
    },
    {
     "name": "stdout",
     "output_type": "stream",
     "text": [
      "\n"
     ]
    }
   ],
   "source": [
    "scores = []\n",
    "for model in models:\n",
    "    for dataset in datasets:\n",
    "        for cutoff in cutoffs:\n",
    "            output_file = \"output/%s_scores_%s_%s_N%s.txt\"%(metric,model,dataset,cutoff)\n",
    "            \n",
    "            model_df = models_dict[model].copy()\n",
    "            dataset_df = dataset_dict[dataset].copy()\n",
    "\n",
    "            N = cutoff\n",
    "\n",
    "            ndcg_scores = []\n",
    "\n",
    "            summed_ndcg = 0.0\n",
    "\n",
    "            query_ids = get_query_ids(new_qrels_df)\n",
    "\n",
    "            for query_id in tqdm_notebook(query_ids):\n",
    "                model_query_subset = model_df[model_df['query_id'] == query_id].copy()\n",
    "                qrels_query_subset = dataset_df[dataset_df['query_id'] == query_id].copy()\n",
    "\n",
    "                top_n_ranking = get_top_n_ranking(model_query_subset,'%s_rank'%(model),N)\n",
    "                \n",
    "                dcg = compute_dcg(qrels_query_subset,top_n_ranking,model)\n",
    "                \n",
    "                idcg = compute_idcg(qrels_query_subset,N)\n",
    "                \n",
    "                ndcg = round((dcg/idcg),3)\n",
    "\n",
    "                summed_ndcg += ndcg\n",
    "\n",
    "                ndcg_scores.append((query_id,ndcg))\n",
    "\n",
    "            ndcg = round((summed_ndcg/len(query_ids))*100,1)\n",
    "            \n",
    "            score_data = \"model: %s; dataset: %s; cutoff: %s; %s_score: %s\\n\"%(model,dataset,cutoff,metric,ndcg)\n",
    "            scores.append(score_data)\n",
    "        \n",
    "            with open(output_file,'w') as outfile:\n",
    "                for (query_id, ndcg) in ndcg_scores:\n",
    "                    line = \"%s\\t%s\\n\"%(query_id,ndcg)\n",
    "                    outfile.write(line)\n",
    "with open(\"output/%s_scores.txt\"%(metric),'w') as outfile:\n",
    "    for score_data in scores:\n",
    "        outfile.write(score_data)"
   ]
  },
  {
   "cell_type": "code",
   "execution_count": 34,
   "metadata": {},
   "outputs": [
    {
     "name": "stdout",
     "output_type": "stream",
     "text": [
      "model: bm25; dataset: graded; cutoff: 5; ndcg_score: 78.7\n",
      "\n",
      "model: bm25; dataset: graded; cutoff: 10; ndcg_score: 82.8\n",
      "\n",
      "model: bm25; dataset: graded; cutoff: 20; ndcg_score: 91.5\n",
      "\n",
      "model: bert; dataset: graded; cutoff: 5; ndcg_score: 78.0\n",
      "\n",
      "model: bert; dataset: graded; cutoff: 10; ndcg_score: 78.4\n",
      "\n",
      "model: bert; dataset: graded; cutoff: 20; ndcg_score: 82.4\n",
      "\n"
     ]
    }
   ],
   "source": [
    "for score_data in scores:\n",
    "    print(score_data)"
   ]
  }
 ],
 "metadata": {
  "kernelspec": {
   "display_name": "Python 3",
   "language": "python",
   "name": "python3"
  },
  "language_info": {
   "codemirror_mode": {
    "name": "ipython",
    "version": 3
   },
   "file_extension": ".py",
   "mimetype": "text/x-python",
   "name": "python",
   "nbconvert_exporter": "python",
   "pygments_lexer": "ipython3",
   "version": "3.5.4"
  }
 },
 "nbformat": 4,
 "nbformat_minor": 4
}
