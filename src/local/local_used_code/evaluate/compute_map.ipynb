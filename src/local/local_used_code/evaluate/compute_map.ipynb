{
 "cells": [
  {
   "cell_type": "markdown",
   "metadata": {},
   "source": [
    "This notebook will help to compute the MAP for all experiment settings."
   ]
  },
  {
   "cell_type": "markdown",
   "metadata": {},
   "source": [
    "## Settings"
   ]
  },
  {
   "cell_type": "code",
   "execution_count": 1,
   "metadata": {},
   "outputs": [],
   "source": [
    "metric = \"map\"\n",
    "models = [\"bm25\", \"bert\"]\n",
    "datasets = [\"ms_marco\", \"threshold=2\", \"threshold=3\"]\n",
    "cutoffs = [5,10]"
   ]
  },
  {
   "cell_type": "markdown",
   "metadata": {},
   "source": [
    "## Import Libraries"
   ]
  },
  {
   "cell_type": "code",
   "execution_count": 2,
   "metadata": {},
   "outputs": [],
   "source": [
    "import pandas as pd\n",
    "import numpy as np\n",
    "from os import listdir\n",
    "from os.path import isfile, join\n",
    "from tqdm.auto import tqdm \n",
    "from tqdm import tqdm_notebook"
   ]
  },
  {
   "cell_type": "markdown",
   "metadata": {},
   "source": [
    "## Load Data"
   ]
  },
  {
   "cell_type": "code",
   "execution_count": 3,
   "metadata": {},
   "outputs": [],
   "source": [
    "data_dir = 'data/'\n",
    "\n",
    "# binary threshold (irrelevant <2; relevant >= 2)\n",
    "thesis_qrels_threshold2_filename = 'thesis_dataset_binary_threshold2.tsv'\n",
    "\n",
    "# binary theshold (irrelevant <3; relevant >= 3)\n",
    "thesis_qrels_threshold3_filename = 'thesis_dataset_binary_threshold3.tsv'\n",
    "\n",
    "# msmarco relevance file\n",
    "og_qrels_filename = 'qrels.dev.small.tsv'\n",
    "\n",
    "# BM25 top 100 ranking\n",
    "bm25_top100_filename = 'run_development_top100.tsv'\n",
    "\n",
    "# BERT top 100 ranking\n",
    "bert_top100_filename = 'bert_thesis_dataset_top100.tsv'"
   ]
  },
  {
   "cell_type": "code",
   "execution_count": 4,
   "metadata": {},
   "outputs": [],
   "source": [
    "bm25_df = pd.read_csv(data_dir + bm25_top100_filename,delimiter='\\t',encoding='utf-8',header=None)\n",
    "bm25_df.columns = ['query_id', 'passage_id', 'bm25_rank']\n",
    "\n",
    "bert_df = pd.read_csv(data_dir + bert_top100_filename,delimiter='\\t',encoding='utf-8',header=None)\n",
    "bert_df.columns = ['query_id', 'passage_id', 'bm25_rank', 'query', 'passage', 'bert_score', 'bert_rank']\n",
    "\n",
    "og_qrels_df = pd.read_csv(data_dir + og_qrels_filename,delimiter='\\t',encoding='utf-8',header=None)\n",
    "og_qrels_df.columns = ['query_id','label1','passage_id','label2']\n",
    "\n",
    "new_qrels2_df = pd.read_csv(data_dir + thesis_qrels_threshold2_filename,delimiter='\\t',encoding='utf-8',header=None)\n",
    "new_qrels2_df.columns = ['query_id','label1','passage_id','label2']\n",
    "\n",
    "new_qrels3_df = pd.read_csv(data_dir + thesis_qrels_threshold3_filename,delimiter='\\t',encoding='utf-8',header=None)\n",
    "new_qrels3_df.columns = ['query_id','label1','passage_id','label2']\n",
    "\n",
    "models_dict = {\"bm25\": bm25_df, \"bert\": bert_df}\n",
    "dataset_dict = {\"ms_marco\": og_qrels_df, \"threshold=2\": new_qrels2_df, \"threshold=3\": new_qrels3_df}"
   ]
  },
  {
   "cell_type": "markdown",
   "metadata": {},
   "source": [
    "## Helper Functions"
   ]
  },
  {
   "cell_type": "code",
   "execution_count": 5,
   "metadata": {},
   "outputs": [],
   "source": [
    "def get_query_ids(dataframe):\n",
    "    return list(np.unique(dataframe['query_id'].tolist()))\n",
    "\n",
    "def get_top_n_ranking(dataframe,rank_column,n):\n",
    "    top_n_ranking = dataframe[dataframe[rank_column] <= n].sort_values(by=[rank_column])\n",
    "    return top_n_ranking\n",
    "\n",
    "def get_ranks_relevant_passages(qrels_query_subset,top_n_ranking,model):\n",
    "    ranks_relevant_items = sorted(qrels_query_subset.merge(top_n_ranking,how='left',on=['query_id','passage_id'])['%s_rank'%(model)].values.tolist())\n",
    "    cleaned_rank_relevant_items = sorted([int(item) for item in ranks_relevant_items if ~np.isnan(item)])\n",
    "    return cleaned_rank_relevant_items\n",
    "\n",
    "def compute_precision(index,rank):\n",
    "    precision = index/rank\n",
    "    return precision\n",
    "\n",
    "def compute_average_precision(sorted_ranks_relevant_items):\n",
    "    average_precision = 0.0\n",
    "    if not (len(sorted_ranks_relevant_items) == 0):\n",
    "        summed_precision = 0.0\n",
    "        for index,rank in enumerate(sorted_ranks_relevant_items):\n",
    "            summed_precision += compute_precision(index+1,rank)\n",
    "        average_precision = summed_precision/len(sorted_ranks_relevant_items)\n",
    "    return average_precision"
   ]
  },
  {
   "cell_type": "markdown",
   "metadata": {},
   "source": [
    "## Compute MAP"
   ]
  },
  {
   "cell_type": "code",
   "execution_count": 6,
   "metadata": {},
   "outputs": [
    {
     "name": "stderr",
     "output_type": "stream",
     "text": [
      "c:\\users\\tomjg\\appdata\\local\\programs\\python\\python35\\lib\\site-packages\\ipykernel_launcher.py:19: TqdmDeprecationWarning: This function will be removed in tqdm==5.0.0\n",
      "Please use `tqdm.notebook.tqdm` instead of `tqdm.tqdm_notebook`\n"
     ]
    },
    {
     "data": {
      "application/vnd.jupyter.widget-view+json": {
       "model_id": "e41dbfa36ba0477a84a7ec39a6b75c34",
       "version_major": 2,
       "version_minor": 0
      },
      "text/plain": [
       "HBox(children=(FloatProgress(value=0.0, max=42.0), HTML(value='')))"
      ]
     },
     "metadata": {},
     "output_type": "display_data"
    },
    {
     "name": "stdout",
     "output_type": "stream",
     "text": [
      "\n"
     ]
    },
    {
     "data": {
      "application/vnd.jupyter.widget-view+json": {
       "model_id": "73fc7fe028f749f795ada72915820243",
       "version_major": 2,
       "version_minor": 0
      },
      "text/plain": [
       "HBox(children=(FloatProgress(value=0.0, max=42.0), HTML(value='')))"
      ]
     },
     "metadata": {},
     "output_type": "display_data"
    },
    {
     "name": "stdout",
     "output_type": "stream",
     "text": [
      "\n"
     ]
    },
    {
     "data": {
      "application/vnd.jupyter.widget-view+json": {
       "model_id": "af55ace12d90464eac2f8591ec6cc3c8",
       "version_major": 2,
       "version_minor": 0
      },
      "text/plain": [
       "HBox(children=(FloatProgress(value=0.0, max=42.0), HTML(value='')))"
      ]
     },
     "metadata": {},
     "output_type": "display_data"
    },
    {
     "name": "stdout",
     "output_type": "stream",
     "text": [
      "\n"
     ]
    },
    {
     "data": {
      "application/vnd.jupyter.widget-view+json": {
       "model_id": "83886df8be7e445da954d5daf84702ce",
       "version_major": 2,
       "version_minor": 0
      },
      "text/plain": [
       "HBox(children=(FloatProgress(value=0.0, max=42.0), HTML(value='')))"
      ]
     },
     "metadata": {},
     "output_type": "display_data"
    },
    {
     "name": "stdout",
     "output_type": "stream",
     "text": [
      "\n"
     ]
    },
    {
     "data": {
      "application/vnd.jupyter.widget-view+json": {
       "model_id": "caacb4f86b364d47ae235002c9e0132c",
       "version_major": 2,
       "version_minor": 0
      },
      "text/plain": [
       "HBox(children=(FloatProgress(value=0.0, max=42.0), HTML(value='')))"
      ]
     },
     "metadata": {},
     "output_type": "display_data"
    },
    {
     "name": "stdout",
     "output_type": "stream",
     "text": [
      "\n"
     ]
    },
    {
     "data": {
      "application/vnd.jupyter.widget-view+json": {
       "model_id": "8d10be11c08145f4825a72c07134b82f",
       "version_major": 2,
       "version_minor": 0
      },
      "text/plain": [
       "HBox(children=(FloatProgress(value=0.0, max=42.0), HTML(value='')))"
      ]
     },
     "metadata": {},
     "output_type": "display_data"
    },
    {
     "name": "stdout",
     "output_type": "stream",
     "text": [
      "\n"
     ]
    },
    {
     "data": {
      "application/vnd.jupyter.widget-view+json": {
       "model_id": "f6199bfb264e4b8ba71680cef5024fd6",
       "version_major": 2,
       "version_minor": 0
      },
      "text/plain": [
       "HBox(children=(FloatProgress(value=0.0, max=42.0), HTML(value='')))"
      ]
     },
     "metadata": {},
     "output_type": "display_data"
    },
    {
     "name": "stdout",
     "output_type": "stream",
     "text": [
      "\n"
     ]
    },
    {
     "data": {
      "application/vnd.jupyter.widget-view+json": {
       "model_id": "a5f9c528c1674d79b63305934d31ed8a",
       "version_major": 2,
       "version_minor": 0
      },
      "text/plain": [
       "HBox(children=(FloatProgress(value=0.0, max=42.0), HTML(value='')))"
      ]
     },
     "metadata": {},
     "output_type": "display_data"
    },
    {
     "name": "stdout",
     "output_type": "stream",
     "text": [
      "\n"
     ]
    },
    {
     "data": {
      "application/vnd.jupyter.widget-view+json": {
       "model_id": "6e15caa264b2409599e7495ac845a08f",
       "version_major": 2,
       "version_minor": 0
      },
      "text/plain": [
       "HBox(children=(FloatProgress(value=0.0, max=42.0), HTML(value='')))"
      ]
     },
     "metadata": {},
     "output_type": "display_data"
    },
    {
     "name": "stdout",
     "output_type": "stream",
     "text": [
      "\n"
     ]
    },
    {
     "data": {
      "application/vnd.jupyter.widget-view+json": {
       "model_id": "57b3ea187e554d7ca015c0d90fc31ae3",
       "version_major": 2,
       "version_minor": 0
      },
      "text/plain": [
       "HBox(children=(FloatProgress(value=0.0, max=42.0), HTML(value='')))"
      ]
     },
     "metadata": {},
     "output_type": "display_data"
    },
    {
     "name": "stdout",
     "output_type": "stream",
     "text": [
      "\n"
     ]
    },
    {
     "data": {
      "application/vnd.jupyter.widget-view+json": {
       "model_id": "ac3dd6bb55a9417dbd8b695686392b41",
       "version_major": 2,
       "version_minor": 0
      },
      "text/plain": [
       "HBox(children=(FloatProgress(value=0.0, max=42.0), HTML(value='')))"
      ]
     },
     "metadata": {},
     "output_type": "display_data"
    },
    {
     "name": "stdout",
     "output_type": "stream",
     "text": [
      "\n"
     ]
    },
    {
     "data": {
      "application/vnd.jupyter.widget-view+json": {
       "model_id": "ff6980c96a774bd189fc93c496552aa9",
       "version_major": 2,
       "version_minor": 0
      },
      "text/plain": [
       "HBox(children=(FloatProgress(value=0.0, max=42.0), HTML(value='')))"
      ]
     },
     "metadata": {},
     "output_type": "display_data"
    },
    {
     "name": "stdout",
     "output_type": "stream",
     "text": [
      "\n"
     ]
    }
   ],
   "source": [
    "scores = []\n",
    "\n",
    "for model in models:\n",
    "    for dataset in datasets:\n",
    "        for cutoff in cutoffs:\n",
    "            output_file = \"output/%s_scores_%s_%s_N%s.txt\"%(metric,model,dataset,cutoff)\n",
    "            \n",
    "            model_df = models_dict[model].copy()\n",
    "            dataset_df = dataset_dict[dataset].copy()\n",
    "\n",
    "            N = cutoff\n",
    "\n",
    "            map_scores = []\n",
    "\n",
    "            summed_map = 0.0\n",
    "\n",
    "            query_ids = get_query_ids(new_qrels2_df)\n",
    "\n",
    "            for query_id in tqdm_notebook(query_ids):\n",
    "                model_query_subset = model_df[model_df['query_id'] == query_id].copy()\n",
    "                qrels_query_subset = dataset_df[dataset_df['query_id'] == query_id].copy()\n",
    "\n",
    "                top_n_ranking = get_top_n_ranking(model_query_subset,\"%s_rank\"%(model),N)\n",
    "\n",
    "                relevant_items = get_ranks_relevant_passages(qrels_query_subset,top_n_ranking,model)\n",
    "\n",
    "                ap = compute_average_precision(relevant_items)\n",
    "\n",
    "                summed_map += ap\n",
    "\n",
    "                map_scores.append((query_id,ap))\n",
    "\n",
    "            mean_ap = round((summed_map/len(query_ids))*100,1)\n",
    "            score_data = \"model: %s; dataset: %s; cutoff: %s; %s_score: %s\\n\"%(model,dataset,cutoff,metric,mean_ap)\n",
    "            scores.append(score_data)\n",
    "        \n",
    "            with open(output_file,'w') as outfile:\n",
    "                for (query_id, mean_ap) in map_scores:\n",
    "                    line = \"%s\\t%s\\n\"%(query_id,mean_ap)\n",
    "                    outfile.write(line)\n",
    "with open(\"output/%s_scores.txt\"%(metric),'w') as outfile:\n",
    "    for score_data in scores:\n",
    "        outfile.write(score_data)"
   ]
  },
  {
   "cell_type": "code",
   "execution_count": 7,
   "metadata": {},
   "outputs": [
    {
     "name": "stdout",
     "output_type": "stream",
     "text": [
      "model: bm25; dataset: ms_marco; cutoff: 5; map_score: 47.1\n",
      "\n",
      "model: bm25; dataset: ms_marco; cutoff: 10; map_score: 49.1\n",
      "\n",
      "model: bm25; dataset: threshold=2; cutoff: 5; map_score: 94.6\n",
      "\n",
      "model: bm25; dataset: threshold=2; cutoff: 10; map_score: 92.1\n",
      "\n",
      "model: bm25; dataset: threshold=3; cutoff: 5; map_score: 88.2\n",
      "\n",
      "model: bm25; dataset: threshold=3; cutoff: 10; map_score: 81.1\n",
      "\n",
      "model: bert; dataset: ms_marco; cutoff: 5; map_score: 71.8\n",
      "\n",
      "model: bert; dataset: ms_marco; cutoff: 10; map_score: 72.8\n",
      "\n",
      "model: bert; dataset: threshold=2; cutoff: 5; map_score: 88.1\n",
      "\n",
      "model: bert; dataset: threshold=2; cutoff: 10; map_score: 83.4\n",
      "\n",
      "model: bert; dataset: threshold=3; cutoff: 5; map_score: 85.9\n",
      "\n",
      "model: bert; dataset: threshold=3; cutoff: 10; map_score: 81.8\n",
      "\n"
     ]
    }
   ],
   "source": [
    "for score_data in scores:\n",
    "    print(score_data)"
   ]
  }
 ],
 "metadata": {
  "kernelspec": {
   "display_name": "Python 3",
   "language": "python",
   "name": "python3"
  },
  "language_info": {
   "codemirror_mode": {
    "name": "ipython",
    "version": 3
   },
   "file_extension": ".py",
   "mimetype": "text/x-python",
   "name": "python",
   "nbconvert_exporter": "python",
   "pygments_lexer": "ipython3",
   "version": "3.5.4"
  }
 },
 "nbformat": 4,
 "nbformat_minor": 4
}
