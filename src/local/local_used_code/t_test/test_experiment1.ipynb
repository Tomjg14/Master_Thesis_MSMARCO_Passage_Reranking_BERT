{
 "cells": [
  {
   "cell_type": "markdown",
   "metadata": {},
   "source": [
    "This notebook should help to compute the Student T test for different settings of experiment 1: BM25 old relevance vs new relevance"
   ]
  },
  {
   "cell_type": "markdown",
   "metadata": {},
   "source": [
    "## Settings"
   ]
  },
  {
   "cell_type": "code",
   "execution_count": 1,
   "metadata": {},
   "outputs": [],
   "source": [
    "model = \"bm25\"\n",
    "dataset1 = \"ms_marco\"\n",
    "datasets = [\"threshold=2\", \"threshold=3\"]\n",
    "cutoffs = [5, 10]\n",
    "metrics = [\"mrr\", \"mfr\", \"precision\", \"map\"]"
   ]
  },
  {
   "cell_type": "markdown",
   "metadata": {},
   "source": [
    "## Import Libraries"
   ]
  },
  {
   "cell_type": "code",
   "execution_count": 3,
   "metadata": {},
   "outputs": [],
   "source": [
    "# t-test for dependent samples\n",
    "from math import sqrt\n",
    "from numpy.random import seed\n",
    "from numpy.random import randn\n",
    "from numpy import mean\n",
    "from scipy.stats import t"
   ]
  },
  {
   "cell_type": "markdown",
   "metadata": {},
   "source": [
    "## Helper Functions"
   ]
  },
  {
   "cell_type": "code",
   "execution_count": 4,
   "metadata": {},
   "outputs": [],
   "source": [
    "# function for calculating the t-test for two dependent samples\n",
    "def dependent_ttest(data1, data2, alpha):\n",
    "    # calculate means\n",
    "    mean1, mean2 = mean(data1), mean(data2)\n",
    "    \n",
    "    # number of paired samples\n",
    "    n = len(data1)\n",
    "    \n",
    "    # sum squared difference between observations\n",
    "    d1 = sum([(data1[i]-data2[i])**2 for i in range(n)])\n",
    "    \n",
    "    # sum difference between observations\n",
    "    d2 = sum([data1[i]-data2[i] for i in range(n)])\n",
    "    \n",
    "    # standard deviation of the difference between means\n",
    "    sd = sqrt((d1 - (d2**2 / n)) / (n - 1))\n",
    "    \n",
    "    # standard error of the difference between the means\n",
    "    sed = sd / sqrt(n)\n",
    "    \n",
    "    # calculate the t statistic\n",
    "    t_stat = (mean1 - mean2) / sed\n",
    "    \n",
    "    # degrees of freedom\n",
    "    df = n - 1\n",
    "    \n",
    "    # calculate the critical value\n",
    "    cv = t.ppf(1.0 - alpha, df)\n",
    "    \n",
    "    # calculate the p-value\n",
    "    p = (1.0 - t.cdf(abs(t_stat), df)) * 2.0\n",
    "    \n",
    "    # return everything\n",
    "    return t_stat, df, cv, p"
   ]
  },
  {
   "cell_type": "markdown",
   "metadata": {},
   "source": [
    "## Perform Paired Student T Test"
   ]
  },
  {
   "cell_type": "code",
   "execution_count": 5,
   "metadata": {},
   "outputs": [],
   "source": [
    "for dataset2 in datasets:\n",
    "    for cutoff in cutoffs:\n",
    "        for metric in metrics:\n",
    "            file1 = \"output/%s/%s_scores_%s_%s_N%s.txt\"%(metric,metric,model,dataset1,cutoff)\n",
    "            file2 = \"output/%s/%s_scores_%s_%s_N%s.txt\"%(metric,metric,model,dataset2,cutoff)\n",
    "\n",
    "            output_file = \"output/student_t_test_output/student_t_test_results_experiment1_%s_%s_vs_%s_%s_N%s.txt\"%(model,dataset1,dataset2,metric,cutoff)\n",
    "            \n",
    "            data1 = []\n",
    "            with open (file1,'r') as infile:\n",
    "                for line in infile:\n",
    "                    data1.append(float(line.rstrip().split()[1]))\n",
    "\n",
    "            data2 = []\n",
    "            with open (file2,'r') as infile:\n",
    "                for line in infile:\n",
    "                    data2.append(float(line.rstrip().split()[1]))\n",
    "                    \n",
    "            # calculate the t test\n",
    "            alpha = 0.05\n",
    "            t_stat, df, cv, p = dependent_ttest(data1, data2, alpha)\n",
    "            \n",
    "            with open(output_file,'w') as outfile:\n",
    "                outfile.write(\"model: %s\\n\"%(model))\n",
    "                outfile.write(\"dataset1: %s\\n\"%(dataset1))\n",
    "                outfile.write(\"dataset2: %s\\n\"%(dataset2))\n",
    "                outfile.write(\"metric: %s@%s\\n\"%(metric,cutoff))\n",
    "                outfile.write(\"alpha: %s\\n\\n\"%(alpha))\n",
    "                outfile.write('t=%.3f, df=%d, cv=%.3f, p=%.10f\\n\\n' % (t_stat, df, cv, p))\n",
    "                outfile.write(\"interpret via critical value:\\n\")\n",
    "                outfile.write(\"t <= cv\\n\")\n",
    "                if abs(t_stat) <= cv:\n",
    "                    outfile.write('Accept null hypothesis that the means are equal.\\n\\n')\n",
    "                else:\n",
    "                    outfile.write('Reject the null hypothesis that the means are equal.\\n\\n')\n",
    "                outfile.write(\"interpret via p-value:\\n\")\n",
    "                outfile.write(\"p > alpha\\n\")\n",
    "                if p > alpha:\n",
    "                    outfile.write('Accept null hypothesis that the means are equal.\\n')\n",
    "                else:\n",
    "                    outfile.write('Reject the null hypothesis that the means are equal.\\n')"
   ]
  }
 ],
 "metadata": {
  "kernelspec": {
   "display_name": "Python 3",
   "language": "python",
   "name": "python3"
  },
  "language_info": {
   "codemirror_mode": {
    "name": "ipython",
    "version": 3
   },
   "file_extension": ".py",
   "mimetype": "text/x-python",
   "name": "python",
   "nbconvert_exporter": "python",
   "pygments_lexer": "ipython3",
   "version": "3.5.4"
  }
 },
 "nbformat": 4,
 "nbformat_minor": 4
}
