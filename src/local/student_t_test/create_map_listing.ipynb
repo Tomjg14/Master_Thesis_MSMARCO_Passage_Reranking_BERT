{
 "cells": [
  {
   "cell_type": "markdown",
   "metadata": {},
   "source": [
    "This notebook should make a txt file that lists map scores for each query for a specified dataset and model."
   ]
  },
  {
   "cell_type": "code",
   "execution_count": 74,
   "metadata": {},
   "outputs": [],
   "source": [
    "model = \"bert\"\n",
    "dataset = \"threshold=3\"\n",
    "cutoff = 5\n",
    "\n",
    "output_file = \"output/map_scores_%s_%s_N%s.txt\"%(model,dataset,cutoff)"
   ]
  },
  {
   "cell_type": "markdown",
   "metadata": {},
   "source": [
    "## Import Libraries"
   ]
  },
  {
   "cell_type": "code",
   "execution_count": 56,
   "metadata": {},
   "outputs": [],
   "source": [
    "import pandas as pd\n",
    "import numpy as np\n",
    "from os import listdir\n",
    "from os.path import isfile, join\n",
    "from tqdm.auto import tqdm \n",
    "from tqdm import tqdm_notebook"
   ]
  },
  {
   "cell_type": "markdown",
   "metadata": {},
   "source": [
    "## Load Data"
   ]
  },
  {
   "cell_type": "code",
   "execution_count": 75,
   "metadata": {},
   "outputs": [],
   "source": [
    "data_dir = 'data/'\n",
    "\n",
    "# binary threshold (irrelevant <2; relevant >= 2)\n",
    "thesis_qrels_threshold2_filename = 'thesis_dataset_binary_threshold2.tsv'\n",
    "\n",
    "# binary theshold (irrelevant <3; relevant >= 3)\n",
    "thesis_qrels_threshold3_filename = 'thesis_dataset_binary_threshold3.tsv'\n",
    "\n",
    "# msmarco relevance file\n",
    "og_qrels_filename = 'qrels.dev.small.tsv'\n",
    "\n",
    "# BM25 top 100 ranking\n",
    "bm25_top100_filename = 'run_development_top100.tsv'\n",
    "\n",
    "# BERT top 100 ranking\n",
    "bert_top100_filename = 'bert_thesis_dataset_top100.tsv'"
   ]
  },
  {
   "cell_type": "code",
   "execution_count": 70,
   "metadata": {},
   "outputs": [],
   "source": [
    "bm25_df = pd.read_csv(data_dir + bm25_top100_filename,delimiter='\\t',encoding='utf-8',header=None)\n",
    "bm25_df.columns = ['query_id', 'passage_id', 'bm25_rank']\n",
    "\n",
    "bert_df = pd.read_csv(data_dir + bert_top100_filename,delimiter='\\t',encoding='utf-8',header=None)\n",
    "bert_df.columns = ['query_id', 'passage_id', 'bm25_rank', 'query', 'passage', 'bert_score', 'bert_rank']\n",
    "\n",
    "og_qrels_df = pd.read_csv(data_dir + og_qrels_filename,delimiter='\\t',encoding='utf-8',header=None)\n",
    "og_qrels_df.columns = ['query_id','label1','passage_id','label2']\n",
    "\n",
    "new_qrels2_df = pd.read_csv(data_dir + thesis_qrels_threshold2_filename,delimiter='\\t',encoding='utf-8',header=None)\n",
    "new_qrels2_df.columns = ['query_id','label1','passage_id','label2']\n",
    "\n",
    "new_qrels3_df = pd.read_csv(data_dir + thesis_qrels_threshold3_filename,delimiter='\\t',encoding='utf-8',header=None)\n",
    "new_qrels3_df.columns = ['query_id','label1','passage_id','label2']\n",
    "\n",
    "models_dict = {\"bm25\": bm25_df, \"bert\": bert_df}\n",
    "dataset_dict = {\"ms_marco\": og_qrels_df, \"threshold=2\": new_qrels2_df, \"threshold=3\": new_qrels3_df}"
   ]
  },
  {
   "cell_type": "markdown",
   "metadata": {},
   "source": [
    "## Helper Functions"
   ]
  },
  {
   "cell_type": "code",
   "execution_count": 5,
   "metadata": {},
   "outputs": [],
   "source": [
    "def get_query_ids(dataframe):\n",
    "    return list(np.unique(dataframe['query_id'].tolist()))"
   ]
  },
  {
   "cell_type": "code",
   "execution_count": 6,
   "metadata": {},
   "outputs": [],
   "source": [
    "def get_top_n_ranking(dataframe,rank_column,n):\n",
    "    top_n_ranking = dataframe[dataframe[rank_column] <= n].sort_values(by=[rank_column])\n",
    "    return top_n_ranking"
   ]
  },
  {
   "cell_type": "code",
   "execution_count": 7,
   "metadata": {},
   "outputs": [],
   "source": [
    "def get_ranks_relevant_passages(qrels_query_subset,top_n_ranking,model):\n",
    "    ranks_relevant_items = sorted(qrels_query_subset.merge(top_n_ranking,how='left',on=['query_id','passage_id'])['%s_rank'%(model)].values.tolist())\n",
    "    cleaned_rank_relevant_items = sorted([int(item) for item in ranks_relevant_items if ~np.isnan(item)])\n",
    "    return cleaned_rank_relevant_items"
   ]
  },
  {
   "cell_type": "code",
   "execution_count": 8,
   "metadata": {},
   "outputs": [],
   "source": [
    "def compute_precision(index,rank):\n",
    "    precision = index/rank\n",
    "    return precision"
   ]
  },
  {
   "cell_type": "code",
   "execution_count": 9,
   "metadata": {},
   "outputs": [],
   "source": [
    "def compute_average_precision(sorted_ranks_relevant_items):\n",
    "    average_precision = 0.0\n",
    "    if not (len(sorted_ranks_relevant_items) == 0):\n",
    "        summed_precision = 0.0\n",
    "        for index,rank in enumerate(sorted_ranks_relevant_items):\n",
    "            summed_precision += compute_precision(index+1,rank)\n",
    "        average_precision = summed_precision/len(sorted_ranks_relevant_items)\n",
    "    return average_precision"
   ]
  },
  {
   "cell_type": "markdown",
   "metadata": {},
   "source": [
    "## Compute MAP"
   ]
  },
  {
   "cell_type": "code",
   "execution_count": 71,
   "metadata": {},
   "outputs": [
    {
     "name": "stderr",
     "output_type": "stream",
     "text": [
      "c:\\users\\tomjg\\appdata\\local\\programs\\python\\python35\\lib\\site-packages\\ipykernel_launcher.py:12: TqdmDeprecationWarning: This function will be removed in tqdm==5.0.0\n",
      "Please use `tqdm.notebook.tqdm` instead of `tqdm.tqdm_notebook`\n",
      "  if sys.path[0] == '':\n"
     ]
    },
    {
     "data": {
      "application/vnd.jupyter.widget-view+json": {
       "model_id": "2110812abd5d4a57a876b073489f2c7f",
       "version_major": 2,
       "version_minor": 0
      },
      "text/plain": [
       "HBox(children=(FloatProgress(value=0.0, max=43.0), HTML(value='')))"
      ]
     },
     "metadata": {},
     "output_type": "display_data"
    },
    {
     "name": "stdout",
     "output_type": "stream",
     "text": [
      "\n"
     ]
    }
   ],
   "source": [
    "model_df = models_dict[model].copy()\n",
    "dataset_df = dataset_dict[dataset].copy()\n",
    "\n",
    "N = cutoff\n",
    "\n",
    "map_scores = []\n",
    "\n",
    "summed_map = 0.0\n",
    "\n",
    "query_ids = get_query_ids(new_qrels2_df)\n",
    "\n",
    "for query_id in tqdm_notebook(query_ids):\n",
    "    model_query_subset = model_df[model_df['query_id'] == query_id].copy()\n",
    "    qrels_query_subset = dataset_df[dataset_df['query_id'] == query_id].copy()\n",
    "    \n",
    "    top_n_ranking = get_top_n_ranking(model_query_subset,\"%s_rank\"%(model),N)\n",
    "    \n",
    "    relevant_items = get_ranks_relevant_passages(qrels_query_subset,top_n_ranking,model)\n",
    "    \n",
    "    ap = compute_average_precision(relevant_items)\n",
    "    \n",
    "    summed_map += ap\n",
    "    \n",
    "    map_scores.append((query_id,ap))\n",
    "    \n",
    "mean_ap = round((summed_map/len(query_ids))*100,1)"
   ]
  },
  {
   "cell_type": "code",
   "execution_count": 72,
   "metadata": {},
   "outputs": [
    {
     "data": {
      "text/plain": [
       "80.0"
      ]
     },
     "execution_count": 72,
     "metadata": {},
     "output_type": "execute_result"
    }
   ],
   "source": [
    "mean_ap"
   ]
  },
  {
   "cell_type": "code",
   "execution_count": 73,
   "metadata": {},
   "outputs": [],
   "source": [
    "with open(output_file,'w') as outfile:\n",
    "    for (query_id, ap) in map_scores:\n",
    "        line = \"%s\\t%s\\n\"%(query_id,ap)\n",
    "        outfile.write(line)"
   ]
  }
 ],
 "metadata": {
  "kernelspec": {
   "display_name": "Python 3",
   "language": "python",
   "name": "python3"
  },
  "language_info": {
   "codemirror_mode": {
    "name": "ipython",
    "version": 3
   },
   "file_extension": ".py",
   "mimetype": "text/x-python",
   "name": "python",
   "nbconvert_exporter": "python",
   "pygments_lexer": "ipython3",
   "version": "3.5.4"
  }
 },
 "nbformat": 4,
 "nbformat_minor": 4
}
