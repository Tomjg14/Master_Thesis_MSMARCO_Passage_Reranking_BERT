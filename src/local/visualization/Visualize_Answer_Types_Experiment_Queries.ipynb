{
 "cells": [
  {
   "cell_type": "markdown",
   "metadata": {},
   "source": [
    "## Import Libraries"
   ]
  },
  {
   "cell_type": "code",
   "execution_count": 13,
   "metadata": {},
   "outputs": [],
   "source": [
    "import pandas as pd\n",
    "import json\n",
    "import numpy as np\n",
    "from collections import Counter\n",
    "import matplotlib.pyplot as plt"
   ]
  },
  {
   "cell_type": "markdown",
   "metadata": {},
   "source": [
    "## Load Data"
   ]
  },
  {
   "cell_type": "code",
   "execution_count": null,
   "metadata": {},
   "outputs": [],
   "source": []
  },
  {
   "cell_type": "markdown",
   "metadata": {},
   "source": [
    "## Compute Distribution Answer Types"
   ]
  },
  {
   "cell_type": "markdown",
   "metadata": {},
   "source": [
    "First open the txt file containing the query texts and corresponding answer types."
   ]
  },
  {
   "cell_type": "code",
   "execution_count": 14,
   "metadata": {},
   "outputs": [],
   "source": [
    "experiment_answer_types = {}\n",
    "counter_answer_types = 0\n",
    "counter_no_answer_types = 0\n",
    "with open(\"experiment_answer_types.txt\", \"r\") as infile:\n",
    "    for line in infile:\n",
    "        if(\"\\t\" in line.rstrip()):\n",
    "            counter_answer_types += 1\n",
    "            [query_text,answer_type] = line.rstrip().split(\"\\t\")\n",
    "            experiment_answer_types[query_text] = answer_type.split(\":\")[0]\n",
    "        else:\n",
    "            if not line.rstrip() == \"\":\n",
    "                counter_no_answer_types += 1\n",
    "                experiment_answer_types[line.rstrip()] = \"\""
   ]
  },
  {
   "cell_type": "code",
   "execution_count": 15,
   "metadata": {
    "scrolled": true
   },
   "outputs": [
    {
     "name": "stdout",
     "output_type": "stream",
     "text": [
      "There are 20 queries for which no answer type could be classified.\n"
     ]
    }
   ],
   "source": [
    "print(\"There are %s queries for which no answer type could be classified.\"%(counter_no_answer_types))"
   ]
  },
  {
   "cell_type": "markdown",
   "metadata": {},
   "source": [
    "Because 20 queries do not yet have a corresponding answer type, we open the txt file which contains the answer types we manually decided on."
   ]
  },
  {
   "cell_type": "code",
   "execution_count": 16,
   "metadata": {},
   "outputs": [],
   "source": [
    "with open(\"manual_answer_types.txt\", \"r\", encoding='utf-8') as infile:\n",
    "    for line in infile:\n",
    "        [query_text,answer_type] = line.rstrip().split(\"\\t\")\n",
    "        if query_text in experiment_answer_types.keys():\n",
    "            experiment_answer_types[query_text] = answer_type"
   ]
  },
  {
   "cell_type": "markdown",
   "metadata": {},
   "source": [
    "Now lets check if there are still queries for which no answer type is available"
   ]
  },
  {
   "cell_type": "code",
   "execution_count": 17,
   "metadata": {},
   "outputs": [],
   "source": [
    "for query_text, answer_type in experiment_answer_types.items():\n",
    "    if answer_type == \"\":\n",
    "        print(query_text)"
   ]
  },
  {
   "cell_type": "markdown",
   "metadata": {},
   "source": [
    "Next we count the number of queries per answer type."
   ]
  },
  {
   "cell_type": "code",
   "execution_count": 18,
   "metadata": {},
   "outputs": [],
   "source": [
    "answer_types = list(experiment_answer_types.values())\n",
    "answer_types_counts = Counter(answer_types)\n",
    "answer_type_count_tuples = sorted(answer_types_counts.items(), key=lambda item: item[1],reverse=True)\n",
    "answer_types_sorted_on_count = [k for k, v in answer_type_count_tuples]\n",
    "answer_type_counts_sorted_on_count = [v for k, v in answer_type_count_tuples]"
   ]
  },
  {
   "cell_type": "markdown",
   "metadata": {},
   "source": [
    "And we visualize this with a Bar plot"
   ]
  },
  {
   "cell_type": "code",
   "execution_count": 19,
   "metadata": {},
   "outputs": [
    {
     "data": {
      "image/png": "[encoded data removed]",
      "text/plain": [
       "<Figure size 432x288 with 1 Axes>"
      ]
     },
     "metadata": {
      "needs_background": "light"
     },
     "output_type": "display_data"
    }
   ],
   "source": [
    "fig, ax = plt.subplots() \n",
    "ax.bar(answer_types_sorted_on_count, answer_type_counts_sorted_on_count, color='g')\n",
    "for i, v in enumerate(answer_type_counts_sorted_on_count):\n",
    "    ax.text(i - 0.1, v + 1 , str(v), color='g', fontweight='bold')\n",
    "ax.set_ylim([0,30])\n",
    "plt.xlabel(\"Answer Types\")\n",
    "plt.ylabel(\"Number of Queries\")\n",
    "plt.savefig('images/experiment_queries_answer_type_distribution.png', bbox_inches='tight')\n",
    "plt.show()"
   ]
  }
 ],
 "metadata": {
  "kernelspec": {
   "display_name": "Python 3",
   "language": "python",
   "name": "python3"
  },
  "language_info": {
   "codemirror_mode": {
    "name": "ipython",
    "version": 3
   },
   "file_extension": ".py",
   "mimetype": "text/x-python",
   "name": "python",
   "nbconvert_exporter": "python",
   "pygments_lexer": "ipython3",
   "version": "3.5.4"
  }
 },
 "nbformat": 4,
 "nbformat_minor": 4
}
