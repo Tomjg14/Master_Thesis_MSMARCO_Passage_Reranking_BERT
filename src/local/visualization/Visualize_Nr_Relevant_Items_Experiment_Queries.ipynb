{
 "cells": [
  {
   "cell_type": "markdown",
   "metadata": {},
   "source": [
    "## Import Libraries"
   ]
  },
  {
   "cell_type": "code",
   "execution_count": 1,
   "metadata": {},
   "outputs": [],
   "source": [
    "import pandas as pd\n",
    "import json\n",
    "import numpy as np\n",
    "from collections import Counter\n",
    "import matplotlib.pyplot as plt"
   ]
  },
  {
   "cell_type": "markdown",
   "metadata": {},
   "source": [
    "## Load Data"
   ]
  },
  {
   "cell_type": "code",
   "execution_count": 2,
   "metadata": {},
   "outputs": [],
   "source": [
    "firebase_data = 'data.json'\n",
    "with open(firebase_data, 'r') as infile:\n",
    "    data = json.load(infile)\n",
    "query_ids = list(data.keys())"
   ]
  },
  {
   "cell_type": "code",
   "execution_count": 3,
   "metadata": {},
   "outputs": [],
   "source": [
    "assessor_info = 'assessor_info.tsv'\n",
    "assessor_df = pd.read_csv(assessor_info,delimiter='\\t',encoding='utf-8',header=None)\n",
    "assessor_df.columns = [\"user_id\",\"email\",\"consent\",\"contact\",\"english\",\"progress\",\"assessed_queries\"]"
   ]
  },
  {
   "cell_type": "code",
   "execution_count": 5,
   "metadata": {},
   "outputs": [],
   "source": [
    "qrels_filename = 'qrels.dev.small.tsv'\n",
    "qrels_df = pd.read_csv(qrels_filename,delimiter='\\t',encoding='utf-8',header=None)\n",
    "qrels_df.columns = ['query_id','label1','passage_id','label2']"
   ]
  },
  {
   "cell_type": "markdown",
   "metadata": {},
   "source": [
    "## Create DataFrames per Query"
   ]
  },
  {
   "cell_type": "code",
   "execution_count": 7,
   "metadata": {},
   "outputs": [],
   "source": [
    "def create_labels(nr_assessors):\n",
    "    labels = [\"query_id\",\"passageid\",\"msmarco\"]\n",
    "    for i in range(nr_assessors):\n",
    "        labels = labels + ['user%s_id'%(i+1),'user%s_label'%(i+1)]\n",
    "    return labels"
   ]
  },
  {
   "cell_type": "code",
   "execution_count": 8,
   "metadata": {},
   "outputs": [],
   "source": [
    "dataframe_data = {}\n",
    "label_data = {}\n",
    "assessor_data = {}\n",
    "for query_id in query_ids:\n",
    "    query_data_lists = []\n",
    "    query_data = data[query_id]\n",
    "    nr_assessors = 0\n",
    "    for i, passage_id in enumerate(query_data.keys()):\n",
    "        dataFrameRow2be = [query_id, passage_id] + query_data[passage_id]\n",
    "        query_data_lists.append(dataFrameRow2be)\n",
    "        if i == 0:\n",
    "            nr_assessors = int((len(query_data[passage_id])-1)/2)\n",
    "    dataframe_data[query_id] = query_data_lists\n",
    "    label_data[query_id] = create_labels(nr_assessors)\n",
    "    assessor_data[query_id] = nr_assessors"
   ]
  },
  {
   "cell_type": "code",
   "execution_count": 9,
   "metadata": {},
   "outputs": [],
   "source": [
    "dataframes = {}\n",
    "for query_id in query_ids:\n",
    "    df = pd.DataFrame(dataframe_data[query_id],columns=label_data[query_id])\n",
    "    dataframes[query_id] = df"
   ]
  },
  {
   "cell_type": "markdown",
   "metadata": {},
   "source": [
    "## Gather Experiment Queries"
   ]
  },
  {
   "cell_type": "code",
   "execution_count": 13,
   "metadata": {},
   "outputs": [],
   "source": [
    "assessors_do_not_agree = [\"838453\", \"866251\", \"321951\", \"427323\", \"993987\", \"540906\"]\n",
    "msmarco_only_relevant = [\"335710\", \"489257\"]\n",
    "at_least_3 = []\n",
    "for query_id in query_ids:\n",
    "    nr_assessors = assessor_data[query_id]\n",
    "    if nr_assessors >= 3:\n",
    "        at_least_3.append(query_id)\n",
    "experiment_query_ids = [int(query_id) for query_id in at_least_3 if (not (query_id in assessors_do_not_agree)) and (not (query_id in msmarco_only_relevant))]"
   ]
  },
  {
   "cell_type": "markdown",
   "metadata": {},
   "source": [
    "## Compute Nr Relevant MS MARCO Dataset"
   ]
  },
  {
   "cell_type": "code",
   "execution_count": 16,
   "metadata": {},
   "outputs": [],
   "source": [
    "og_relevance_count = {}\n",
    "for query_id in experiment_query_ids:\n",
    "    og_relevance_count[query_id] = len(qrels_df[qrels_df['query_id'] == query_id])"
   ]
  },
  {
   "cell_type": "markdown",
   "metadata": {},
   "source": [
    "Now lets plot these numbers in a bar plot"
   ]
  },
  {
   "cell_type": "code",
   "execution_count": 26,
   "metadata": {},
   "outputs": [],
   "source": [
    "counts = Counter(og_relevance_count.values())"
   ]
  },
  {
   "cell_type": "code",
   "execution_count": 36,
   "metadata": {},
   "outputs": [
    {
     "data": {
      "image/png": "[encoded data removed]",
      "text/plain": [
       "<Figure size 432x288 with 1 Axes>"
      ]
     },
     "metadata": {
      "needs_background": "light"
     },
     "output_type": "display_data"
    }
   ],
   "source": [
    "fig, ax = plt.subplots() \n",
    "ax.bar(list(counts.keys()), counts.values(), color='g')\n",
    "for i, v in enumerate(counts.values()):\n",
    "    ax.text(i+0.5, v + 1 , str(v), color='g', fontweight='bold')\n",
    "ax.set_ylim([0,50])\n",
    "ax.set_xlim([0,20])\n",
    "ax.set_xticks([0,5,10,15,20])\n",
    "plt.xlabel(\"Number of Relevant Passages\")\n",
    "plt.ylabel(\"Number of Queries\")\n",
    "plt.show()"
   ]
  },
  {
   "cell_type": "markdown",
   "metadata": {},
   "source": [
    "## Compute Nr Relevant T=2 Dataset"
   ]
  },
  {
   "cell_type": "code",
   "execution_count": 21,
   "metadata": {},
   "outputs": [],
   "source": [
    "t2_dataset_df = pd.read_csv('thesis_dataset_binary_threshold2.tsv',delimiter='\\t',encoding='utf-8',header=None)\n",
    "t2_dataset_df.columns = ['query_id','label1','passage_id','label2']"
   ]
  },
  {
   "cell_type": "code",
   "execution_count": 22,
   "metadata": {},
   "outputs": [],
   "source": [
    "t2_relevance_count = {}\n",
    "for query_id in experiment_query_ids:\n",
    "    t2_relevance_count[query_id] = len(t2_dataset_df[t2_dataset_df['query_id'] == query_id])"
   ]
  },
  {
   "cell_type": "code",
   "execution_count": 48,
   "metadata": {},
   "outputs": [],
   "source": [
    "counts = Counter(t2_relevance_count.values())"
   ]
  },
  {
   "cell_type": "code",
   "execution_count": 58,
   "metadata": {},
   "outputs": [
    {
     "data": {
      "image/png": "[encoded data removed]",
      "text/plain": [
       "<Figure size 432x288 with 1 Axes>"
      ]
     },
     "metadata": {
      "needs_background": "light"
     },
     "output_type": "display_data"
    }
   ],
   "source": [
    "fig, ax = plt.subplots() \n",
    "ax.bar(counts.keys(), counts.values(), color='g')\n",
    "ax.set_ylim([0,10])\n",
    "ax.set_xlim([0,21])\n",
    "ax.set_xticks([0,5,10,15,20])\n",
    "plt.xlabel(\"Number of Relevant Passages\")\n",
    "plt.ylabel(\"Number of Queries\")\n",
    "plt.show()"
   ]
  },
  {
   "cell_type": "markdown",
   "metadata": {},
   "source": [
    "## Compute Nr Relevant T=3 dataset"
   ]
  },
  {
   "cell_type": "code",
   "execution_count": 83,
   "metadata": {},
   "outputs": [],
   "source": [
    "t3_dataset_df = pd.read_csv('thesis_dataset_binary_threshold3.tsv',delimiter='\\t',encoding='utf-8',header=None)\n",
    "t3_dataset_df.columns = ['query_id','label1','passage_id','label2']"
   ]
  },
  {
   "cell_type": "code",
   "execution_count": 84,
   "metadata": {},
   "outputs": [],
   "source": [
    "t3_relevance_count = {}\n",
    "for query_id in experiment_query_ids:\n",
    "    t3_relevance_count[query_id] = len(t3_dataset_df[t3_dataset_df['query_id'] == query_id])"
   ]
  },
  {
   "cell_type": "code",
   "execution_count": 85,
   "metadata": {},
   "outputs": [],
   "source": [
    "counts = Counter(t3_relevance_count.values())"
   ]
  },
  {
   "cell_type": "code",
   "execution_count": 86,
   "metadata": {},
   "outputs": [
    {
     "data": {
      "image/png": "[encoded data removed]",
      "text/plain": [
       "<Figure size 432x288 with 1 Axes>"
      ]
     },
     "metadata": {
      "needs_background": "light"
     },
     "output_type": "display_data"
    }
   ],
   "source": [
    "fig, ax = plt.subplots() \n",
    "ax.bar(counts.keys(), counts.values(), color='g')\n",
    "ax.set_ylim([0,10])\n",
    "ax.set_xlim([0,21])\n",
    "ax.set_xticks([0,5,10,15,20])\n",
    "plt.xlabel(\"Number of Relevant Passages\")\n",
    "plt.ylabel(\"Number of Queries\")\n",
    "plt.show()"
   ]
  },
  {
   "cell_type": "markdown",
   "metadata": {},
   "source": [
    "## Make shared boxplot"
   ]
  },
  {
   "cell_type": "code",
   "execution_count": 90,
   "metadata": {},
   "outputs": [
    {
     "data": {
      "image/png": "[encoded data removed]",
      "text/plain": [
       "<Figure size 432x288 with 1 Axes>"
      ]
     },
     "metadata": {
      "needs_background": "light"
     },
     "output_type": "display_data"
    }
   ],
   "source": [
    "data_a = [list(og_relevance_count.values())]\n",
    "data_b = [list(t2_relevance_count.values())]\n",
    "data_c = [list(t3_relevance_count.values())]\n",
    "\n",
    "ticks = ['MS MARCO', 'T=2', 'T=3']\n",
    "\n",
    "plt.figure()\n",
    "\n",
    "bp1 = plt.boxplot(data_a,positions=[0],widths=1)\n",
    "bp2 = plt.boxplot(data_b,positions=[2],widths=1)\n",
    "bp3 = plt.boxplot(data_c,positions=[4],widths=1)\n",
    "plt.xticks(range(0, len(ticks) * 2, 2), ticks)\n",
    "plt.xlim(-2, len(ticks)*2)\n",
    "plt.yticks(range(0,21,5))\n",
    "plt.tight_layout()\n",
    "plt.xlabel(\"Relevance Datasets\")\n",
    "plt.ylabel(\"Number of Relevant Passages\")\n",
    "plt.savefig('images/experiment_queries_relevance_boxplots.png', bbox_inches='tight')\n",
    "plt.show()"
   ]
  }
 ],
 "metadata": {
  "kernelspec": {
   "display_name": "Python 3",
   "language": "python",
   "name": "python3"
  },
  "language_info": {
   "codemirror_mode": {
    "name": "ipython",
    "version": 3
   },
   "file_extension": ".py",
   "mimetype": "text/x-python",
   "name": "python",
   "nbconvert_exporter": "python",
   "pygments_lexer": "ipython3",
   "version": "3.5.4"
  }
 },
 "nbformat": 4,
 "nbformat_minor": 4
}
