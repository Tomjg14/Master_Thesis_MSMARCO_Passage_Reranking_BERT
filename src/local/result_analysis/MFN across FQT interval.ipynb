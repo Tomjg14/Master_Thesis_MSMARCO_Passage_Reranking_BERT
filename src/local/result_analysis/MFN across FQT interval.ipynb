{
 "cells": [
  {
   "cell_type": "markdown",
   "metadata": {},
   "source": [
    "## Import Libraries"
   ]
  },
  {
   "cell_type": "code",
   "execution_count": 1,
   "metadata": {},
   "outputs": [],
   "source": [
    "import pandas as pd\n",
    "import numpy as np\n",
    "from os import listdir\n",
    "from os.path import isfile, join\n",
    "from tqdm.auto import tqdm \n",
    "from tqdm import tqdm_notebook\n",
    "import nltk\n",
    "from nltk.corpus import stopwords\n",
    "from nltk.tokenize import word_tokenize "
   ]
  },
  {
   "cell_type": "markdown",
   "metadata": {},
   "source": [
    "## Load Data"
   ]
  },
  {
   "cell_type": "code",
   "execution_count": 2,
   "metadata": {},
   "outputs": [],
   "source": [
    "data_dir = 'data/'\n",
    "\n",
    "# binary threshold (irrelevant <2; relevant >= 2)\n",
    "thesis_qrels_threshold2_filename = 'thesis_dataset_binary_threshold2.tsv'\n",
    "\n",
    "# binary theshold (irrelevant <3; relevant >= 3)\n",
    "thesis_qrels_threshold3_filename = 'thesis_dataset_binary_threshold3.tsv'\n",
    "\n",
    "# msmarco relevance file\n",
    "og_qrels_filename = 'qrels.dev.small.tsv'\n",
    "\n",
    "# BM25 top 100 ranking\n",
    "bm25_top100_filename = 'run_development_top100.tsv'\n",
    "\n",
    "# BERT top 100 ranking\n",
    "bert_top100_filename = 'bert_thesis_dataset_top100.tsv'\n",
    "\n",
    "# Experiment query ids\n",
    "thesis_query_subset = 'experiment_query_subset.tsv'"
   ]
  },
  {
   "cell_type": "code",
   "execution_count": 3,
   "metadata": {},
   "outputs": [],
   "source": [
    "bm25_df = pd.read_csv(data_dir + bm25_top100_filename,delimiter='\\t',encoding='utf-8',header=None)\n",
    "bm25_df.columns = ['query_id', 'passage_id', 'bm25_rank']\n",
    "\n",
    "bert_df = pd.read_csv(data_dir + bert_top100_filename,delimiter='\\t',encoding='utf-8',header=None)\n",
    "bert_df.columns = ['query_id', 'passage_id', 'bm25_rank', 'query', 'passage', 'bert_score', 'bert_rank']\n",
    "\n",
    "og_qrels_df = pd.read_csv(data_dir + og_qrels_filename,delimiter='\\t',encoding='utf-8',header=None)\n",
    "og_qrels_df.columns = ['query_id','label1','passage_id','label2']\n",
    "\n",
    "new_qrels2_df = pd.read_csv(data_dir + thesis_qrels_threshold2_filename,delimiter='\\t',encoding='utf-8',header=None)\n",
    "new_qrels2_df.columns = ['query_id','label1','passage_id','label2']\n",
    "\n",
    "new_qrels3_df = pd.read_csv(data_dir + thesis_qrels_threshold3_filename,delimiter='\\t',encoding='utf-8',header=None)\n",
    "new_qrels3_df.columns = ['query_id','label1','passage_id','label2']\n",
    "\n",
    "query_subset = pd.read_csv(data_dir + thesis_query_subset,delimiter='\\t',encoding='utf-8',header=None)\n",
    "query_subset.columns = ['query_id', 'query']\n",
    "\n",
    "models_dict = {\"bm25\": bm25_df, \"bert\": bert_df}\n",
    "new_qrels_dict = {\"threshold=2\": new_qrels2_df, \"threshold=3\": new_qrels3_df}"
   ]
  },
  {
   "cell_type": "code",
   "execution_count": 4,
   "metadata": {},
   "outputs": [],
   "source": [
    "experiment_query_ids = list(np.unique(new_qrels2_df['query_id'].values.tolist()))"
   ]
  },
  {
   "cell_type": "markdown",
   "metadata": {},
   "source": [
    "## Helper Functions"
   ]
  },
  {
   "cell_type": "code",
   "execution_count": 5,
   "metadata": {},
   "outputs": [],
   "source": [
    "stop_words = set(stopwords.words('english'))"
   ]
  },
  {
   "cell_type": "code",
   "execution_count": 6,
   "metadata": {},
   "outputs": [],
   "source": [
    "def get_query_ids(dataframe):\n",
    "    return list(np.unique(dataframe['query_id'].tolist()))"
   ]
  },
  {
   "cell_type": "code",
   "execution_count": 7,
   "metadata": {},
   "outputs": [],
   "source": [
    "def compute_query_token_occurrences(passage,query):\n",
    "    passage_tokens = word_tokenize(passage)\n",
    "    query_tokens = word_tokenize(query)\n",
    "    filtered_passage = [w for w in passage_tokens if not w in stop_words]\n",
    "    token_matches = [w for w in filtered_passage if w in query_tokens]\n",
    "    return len(token_matches)/len(filtered_passage)"
   ]
  },
  {
   "cell_type": "code",
   "execution_count": 8,
   "metadata": {},
   "outputs": [],
   "source": [
    "def compute_fqt(query_id,model,threshold):\n",
    "    top_n_ranking = bert_df[(bert_df['query_id'] == query_id) & (bert_df['%s_rank'%(model)] <= threshold)]\n",
    "    passages = top_n_ranking['passage'].values.tolist()\n",
    "    query = top_n_ranking['query'].values.tolist()[0]\n",
    "    fqt = 0\n",
    "    for passage in passages:\n",
    "        fqt += compute_query_token_occurrences(passage,query)\n",
    "    return fqt/threshold"
   ]
  },
  {
   "cell_type": "code",
   "execution_count": 9,
   "metadata": {},
   "outputs": [],
   "source": [
    "def get_top_n_ranking(dataframe,rank_column,n):\n",
    "    top_n_ranking = dataframe[dataframe[rank_column] <= n].sort_values(by=[rank_column])\n",
    "    return top_n_ranking"
   ]
  },
  {
   "cell_type": "code",
   "execution_count": 10,
   "metadata": {},
   "outputs": [],
   "source": [
    "def get_passage_ids(dataframe):\n",
    "    relevant_passages = dataframe['passage_id'].values.tolist()\n",
    "    return relevant_passages"
   ]
  },
  {
   "cell_type": "code",
   "execution_count": 12,
   "metadata": {},
   "outputs": [],
   "source": [
    "def compute_mfr(gt,ranking,model,n):\n",
    "    score = n+1\n",
    "    best_rank = n+1\n",
    "    for index, row in ranking.iterrows():\n",
    "        current_rank = row['%s_rank'%(model)]\n",
    "        if row['passage_id'] in gt:\n",
    "            if current_rank < best_rank:\n",
    "                score = row['%s_rank'%(model)]\n",
    "                best_rank = current_rank\n",
    "    return score"
   ]
  },
  {
   "cell_type": "markdown",
   "metadata": {},
   "source": [
    "## Compute FQT Top 10 ranking"
   ]
  },
  {
   "cell_type": "code",
   "execution_count": 23,
   "metadata": {},
   "outputs": [],
   "source": [
    "query_ids = get_query_ids(query_subset)\n",
    "bm25_fqt_dict = {}\n",
    "bert_fqt_dict = {}\n",
    "threshold = 10\n",
    "\n",
    "for query_id in query_ids:\n",
    "    bm25_fqt_dict[query_id] = compute_fqt(query_id,'bm25',threshold)\n",
    "    bert_fqt_dict[query_id] = compute_fqt(query_id,'bert',threshold)"
   ]
  },
  {
   "cell_type": "markdown",
   "metadata": {},
   "source": [
    "## Compute Average MFR per ranges of FQT"
   ]
  },
  {
   "cell_type": "code",
   "execution_count": 13,
   "metadata": {},
   "outputs": [],
   "source": [
    "N = 10"
   ]
  },
  {
   "cell_type": "code",
   "execution_count": 14,
   "metadata": {},
   "outputs": [],
   "source": [
    "intervals = [(0.0,0.1), (0.1,0.15), (0.15,0.2), (0.2, 0.25), (0.25,1.0)]"
   ]
  },
  {
   "cell_type": "code",
   "execution_count": 18,
   "metadata": {},
   "outputs": [],
   "source": [
    "def compute_group(fqt):\n",
    "    for index, (low,high) in enumerate(intervals):\n",
    "        if not index == (len(intervals) + 1):\n",
    "            if (fqt >= low) & (fqt < high):\n",
    "                return index\n",
    "        else:\n",
    "            if (fqt >= low) & (fqt <= high):\n",
    "                return index"
   ]
  },
  {
   "cell_type": "code",
   "execution_count": 25,
   "metadata": {},
   "outputs": [],
   "source": [
    "bm25_groups = [[],[],[],[],[]]\n",
    "bert_groups = [[],[],[],[],[]]\n",
    "for query_id in query_ids:\n",
    "    bm25_fqt = bm25_fqt_dict[query_id]\n",
    "    bert_fqt = bert_fqt_dict[query_id]\n",
    "    bm25_groups[compute_group(bm25_fqt)].append(query_id)\n",
    "    bert_groups[compute_group(bert_fqt)].append(query_id)\n",
    "bm25_group_counts = [len(group) for group in bm25_groups]\n",
    "bert_group_counts = [len(group) for group in bert_groups]"
   ]
  },
  {
   "cell_type": "markdown",
   "metadata": {},
   "source": [
    "### Compute group MFRS for MS MARCO"
   ]
  },
  {
   "cell_type": "code",
   "execution_count": 28,
   "metadata": {},
   "outputs": [],
   "source": [
    "bm25_ms_mfr_per_group = []\n",
    "bert_ms_mfr_per_group = []\n",
    "\n",
    "for bm25_group in bm25_groups:\n",
    "    query_ids = bm25_group\n",
    "    \n",
    "    mfr = 0.0\n",
    "    \n",
    "    for query_id in query_ids:\n",
    "        # Get query specific ranking and relevance datasets\n",
    "        query_subset = bm25_df[bm25_df['query_id'] == query_id].copy()\n",
    "        qrels_query_subset = og_qrels_df[og_qrels_df['query_id'] == query_id]\n",
    "    \n",
    "        top_n_ranking = get_top_n_ranking(query_subset,'bm25_rank',N)\n",
    "    \n",
    "        relevant_passages = get_passage_ids(qrels_query_subset)\n",
    "    \n",
    "        mfr += compute_mfr(relevant_passages,top_n_ranking,\"bm25\",N)\n",
    "    \n",
    "    bm25_ms_mfr_per_group.append(round((mfr/len(query_ids)),2))\n",
    "    \n",
    "for bert_group in bert_groups:\n",
    "    query_ids = bert_group\n",
    "    \n",
    "    mfr = 0.0\n",
    "    \n",
    "    for query_id in query_ids:\n",
    "        # Get query specific ranking and relevance datasets\n",
    "        query_subset = bert_df[bert_df['query_id'] == query_id].copy()\n",
    "        qrels_query_subset = og_qrels_df[og_qrels_df['query_id'] == query_id]\n",
    "    \n",
    "        top_n_ranking = get_top_n_ranking(query_subset,'bert_rank',N)\n",
    "    \n",
    "        relevant_passages = get_passage_ids(qrels_query_subset)\n",
    "    \n",
    "        mfr += compute_mfr(relevant_passages,top_n_ranking,\"bert\",N)\n",
    "    \n",
    "    bert_ms_mfr_per_group.append(round((mfr/len(query_ids)),2))"
   ]
  },
  {
   "cell_type": "code",
   "execution_count": 30,
   "metadata": {},
   "outputs": [
    {
     "data": {
      "text/plain": [
       "[7.33, 2.58, 4.14, 4.83, 6.6]"
      ]
     },
     "execution_count": 30,
     "metadata": {},
     "output_type": "execute_result"
    }
   ],
   "source": [
    "bm25_ms_mfr_per_group"
   ]
  },
  {
   "cell_type": "code",
   "execution_count": 29,
   "metadata": {},
   "outputs": [
    {
     "data": {
      "text/plain": [
       "[2.56, 2.69, 2.2, 3.67, 4.33]"
      ]
     },
     "execution_count": 29,
     "metadata": {},
     "output_type": "execute_result"
    }
   ],
   "source": [
    "bert_ms_mfr_per_group"
   ]
  },
  {
   "cell_type": "markdown",
   "metadata": {},
   "source": [
    "### Compute group MFRS for threshold 2"
   ]
  },
  {
   "cell_type": "code",
   "execution_count": 31,
   "metadata": {},
   "outputs": [],
   "source": [
    "bm25_t2_mfr_per_group = []\n",
    "bert_t2_mfr_per_group = []\n",
    "\n",
    "for bm25_group in bm25_groups:\n",
    "    query_ids = bm25_group\n",
    "    \n",
    "    mfr = 0.0\n",
    "    \n",
    "    for query_id in query_ids:\n",
    "        # Get query specific ranking and relevance datasets\n",
    "        query_subset = bm25_df[bm25_df['query_id'] == query_id].copy()\n",
    "        qrels_query_subset = new_qrels2_df[new_qrels2_df['query_id'] == query_id]\n",
    "    \n",
    "        top_n_ranking = get_top_n_ranking(query_subset,'bm25_rank',N)\n",
    "    \n",
    "        relevant_passages = get_passage_ids(qrels_query_subset)\n",
    "    \n",
    "        mfr += compute_mfr(relevant_passages,top_n_ranking,\"bm25\",N)\n",
    "    \n",
    "    bm25_t2_mfr_per_group.append(round((mfr/len(query_ids)),2))\n",
    "    \n",
    "for bert_group in bert_groups:\n",
    "    query_ids = bert_group\n",
    "    \n",
    "    mfr = 0.0\n",
    "    \n",
    "    for query_id in query_ids:\n",
    "        # Get query specific ranking and relevance datasets\n",
    "        query_subset = bert_df[bert_df['query_id'] == query_id].copy()\n",
    "        qrels_query_subset = new_qrels2_df[new_qrels2_df['query_id'] == query_id]\n",
    "    \n",
    "        top_n_ranking = get_top_n_ranking(query_subset,'bert_rank',N)\n",
    "    \n",
    "        relevant_passages = get_passage_ids(qrels_query_subset)\n",
    "    \n",
    "        mfr += compute_mfr(relevant_passages,top_n_ranking,\"bert\",N)\n",
    "    \n",
    "    bert_t2_mfr_per_group.append(round((mfr/len(query_ids)),2))"
   ]
  },
  {
   "cell_type": "code",
   "execution_count": 32,
   "metadata": {},
   "outputs": [
    {
     "data": {
      "text/plain": [
       "[1.17, 1.08, 1.0, 1.0, 1.0]"
      ]
     },
     "execution_count": 32,
     "metadata": {},
     "output_type": "execute_result"
    }
   ],
   "source": [
    "bm25_t2_mfr_per_group"
   ]
  },
  {
   "cell_type": "code",
   "execution_count": 33,
   "metadata": {},
   "outputs": [
    {
     "data": {
      "text/plain": [
       "[1.11, 1.46, 1.0, 2.67, 1.0]"
      ]
     },
     "execution_count": 33,
     "metadata": {},
     "output_type": "execute_result"
    }
   ],
   "source": [
    "bert_t2_mfr_per_group"
   ]
  },
  {
   "cell_type": "markdown",
   "metadata": {},
   "source": [
    "### Compute group MFRS for threshold 3"
   ]
  },
  {
   "cell_type": "code",
   "execution_count": 34,
   "metadata": {},
   "outputs": [],
   "source": [
    "bm25_t3_mfr_per_group = []\n",
    "bert_t3_mfr_per_group = []\n",
    "\n",
    "for bm25_group in bm25_groups:\n",
    "    query_ids = bm25_group\n",
    "    \n",
    "    mfr = 0.0\n",
    "    \n",
    "    for query_id in query_ids:\n",
    "        # Get query specific ranking and relevance datasets\n",
    "        query_subset = bm25_df[bm25_df['query_id'] == query_id].copy()\n",
    "        qrels_query_subset = new_qrels3_df[new_qrels3_df['query_id'] == query_id]\n",
    "    \n",
    "        top_n_ranking = get_top_n_ranking(query_subset,'bm25_rank',N)\n",
    "    \n",
    "        relevant_passages = get_passage_ids(qrels_query_subset)\n",
    "    \n",
    "        mfr += compute_mfr(relevant_passages,top_n_ranking,\"bm25\",N)\n",
    "    \n",
    "    bm25_t3_mfr_per_group.append(round((mfr/len(query_ids)),2))\n",
    "    \n",
    "for bert_group in bert_groups:\n",
    "    query_ids = bert_group\n",
    "    \n",
    "    mfr = 0.0\n",
    "    \n",
    "    for query_id in query_ids:\n",
    "        # Get query specific ranking and relevance datasets\n",
    "        query_subset = bert_df[bert_df['query_id'] == query_id].copy()\n",
    "        qrels_query_subset = new_qrels3_df[new_qrels3_df['query_id'] == query_id]\n",
    "    \n",
    "        top_n_ranking = get_top_n_ranking(query_subset,'bert_rank',N)\n",
    "    \n",
    "        relevant_passages = get_passage_ids(qrels_query_subset)\n",
    "    \n",
    "        mfr += compute_mfr(relevant_passages,top_n_ranking,\"bert\",N)\n",
    "    \n",
    "    bert_t3_mfr_per_group.append(round((mfr/len(query_ids)),2))"
   ]
  },
  {
   "cell_type": "code",
   "execution_count": 35,
   "metadata": {},
   "outputs": [
    {
     "data": {
      "text/plain": [
       "[1.5, 1.08, 1.79, 1.0, 1.2]"
      ]
     },
     "execution_count": 35,
     "metadata": {},
     "output_type": "execute_result"
    }
   ],
   "source": [
    "bm25_t3_mfr_per_group"
   ]
  },
  {
   "cell_type": "code",
   "execution_count": 36,
   "metadata": {},
   "outputs": [
    {
     "data": {
      "text/plain": [
       "[1.11, 2.0, 1.07, 2.67, 1.33]"
      ]
     },
     "execution_count": 36,
     "metadata": {},
     "output_type": "execute_result"
    }
   ],
   "source": [
    "bert_t3_mfr_per_group"
   ]
  }
 ],
 "metadata": {
  "kernelspec": {
   "display_name": "Python 3",
   "language": "python",
   "name": "python3"
  },
  "language_info": {
   "codemirror_mode": {
    "name": "ipython",
    "version": 3
   },
   "file_extension": ".py",
   "mimetype": "text/x-python",
   "name": "python",
   "nbconvert_exporter": "python",
   "pygments_lexer": "ipython3",
   "version": "3.5.4"
  }
 },
 "nbformat": 4,
 "nbformat_minor": 4
}
