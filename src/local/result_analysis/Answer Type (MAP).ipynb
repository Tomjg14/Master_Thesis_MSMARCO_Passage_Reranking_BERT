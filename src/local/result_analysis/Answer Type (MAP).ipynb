{
 "cells": [
  {
   "cell_type": "markdown",
   "metadata": {},
   "source": [
    "## Import Libraries"
   ]
  },
  {
   "cell_type": "code",
   "execution_count": 1,
   "metadata": {},
   "outputs": [],
   "source": [
    "import pandas as pd\n",
    "import json\n",
    "import numpy as np\n",
    "from collections import Counter"
   ]
  },
  {
   "cell_type": "markdown",
   "metadata": {},
   "source": [
    "## Load Data"
   ]
  },
  {
   "cell_type": "code",
   "execution_count": 2,
   "metadata": {},
   "outputs": [],
   "source": [
    "data_dir = 'data/'\n",
    "\n",
    "query_subset_filename = 'queries.dev.small.tsv'\n",
    "\n",
    "# binary threshold (irrelevant <2; relevant >= 2)\n",
    "thesis_qrels_threshold2_filename = 'thesis_dataset_binary_threshold2.tsv'\n",
    "\n",
    "# binary theshold (irrelevant <3; relevant >= 3)\n",
    "thesis_qrels_threshold3_filename = 'thesis_dataset_binary_threshold3.tsv'\n",
    "\n",
    "# msmarco relevance file\n",
    "og_qrels_filename = 'qrels.dev.small.tsv'\n",
    "\n",
    "# BM25 top 100 ranking\n",
    "bm25_top100_filename = 'run_development_top100.tsv'\n",
    "\n",
    "# BERT top 100 ranking\n",
    "bert_top100_filename = 'bert_thesis_dataset_top100.tsv'\n",
    "\n",
    "# Experiment query ids\n",
    "thesis_query_subset = 'experiment_query_subset.tsv'"
   ]
  },
  {
   "cell_type": "code",
   "execution_count": 17,
   "metadata": {},
   "outputs": [],
   "source": [
    "bm25_df = pd.read_csv(data_dir + bm25_top100_filename,delimiter='\\t',encoding='utf-8',header=None)\n",
    "bm25_df.columns = ['query_id', 'passage_id', 'bm25_rank']\n",
    "\n",
    "bert_df = pd.read_csv(data_dir + bert_top100_filename,delimiter='\\t',encoding='utf-8',header=None)\n",
    "bert_df.columns = ['query_id', 'passage_id', 'bm25_rank', 'query', 'passage', 'bert_score', 'bert_rank']\n",
    "\n",
    "og_qrels_df = pd.read_csv(data_dir + og_qrels_filename,delimiter='\\t',encoding='utf-8',header=None)\n",
    "og_qrels_df.columns = ['query_id','label1','passage_id','label2']\n",
    "\n",
    "new_qrels2_df = pd.read_csv(data_dir + thesis_qrels_threshold2_filename,delimiter='\\t',encoding='utf-8',header=None)\n",
    "new_qrels2_df.columns = ['query_id','label1','passage_id','label2']\n",
    "\n",
    "new_qrels3_df = pd.read_csv(data_dir + thesis_qrels_threshold3_filename,delimiter='\\t',encoding='utf-8',header=None)\n",
    "new_qrels3_df.columns = ['query_id','label1','passage_id','label2']\n",
    "\n",
    "query_subset = pd.read_csv(data_dir + thesis_query_subset,delimiter='\\t',encoding='utf-8',header=None)\n",
    "query_subset.columns = ['query_id', 'query']\n",
    "\n",
    "models_dict = {\"bm25\": bm25_df, \"bert\": bert_df}\n",
    "new_qrels_dict = {\"threshold=2\": new_qrels2_df, \"threshold=3\": new_qrels3_df}"
   ]
  },
  {
   "cell_type": "code",
   "execution_count": 18,
   "metadata": {},
   "outputs": [],
   "source": [
    "firebase_answer_types = {}\n",
    "counter_answer_types = 0\n",
    "counter_no_answer_types = 0\n",
    "with open(\"data/firebase_answer_types.txt\", \"r\") as infile:\n",
    "    for line in infile:\n",
    "        if(\"\\t\" in line.rstrip()):\n",
    "            counter_answer_types += 1\n",
    "            [query_text,answer_type] = line.rstrip().split(\"\\t\")\n",
    "            firebase_answer_types[query_text] = answer_type.split(\":\")[0]\n",
    "        else:\n",
    "            if not line.rstrip() == \"\":\n",
    "                counter_no_answer_types += 1\n",
    "                firebase_answer_types[line.rstrip()] = \"\""
   ]
  },
  {
   "cell_type": "code",
   "execution_count": 19,
   "metadata": {},
   "outputs": [],
   "source": [
    "with open(\"data/manual_answer_types.txt\", \"r\", encoding='utf-8') as infile:\n",
    "    for line in infile:\n",
    "        [query_text,answer_type] = line.rstrip().split(\"\\t\")\n",
    "        firebase_answer_types[query_text] = answer_type"
   ]
  },
  {
   "cell_type": "code",
   "execution_count": 20,
   "metadata": {},
   "outputs": [],
   "source": [
    "answer_types = list(np.unique(list(firebase_answer_types.values())))"
   ]
  },
  {
   "cell_type": "markdown",
   "metadata": {},
   "source": [
    "## Helper Functions"
   ]
  },
  {
   "cell_type": "code",
   "execution_count": 7,
   "metadata": {},
   "outputs": [],
   "source": [
    "def get_query_ids(dataframe):\n",
    "    return list(np.unique(dataframe['query_id'].tolist()))"
   ]
  },
  {
   "cell_type": "code",
   "execution_count": 8,
   "metadata": {},
   "outputs": [],
   "source": [
    "def get_top_n_ranking(dataframe,rank_column,n):\n",
    "    top_n_ranking = dataframe[dataframe[rank_column] <= n].sort_values(by=[rank_column])\n",
    "    return top_n_ranking"
   ]
  },
  {
   "cell_type": "code",
   "execution_count": 9,
   "metadata": {},
   "outputs": [],
   "source": [
    "def get_ranks_relevant_passages(qrels_query_subset,top_n_ranking,model):\n",
    "    ranks_relevant_items = sorted(qrels_query_subset.merge(top_n_ranking,how='left',on=['query_id','passage_id'])['%s_rank'%(model)].values.tolist())\n",
    "    cleaned_rank_relevant_items = sorted([int(item) for item in ranks_relevant_items if ~np.isnan(item)])\n",
    "    return cleaned_rank_relevant_items"
   ]
  },
  {
   "cell_type": "code",
   "execution_count": 10,
   "metadata": {},
   "outputs": [],
   "source": [
    "def compute_precision(index,rank):\n",
    "    precision = index/rank\n",
    "    return precision"
   ]
  },
  {
   "cell_type": "code",
   "execution_count": 11,
   "metadata": {},
   "outputs": [],
   "source": [
    "def compute_average_precision(sorted_ranks_relevant_items):\n",
    "    average_precision = 0.0\n",
    "    if not (len(sorted_ranks_relevant_items) == 0):\n",
    "        summed_precision = 0.0\n",
    "        for index,rank in enumerate(sorted_ranks_relevant_items):\n",
    "            summed_precision += compute_precision(index+1,rank)\n",
    "        average_precision = summed_precision/len(sorted_ranks_relevant_items)\n",
    "    return average_precision"
   ]
  },
  {
   "cell_type": "markdown",
   "metadata": {},
   "source": [
    "## Compute Dict for answer types and query ids"
   ]
  },
  {
   "cell_type": "code",
   "execution_count": 22,
   "metadata": {},
   "outputs": [],
   "source": [
    "query_ids = get_query_ids(query_subset)"
   ]
  },
  {
   "cell_type": "code",
   "execution_count": 23,
   "metadata": {},
   "outputs": [],
   "source": [
    "answer_type_query_id_dict = {}\n",
    "for query_id in query_ids:\n",
    "    query_text = query_subset[query_subset['query_id'] == query_id]['query'].values.tolist()[0]\n",
    "    answer_type = firebase_answer_types[query_text]\n",
    "    if not answer_type in answer_type_query_id_dict.keys():\n",
    "        answer_type_query_id_dict[answer_type] = [query_id]\n",
    "    else:\n",
    "        answer_type_query_id_dict[answer_type].append(query_id)"
   ]
  },
  {
   "cell_type": "code",
   "execution_count": 24,
   "metadata": {},
   "outputs": [
    {
     "name": "stdout",
     "output_type": "stream",
     "text": [
      "DESC\n",
      "26\n",
      "ENTY\n",
      "1\n",
      "HUM\n",
      "3\n",
      "LOC\n",
      "1\n",
      "NUM\n",
      "12\n"
     ]
    }
   ],
   "source": [
    "for answer_type in answer_types:\n",
    "    print(answer_type)\n",
    "    print(len(answer_type_query_id_dict[answer_type]))"
   ]
  },
  {
   "cell_type": "code",
   "execution_count": 25,
   "metadata": {},
   "outputs": [],
   "source": [
    "N = 10"
   ]
  },
  {
   "cell_type": "markdown",
   "metadata": {},
   "source": [
    "## Compute MAP per answer type MS MARCO"
   ]
  },
  {
   "cell_type": "code",
   "execution_count": 29,
   "metadata": {},
   "outputs": [],
   "source": [
    "bm25_map_answer_types = {}\n",
    "bert_map_answer_types = {}\n",
    "\n",
    "for answer_type in answer_types:\n",
    "    query_ids = answer_type_query_id_dict[answer_type]\n",
    "    qrels_subset_df = og_qrels_df[og_qrels_df['query_id'].isin(query_ids)].copy()\n",
    "    bm25_subset_df = bm25_df[bm25_df['query_id'].isin(query_ids)].copy()\n",
    "    bert_subset_df = bert_df[bert_df['query_id'].isin(query_ids)].copy()\n",
    "    \n",
    "    bm25_map = 0.0\n",
    "    bert_map = 0.0\n",
    "    \n",
    "    for query_id in query_ids:\n",
    "        bm25_subset = bm25_df[bm25_df['query_id'] == query_id].copy()\n",
    "        bert_subset = bert_df[bert_df['query_id'] == query_id].copy()\n",
    "        qrels_subset = qrels_subset_df[qrels_subset_df['query_id'] == query_id].copy()\n",
    "        \n",
    "        top_n_bm25_ranking = get_top_n_ranking(bm25_subset,'bm25_rank',N)\n",
    "        top_n_bert_ranking = get_top_n_ranking(bert_subset,'bert_rank',N)\n",
    "        \n",
    "        bm25_relevant_items = get_ranks_relevant_passages(qrels_subset,top_n_bm25_ranking,\"bm25\")\n",
    "        bert_relevant_items = get_ranks_relevant_passages(qrels_subset,top_n_bert_ranking,\"bert\")\n",
    "        \n",
    "        bm25_map += compute_average_precision(bm25_relevant_items)\n",
    "        bert_map += compute_average_precision(bert_relevant_items)\n",
    "        \n",
    "    bm25_map_answer_types[answer_type] = round((bm25_map/len(query_ids))*100,1)\n",
    "    bert_map_answer_types[answer_type] = round((bert_map/len(query_ids))*100,1)"
   ]
  },
  {
   "cell_type": "code",
   "execution_count": 30,
   "metadata": {},
   "outputs": [
    {
     "data": {
      "text/plain": [
       "{'DESC': 45.2, 'ENTY': 100.0, 'HUM': 66.7, 'LOC': 50.0, 'NUM': 36.4}"
      ]
     },
     "execution_count": 30,
     "metadata": {},
     "output_type": "execute_result"
    }
   ],
   "source": [
    "bm25_map_answer_types"
   ]
  },
  {
   "cell_type": "code",
   "execution_count": 31,
   "metadata": {},
   "outputs": [
    {
     "data": {
      "text/plain": [
       "{'DESC': 71.2, 'ENTY': 50.0, 'HUM': 77.8, 'LOC': 50.0, 'NUM': 63.7}"
      ]
     },
     "execution_count": 31,
     "metadata": {},
     "output_type": "execute_result"
    }
   ],
   "source": [
    "bert_map_answer_types"
   ]
  },
  {
   "cell_type": "markdown",
   "metadata": {},
   "source": [
    "## Compute MAP per answer type T=2"
   ]
  },
  {
   "cell_type": "code",
   "execution_count": 32,
   "metadata": {},
   "outputs": [],
   "source": [
    "bm25_map_answer_types = {}\n",
    "bert_map_answer_types = {}\n",
    "\n",
    "for answer_type in answer_types:\n",
    "    query_ids = answer_type_query_id_dict[answer_type]\n",
    "    qrels_subset_df = new_qrels2_df[new_qrels2_df['query_id'].isin(query_ids)].copy()\n",
    "    bm25_subset_df = bm25_df[bm25_df['query_id'].isin(query_ids)].copy()\n",
    "    bert_subset_df = bert_df[bert_df['query_id'].isin(query_ids)].copy()\n",
    "    \n",
    "    bm25_map = 0.0\n",
    "    bert_map = 0.0\n",
    "    \n",
    "    for query_id in query_ids:\n",
    "        bm25_subset = bm25_df[bm25_df['query_id'] == query_id].copy()\n",
    "        bert_subset = bert_df[bert_df['query_id'] == query_id].copy()\n",
    "        qrels_subset = qrels_subset_df[qrels_subset_df['query_id'] == query_id].copy()\n",
    "        \n",
    "        top_n_bm25_ranking = get_top_n_ranking(bm25_subset,'bm25_rank',N)\n",
    "        top_n_bert_ranking = get_top_n_ranking(bert_subset,'bert_rank',N)\n",
    "        \n",
    "        bm25_relevant_items = get_ranks_relevant_passages(qrels_subset,top_n_bm25_ranking,\"bm25\")\n",
    "        bert_relevant_items = get_ranks_relevant_passages(qrels_subset,top_n_bert_ranking,\"bert\")\n",
    "        \n",
    "        bm25_map += compute_average_precision(bm25_relevant_items)\n",
    "        bert_map += compute_average_precision(bert_relevant_items)\n",
    "        \n",
    "    bm25_map_answer_types[answer_type] = round((bm25_map/len(query_ids))*100,1)\n",
    "    bert_map_answer_types[answer_type] = round((bert_map/len(query_ids))*100,1)"
   ]
  },
  {
   "cell_type": "code",
   "execution_count": 33,
   "metadata": {},
   "outputs": [
    {
     "data": {
      "text/plain": [
       "{'DESC': 89.6, 'ENTY': 100.0, 'HUM': 100.0, 'LOC': 95.3, 'NUM': 94.7}"
      ]
     },
     "execution_count": 33,
     "metadata": {},
     "output_type": "execute_result"
    }
   ],
   "source": [
    "bm25_map_answer_types"
   ]
  },
  {
   "cell_type": "code",
   "execution_count": 34,
   "metadata": {},
   "outputs": [
    {
     "data": {
      "text/plain": [
       "{'DESC': 82.2, 'ENTY': 93.3, 'HUM': 72.9, 'LOC': 85.5, 'NUM': 75.4}"
      ]
     },
     "execution_count": 34,
     "metadata": {},
     "output_type": "execute_result"
    }
   ],
   "source": [
    "bert_map_answer_types"
   ]
  },
  {
   "cell_type": "markdown",
   "metadata": {},
   "source": [
    "## Compute MAP per answer type T=3"
   ]
  },
  {
   "cell_type": "code",
   "execution_count": 35,
   "metadata": {},
   "outputs": [],
   "source": [
    "bm25_map_answer_types = {}\n",
    "bert_map_answer_types = {}\n",
    "\n",
    "for answer_type in answer_types:\n",
    "    query_ids = answer_type_query_id_dict[answer_type]\n",
    "    qrels_subset_df = new_qrels3_df[new_qrels3_df['query_id'].isin(query_ids)].copy()\n",
    "    bm25_subset_df = bm25_df[bm25_df['query_id'].isin(query_ids)].copy()\n",
    "    bert_subset_df = bert_df[bert_df['query_id'].isin(query_ids)].copy()\n",
    "    \n",
    "    bm25_map = 0.0\n",
    "    bert_map = 0.0\n",
    "    \n",
    "    for query_id in query_ids:\n",
    "        bm25_subset = bm25_df[bm25_df['query_id'] == query_id].copy()\n",
    "        bert_subset = bert_df[bert_df['query_id'] == query_id].copy()\n",
    "        qrels_subset = qrels_subset_df[qrels_subset_df['query_id'] == query_id].copy()\n",
    "        \n",
    "        top_n_bm25_ranking = get_top_n_ranking(bm25_subset,'bm25_rank',N)\n",
    "        top_n_bert_ranking = get_top_n_ranking(bert_subset,'bert_rank',N)\n",
    "        \n",
    "        bm25_relevant_items = get_ranks_relevant_passages(qrels_subset,top_n_bm25_ranking,\"bm25\")\n",
    "        bert_relevant_items = get_ranks_relevant_passages(qrels_subset,top_n_bert_ranking,\"bert\")\n",
    "        \n",
    "        bm25_map += compute_average_precision(bm25_relevant_items)\n",
    "        bert_map += compute_average_precision(bert_relevant_items)\n",
    "        \n",
    "    bm25_map_answer_types[answer_type] = round((bm25_map/len(query_ids))*100,1)\n",
    "    bert_map_answer_types[answer_type] = round((bert_map/len(query_ids))*100,1)"
   ]
  },
  {
   "cell_type": "code",
   "execution_count": 36,
   "metadata": {},
   "outputs": [
    {
     "data": {
      "text/plain": [
       "{'DESC': 81.2, 'ENTY': 100.0, 'HUM': 93.7, 'LOC': 91.1, 'NUM': 74.0}"
      ]
     },
     "execution_count": 36,
     "metadata": {},
     "output_type": "execute_result"
    }
   ],
   "source": [
    "bm25_map_answer_types"
   ]
  },
  {
   "cell_type": "code",
   "execution_count": 37,
   "metadata": {},
   "outputs": [
    {
     "data": {
      "text/plain": [
       "{'DESC': 81.1, 'ENTY': 93.3, 'HUM': 72.4, 'LOC': 70.9, 'NUM': 71.0}"
      ]
     },
     "execution_count": 37,
     "metadata": {},
     "output_type": "execute_result"
    }
   ],
   "source": [
    "bert_map_answer_types"
   ]
  }
 ],
 "metadata": {
  "kernelspec": {
   "display_name": "Python 3",
   "language": "python",
   "name": "python3"
  },
  "language_info": {
   "codemirror_mode": {
    "name": "ipython",
    "version": 3
   },
   "file_extension": ".py",
   "mimetype": "text/x-python",
   "name": "python",
   "nbconvert_exporter": "python",
   "pygments_lexer": "ipython3",
   "version": "3.5.4"
  }
 },
 "nbformat": 4,
 "nbformat_minor": 4
}
