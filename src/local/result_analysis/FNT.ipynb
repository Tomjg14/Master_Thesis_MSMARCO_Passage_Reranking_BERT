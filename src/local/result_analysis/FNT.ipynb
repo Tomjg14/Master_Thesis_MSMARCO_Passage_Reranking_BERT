{
 "cells": [
  {
   "cell_type": "markdown",
   "metadata": {},
   "source": [
    "## Import Libraries"
   ]
  },
  {
   "cell_type": "code",
   "execution_count": 1,
   "metadata": {},
   "outputs": [],
   "source": [
    "import pandas as pd\n",
    "import numpy as np\n",
    "from os import listdir\n",
    "from os.path import isfile, join\n",
    "from tqdm.auto import tqdm \n",
    "from tqdm import tqdm_notebook\n",
    "import nltk\n",
    "from nltk.corpus import stopwords\n",
    "from nltk.tokenize import word_tokenize "
   ]
  },
  {
   "cell_type": "markdown",
   "metadata": {},
   "source": [
    "## Load Data"
   ]
  },
  {
   "cell_type": "code",
   "execution_count": 2,
   "metadata": {},
   "outputs": [],
   "source": [
    "data_dir = 'data/'\n",
    "\n",
    "# binary threshold (irrelevant <2; relevant >= 2)\n",
    "thesis_qrels_threshold2_filename = 'thesis_dataset_binary_threshold2.tsv'\n",
    "\n",
    "# binary theshold (irrelevant <3; relevant >= 3)\n",
    "thesis_qrels_threshold3_filename = 'thesis_dataset_binary_threshold3.tsv'\n",
    "\n",
    "# msmarco relevance file\n",
    "og_qrels_filename = 'qrels.dev.small.tsv'\n",
    "\n",
    "# BM25 top 100 ranking\n",
    "bm25_top100_filename = 'run_development_top100.tsv'\n",
    "\n",
    "# BERT top 100 ranking\n",
    "bert_top100_filename = 'bert_thesis_dataset_top100.tsv'\n",
    "\n",
    "# Experiment query ids\n",
    "thesis_query_subset = 'experiment_query_subset.tsv'"
   ]
  },
  {
   "cell_type": "code",
   "execution_count": 3,
   "metadata": {},
   "outputs": [],
   "source": [
    "bm25_df = pd.read_csv(data_dir + bm25_top100_filename,delimiter='\\t',encoding='utf-8',header=None)\n",
    "bm25_df.columns = ['query_id', 'passage_id', 'bm25_rank']\n",
    "\n",
    "bert_df = pd.read_csv(data_dir + bert_top100_filename,delimiter='\\t',encoding='utf-8',header=None)\n",
    "bert_df.columns = ['query_id', 'passage_id', 'bm25_rank', 'query', 'passage', 'bert_score', 'bert_rank']\n",
    "\n",
    "og_qrels_df = pd.read_csv(data_dir + og_qrels_filename,delimiter='\\t',encoding='utf-8',header=None)\n",
    "og_qrels_df.columns = ['query_id','label1','passage_id','label2']\n",
    "\n",
    "new_qrels2_df = pd.read_csv(data_dir + thesis_qrels_threshold2_filename,delimiter='\\t',encoding='utf-8',header=None)\n",
    "new_qrels2_df.columns = ['query_id','label1','passage_id','label2']\n",
    "\n",
    "new_qrels3_df = pd.read_csv(data_dir + thesis_qrels_threshold3_filename,delimiter='\\t',encoding='utf-8',header=None)\n",
    "new_qrels3_df.columns = ['query_id','label1','passage_id','label2']\n",
    "\n",
    "query_subset = pd.read_csv(data_dir + thesis_query_subset,delimiter='\\t',encoding='utf-8',header=None)\n",
    "query_subset.columns = ['query_id', 'query']\n",
    "\n",
    "models_dict = {\"bm25\": bm25_df, \"bert\": bert_df}\n",
    "new_qrels_dict = {\"threshold=2\": new_qrels2_df, \"threshold=3\": new_qrels3_df}"
   ]
  },
  {
   "cell_type": "code",
   "execution_count": 4,
   "metadata": {},
   "outputs": [],
   "source": [
    "experiment_query_ids = list(np.unique(new_qrels2_df['query_id'].values.tolist()))"
   ]
  },
  {
   "cell_type": "markdown",
   "metadata": {},
   "source": [
    "## Helper Functions"
   ]
  },
  {
   "cell_type": "code",
   "execution_count": 5,
   "metadata": {},
   "outputs": [],
   "source": [
    "stop_words = set(stopwords.words('english'))"
   ]
  },
  {
   "cell_type": "code",
   "execution_count": 6,
   "metadata": {},
   "outputs": [],
   "source": [
    "def get_query_ids(dataframe):\n",
    "    return list(np.unique(dataframe['query_id'].tolist()))"
   ]
  },
  {
   "cell_type": "code",
   "execution_count": 10,
   "metadata": {},
   "outputs": [],
   "source": [
    "def compute_query_token_occurrences(passage,query):\n",
    "    passage_tokens = word_tokenize(passage)\n",
    "    query_tokens = word_tokenize(query)\n",
    "    filtered_passage = [w for w in passage_tokens if not w in stop_words]\n",
    "    unique_filtered_passage = list(np.unique(filtered_passage))\n",
    "    token_matches = [w for w in unique_filtered_passage if not w in query_tokens]\n",
    "    return len(token_matches)/len(unique_filtered_passage)"
   ]
  },
  {
   "cell_type": "code",
   "execution_count": 11,
   "metadata": {},
   "outputs": [],
   "source": [
    "def compute_fnt(query_id,model,threshold):\n",
    "    top_n_ranking = bert_df[(bert_df['query_id'] == query_id) & (bert_df['%s_rank'%(model)] <= threshold)]\n",
    "    passages = top_n_ranking['passage'].values.tolist()\n",
    "    query = top_n_ranking['query'].values.tolist()[0]\n",
    "    fqt = 0\n",
    "    for passage in passages:\n",
    "        fqt += compute_query_token_occurrences(passage,query)\n",
    "    return fqt/threshold"
   ]
  },
  {
   "cell_type": "markdown",
   "metadata": {},
   "source": [
    "## Compute FNT top 10 ranking"
   ]
  },
  {
   "cell_type": "code",
   "execution_count": 12,
   "metadata": {},
   "outputs": [],
   "source": [
    "query_ids = get_query_ids(query_subset)"
   ]
  },
  {
   "cell_type": "code",
   "execution_count": 14,
   "metadata": {},
   "outputs": [],
   "source": [
    "bm25_fnt_dict = {}\n",
    "bert_fnt_dict = {}\n",
    "threshold = 10\n",
    "\n",
    "for query_id in query_ids:\n",
    "    bm25_fnt_dict[query_id] = compute_fnt(query_id,'bm25',threshold)\n",
    "    bert_fnt_dict[query_id] = compute_fnt(query_id,'bert',threshold)"
   ]
  },
  {
   "cell_type": "code",
   "execution_count": 16,
   "metadata": {},
   "outputs": [
    {
     "data": {
      "text/plain": [
       "0.8905316563629885"
      ]
     },
     "execution_count": 16,
     "metadata": {},
     "output_type": "execute_result"
    }
   ],
   "source": [
    "np.mean(list(bm25_fnt_dict.values()))"
   ]
  },
  {
   "cell_type": "code",
   "execution_count": 17,
   "metadata": {},
   "outputs": [
    {
     "data": {
      "text/plain": [
       "0.8997616449286722"
      ]
     },
     "execution_count": 17,
     "metadata": {},
     "output_type": "execute_result"
    }
   ],
   "source": [
    "np.mean(list(bert_fnt_dict.values()))"
   ]
  },
  {
   "cell_type": "code",
   "execution_count": 18,
   "metadata": {},
   "outputs": [],
   "source": [
    "bert_higher = 0\n",
    "for query_id in query_ids:\n",
    "    if bert_fnt_dict[query_id] > bm25_fnt_dict[query_id]:\n",
    "        bert_higher += 1"
   ]
  },
  {
   "cell_type": "code",
   "execution_count": 20,
   "metadata": {},
   "outputs": [
    {
     "data": {
      "text/plain": [
       "0.6511627906976745"
      ]
     },
     "execution_count": 20,
     "metadata": {},
     "output_type": "execute_result"
    }
   ],
   "source": [
    "bert_higher/len(bert_fnt_dict)"
   ]
  },
  {
   "cell_type": "code",
   "execution_count": 21,
   "metadata": {},
   "outputs": [],
   "source": [
    "from scipy.stats import wilcoxon"
   ]
  },
  {
   "cell_type": "code",
   "execution_count": 24,
   "metadata": {},
   "outputs": [],
   "source": [
    "stat, p = wilcoxon(list(bm25_fnt_dict.values()), list(bert_fnt_dict.values()))"
   ]
  },
  {
   "cell_type": "code",
   "execution_count": 26,
   "metadata": {},
   "outputs": [
    {
     "name": "stdout",
     "output_type": "stream",
     "text": [
      "Different distribution (reject H0)\n"
     ]
    }
   ],
   "source": [
    "# interpret\n",
    "alpha = 0.05\n",
    "if p > alpha:\n",
    "\tprint('Same distribution (fail to reject H0)')\n",
    "else:\n",
    "\tprint('Different distribution (reject H0)')"
   ]
  },
  {
   "cell_type": "markdown",
   "metadata": {},
   "source": [
    "Dezelfde conclusies kunnen getrokken worden als in het paper. Echter zijn de verschillen zo nihil dat je ze ook weer in twijfel kan trekken. De gemiddelde liggen namelijk zo dichtbij elkaar."
   ]
  }
 ],
 "metadata": {
  "kernelspec": {
   "display_name": "Python 3",
   "language": "python",
   "name": "python3"
  },
  "language_info": {
   "codemirror_mode": {
    "name": "ipython",
    "version": 3
   },
   "file_extension": ".py",
   "mimetype": "text/x-python",
   "name": "python",
   "nbconvert_exporter": "python",
   "pygments_lexer": "ipython3",
   "version": "3.5.4"
  }
 },
 "nbformat": 4,
 "nbformat_minor": 4
}
