{
 "cells": [
  {
   "cell_type": "markdown",
   "metadata": {},
   "source": [
    "## Import Libraries"
   ]
  },
  {
   "cell_type": "code",
   "execution_count": 1,
   "metadata": {},
   "outputs": [],
   "source": [
    "import pandas as pd\n",
    "import numpy as np\n",
    "from os import listdir\n",
    "from os.path import isfile, join\n",
    "from tqdm.auto import tqdm \n",
    "from tqdm import tqdm_notebook"
   ]
  },
  {
   "cell_type": "markdown",
   "metadata": {},
   "source": [
    "## Load Data"
   ]
  },
  {
   "cell_type": "code",
   "execution_count": 2,
   "metadata": {},
   "outputs": [],
   "source": [
    "data_dir = 'data/'\n",
    "\n",
    "# binary threshold (irrelevant <2; relevant >= 2)\n",
    "thesis_qrels_threshold2_filename = 'thesis_dataset_binary_threshold2.tsv'\n",
    "\n",
    "# binary theshold (irrelevant <3; relevant >= 3)\n",
    "thesis_qrels_threshold3_filename = 'thesis_dataset_binary_threshold3.tsv'\n",
    "\n",
    "# msmarco relevance file\n",
    "og_qrels_filename = 'qrels.dev.small.tsv'\n",
    "\n",
    "# BM25 top 100 ranking\n",
    "bm25_top100_filename = 'run_development_top100.tsv'\n",
    "\n",
    "# BERT top 100 ranking\n",
    "bert_top100_filename = 'bert_thesis_dataset_top100.tsv'"
   ]
  },
  {
   "cell_type": "code",
   "execution_count": 3,
   "metadata": {},
   "outputs": [],
   "source": [
    "bm25_df = pd.read_csv(data_dir + bm25_top100_filename,delimiter='\\t',encoding='utf-8',header=None)\n",
    "bm25_df.columns = ['query_id', 'passage_id', 'bm25_rank']\n",
    "\n",
    "bert_df = pd.read_csv(data_dir + bert_top100_filename,delimiter='\\t',encoding='utf-8',header=None)\n",
    "bert_df.columns = ['query_id', 'passage_id', 'bm25_rank', 'query', 'passage', 'bert_score', 'bert_rank']\n",
    "\n",
    "og_qrels_df = pd.read_csv(data_dir + og_qrels_filename,delimiter='\\t',encoding='utf-8',header=None)\n",
    "og_qrels_df.columns = ['query_id','label1','passage_id','label2']\n",
    "\n",
    "new_qrels2_df = pd.read_csv(data_dir + thesis_qrels_threshold2_filename,delimiter='\\t',encoding='utf-8',header=None)\n",
    "new_qrels2_df.columns = ['query_id','label1','passage_id','label2']\n",
    "\n",
    "new_qrels3_df = pd.read_csv(data_dir + thesis_qrels_threshold3_filename,delimiter='\\t',encoding='utf-8',header=None)\n",
    "new_qrels3_df.columns = ['query_id','label1','passage_id','label2']\n",
    "\n",
    "models_dict = {\"bm25\": bm25_df, \"bert\": bert_df}\n",
    "new_qrels_dict = {\"threshold=2\": new_qrels2_df, \"threshold=3\": new_qrels3_df}"
   ]
  },
  {
   "cell_type": "markdown",
   "metadata": {},
   "source": [
    "## Helper Functions"
   ]
  },
  {
   "cell_type": "code",
   "execution_count": 4,
   "metadata": {},
   "outputs": [],
   "source": [
    "def get_query_ids(dataframe):\n",
    "    return list(np.unique(dataframe['query_id'].tolist()))"
   ]
  },
  {
   "cell_type": "code",
   "execution_count": 5,
   "metadata": {},
   "outputs": [],
   "source": [
    "def get_top_n_ranking(dataframe,rank_column,n):\n",
    "    top_n_ranking = dataframe[dataframe[rank_column] <= n].sort_values(by=[rank_column])\n",
    "    return top_n_ranking"
   ]
  },
  {
   "cell_type": "code",
   "execution_count": 6,
   "metadata": {},
   "outputs": [],
   "source": [
    "def get_passage_ids(dataframe):\n",
    "    relevant_passages = dataframe['passage_id'].values.tolist()\n",
    "    return relevant_passages"
   ]
  },
  {
   "cell_type": "code",
   "execution_count": 7,
   "metadata": {},
   "outputs": [],
   "source": [
    "def compute_mrr(gt,ranking,model,n):\n",
    "    score = 0.0\n",
    "    best_rank = n+1\n",
    "    for index, row in ranking.iterrows():\n",
    "        current_rank = row['%s_rank'%(model)]\n",
    "        if row['passage_id'] in gt:\n",
    "            if current_rank < best_rank:\n",
    "                score = 1.0 / (row['%s_rank'%(model)])\n",
    "                best_rank = current_rank\n",
    "    return score"
   ]
  },
  {
   "cell_type": "code",
   "execution_count": 8,
   "metadata": {},
   "outputs": [],
   "source": [
    "N = 10"
   ]
  },
  {
   "cell_type": "markdown",
   "metadata": {},
   "source": [
    "## Compute Per Query MRR MS MARCO"
   ]
  },
  {
   "cell_type": "code",
   "execution_count": 16,
   "metadata": {},
   "outputs": [
    {
     "name": "stderr",
     "output_type": "stream",
     "text": [
      "c:\\users\\tomjg\\appdata\\local\\programs\\python\\python35\\lib\\site-packages\\ipykernel_launcher.py:6: TqdmDeprecationWarning: This function will be removed in tqdm==5.0.0\n",
      "Please use `tqdm.notebook.tqdm` instead of `tqdm.tqdm_notebook`\n",
      "  \n"
     ]
    },
    {
     "data": {
      "application/vnd.jupyter.widget-view+json": {
       "model_id": "b51d718e9bac427791465529a4d4aef4",
       "version_major": 2,
       "version_minor": 0
      },
      "text/plain": [
       "HBox(children=(FloatProgress(value=0.0, max=43.0), HTML(value='')))"
      ]
     },
     "metadata": {},
     "output_type": "display_data"
    },
    {
     "name": "stdout",
     "output_type": "stream",
     "text": [
      "\n"
     ]
    }
   ],
   "source": [
    "bm25_mrr_values = []\n",
    "bert_mrr_values = []\n",
    "\n",
    "query_ids = get_query_ids(new_qrels2_df)\n",
    "og_qrels_subset_df = og_qrels_df[og_qrels_df['query_id'].isin(query_ids)].copy()\n",
    "for query_id in tqdm_notebook(query_ids):\n",
    "    og_qrels_query_subset = og_qrels_subset_df[og_qrels_subset_df['query_id'] == query_id]\n",
    "    bm25_subset = bm25_df[bm25_df['query_id'] == query_id].copy()\n",
    "    bert_subset = bert_df[bert_df['query_id'] == query_id].copy()\n",
    "    \n",
    "    top_n_bm25_ranking = get_top_n_ranking(bm25_subset,'bm25_rank',N)\n",
    "    top_n_bert_ranking = get_top_n_ranking(bert_subset,'bert_rank',N)\n",
    "    \n",
    "    og_relevant_passages = get_passage_ids(og_qrels_query_subset)\n",
    "    \n",
    "    bm25_mrr_values.append(compute_mrr(og_relevant_passages,top_n_bm25_ranking,\"bm25\",N))\n",
    "    bert_mrr_values.append(compute_mrr(og_relevant_passages,top_n_bert_ranking,\"bert\",N))"
   ]
  },
  {
   "cell_type": "code",
   "execution_count": 22,
   "metadata": {},
   "outputs": [],
   "source": [
    "diff_per_query_mrr = []\n",
    "for index, bert_mrr in enumerate(bert_mrr_values):\n",
    "    bm25_mrr = bm25_mrr_values[index]\n",
    "    diff = bert_mrr - bm25_mrr\n",
    "    diff_per_query_mrr.append(diff)\n",
    "diff_per_query_mrr = sorted(diff_per_query_mrr,reverse=True)"
   ]
  },
  {
   "cell_type": "code",
   "execution_count": 29,
   "metadata": {},
   "outputs": [
    {
     "data": {
      "image/png": "[encoded data removed]",
      "text/plain": [
       "<Figure size 432x288 with 1 Axes>"
      ]
     },
     "metadata": {
      "needs_background": "light"
     },
     "output_type": "display_data"
    }
   ],
   "source": [
    "import matplotlib.pyplot as plt\n",
    "%matplotlib inline\n",
    "plt.bar(range(len(diff_per_query_mrr)),diff_per_query_mrr, color='g')\n",
    "plt.xlabel(\"Number of Queries\")\n",
    "plt.ylabel(\"MRR diff\")\n",
    "plt.xlim([0,45])\n",
    "plt.ylim([-1,1])\n",
    "plt.savefig('per_query_mrr_analysis_ms_marco.png', bbox_inches='tight')\n",
    "plt.show()"
   ]
  },
  {
   "cell_type": "markdown",
   "metadata": {},
   "source": [
    "## Compute Per Query MRR T=2"
   ]
  },
  {
   "cell_type": "code",
   "execution_count": 48,
   "metadata": {},
   "outputs": [
    {
     "name": "stderr",
     "output_type": "stream",
     "text": [
      "c:\\users\\tomjg\\appdata\\local\\programs\\python\\python35\\lib\\site-packages\\ipykernel_launcher.py:5: TqdmDeprecationWarning: This function will be removed in tqdm==5.0.0\n",
      "Please use `tqdm.notebook.tqdm` instead of `tqdm.tqdm_notebook`\n",
      "  \"\"\"\n"
     ]
    },
    {
     "data": {
      "application/vnd.jupyter.widget-view+json": {
       "model_id": "675e778074ee4751b2060c60f9396b4d",
       "version_major": 2,
       "version_minor": 0
      },
      "text/plain": [
       "HBox(children=(FloatProgress(value=0.0, max=43.0), HTML(value='')))"
      ]
     },
     "metadata": {},
     "output_type": "display_data"
    },
    {
     "name": "stdout",
     "output_type": "stream",
     "text": [
      "\n"
     ]
    }
   ],
   "source": [
    "bm25_mrr_values = []\n",
    "bert_mrr_values = []\n",
    "\n",
    "query_ids = get_query_ids(new_qrels2_df)\n",
    "for query_id in tqdm_notebook(query_ids):\n",
    "    qrels_query_subset = new_qrels2_df[new_qrels2_df['query_id'] == query_id]\n",
    "    bm25_subset = bm25_df[bm25_df['query_id'] == query_id].copy()\n",
    "    bert_subset = bert_df[bert_df['query_id'] == query_id].copy()\n",
    "    \n",
    "    top_n_bm25_ranking = get_top_n_ranking(bm25_subset,'bm25_rank',N)\n",
    "    top_n_bert_ranking = get_top_n_ranking(bert_subset,'bert_rank',N)\n",
    "    \n",
    "    relevant_passages = get_passage_ids(qrels_query_subset)\n",
    "    \n",
    "    bm25_mrr_values.append(compute_mrr(relevant_passages,top_n_bm25_ranking,\"bm25\",N))\n",
    "    bert_mrr_values.append(compute_mrr(relevant_passages,top_n_bert_ranking,\"bert\",N))"
   ]
  },
  {
   "cell_type": "code",
   "execution_count": 49,
   "metadata": {},
   "outputs": [],
   "source": [
    "diff_per_query_mrr = []\n",
    "for index, bert_mrr in enumerate(bert_mrr_values):\n",
    "    bm25_mrr = bm25_mrr_values[index]\n",
    "    diff = bert_mrr - bm25_mrr\n",
    "    diff_per_query_mrr.append(diff)\n",
    "diff_per_query_mrr = sorted(diff_per_query_mrr,reverse=True)"
   ]
  },
  {
   "cell_type": "code",
   "execution_count": 50,
   "metadata": {},
   "outputs": [
    {
     "data": {
      "image/png": "[encoded data removed]",
      "text/plain": [
       "<Figure size 432x288 with 1 Axes>"
      ]
     },
     "metadata": {
      "needs_background": "light"
     },
     "output_type": "display_data"
    }
   ],
   "source": [
    "import matplotlib.pyplot as plt\n",
    "%matplotlib inline\n",
    "plt.bar(range(len(diff_per_query_mrr)),diff_per_query_mrr, color='g')\n",
    "plt.xlabel(\"Number of Queries\")\n",
    "plt.ylabel(\"MRR diff\")\n",
    "plt.xlim([0,45])\n",
    "plt.ylim([-1,1])\n",
    "plt.savefig('per_query_mrr_analysis_t2.png', bbox_inches='tight')\n",
    "plt.show()"
   ]
  },
  {
   "cell_type": "code",
   "execution_count": 41,
   "metadata": {},
   "outputs": [
    {
     "data": {
      "text/plain": [
       "Counter({-0.8: 1, -0.75: 1, -0.6666666666666667: 1, -0.5: 3, 0.0: 35, 0.5: 2})"
      ]
     },
     "execution_count": 41,
     "metadata": {},
     "output_type": "execute_result"
    }
   ],
   "source": [
    "from collections import Counter\n",
    "Counter(diff_per_query_mrr)"
   ]
  },
  {
   "cell_type": "code",
   "execution_count": 42,
   "metadata": {},
   "outputs": [
    {
     "data": {
      "text/plain": [
       "0.813953488372093"
      ]
     },
     "execution_count": 42,
     "metadata": {},
     "output_type": "execute_result"
    }
   ],
   "source": [
    "35/43"
   ]
  },
  {
   "cell_type": "markdown",
   "metadata": {},
   "source": [
    "## Compute Per Query MRR T=3"
   ]
  },
  {
   "cell_type": "code",
   "execution_count": 51,
   "metadata": {},
   "outputs": [
    {
     "name": "stderr",
     "output_type": "stream",
     "text": [
      "c:\\users\\tomjg\\appdata\\local\\programs\\python\\python35\\lib\\site-packages\\ipykernel_launcher.py:5: TqdmDeprecationWarning: This function will be removed in tqdm==5.0.0\n",
      "Please use `tqdm.notebook.tqdm` instead of `tqdm.tqdm_notebook`\n",
      "  \"\"\"\n"
     ]
    },
    {
     "data": {
      "application/vnd.jupyter.widget-view+json": {
       "model_id": "8f8c80c235b04bde92b64e5d4c7a6fe7",
       "version_major": 2,
       "version_minor": 0
      },
      "text/plain": [
       "HBox(children=(FloatProgress(value=0.0, max=43.0), HTML(value='')))"
      ]
     },
     "metadata": {},
     "output_type": "display_data"
    },
    {
     "name": "stdout",
     "output_type": "stream",
     "text": [
      "\n"
     ]
    }
   ],
   "source": [
    "bm25_mrr_values = []\n",
    "bert_mrr_values = []\n",
    "\n",
    "query_ids = get_query_ids(new_qrels3_df)\n",
    "for query_id in tqdm_notebook(query_ids):\n",
    "    qrels_query_subset = new_qrels3_df[new_qrels3_df['query_id'] == query_id]\n",
    "    bm25_subset = bm25_df[bm25_df['query_id'] == query_id].copy()\n",
    "    bert_subset = bert_df[bert_df['query_id'] == query_id].copy()\n",
    "    \n",
    "    top_n_bm25_ranking = get_top_n_ranking(bm25_subset,'bm25_rank',N)\n",
    "    top_n_bert_ranking = get_top_n_ranking(bert_subset,'bert_rank',N)\n",
    "    \n",
    "    relevant_passages = get_passage_ids(qrels_query_subset)\n",
    "    \n",
    "    bm25_mrr_values.append(compute_mrr(relevant_passages,top_n_bm25_ranking,\"bm25\",N))\n",
    "    bert_mrr_values.append(compute_mrr(relevant_passages,top_n_bert_ranking,\"bert\",N))"
   ]
  },
  {
   "cell_type": "code",
   "execution_count": 52,
   "metadata": {},
   "outputs": [],
   "source": [
    "diff_per_query_mrr = []\n",
    "for index, bert_mrr in enumerate(bert_mrr_values):\n",
    "    bm25_mrr = bm25_mrr_values[index]\n",
    "    diff = bert_mrr - bm25_mrr\n",
    "    diff_per_query_mrr.append(diff)\n",
    "diff_per_query_mrr = sorted(diff_per_query_mrr,reverse=True)"
   ]
  },
  {
   "cell_type": "code",
   "execution_count": 53,
   "metadata": {},
   "outputs": [
    {
     "data": {
      "image/png": "[encoded data removed]",
      "text/plain": [
       "<Figure size 432x288 with 1 Axes>"
      ]
     },
     "metadata": {
      "needs_background": "light"
     },
     "output_type": "display_data"
    }
   ],
   "source": [
    "import matplotlib.pyplot as plt\n",
    "%matplotlib inline\n",
    "plt.bar(range(len(diff_per_query_mrr)),diff_per_query_mrr, color='g')\n",
    "plt.xlabel(\"Number of Queries\")\n",
    "plt.ylabel(\"MRR diff\")\n",
    "plt.xlim([0,45])\n",
    "plt.ylim([-1,1])\n",
    "plt.savefig('per_query_mrr_analysis_t3.png', bbox_inches='tight')\n",
    "plt.show()"
   ]
  },
  {
   "cell_type": "code",
   "execution_count": 46,
   "metadata": {},
   "outputs": [
    {
     "data": {
      "text/plain": [
       "Counter({-0.8: 1, -0.6666666666666667: 1, -0.5: 5, 0.0: 30, 0.5: 6})"
      ]
     },
     "execution_count": 46,
     "metadata": {},
     "output_type": "execute_result"
    }
   ],
   "source": [
    "from collections import Counter\n",
    "Counter(diff_per_query_mrr)"
   ]
  },
  {
   "cell_type": "code",
   "execution_count": 47,
   "metadata": {},
   "outputs": [
    {
     "data": {
      "text/plain": [
       "0.6976744186046512"
      ]
     },
     "execution_count": 47,
     "metadata": {},
     "output_type": "execute_result"
    }
   ],
   "source": [
    "30/43"
   ]
  }
 ],
 "metadata": {
  "kernelspec": {
   "display_name": "Python 3",
   "language": "python",
   "name": "python3"
  },
  "language_info": {
   "codemirror_mode": {
    "name": "ipython",
    "version": 3
   },
   "file_extension": ".py",
   "mimetype": "text/x-python",
   "name": "python",
   "nbconvert_exporter": "python",
   "pygments_lexer": "ipython3",
   "version": "3.5.4"
  }
 },
 "nbformat": 4,
 "nbformat_minor": 4
}
