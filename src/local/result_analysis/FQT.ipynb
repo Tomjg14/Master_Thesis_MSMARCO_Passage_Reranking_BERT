{
 "cells": [
  {
   "cell_type": "markdown",
   "metadata": {},
   "source": [
    "This notebook will compute the FQT (fraction of query tokens). "
   ]
  },
  {
   "cell_type": "markdown",
   "metadata": {},
   "source": [
    "## Import Libraries"
   ]
  },
  {
   "cell_type": "code",
   "execution_count": 1,
   "metadata": {},
   "outputs": [],
   "source": [
    "import pandas as pd\n",
    "import numpy as np\n",
    "from os import listdir\n",
    "from os.path import isfile, join\n",
    "from tqdm.auto import tqdm \n",
    "from tqdm import tqdm_notebook\n",
    "import nltk\n",
    "from nltk.corpus import stopwords\n",
    "from nltk.tokenize import word_tokenize "
   ]
  },
  {
   "cell_type": "markdown",
   "metadata": {},
   "source": [
    "## Load Data"
   ]
  },
  {
   "cell_type": "code",
   "execution_count": 2,
   "metadata": {},
   "outputs": [],
   "source": [
    "data_dir = 'data/'\n",
    "\n",
    "# binary threshold (irrelevant <2; relevant >= 2)\n",
    "thesis_qrels_threshold2_filename = 'thesis_dataset_binary_threshold2.tsv'\n",
    "\n",
    "# binary theshold (irrelevant <3; relevant >= 3)\n",
    "thesis_qrels_threshold3_filename = 'thesis_dataset_binary_threshold3.tsv'\n",
    "\n",
    "# msmarco relevance file\n",
    "og_qrels_filename = 'qrels.dev.small.tsv'\n",
    "\n",
    "# BM25 top 100 ranking\n",
    "bm25_top100_filename = 'run_development_top100.tsv'\n",
    "\n",
    "# BERT top 100 ranking\n",
    "bert_top100_filename = 'bert_thesis_dataset_top100.tsv'\n",
    "\n",
    "# Experiment query ids\n",
    "thesis_query_subset = 'experiment_query_subset.tsv'"
   ]
  },
  {
   "cell_type": "code",
   "execution_count": 3,
   "metadata": {},
   "outputs": [],
   "source": [
    "bm25_df = pd.read_csv(data_dir + bm25_top100_filename,delimiter='\\t',encoding='utf-8',header=None)\n",
    "bm25_df.columns = ['query_id', 'passage_id', 'bm25_rank']\n",
    "\n",
    "bert_df = pd.read_csv(data_dir + bert_top100_filename,delimiter='\\t',encoding='utf-8',header=None)\n",
    "bert_df.columns = ['query_id', 'passage_id', 'bm25_rank', 'query', 'passage', 'bert_score', 'bert_rank']\n",
    "\n",
    "og_qrels_df = pd.read_csv(data_dir + og_qrels_filename,delimiter='\\t',encoding='utf-8',header=None)\n",
    "og_qrels_df.columns = ['query_id','label1','passage_id','label2']\n",
    "\n",
    "new_qrels2_df = pd.read_csv(data_dir + thesis_qrels_threshold2_filename,delimiter='\\t',encoding='utf-8',header=None)\n",
    "new_qrels2_df.columns = ['query_id','label1','passage_id','label2']\n",
    "\n",
    "new_qrels3_df = pd.read_csv(data_dir + thesis_qrels_threshold3_filename,delimiter='\\t',encoding='utf-8',header=None)\n",
    "new_qrels3_df.columns = ['query_id','label1','passage_id','label2']\n",
    "\n",
    "query_subset = pd.read_csv(data_dir + thesis_query_subset,delimiter='\\t',encoding='utf-8',header=None)\n",
    "query_subset.columns = ['query_id', 'query']\n",
    "\n",
    "models_dict = {\"bm25\": bm25_df, \"bert\": bert_df}\n",
    "new_qrels_dict = {\"threshold=2\": new_qrels2_df, \"threshold=3\": new_qrels3_df}"
   ]
  },
  {
   "cell_type": "code",
   "execution_count": 17,
   "metadata": {},
   "outputs": [],
   "source": [
    "experiment_query_ids = list(np.unique(new_qrels2_df['query_id'].values.tolist()))"
   ]
  },
  {
   "cell_type": "markdown",
   "metadata": {},
   "source": [
    "## Helper Functions"
   ]
  },
  {
   "cell_type": "code",
   "execution_count": 4,
   "metadata": {},
   "outputs": [],
   "source": [
    "stop_words = set(stopwords.words('english'))"
   ]
  },
  {
   "cell_type": "code",
   "execution_count": 5,
   "metadata": {},
   "outputs": [],
   "source": [
    "def get_query_ids(dataframe):\n",
    "    return list(np.unique(dataframe['query_id'].tolist()))"
   ]
  },
  {
   "cell_type": "code",
   "execution_count": 6,
   "metadata": {},
   "outputs": [],
   "source": [
    "def compute_query_token_occurrences(passage,query):\n",
    "    passage_tokens = word_tokenize(passage)\n",
    "    query_tokens = word_tokenize(query)\n",
    "    filtered_passage = [w for w in passage_tokens if not w in stop_words]\n",
    "    token_matches = [w for w in filtered_passage if w in query_tokens]\n",
    "    return len(token_matches)/len(filtered_passage)"
   ]
  },
  {
   "cell_type": "code",
   "execution_count": 7,
   "metadata": {},
   "outputs": [],
   "source": [
    "def compute_fqt(query_id,model,threshold):\n",
    "    top_n_ranking = bert_df[(bert_df['query_id'] == query_id) & (bert_df['%s_rank'%(model)] <= threshold)]\n",
    "    passages = top_n_ranking['passage'].values.tolist()\n",
    "    query = top_n_ranking['query'].values.tolist()[0]\n",
    "    fqt = 0\n",
    "    for passage in passages:\n",
    "        fqt += compute_query_token_occurrences(passage,query)\n",
    "    return fqt/threshold"
   ]
  },
  {
   "cell_type": "code",
   "execution_count": 8,
   "metadata": {},
   "outputs": [],
   "source": [
    "def get_top_n_ranking(dataframe,rank_column,n):\n",
    "    top_n_ranking = dataframe[dataframe[rank_column] <= n].sort_values(by=[rank_column])\n",
    "    return top_n_ranking"
   ]
  },
  {
   "cell_type": "code",
   "execution_count": 9,
   "metadata": {},
   "outputs": [],
   "source": [
    "def get_passage_ids(dataframe):\n",
    "    relevant_passages = dataframe['passage_id'].values.tolist()\n",
    "    return relevant_passages"
   ]
  },
  {
   "cell_type": "code",
   "execution_count": 10,
   "metadata": {},
   "outputs": [],
   "source": [
    "def compute_mrr(gt,ranking,model,n):\n",
    "    score = 0.0\n",
    "    best_rank = n+1\n",
    "    for index, row in ranking.iterrows():\n",
    "        current_rank = row['%s_rank'%(model)]\n",
    "        if row['passage_id'] in gt:\n",
    "            if current_rank < best_rank:\n",
    "                score = 1.0 / (row['%s_rank'%(model)])\n",
    "                best_rank = current_rank\n",
    "    return score"
   ]
  },
  {
   "cell_type": "markdown",
   "metadata": {},
   "source": [
    "## Compute FQT top 10 ranking"
   ]
  },
  {
   "cell_type": "code",
   "execution_count": 11,
   "metadata": {},
   "outputs": [],
   "source": [
    "query_ids = get_query_ids(query_subset)"
   ]
  },
  {
   "cell_type": "code",
   "execution_count": 12,
   "metadata": {},
   "outputs": [],
   "source": [
    "bm25_fqt_dict = {}\n",
    "bert_fqt_dict = {}\n",
    "threshold = 10\n",
    "\n",
    "for query_id in query_ids:\n",
    "    bm25_fqt_dict[query_id] = compute_fqt(query_id,'bm25',threshold)\n",
    "    bert_fqt_dict[query_id] = compute_fqt(query_id,'bert',threshold)"
   ]
  },
  {
   "cell_type": "code",
   "execution_count": 13,
   "metadata": {},
   "outputs": [
    {
     "data": {
      "text/plain": [
       "0.16502548210807988"
      ]
     },
     "execution_count": 13,
     "metadata": {},
     "output_type": "execute_result"
    }
   ],
   "source": [
    "np.mean(list(bm25_fqt_dict.values()))"
   ]
  },
  {
   "cell_type": "code",
   "execution_count": 14,
   "metadata": {},
   "outputs": [
    {
     "data": {
      "text/plain": [
       "0.14854817947470583"
      ]
     },
     "execution_count": 14,
     "metadata": {},
     "output_type": "execute_result"
    }
   ],
   "source": [
    "np.mean(list(bert_fqt_dict.values()))"
   ]
  },
  {
   "cell_type": "markdown",
   "metadata": {},
   "source": [
    "## Compare MS MARCO and New Passage FQT scores"
   ]
  },
  {
   "cell_type": "markdown",
   "metadata": {},
   "source": [
    "### Compute FQT MS MARCO Passages"
   ]
  },
  {
   "cell_type": "code",
   "execution_count": 64,
   "metadata": {},
   "outputs": [],
   "source": [
    "# get ms marco passage ids\n",
    "ms_passage_ids = []\n",
    "for query_id in experiment_query_ids:\n",
    "    ms_passage_ids = ms_passage_ids + og_qrels_df[og_qrels_df['query_id'] == query_id]['passage_id'].values.tolist()\n",
    "\n",
    "\n",
    "# get the query-passage text pairs\n",
    "ms_query_passage_text_pairs = []\n",
    "\n",
    "ms_query_passage_id_pairs = []\n",
    "\n",
    "for query_id in experiment_query_ids:\n",
    "    for passage_id in ms_passage_ids:\n",
    "        if len(bert_df[(bert_df[\"query_id\"] == query_id) & (bert_df[\"passage_id\"] == passage_id)]) > 0:\n",
    "            ms_query_passage_id_pairs.append((query_id,passage_id))\n",
    "            query_texts = bert_df[(bert_df[\"query_id\"] == query_id) & (bert_df[\"passage_id\"] == passage_id)]['query'].values.tolist()\n",
    "            passage_texts = bert_df[(bert_df[\"query_id\"] == query_id) & (bert_df[\"passage_id\"] == passage_id)]['passage'].values.tolist()\n",
    "            for index, query_text in enumerate(query_texts):\n",
    "                ms_query_passage_text_pairs.append((query_text,passage_texts[index]))\n",
    "                \n",
    "ms_marco_fqt_scores = []\n",
    "\n",
    "for (query,passage) in ms_query_passage_text_pairs:\n",
    "    fqt = compute_query_token_occurrences(passage,query)\n",
    "    ms_marco_fqt_scores.append(fqt)"
   ]
  },
  {
   "cell_type": "markdown",
   "metadata": {},
   "source": [
    "### Compute FQT Threshold = 2 passages"
   ]
  },
  {
   "cell_type": "code",
   "execution_count": 70,
   "metadata": {},
   "outputs": [],
   "source": [
    "# get t2 passage ids\n",
    "t2_passage_ids = []\n",
    "for query_id in experiment_query_ids:\n",
    "    t2_passage_ids = t2_passage_ids + new_qrels2_df[new_qrels2_df['query_id'] == query_id]['passage_id'].values.tolist()\n",
    "\n",
    "# get the query-passage text pairs\n",
    "t2_query_passage_text_pairs = []\n",
    "\n",
    "for query_id in experiment_query_ids:\n",
    "    for passage_id in t2_passage_ids:\n",
    "        if not (query_id,passage_id) in ms_query_passage_id_pairs:\n",
    "            if len(bert_df[(bert_df[\"query_id\"] == query_id) & (bert_df[\"passage_id\"] == passage_id)]) > 0:\n",
    "                query_texts = bert_df[(bert_df[\"query_id\"] == query_id) & (bert_df[\"passage_id\"] == passage_id)]['query'].values.tolist()\n",
    "                passage_texts = bert_df[(bert_df[\"query_id\"] == query_id) & (bert_df[\"passage_id\"] == passage_id)]['passage'].values.tolist()\n",
    "                for index, query_text in enumerate(query_texts):\n",
    "                    t2_query_passage_text_pairs.append((query_text,passage_texts[index]))\n",
    "                \n",
    "t2_fqt_scores = []\n",
    "\n",
    "for (query,passage) in t2_query_passage_text_pairs:\n",
    "    fqt = compute_query_token_occurrences(passage,query)\n",
    "    t2_fqt_scores.append(fqt)"
   ]
  },
  {
   "cell_type": "markdown",
   "metadata": {},
   "source": [
    "### Compute FQT Threshold = 3 passages"
   ]
  },
  {
   "cell_type": "code",
   "execution_count": 74,
   "metadata": {},
   "outputs": [],
   "source": [
    "# get t3 passage ids\n",
    "t3_passage_ids = []\n",
    "for query_id in experiment_query_ids:\n",
    "    t3_passage_ids = t3_passage_ids + new_qrels3_df[new_qrels3_df['query_id'] == query_id]['passage_id'].values.tolist()\n",
    "\n",
    "# get the query-passage text pairs\n",
    "t3_query_passage_text_pairs = []\n",
    "\n",
    "for query_id in experiment_query_ids:\n",
    "    for passage_id in t3_passage_ids:\n",
    "        if not (query_id,passage_id) in ms_query_passage_id_pairs:\n",
    "            if len(bert_df[(bert_df[\"query_id\"] == query_id) & (bert_df[\"passage_id\"] == passage_id)]) > 0:\n",
    "                query_texts = bert_df[(bert_df[\"query_id\"] == query_id) & (bert_df[\"passage_id\"] == passage_id)]['query'].values.tolist()\n",
    "                passage_texts = bert_df[(bert_df[\"query_id\"] == query_id) & (bert_df[\"passage_id\"] == passage_id)]['passage'].values.tolist()\n",
    "                for index, query_text in enumerate(query_texts):\n",
    "                    t3_query_passage_text_pairs.append((query_text,passage_texts[index]))\n",
    "                \n",
    "t3_fqt_scores = []\n",
    "\n",
    "for (query,passage) in t3_query_passage_text_pairs:\n",
    "    fqt = compute_query_token_occurrences(passage,query)\n",
    "    t3_fqt_scores.append(fqt)"
   ]
  },
  {
   "cell_type": "code",
   "execution_count": 75,
   "metadata": {},
   "outputs": [
    {
     "data": {
      "text/plain": [
       "327"
      ]
     },
     "execution_count": 75,
     "metadata": {},
     "output_type": "execute_result"
    }
   ],
   "source": [
    "len(t3_fqt_scores)"
   ]
  },
  {
   "cell_type": "markdown",
   "metadata": {},
   "source": [
    "### Make shared boxplot"
   ]
  },
  {
   "cell_type": "code",
   "execution_count": 78,
   "metadata": {},
   "outputs": [
    {
     "data": {
      "image/png": "[encoded data removed]",
      "text/plain": [
       "<Figure size 432x288 with 1 Axes>"
      ]
     },
     "metadata": {
      "needs_background": "light"
     },
     "output_type": "display_data"
    }
   ],
   "source": [
    "import matplotlib.pyplot as plt\n",
    "data_a = [ms_marco_fqt_scores]\n",
    "data_b = [t2_fqt_scores]\n",
    "data_c = [t3_fqt_scores]\n",
    "\n",
    "ticks = ['MS MARCO (43)', 'T=2 (471)', 'T=3 (327)']\n",
    "\n",
    "plt.figure()\n",
    "\n",
    "bp1 = plt.boxplot(data_a,positions=[0],widths=1)\n",
    "bp2 = plt.boxplot(data_b,positions=[2],widths=1)\n",
    "bp3 = plt.boxplot(data_c,positions=[4],widths=1)\n",
    "plt.xticks(range(0, len(ticks) * 2, 2), ticks)\n",
    "plt.xlim(-2, len(ticks)*2)\n",
    "#plt.yticks(range(0,1,0.1))\n",
    "plt.tight_layout()\n",
    "plt.xlabel(\"Relevance Datasets\")\n",
    "plt.ylabel(\"FQT Scores Relevant Passages\")\n",
    "plt.show()"
   ]
  },
  {
   "cell_type": "markdown",
   "metadata": {},
   "source": [
    "## Compute Average MRR per ranges of FQT"
   ]
  },
  {
   "cell_type": "code",
   "execution_count": 16,
   "metadata": {},
   "outputs": [],
   "source": [
    "N = 10"
   ]
  },
  {
   "cell_type": "code",
   "execution_count": 17,
   "metadata": {},
   "outputs": [],
   "source": [
    "def compute_group(fqt):\n",
    "    for index, (low,high) in enumerate(intervals):\n",
    "        if (fqt >= low) & (fqt < high):\n",
    "            return index"
   ]
  },
  {
   "cell_type": "code",
   "execution_count": null,
   "metadata": {},
   "outputs": [],
   "source": [
    "intervals = [(0.0,0.1), (0.1,0.15), (0.15,0.2), (0.2, 0.25), (0.25,1.0)]\n",
    "bm25_groups = [[],[],[],[],[]]\n",
    "bert_groups = [[],[],[],[],[]]\n",
    "for query_id in query_ids:\n",
    "    bm25_fqt = bm25_fqt_dict[query_id]\n",
    "    bert_fqt = bert_fqt_dict[query_id]\n",
    "    bm25_groups[compute_group(bm25_fqt)].append(query_id)\n",
    "    bert_groups[compute_group(bert_fqt)].append(query_id)"
   ]
  },
  {
   "cell_type": "code",
   "execution_count": 19,
   "metadata": {},
   "outputs": [],
   "source": [
    "bm25_group_counts = [len(group) for group in bm25_groups]\n",
    "bert_group_counts = [len(group) for group in bert_groups]"
   ]
  },
  {
   "cell_type": "code",
   "execution_count": 20,
   "metadata": {},
   "outputs": [
    {
     "data": {
      "text/plain": [
       "[6, 12, 14, 6, 5]"
      ]
     },
     "execution_count": 20,
     "metadata": {},
     "output_type": "execute_result"
    }
   ],
   "source": [
    "bm25_group_counts"
   ]
  },
  {
   "cell_type": "code",
   "execution_count": 21,
   "metadata": {},
   "outputs": [
    {
     "data": {
      "text/plain": [
       "[9, 13, 15, 3, 3]"
      ]
     },
     "execution_count": 21,
     "metadata": {},
     "output_type": "execute_result"
    }
   ],
   "source": [
    "bert_group_counts"
   ]
  },
  {
   "cell_type": "markdown",
   "metadata": {},
   "source": [
    "### Compute BM25 group mrrs for threshold 2"
   ]
  },
  {
   "cell_type": "code",
   "execution_count": 22,
   "metadata": {},
   "outputs": [],
   "source": [
    "# Irrelevant < 2; relevant >= 2\n",
    "binary_threshold = 2\n",
    "\n",
    "model = \"bm25\"\n",
    "\n",
    "model_df = models_dict[model].copy()\n",
    "\n",
    "# Get new relevance dataset\n",
    "new_qrels_df = new_qrels_dict[\"threshold=%s\"%(binary_threshold)].copy()\n",
    "\n",
    "og_mrr_per_group = []\n",
    "new_mrr_per_group = []\n",
    "\n",
    "for bm25_group in bm25_groups:\n",
    "    query_ids = bm25_group\n",
    "    og_qrels_subset_df = og_qrels_df[og_qrels_df['query_id'].isin(query_ids)].copy()\n",
    "    model_subset_df = model_df[model_df['query_id'].isin(query_ids)].copy()\n",
    "    \n",
    "    og_mrr = 0.0\n",
    "    new_mrr = 0.0\n",
    "    \n",
    "    for query_id in query_ids:\n",
    "        # Get query specific ranking and relevance datasets\n",
    "        query_subset = model_subset_df[model_subset_df['query_id'] == query_id].copy()\n",
    "        og_qrels_query_subset = og_qrels_subset_df[og_qrels_subset_df['query_id'] == query_id]\n",
    "        new_qrels_query_subset = new_qrels_df[new_qrels_df['query_id'] == query_id]\n",
    "    \n",
    "        top_n_ranking = get_top_n_ranking(query_subset,'%s_rank'%(model),N)\n",
    "    \n",
    "        og_relevant_passages = get_passage_ids(og_qrels_query_subset)\n",
    "        new_relevant_passages = get_passage_ids(new_qrels_query_subset)\n",
    "    \n",
    "        og_mrr += compute_mrr(og_relevant_passages,top_n_ranking,model,N)\n",
    "        new_mrr += compute_mrr(new_relevant_passages,top_n_ranking,model,N)\n",
    "    \n",
    "    og_mrr_per_group.append(round((og_mrr/len(query_ids)),2))\n",
    "    new_mrr_per_group.append(round((new_mrr/len(query_ids)),2))"
   ]
  },
  {
   "cell_type": "code",
   "execution_count": 23,
   "metadata": {},
   "outputs": [
    {
     "data": {
      "text/plain": [
       "[0.16, 0.66, 0.48, 0.43, 0.3]"
      ]
     },
     "execution_count": 23,
     "metadata": {},
     "output_type": "execute_result"
    }
   ],
   "source": [
    "og_mrr_per_group"
   ]
  },
  {
   "cell_type": "code",
   "execution_count": 24,
   "metadata": {},
   "outputs": [
    {
     "data": {
      "text/plain": [
       "[0.92, 0.96, 1.0, 1.0, 1.0]"
      ]
     },
     "execution_count": 24,
     "metadata": {},
     "output_type": "execute_result"
    }
   ],
   "source": [
    "new_mrr_per_group"
   ]
  },
  {
   "cell_type": "markdown",
   "metadata": {},
   "source": [
    "### Compute BERT group mrrs for threshold 2"
   ]
  },
  {
   "cell_type": "code",
   "execution_count": 25,
   "metadata": {},
   "outputs": [],
   "source": [
    "# Irrelevant < 2; relevant >= 2\n",
    "binary_threshold = 2\n",
    "\n",
    "model = \"bert\"\n",
    "\n",
    "model_df = models_dict[model].copy()\n",
    "\n",
    "# Get new relevance dataset\n",
    "new_qrels_df = new_qrels_dict[\"threshold=%s\"%(binary_threshold)].copy()\n",
    "\n",
    "og_mrr_per_group = []\n",
    "new_mrr_per_group = []\n",
    "\n",
    "for bert_group in bert_groups:\n",
    "    query_ids = bert_group\n",
    "    og_qrels_subset_df = og_qrels_df[og_qrels_df['query_id'].isin(query_ids)].copy()\n",
    "    model_subset_df = model_df[model_df['query_id'].isin(query_ids)].copy()\n",
    "    \n",
    "    og_mrr = 0.0\n",
    "    new_mrr = 0.0\n",
    "    \n",
    "    for query_id in query_ids:\n",
    "        # Get query specific ranking and relevance datasets\n",
    "        query_subset = model_subset_df[model_subset_df['query_id'] == query_id].copy()\n",
    "        og_qrels_query_subset = og_qrels_subset_df[og_qrels_subset_df['query_id'] == query_id]\n",
    "        new_qrels_query_subset = new_qrels_df[new_qrels_df['query_id'] == query_id]\n",
    "    \n",
    "        top_n_ranking = get_top_n_ranking(query_subset,'%s_rank'%(model),N)\n",
    "    \n",
    "        og_relevant_passages = get_passage_ids(og_qrels_query_subset)\n",
    "        new_relevant_passages = get_passage_ids(new_qrels_query_subset)\n",
    "    \n",
    "        og_mrr += compute_mrr(og_relevant_passages,top_n_ranking,model,N)\n",
    "        new_mrr += compute_mrr(new_relevant_passages,top_n_ranking,model,N)\n",
    "    \n",
    "    og_mrr_per_group.append(round((og_mrr/len(query_ids)),2))\n",
    "    new_mrr_per_group.append(round((new_mrr/len(query_ids)),2))"
   ]
  },
  {
   "cell_type": "code",
   "execution_count": 26,
   "metadata": {},
   "outputs": [
    {
     "data": {
      "text/plain": [
       "[0.65, 0.65, 0.78, 0.49, 0.67]"
      ]
     },
     "execution_count": 26,
     "metadata": {},
     "output_type": "execute_result"
    }
   ],
   "source": [
    "og_mrr_per_group"
   ]
  },
  {
   "cell_type": "code",
   "execution_count": 27,
   "metadata": {},
   "outputs": [
    {
     "data": {
      "text/plain": [
       "[0.94, 0.85, 1.0, 0.57, 1.0]"
      ]
     },
     "execution_count": 27,
     "metadata": {},
     "output_type": "execute_result"
    }
   ],
   "source": [
    "new_mrr_per_group"
   ]
  },
  {
   "cell_type": "markdown",
   "metadata": {},
   "source": [
    "### Compute BM25 group mrrs for threshold 3"
   ]
  },
  {
   "cell_type": "code",
   "execution_count": 28,
   "metadata": {},
   "outputs": [],
   "source": [
    "# Irrelevant < 3; relevant >= 3\n",
    "binary_threshold = 3\n",
    "\n",
    "model = \"bm25\"\n",
    "\n",
    "model_df = models_dict[model].copy()\n",
    "\n",
    "# Get new relevance dataset\n",
    "new_qrels_df = new_qrels_dict[\"threshold=%s\"%(binary_threshold)].copy()\n",
    "\n",
    "og_mrr_per_group = []\n",
    "new_mrr_per_group = []\n",
    "\n",
    "for bm25_group in bm25_groups:\n",
    "    query_ids = bm25_group\n",
    "    og_qrels_subset_df = og_qrels_df[og_qrels_df['query_id'].isin(query_ids)].copy()\n",
    "    model_subset_df = model_df[model_df['query_id'].isin(query_ids)].copy()\n",
    "    \n",
    "    og_mrr = 0.0\n",
    "    new_mrr = 0.0\n",
    "    \n",
    "    for query_id in query_ids:\n",
    "        # Get query specific ranking and relevance datasets\n",
    "        query_subset = model_subset_df[model_subset_df['query_id'] == query_id].copy()\n",
    "        og_qrels_query_subset = og_qrels_subset_df[og_qrels_subset_df['query_id'] == query_id]\n",
    "        new_qrels_query_subset = new_qrels_df[new_qrels_df['query_id'] == query_id]\n",
    "    \n",
    "        top_n_ranking = get_top_n_ranking(query_subset,'%s_rank'%(model),N)\n",
    "    \n",
    "        og_relevant_passages = get_passage_ids(og_qrels_query_subset)\n",
    "        new_relevant_passages = get_passage_ids(new_qrels_query_subset)\n",
    "    \n",
    "        og_mrr += compute_mrr(og_relevant_passages,top_n_ranking,model,N)\n",
    "        new_mrr += compute_mrr(new_relevant_passages,top_n_ranking,model,N)\n",
    "    \n",
    "    og_mrr_per_group.append(round((og_mrr/len(query_ids)),2))\n",
    "    new_mrr_per_group.append(round((new_mrr/len(query_ids)),2))"
   ]
  },
  {
   "cell_type": "code",
   "execution_count": 29,
   "metadata": {},
   "outputs": [
    {
     "data": {
      "text/plain": [
       "[0.16, 0.66, 0.48, 0.43, 0.3]"
      ]
     },
     "execution_count": 29,
     "metadata": {},
     "output_type": "execute_result"
    }
   ],
   "source": [
    "og_mrr_per_group"
   ]
  },
  {
   "cell_type": "code",
   "execution_count": 30,
   "metadata": {},
   "outputs": [
    {
     "data": {
      "text/plain": [
       "[0.75, 0.96, 0.89, 1.0, 0.9]"
      ]
     },
     "execution_count": 30,
     "metadata": {},
     "output_type": "execute_result"
    }
   ],
   "source": [
    "new_mrr_per_group"
   ]
  },
  {
   "cell_type": "markdown",
   "metadata": {},
   "source": [
    "### Compute BERT group mrrs for threshold 3"
   ]
  },
  {
   "cell_type": "code",
   "execution_count": 31,
   "metadata": {},
   "outputs": [],
   "source": [
    "# Irrelevant < 3; relevant >= 3\n",
    "binary_threshold = 3\n",
    "\n",
    "model = \"bert\"\n",
    "\n",
    "model_df = models_dict[model].copy()\n",
    "\n",
    "# Get new relevance dataset\n",
    "new_qrels_df = new_qrels_dict[\"threshold=%s\"%(binary_threshold)].copy()\n",
    "\n",
    "og_mrr_per_group = []\n",
    "new_mrr_per_group = []\n",
    "\n",
    "for bert_group in bert_groups:\n",
    "    query_ids = bert_group\n",
    "    og_qrels_subset_df = og_qrels_df[og_qrels_df['query_id'].isin(query_ids)].copy()\n",
    "    model_subset_df = model_df[model_df['query_id'].isin(query_ids)].copy()\n",
    "    \n",
    "    og_mrr = 0.0\n",
    "    new_mrr = 0.0\n",
    "    \n",
    "    for query_id in query_ids:\n",
    "        # Get query specific ranking and relevance datasets\n",
    "        query_subset = model_subset_df[model_subset_df['query_id'] == query_id].copy()\n",
    "        og_qrels_query_subset = og_qrels_subset_df[og_qrels_subset_df['query_id'] == query_id]\n",
    "        new_qrels_query_subset = new_qrels_df[new_qrels_df['query_id'] == query_id]\n",
    "    \n",
    "        top_n_ranking = get_top_n_ranking(query_subset,'%s_rank'%(model),N)\n",
    "    \n",
    "        og_relevant_passages = get_passage_ids(og_qrels_query_subset)\n",
    "        new_relevant_passages = get_passage_ids(new_qrels_query_subset)\n",
    "    \n",
    "        og_mrr += compute_mrr(og_relevant_passages,top_n_ranking,model,N)\n",
    "        new_mrr += compute_mrr(new_relevant_passages,top_n_ranking,model,N)\n",
    "    \n",
    "    og_mrr_per_group.append(round((og_mrr/len(query_ids)),2))\n",
    "    new_mrr_per_group.append(round((new_mrr/len(query_ids)),2))"
   ]
  },
  {
   "cell_type": "code",
   "execution_count": 32,
   "metadata": {},
   "outputs": [
    {
     "data": {
      "text/plain": [
       "[0.65, 0.65, 0.78, 0.49, 0.67]"
      ]
     },
     "execution_count": 32,
     "metadata": {},
     "output_type": "execute_result"
    }
   ],
   "source": [
    "og_mrr_per_group"
   ]
  },
  {
   "cell_type": "code",
   "execution_count": 33,
   "metadata": {},
   "outputs": [
    {
     "data": {
      "text/plain": [
       "[0.94, 0.83, 0.97, 0.57, 0.83]"
      ]
     },
     "execution_count": 33,
     "metadata": {},
     "output_type": "execute_result"
    }
   ],
   "source": [
    "new_mrr_per_group"
   ]
  }
 ],
 "metadata": {
  "kernelspec": {
   "display_name": "Python 3",
   "language": "python",
   "name": "python3"
  },
  "language_info": {
   "codemirror_mode": {
    "name": "ipython",
    "version": 3
   },
   "file_extension": ".py",
   "mimetype": "text/x-python",
   "name": "python",
   "nbconvert_exporter": "python",
   "pygments_lexer": "ipython3",
   "version": "3.5.4"
  }
 },
 "nbformat": 4,
 "nbformat_minor": 4
}
