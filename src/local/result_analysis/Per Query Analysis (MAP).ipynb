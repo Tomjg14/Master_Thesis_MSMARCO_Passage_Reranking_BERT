{
 "cells": [
  {
   "cell_type": "markdown",
   "metadata": {},
   "source": [
    "## Import Libraries"
   ]
  },
  {
   "cell_type": "code",
   "execution_count": 1,
   "metadata": {},
   "outputs": [],
   "source": [
    "import pandas as pd\n",
    "import numpy as np\n",
    "from os import listdir\n",
    "from os.path import isfile, join\n",
    "from tqdm.auto import tqdm \n",
    "from tqdm import tqdm_notebook"
   ]
  },
  {
   "cell_type": "markdown",
   "metadata": {},
   "source": [
    "## Load Data"
   ]
  },
  {
   "cell_type": "code",
   "execution_count": 2,
   "metadata": {},
   "outputs": [],
   "source": [
    "data_dir = 'data/'\n",
    "\n",
    "# binary threshold (irrelevant <2; relevant >= 2)\n",
    "thesis_qrels_threshold2_filename = 'thesis_dataset_binary_threshold2.tsv'\n",
    "\n",
    "# binary theshold (irrelevant <3; relevant >= 3)\n",
    "thesis_qrels_threshold3_filename = 'thesis_dataset_binary_threshold3.tsv'\n",
    "\n",
    "# msmarco relevance file\n",
    "og_qrels_filename = 'qrels.dev.small.tsv'\n",
    "\n",
    "# BM25 top 100 ranking\n",
    "bm25_top100_filename = 'run_development_top100.tsv'\n",
    "\n",
    "# BERT top 100 ranking\n",
    "bert_top100_filename = 'bert_thesis_dataset_top100.tsv'"
   ]
  },
  {
   "cell_type": "code",
   "execution_count": 3,
   "metadata": {},
   "outputs": [],
   "source": [
    "bm25_df = pd.read_csv(data_dir + bm25_top100_filename,delimiter='\\t',encoding='utf-8',header=None)\n",
    "bm25_df.columns = ['query_id', 'passage_id', 'bm25_rank']\n",
    "\n",
    "bert_df = pd.read_csv(data_dir + bert_top100_filename,delimiter='\\t',encoding='utf-8',header=None)\n",
    "bert_df.columns = ['query_id', 'passage_id', 'bm25_rank', 'query', 'passage', 'bert_score', 'bert_rank']\n",
    "\n",
    "og_qrels_df = pd.read_csv(data_dir + og_qrels_filename,delimiter='\\t',encoding='utf-8',header=None)\n",
    "og_qrels_df.columns = ['query_id','label1','passage_id','label2']\n",
    "\n",
    "new_qrels2_df = pd.read_csv(data_dir + thesis_qrels_threshold2_filename,delimiter='\\t',encoding='utf-8',header=None)\n",
    "new_qrels2_df.columns = ['query_id','label1','passage_id','label2']\n",
    "\n",
    "new_qrels3_df = pd.read_csv(data_dir + thesis_qrels_threshold3_filename,delimiter='\\t',encoding='utf-8',header=None)\n",
    "new_qrels3_df.columns = ['query_id','label1','passage_id','label2']\n",
    "\n",
    "models_dict = {\"bm25\": bm25_df, \"bert\": bert_df}\n",
    "new_qrels_dict = {\"threshold=2\": new_qrels2_df, \"threshold=3\": new_qrels3_df}"
   ]
  },
  {
   "cell_type": "markdown",
   "metadata": {},
   "source": [
    "## Helper Functions"
   ]
  },
  {
   "cell_type": "code",
   "execution_count": 4,
   "metadata": {},
   "outputs": [],
   "source": [
    "def get_query_ids(dataframe):\n",
    "    return list(np.unique(dataframe['query_id'].tolist()))"
   ]
  },
  {
   "cell_type": "code",
   "execution_count": 5,
   "metadata": {},
   "outputs": [],
   "source": [
    "def get_top_n_ranking(dataframe,rank_column,n):\n",
    "    top_n_ranking = dataframe[dataframe[rank_column] <= n].sort_values(by=[rank_column])\n",
    "    return top_n_ranking"
   ]
  },
  {
   "cell_type": "code",
   "execution_count": 8,
   "metadata": {},
   "outputs": [],
   "source": [
    "def get_ranks_relevant_passages(qrels_query_subset,top_n_ranking,model):\n",
    "    ranks_relevant_items = sorted(qrels_query_subset.merge(top_n_ranking,how='left',on=['query_id','passage_id'])['%s_rank'%(model)].values.tolist())\n",
    "    cleaned_rank_relevant_items = sorted([int(item) for item in ranks_relevant_items if ~np.isnan(item)])\n",
    "    return cleaned_rank_relevant_items"
   ]
  },
  {
   "cell_type": "code",
   "execution_count": 7,
   "metadata": {},
   "outputs": [],
   "source": [
    "def compute_precision(index,rank):\n",
    "    precision = index/rank\n",
    "    return precision"
   ]
  },
  {
   "cell_type": "code",
   "execution_count": 9,
   "metadata": {},
   "outputs": [],
   "source": [
    "def compute_average_precision(sorted_ranks_relevant_items):\n",
    "    average_precision = 0.0\n",
    "    if not (len(sorted_ranks_relevant_items) == 0):\n",
    "        summed_precision = 0.0\n",
    "        for index,rank in enumerate(sorted_ranks_relevant_items):\n",
    "            summed_precision += compute_precision(index+1,rank)\n",
    "        average_precision = summed_precision/len(sorted_ranks_relevant_items)\n",
    "    return average_precision"
   ]
  },
  {
   "cell_type": "code",
   "execution_count": 14,
   "metadata": {},
   "outputs": [],
   "source": [
    "N= 10"
   ]
  },
  {
   "cell_type": "markdown",
   "metadata": {},
   "source": [
    "## Compute Per Query MAP MS MARCO"
   ]
  },
  {
   "cell_type": "code",
   "execution_count": 15,
   "metadata": {},
   "outputs": [
    {
     "name": "stderr",
     "output_type": "stream",
     "text": [
      "c:\\users\\tomjg\\appdata\\local\\programs\\python\\python35\\lib\\site-packages\\ipykernel_launcher.py:8: TqdmDeprecationWarning: This function will be removed in tqdm==5.0.0\n",
      "Please use `tqdm.notebook.tqdm` instead of `tqdm.tqdm_notebook`\n",
      "  \n"
     ]
    },
    {
     "data": {
      "application/vnd.jupyter.widget-view+json": {
       "model_id": "d7c885af79ae4d058804a6b2d02b2d1b",
       "version_major": 2,
       "version_minor": 0
      },
      "text/plain": [
       "HBox(children=(FloatProgress(value=0.0, max=43.0), HTML(value='')))"
      ]
     },
     "metadata": {},
     "output_type": "display_data"
    },
    {
     "name": "stdout",
     "output_type": "stream",
     "text": [
      "\n"
     ]
    }
   ],
   "source": [
    "bm25_map_values = []\n",
    "bert_map_values = []\n",
    "\n",
    "query_ids = get_query_ids(new_qrels2_df)\n",
    "og_qrels_subset_df = og_qrels_df[og_qrels_df['query_id'].isin(query_ids)].copy()\n",
    "\n",
    "for query_id in tqdm_notebook(query_ids):\n",
    "    bm25_subset = bm25_df[bm25_df['query_id'] == query_id].copy()\n",
    "    bert_subset = bert_df[bert_df['query_id'] == query_id].copy()\n",
    "    qrels_query_subset = og_qrels_subset_df[og_qrels_subset_df['query_id'] == query_id]\n",
    "    \n",
    "    top_n_bm25_ranking = get_top_n_ranking(bm25_subset,'bm25_rank',N)\n",
    "    top_n_bert_ranking = get_top_n_ranking(bert_subset,'bert_rank',N)\n",
    "    \n",
    "    bm25_relevant_items = get_ranks_relevant_passages(qrels_query_subset,top_n_bm25_ranking,\"bm25\")\n",
    "    bert_relevant_items = get_ranks_relevant_passages(qrels_query_subset,top_n_bert_ranking,\"bert\")\n",
    "    \n",
    "    bm25_map_values.append(compute_average_precision(bm25_relevant_items))\n",
    "    bert_map_values.append(compute_average_precision(bert_relevant_items))"
   ]
  },
  {
   "cell_type": "code",
   "execution_count": 16,
   "metadata": {},
   "outputs": [],
   "source": [
    "diff_per_query_map = []\n",
    "for index, bert_map in enumerate(bert_map_values):\n",
    "    bm25_map = bm25_map_values[index]\n",
    "    diff = bert_map - bm25_map\n",
    "    diff_per_query_map.append(diff)\n",
    "diff_per_query_map = sorted(diff_per_query_map,reverse=True)"
   ]
  },
  {
   "cell_type": "code",
   "execution_count": 17,
   "metadata": {},
   "outputs": [
    {
     "data": {
      "image/png": "[encoded data removed]",
      "text/plain": [
       "<Figure size 432x288 with 1 Axes>"
      ]
     },
     "metadata": {
      "needs_background": "light"
     },
     "output_type": "display_data"
    }
   ],
   "source": [
    "import matplotlib.pyplot as plt\n",
    "%matplotlib inline\n",
    "plt.bar(range(len(diff_per_query_map)),diff_per_query_map, color='g')\n",
    "plt.xlabel(\"Number of Queries\")\n",
    "plt.ylabel(\"AP diff\")\n",
    "plt.xlim([0,45])\n",
    "plt.ylim([-1,1])\n",
    "plt.savefig('per_query_ap_analysis_ms_marco.png', bbox_inches='tight')\n",
    "plt.show()"
   ]
  },
  {
   "cell_type": "markdown",
   "metadata": {},
   "source": [
    "## Compute Per Query MAP T=2"
   ]
  },
  {
   "cell_type": "code",
   "execution_count": 25,
   "metadata": {},
   "outputs": [
    {
     "name": "stderr",
     "output_type": "stream",
     "text": [
      "c:\\users\\tomjg\\appdata\\local\\programs\\python\\python35\\lib\\site-packages\\ipykernel_launcher.py:6: TqdmDeprecationWarning: This function will be removed in tqdm==5.0.0\n",
      "Please use `tqdm.notebook.tqdm` instead of `tqdm.tqdm_notebook`\n",
      "  \n"
     ]
    },
    {
     "data": {
      "application/vnd.jupyter.widget-view+json": {
       "model_id": "22bcc9322cb841b382de47697d784737",
       "version_major": 2,
       "version_minor": 0
      },
      "text/plain": [
       "HBox(children=(FloatProgress(value=0.0, max=43.0), HTML(value='')))"
      ]
     },
     "metadata": {},
     "output_type": "display_data"
    },
    {
     "name": "stdout",
     "output_type": "stream",
     "text": [
      "\n"
     ]
    }
   ],
   "source": [
    "bm25_map_values = []\n",
    "bert_map_values = []\n",
    "\n",
    "query_ids = get_query_ids(new_qrels2_df)\n",
    "\n",
    "for query_id in tqdm_notebook(query_ids):\n",
    "    bm25_subset = bm25_df[bm25_df['query_id'] == query_id].copy()\n",
    "    bert_subset = bert_df[bert_df['query_id'] == query_id].copy()\n",
    "    qrels_query_subset = new_qrels2_df[new_qrels2_df['query_id'] == query_id]\n",
    "    \n",
    "    top_n_bm25_ranking = get_top_n_ranking(bm25_subset,'bm25_rank',N)\n",
    "    top_n_bert_ranking = get_top_n_ranking(bert_subset,'bert_rank',N)\n",
    "    \n",
    "    bm25_relevant_items = get_ranks_relevant_passages(qrels_query_subset,top_n_bm25_ranking,\"bm25\")\n",
    "    bert_relevant_items = get_ranks_relevant_passages(qrels_query_subset,top_n_bert_ranking,\"bert\")\n",
    "    \n",
    "    bm25_map_values.append(compute_average_precision(bm25_relevant_items))\n",
    "    bert_map_values.append(compute_average_precision(bert_relevant_items))"
   ]
  },
  {
   "cell_type": "code",
   "execution_count": 26,
   "metadata": {},
   "outputs": [],
   "source": [
    "diff_per_query_map = []\n",
    "for index, bert_map in enumerate(bert_map_values):\n",
    "    bm25_map = bm25_map_values[index]\n",
    "    diff = bert_map - bm25_map\n",
    "    diff_per_query_map.append(diff)\n",
    "diff_per_query_map = sorted(diff_per_query_map,reverse=True)"
   ]
  },
  {
   "cell_type": "code",
   "execution_count": 27,
   "metadata": {},
   "outputs": [
    {
     "data": {
      "image/png": "[encoded data removed]",
      "text/plain": [
       "<Figure size 432x288 with 1 Axes>"
      ]
     },
     "metadata": {
      "needs_background": "light"
     },
     "output_type": "display_data"
    }
   ],
   "source": [
    "import matplotlib.pyplot as plt\n",
    "%matplotlib inline\n",
    "plt.bar(range(len(diff_per_query_map)),diff_per_query_map, color='g')\n",
    "plt.xlabel(\"Number of Queries\")\n",
    "plt.ylabel(\"AP diff\")\n",
    "plt.xlim([0,45])\n",
    "plt.ylim([-1,1])\n",
    "plt.savefig('per_query_ap_analysis_t2.png', bbox_inches='tight')\n",
    "plt.show()"
   ]
  },
  {
   "cell_type": "markdown",
   "metadata": {},
   "source": [
    "## Compute Per Query MAP T=3"
   ]
  },
  {
   "cell_type": "code",
   "execution_count": 21,
   "metadata": {},
   "outputs": [
    {
     "name": "stderr",
     "output_type": "stream",
     "text": [
      "c:\\users\\tomjg\\appdata\\local\\programs\\python\\python35\\lib\\site-packages\\ipykernel_launcher.py:6: TqdmDeprecationWarning: This function will be removed in tqdm==5.0.0\n",
      "Please use `tqdm.notebook.tqdm` instead of `tqdm.tqdm_notebook`\n",
      "  \n"
     ]
    },
    {
     "data": {
      "application/vnd.jupyter.widget-view+json": {
       "model_id": "3af07628c4064490aba756216558a12e",
       "version_major": 2,
       "version_minor": 0
      },
      "text/plain": [
       "HBox(children=(FloatProgress(value=0.0, max=43.0), HTML(value='')))"
      ]
     },
     "metadata": {},
     "output_type": "display_data"
    },
    {
     "name": "stdout",
     "output_type": "stream",
     "text": [
      "\n"
     ]
    }
   ],
   "source": [
    "bm25_map_values = []\n",
    "bert_map_values = []\n",
    "\n",
    "query_ids = get_query_ids(new_qrels3_df)\n",
    "\n",
    "for query_id in tqdm_notebook(query_ids):\n",
    "    bm25_subset = bm25_df[bm25_df['query_id'] == query_id].copy()\n",
    "    bert_subset = bert_df[bert_df['query_id'] == query_id].copy()\n",
    "    qrels_query_subset = new_qrels3_df[new_qrels3_df['query_id'] == query_id]\n",
    "    \n",
    "    top_n_bm25_ranking = get_top_n_ranking(bm25_subset,'bm25_rank',N)\n",
    "    top_n_bert_ranking = get_top_n_ranking(bert_subset,'bert_rank',N)\n",
    "    \n",
    "    bm25_relevant_items = get_ranks_relevant_passages(qrels_query_subset,top_n_bm25_ranking,\"bm25\")\n",
    "    bert_relevant_items = get_ranks_relevant_passages(qrels_query_subset,top_n_bert_ranking,\"bert\")\n",
    "    \n",
    "    bm25_map_values.append(compute_average_precision(bm25_relevant_items))\n",
    "    bert_map_values.append(compute_average_precision(bert_relevant_items))"
   ]
  },
  {
   "cell_type": "code",
   "execution_count": 22,
   "metadata": {},
   "outputs": [],
   "source": [
    "diff_per_query_map = []\n",
    "for index, bert_map in enumerate(bert_map_values):\n",
    "    bm25_map = bm25_map_values[index]\n",
    "    diff = bert_map - bm25_map\n",
    "    diff_per_query_map.append(diff)\n",
    "diff_per_query_map = sorted(diff_per_query_map,reverse=True)"
   ]
  },
  {
   "cell_type": "code",
   "execution_count": 24,
   "metadata": {},
   "outputs": [
    {
     "data": {
      "image/png": "[encoded data removed]",
      "text/plain": [
       "<Figure size 432x288 with 1 Axes>"
      ]
     },
     "metadata": {
      "needs_background": "light"
     },
     "output_type": "display_data"
    }
   ],
   "source": [
    "import matplotlib.pyplot as plt\n",
    "%matplotlib inline\n",
    "plt.bar(range(len(diff_per_query_map)),diff_per_query_map, color='g')\n",
    "plt.xlabel(\"Number of Queries\")\n",
    "plt.ylabel(\"AP diff\")\n",
    "plt.xlim([0,45])\n",
    "plt.ylim([-1,1])\n",
    "plt.savefig('per_query_ap_analysis_t3.png', bbox_inches='tight')\n",
    "plt.show()"
   ]
  }
 ],
 "metadata": {
  "kernelspec": {
   "display_name": "Python 3",
   "language": "python",
   "name": "python3"
  },
  "language_info": {
   "codemirror_mode": {
    "name": "ipython",
    "version": 3
   },
   "file_extension": ".py",
   "mimetype": "text/x-python",
   "name": "python",
   "nbconvert_exporter": "python",
   "pygments_lexer": "ipython3",
   "version": "3.5.4"
  }
 },
 "nbformat": 4,
 "nbformat_minor": 4
}
