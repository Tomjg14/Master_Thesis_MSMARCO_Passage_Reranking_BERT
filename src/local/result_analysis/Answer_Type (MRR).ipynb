{
 "cells": [
  {
   "cell_type": "markdown",
   "metadata": {},
   "source": [
    "## Import Libraries"
   ]
  },
  {
   "cell_type": "code",
   "execution_count": 1,
   "metadata": {},
   "outputs": [],
   "source": [
    "import pandas as pd\n",
    "import json\n",
    "import numpy as np\n",
    "from collections import Counter"
   ]
  },
  {
   "cell_type": "markdown",
   "metadata": {},
   "source": [
    "## Load Data"
   ]
  },
  {
   "cell_type": "code",
   "execution_count": 28,
   "metadata": {},
   "outputs": [],
   "source": [
    "data_dir = 'data/'\n",
    "\n",
    "query_subset_filename = 'queries.dev.small.tsv'\n",
    "\n",
    "# binary threshold (irrelevant <2; relevant >= 2)\n",
    "thesis_qrels_threshold2_filename = 'thesis_dataset_binary_threshold2.tsv'\n",
    "\n",
    "# binary theshold (irrelevant <3; relevant >= 3)\n",
    "thesis_qrels_threshold3_filename = 'thesis_dataset_binary_threshold3.tsv'\n",
    "\n",
    "# msmarco relevance file\n",
    "og_qrels_filename = 'qrels.dev.small.tsv'\n",
    "\n",
    "# BM25 top 100 ranking\n",
    "bm25_top100_filename = 'run_development_top100.tsv'\n",
    "\n",
    "# BERT top 100 ranking\n",
    "bert_top100_filename = 'bert_thesis_dataset_top100.tsv'\n",
    "\n",
    "# Experiment query ids\n",
    "thesis_query_subset = 'experiment_query_subset.tsv'"
   ]
  },
  {
   "cell_type": "code",
   "execution_count": 29,
   "metadata": {},
   "outputs": [],
   "source": [
    "bm25_df = pd.read_csv(data_dir + bm25_top100_filename,delimiter='\\t',encoding='utf-8',header=None)\n",
    "bm25_df.columns = ['query_id', 'passage_id', 'bm25_rank']\n",
    "\n",
    "bert_df = pd.read_csv(data_dir + bert_top100_filename,delimiter='\\t',encoding='utf-8',header=None)\n",
    "bert_df.columns = ['query_id', 'passage_id', 'bm25_rank', 'query', 'passage', 'bert_score', 'bert_rank']\n",
    "\n",
    "og_qrels_df = pd.read_csv(data_dir + og_qrels_filename,delimiter='\\t',encoding='utf-8',header=None)\n",
    "og_qrels_df.columns = ['query_id','label1','passage_id','label2']\n",
    "\n",
    "new_qrels2_df = pd.read_csv(data_dir + thesis_qrels_threshold2_filename,delimiter='\\t',encoding='utf-8',header=None)\n",
    "new_qrels2_df.columns = ['query_id','label1','passage_id','label2']\n",
    "\n",
    "new_qrels3_df = pd.read_csv(data_dir + thesis_qrels_threshold3_filename,delimiter='\\t',encoding='utf-8',header=None)\n",
    "new_qrels3_df.columns = ['query_id','label1','passage_id','label2']\n",
    "\n",
    "query_subset = pd.read_csv(data_dir + thesis_query_subset,delimiter='\\t',encoding='utf-8',header=None)\n",
    "query_subset.columns = ['query_id', 'query']\n",
    "\n",
    "models_dict = {\"bm25\": bm25_df, \"bert\": bert_df}\n",
    "new_qrels_dict = {\"threshold=2\": new_qrels2_df, \"threshold=3\": new_qrels3_df}\n",
    "\n",
    "query_subset = pd.read_csv(data_dir + query_subset_filename,delimiter='\\t',encoding='utf-8', header=None)\n",
    "query_subset.columns = ['query_id', 'query']"
   ]
  },
  {
   "cell_type": "code",
   "execution_count": 4,
   "metadata": {},
   "outputs": [],
   "source": [
    "firebase_answer_types = {}\n",
    "counter_answer_types = 0\n",
    "counter_no_answer_types = 0\n",
    "with open(\"data/firebase_answer_types.txt\", \"r\") as infile:\n",
    "    for line in infile:\n",
    "        if(\"\\t\" in line.rstrip()):\n",
    "            counter_answer_types += 1\n",
    "            [query_text,answer_type] = line.rstrip().split(\"\\t\")\n",
    "            firebase_answer_types[query_text] = answer_type.split(\":\")[0]\n",
    "        else:\n",
    "            if not line.rstrip() == \"\":\n",
    "                counter_no_answer_types += 1\n",
    "                firebase_answer_types[line.rstrip()] = \"\""
   ]
  },
  {
   "cell_type": "code",
   "execution_count": 5,
   "metadata": {},
   "outputs": [],
   "source": [
    "with open(\"data/manual_answer_types.txt\", \"r\", encoding='utf-8') as infile:\n",
    "    for line in infile:\n",
    "        [query_text,answer_type] = line.rstrip().split(\"\\t\")\n",
    "        firebase_answer_types[query_text] = answer_type"
   ]
  },
  {
   "cell_type": "code",
   "execution_count": 11,
   "metadata": {},
   "outputs": [],
   "source": [
    "answer_types = list(np.unique(list(firebase_answer_types.values())))"
   ]
  },
  {
   "cell_type": "markdown",
   "metadata": {},
   "source": [
    "## helper functions"
   ]
  },
  {
   "cell_type": "code",
   "execution_count": 20,
   "metadata": {},
   "outputs": [],
   "source": [
    "def get_query_ids(dataframe):\n",
    "    return list(np.unique(dataframe['query_id'].tolist()))"
   ]
  },
  {
   "cell_type": "code",
   "execution_count": 35,
   "metadata": {},
   "outputs": [],
   "source": [
    "def get_top_n_ranking(dataframe,rank_column,n):\n",
    "    top_n_ranking = dataframe[dataframe[rank_column] <= n].sort_values(by=[rank_column])\n",
    "    return top_n_ranking"
   ]
  },
  {
   "cell_type": "code",
   "execution_count": 34,
   "metadata": {},
   "outputs": [],
   "source": [
    "def get_passage_ids(dataframe):\n",
    "    relevant_passages = dataframe['passage_id'].values.tolist()\n",
    "    return relevant_passages"
   ]
  },
  {
   "cell_type": "code",
   "execution_count": 33,
   "metadata": {},
   "outputs": [],
   "source": [
    "def compute_mrr(gt,ranking,model,n):\n",
    "    score = 0.0\n",
    "    best_rank = n+1\n",
    "    for index, row in ranking.iterrows():\n",
    "        current_rank = row['%s_rank'%(model)]\n",
    "        if row['passage_id'] in gt:\n",
    "            if current_rank < best_rank:\n",
    "                score = 1.0 / (row['%s_rank'%(model)])\n",
    "                best_rank = current_rank\n",
    "    return score"
   ]
  },
  {
   "cell_type": "markdown",
   "metadata": {},
   "source": [
    "## Compute Dict for answer types and query ids"
   ]
  },
  {
   "cell_type": "code",
   "execution_count": 21,
   "metadata": {},
   "outputs": [],
   "source": [
    "query_ids = get_query_ids(query_subset)"
   ]
  },
  {
   "cell_type": "code",
   "execution_count": 31,
   "metadata": {},
   "outputs": [],
   "source": [
    "answer_type_query_id_dict = {}\n",
    "for query_id in query_ids:\n",
    "    query_text = query_subset[query_subset['query_id'] == query_id]['query'].values.tolist()[0]\n",
    "    answer_type = firebase_answer_types[query_text]\n",
    "    if not answer_type in answer_type_query_id_dict.keys():\n",
    "        answer_type_query_id_dict[answer_type] = [query_id]\n",
    "    else:\n",
    "        answer_type_query_id_dict[answer_type].append(query_id)"
   ]
  },
  {
   "cell_type": "code",
   "execution_count": 52,
   "metadata": {},
   "outputs": [
    {
     "name": "stdout",
     "output_type": "stream",
     "text": [
      "DESC\n",
      "26\n",
      "ENTY\n",
      "1\n",
      "HUM\n",
      "3\n",
      "LOC\n",
      "1\n",
      "NUM\n",
      "12\n"
     ]
    }
   ],
   "source": [
    "for answer_type in answer_types:\n",
    "    print(answer_type)\n",
    "    print(len(answer_type_query_id_dict[answer_type]))"
   ]
  },
  {
   "cell_type": "markdown",
   "metadata": {},
   "source": [
    "## Compute Average MRR per answer type"
   ]
  },
  {
   "cell_type": "code",
   "execution_count": 36,
   "metadata": {},
   "outputs": [],
   "source": [
    "N = 10"
   ]
  },
  {
   "cell_type": "code",
   "execution_count": 39,
   "metadata": {},
   "outputs": [],
   "source": [
    "# Irrelevant < 2; relevant >= 2\n",
    "binary_threshold = 2\n",
    "\n",
    "model = \"bm25\"\n",
    "\n",
    "model_df = models_dict[model].copy()\n",
    "\n",
    "# Get new relevance dataset\n",
    "new_qrels_df = new_qrels_dict[\"threshold=%s\"%(binary_threshold)].copy()\n",
    "\n",
    "og_mrr_answer_type = {}\n",
    "new_mrr_answer_type = {}\n",
    "\n",
    "for answer_type in answer_types:\n",
    "    query_ids = answer_type_query_id_dict[answer_type]\n",
    "    og_qrels_subset_df = og_qrels_df[og_qrels_df['query_id'].isin(query_ids)].copy()\n",
    "    model_subset_df = model_df[model_df['query_id'].isin(query_ids)].copy()\n",
    "    \n",
    "    og_mrr = 0.0\n",
    "    new_mrr = 0.0\n",
    "    \n",
    "    for query_id in query_ids:\n",
    "        # Get query specific ranking and relevance datasets\n",
    "        query_subset = model_subset_df[model_subset_df['query_id'] == query_id].copy()\n",
    "        og_qrels_query_subset = og_qrels_subset_df[og_qrels_subset_df['query_id'] == query_id]\n",
    "        new_qrels_query_subset = new_qrels_df[new_qrels_df['query_id'] == query_id]\n",
    "    \n",
    "        top_n_ranking = get_top_n_ranking(query_subset,'%s_rank'%(model),N)\n",
    "    \n",
    "        og_relevant_passages = get_passage_ids(og_qrels_query_subset)\n",
    "        new_relevant_passages = get_passage_ids(new_qrels_query_subset)\n",
    "    \n",
    "        og_mrr += compute_mrr(og_relevant_passages,top_n_ranking,model,N)\n",
    "        new_mrr += compute_mrr(new_relevant_passages,top_n_ranking,model,N)\n",
    "    \n",
    "    og_mrr_answer_type[answer_type] = round((og_mrr/len(query_ids)),2)\n",
    "    new_mrr_answer_type[answer_type] = round((new_mrr/len(query_ids)),2)"
   ]
  },
  {
   "cell_type": "code",
   "execution_count": 40,
   "metadata": {},
   "outputs": [
    {
     "data": {
      "text/plain": [
       "{'DESC': 0.45, 'ENTY': 1.0, 'HUM': 0.67, 'LOC': 0.5, 'NUM': 0.36}"
      ]
     },
     "execution_count": 40,
     "metadata": {},
     "output_type": "execute_result"
    }
   ],
   "source": [
    "og_mrr_answer_type"
   ]
  },
  {
   "cell_type": "code",
   "execution_count": 41,
   "metadata": {},
   "outputs": [
    {
     "data": {
      "text/plain": [
       "{'DESC': 0.96, 'ENTY': 1.0, 'HUM': 1.0, 'LOC': 1.0, 'NUM': 1.0}"
      ]
     },
     "execution_count": 41,
     "metadata": {},
     "output_type": "execute_result"
    }
   ],
   "source": [
    "new_mrr_answer_type"
   ]
  },
  {
   "cell_type": "code",
   "execution_count": 42,
   "metadata": {},
   "outputs": [],
   "source": [
    "# Irrelevant < 2; relevant >= 2\n",
    "binary_threshold = 2\n",
    "\n",
    "model = \"bert\"\n",
    "\n",
    "model_df = models_dict[model].copy()\n",
    "\n",
    "# Get new relevance dataset\n",
    "new_qrels_df = new_qrels_dict[\"threshold=%s\"%(binary_threshold)].copy()\n",
    "\n",
    "og_mrr_answer_type = {}\n",
    "new_mrr_answer_type = {}\n",
    "\n",
    "for answer_type in answer_types:\n",
    "    query_ids = answer_type_query_id_dict[answer_type]\n",
    "    og_qrels_subset_df = og_qrels_df[og_qrels_df['query_id'].isin(query_ids)].copy()\n",
    "    model_subset_df = model_df[model_df['query_id'].isin(query_ids)].copy()\n",
    "    \n",
    "    og_mrr = 0.0\n",
    "    new_mrr = 0.0\n",
    "    \n",
    "    for query_id in query_ids:\n",
    "        # Get query specific ranking and relevance datasets\n",
    "        query_subset = model_subset_df[model_subset_df['query_id'] == query_id].copy()\n",
    "        og_qrels_query_subset = og_qrels_subset_df[og_qrels_subset_df['query_id'] == query_id]\n",
    "        new_qrels_query_subset = new_qrels_df[new_qrels_df['query_id'] == query_id]\n",
    "    \n",
    "        top_n_ranking = get_top_n_ranking(query_subset,'%s_rank'%(model),N)\n",
    "    \n",
    "        og_relevant_passages = get_passage_ids(og_qrels_query_subset)\n",
    "        new_relevant_passages = get_passage_ids(new_qrels_query_subset)\n",
    "    \n",
    "        og_mrr += compute_mrr(og_relevant_passages,top_n_ranking,model,N)\n",
    "        new_mrr += compute_mrr(new_relevant_passages,top_n_ranking,model,N)\n",
    "    \n",
    "    og_mrr_answer_type[answer_type] = round((og_mrr/len(query_ids)),2)\n",
    "    new_mrr_answer_type[answer_type] = round((new_mrr/len(query_ids)),2)"
   ]
  },
  {
   "cell_type": "code",
   "execution_count": 43,
   "metadata": {},
   "outputs": [
    {
     "data": {
      "text/plain": [
       "{'DESC': 0.71, 'ENTY': 0.5, 'HUM': 0.78, 'LOC': 0.5, 'NUM': 0.64}"
      ]
     },
     "execution_count": 43,
     "metadata": {},
     "output_type": "execute_result"
    }
   ],
   "source": [
    "og_mrr_answer_type"
   ]
  },
  {
   "cell_type": "code",
   "execution_count": 44,
   "metadata": {},
   "outputs": [
    {
     "data": {
      "text/plain": [
       "{'DESC': 0.98, 'ENTY': 1.0, 'HUM': 0.78, 'LOC': 1.0, 'NUM': 0.79}"
      ]
     },
     "execution_count": 44,
     "metadata": {},
     "output_type": "execute_result"
    }
   ],
   "source": [
    "new_mrr_answer_type"
   ]
  },
  {
   "cell_type": "code",
   "execution_count": 45,
   "metadata": {},
   "outputs": [],
   "source": [
    "# Irrelevant < 3; relevant >= 3\n",
    "binary_threshold = 3\n",
    "\n",
    "model = \"bm25\"\n",
    "\n",
    "model_df = models_dict[model].copy()\n",
    "\n",
    "# Get new relevance dataset\n",
    "new_qrels_df = new_qrels_dict[\"threshold=%s\"%(binary_threshold)].copy()\n",
    "\n",
    "og_mrr_answer_type = {}\n",
    "new_mrr_answer_type = {}\n",
    "\n",
    "for answer_type in answer_types:\n",
    "    query_ids = answer_type_query_id_dict[answer_type]\n",
    "    og_qrels_subset_df = og_qrels_df[og_qrels_df['query_id'].isin(query_ids)].copy()\n",
    "    model_subset_df = model_df[model_df['query_id'].isin(query_ids)].copy()\n",
    "    \n",
    "    og_mrr = 0.0\n",
    "    new_mrr = 0.0\n",
    "    \n",
    "    for query_id in query_ids:\n",
    "        # Get query specific ranking and relevance datasets\n",
    "        query_subset = model_subset_df[model_subset_df['query_id'] == query_id].copy()\n",
    "        og_qrels_query_subset = og_qrels_subset_df[og_qrels_subset_df['query_id'] == query_id]\n",
    "        new_qrels_query_subset = new_qrels_df[new_qrels_df['query_id'] == query_id]\n",
    "    \n",
    "        top_n_ranking = get_top_n_ranking(query_subset,'%s_rank'%(model),N)\n",
    "    \n",
    "        og_relevant_passages = get_passage_ids(og_qrels_query_subset)\n",
    "        new_relevant_passages = get_passage_ids(new_qrels_query_subset)\n",
    "    \n",
    "        og_mrr += compute_mrr(og_relevant_passages,top_n_ranking,model,N)\n",
    "        new_mrr += compute_mrr(new_relevant_passages,top_n_ranking,model,N)\n",
    "    \n",
    "    og_mrr_answer_type[answer_type] = round((og_mrr/len(query_ids)),2)\n",
    "    new_mrr_answer_type[answer_type] = round((new_mrr/len(query_ids)),2)"
   ]
  },
  {
   "cell_type": "code",
   "execution_count": 46,
   "metadata": {},
   "outputs": [
    {
     "data": {
      "text/plain": [
       "{'DESC': 0.45, 'ENTY': 1.0, 'HUM': 0.67, 'LOC': 0.5, 'NUM': 0.36}"
      ]
     },
     "execution_count": 46,
     "metadata": {},
     "output_type": "execute_result"
    }
   ],
   "source": [
    "og_mrr_answer_type"
   ]
  },
  {
   "cell_type": "code",
   "execution_count": 47,
   "metadata": {},
   "outputs": [
    {
     "data": {
      "text/plain": [
       "{'DESC': 0.92, 'ENTY': 1.0, 'HUM': 1.0, 'LOC': 1.0, 'NUM': 0.83}"
      ]
     },
     "execution_count": 47,
     "metadata": {},
     "output_type": "execute_result"
    }
   ],
   "source": [
    "new_mrr_answer_type"
   ]
  },
  {
   "cell_type": "code",
   "execution_count": 48,
   "metadata": {},
   "outputs": [],
   "source": [
    "# Irrelevant < 3; relevant >= 3\n",
    "binary_threshold = 3\n",
    "\n",
    "model = \"bert\"\n",
    "\n",
    "model_df = models_dict[model].copy()\n",
    "\n",
    "# Get new relevance dataset\n",
    "new_qrels_df = new_qrels_dict[\"threshold=%s\"%(binary_threshold)].copy()\n",
    "\n",
    "og_mrr_answer_type = {}\n",
    "new_mrr_answer_type = {}\n",
    "\n",
    "for answer_type in answer_types:\n",
    "    query_ids = answer_type_query_id_dict[answer_type]\n",
    "    og_qrels_subset_df = og_qrels_df[og_qrels_df['query_id'].isin(query_ids)].copy()\n",
    "    model_subset_df = model_df[model_df['query_id'].isin(query_ids)].copy()\n",
    "    \n",
    "    og_mrr = 0.0\n",
    "    new_mrr = 0.0\n",
    "    \n",
    "    for query_id in query_ids:\n",
    "        # Get query specific ranking and relevance datasets\n",
    "        query_subset = model_subset_df[model_subset_df['query_id'] == query_id].copy()\n",
    "        og_qrels_query_subset = og_qrels_subset_df[og_qrels_subset_df['query_id'] == query_id]\n",
    "        new_qrels_query_subset = new_qrels_df[new_qrels_df['query_id'] == query_id]\n",
    "    \n",
    "        top_n_ranking = get_top_n_ranking(query_subset,'%s_rank'%(model),N)\n",
    "    \n",
    "        og_relevant_passages = get_passage_ids(og_qrels_query_subset)\n",
    "        new_relevant_passages = get_passage_ids(new_qrels_query_subset)\n",
    "    \n",
    "        og_mrr += compute_mrr(og_relevant_passages,top_n_ranking,model,N)\n",
    "        new_mrr += compute_mrr(new_relevant_passages,top_n_ranking,model,N)\n",
    "    \n",
    "    og_mrr_answer_type[answer_type] = round((og_mrr/len(query_ids)),2)\n",
    "    new_mrr_answer_type[answer_type] = round((new_mrr/len(query_ids)),2)"
   ]
  },
  {
   "cell_type": "code",
   "execution_count": 49,
   "metadata": {},
   "outputs": [
    {
     "data": {
      "text/plain": [
       "{'DESC': 0.71, 'ENTY': 0.5, 'HUM': 0.78, 'LOC': 0.5, 'NUM': 0.64}"
      ]
     },
     "execution_count": 49,
     "metadata": {},
     "output_type": "execute_result"
    }
   ],
   "source": [
    "og_mrr_answer_type"
   ]
  },
  {
   "cell_type": "code",
   "execution_count": 50,
   "metadata": {},
   "outputs": [
    {
     "data": {
      "text/plain": [
       "{'DESC': 0.94, 'ENTY': 1.0, 'HUM': 0.78, 'LOC': 1.0, 'NUM': 0.77}"
      ]
     },
     "execution_count": 50,
     "metadata": {},
     "output_type": "execute_result"
    }
   ],
   "source": [
    "new_mrr_answer_type "
   ]
  }
 ],
 "metadata": {
  "kernelspec": {
   "display_name": "Python 3",
   "language": "python",
   "name": "python3"
  },
  "language_info": {
   "codemirror_mode": {
    "name": "ipython",
    "version": 3
   },
   "file_extension": ".py",
   "mimetype": "text/x-python",
   "name": "python",
   "nbconvert_exporter": "python",
   "pygments_lexer": "ipython3",
   "version": "3.5.4"
  }
 },
 "nbformat": 4,
 "nbformat_minor": 4
}
