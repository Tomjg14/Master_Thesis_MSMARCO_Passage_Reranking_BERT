{
 "cells": [
  {
   "cell_type": "markdown",
   "metadata": {},
   "source": [
    "This notebook will help to compute the MAP for the BM25 ranking with hits=1000 to check if I achieve the same MAP score as with the anserini msmarco_eval script."
   ]
  },
  {
   "cell_type": "markdown",
   "metadata": {},
   "source": [
    "## Import Libraries"
   ]
  },
  {
   "cell_type": "code",
   "execution_count": 1,
   "metadata": {},
   "outputs": [],
   "source": [
    "import pandas as pd\n",
    "import numpy as np\n",
    "from os import listdir\n",
    "from os.path import isfile, join\n",
    "from tqdm.auto import tqdm \n",
    "from tqdm import tqdm_notebook"
   ]
  },
  {
   "cell_type": "markdown",
   "metadata": {},
   "source": [
    "## Load Data"
   ]
  },
  {
   "cell_type": "code",
   "execution_count": 2,
   "metadata": {},
   "outputs": [],
   "source": [
    "data_dir = 'data/'\n",
    "\n",
    "# msmarco relevance file\n",
    "og_qrels_filename = 'qrels.dev.small.tsv'\n",
    "\n",
    "# BM25 top 1000 ranking\n",
    "bm25_top1000_filename = 'run_development_small_top1000.15.5.2020.tsv'"
   ]
  },
  {
   "cell_type": "code",
   "execution_count": 4,
   "metadata": {},
   "outputs": [],
   "source": [
    "bm25_df = pd.read_csv(data_dir + bm25_top1000_filename,delimiter='\\t',encoding='utf-8',header=None)\n",
    "bm25_df.columns = ['query_id', 'passage_id', 'bm25_rank']\n",
    "\n",
    "og_qrels_df = pd.read_csv(data_dir + og_qrels_filename,delimiter='\\t',encoding='utf-8',header=None)\n",
    "og_qrels_df.columns = ['query_id','label1','passage_id','label2']"
   ]
  },
  {
   "cell_type": "markdown",
   "metadata": {},
   "source": [
    "## Helper Functions"
   ]
  },
  {
   "cell_type": "code",
   "execution_count": 5,
   "metadata": {},
   "outputs": [],
   "source": [
    "def get_query_ids(dataframe):\n",
    "    return list(np.unique(dataframe['query_id'].tolist()))"
   ]
  },
  {
   "cell_type": "code",
   "execution_count": 6,
   "metadata": {},
   "outputs": [],
   "source": [
    "def get_top_n_ranking(dataframe,rank_column,n):\n",
    "    top_n_ranking = dataframe[dataframe[rank_column] <= n].sort_values(by=[rank_column])\n",
    "    return top_n_ranking"
   ]
  },
  {
   "cell_type": "code",
   "execution_count": 7,
   "metadata": {},
   "outputs": [],
   "source": [
    "def get_ranks_relevant_passages(qrels_query_subset,top_n_ranking,model):\n",
    "    ranks_relevant_items = sorted(qrels_query_subset.merge(top_n_ranking,how='left',on=['query_id','passage_id'])['%s_rank'%(model)].values.tolist())\n",
    "    cleaned_rank_relevant_items = sorted([int(item) for item in ranks_relevant_items if ~np.isnan(item)])\n",
    "    return cleaned_rank_relevant_items"
   ]
  },
  {
   "cell_type": "code",
   "execution_count": 8,
   "metadata": {},
   "outputs": [],
   "source": [
    "def compute_precision(index,rank):\n",
    "    precision = index/rank\n",
    "    return precision"
   ]
  },
  {
   "cell_type": "code",
   "execution_count": 9,
   "metadata": {},
   "outputs": [],
   "source": [
    "def compute_average_precision(sorted_ranks_relevant_items):\n",
    "    average_precision = 0.0\n",
    "    if not (len(sorted_ranks_relevant_items) == 0):\n",
    "        summed_precision = 0.0\n",
    "        for index,rank in enumerate(sorted_ranks_relevant_items):\n",
    "            summed_precision += compute_precision(index+1,rank)\n",
    "        average_precision = summed_precision/len(sorted_ranks_relevant_items)\n",
    "    return average_precision"
   ]
  },
  {
   "cell_type": "markdown",
   "metadata": {},
   "source": [
    "## Settings"
   ]
  },
  {
   "cell_type": "code",
   "execution_count": 10,
   "metadata": {},
   "outputs": [],
   "source": [
    "N = 1000"
   ]
  },
  {
   "cell_type": "code",
   "execution_count": 24,
   "metadata": {},
   "outputs": [
    {
     "name": "stderr",
     "output_type": "stream",
     "text": [
      "c:\\users\\tomjg\\appdata\\local\\programs\\python\\python35\\lib\\site-packages\\ipykernel_launcher.py:10: TqdmDeprecationWarning: This function will be removed in tqdm==5.0.0\n",
      "Please use `tqdm.notebook.tqdm` instead of `tqdm.tqdm_notebook`\n",
      "  # Remove the CWD from sys.path while we load stuff.\n"
     ]
    },
    {
     "data": {
      "application/vnd.jupyter.widget-view+json": {
       "model_id": "8cdc66084ca8431588a5ec9762aa2157",
       "version_major": 2,
       "version_minor": 0
      },
      "text/plain": [
       "HBox(children=(FloatProgress(value=0.0, max=6980.0), HTML(value='')))"
      ]
     },
     "metadata": {},
     "output_type": "display_data"
    },
    {
     "name": "stdout",
     "output_type": "stream",
     "text": [
      "\n"
     ]
    }
   ],
   "source": [
    "model = \"bm25\"\n",
    "\n",
    "og_map = 0.0\n",
    "\n",
    "# The new relevance dataset contains less query ids than the original msmarco dataset.\n",
    "# So get these query ids and use them to create subsets of the original dataset and the bm25 output.\n",
    "query_ids = get_query_ids(og_qrels_df)\n",
    "model_subset_df = bm25_df[bm25_df['query_id'].isin(query_ids)].copy()\n",
    "\n",
    "for query_id in tqdm_notebook(query_ids):\n",
    "    # Get query specific ranking and relevance datasets\n",
    "    query_subset = model_subset_df[model_subset_df['query_id'] == query_id].copy()\n",
    "    og_qrels_query_subset = og_qrels_df[og_qrels_df['query_id'] == query_id]\n",
    "    \n",
    "    top_n_ranking = get_top_n_ranking(query_subset,'%s_rank'%(model),N)\n",
    "    \n",
    "    og_ranks_relevant_items = get_ranks_relevant_passages(og_qrels_query_subset,top_n_ranking,model)\n",
    "    \n",
    "    og_map += compute_average_precision(og_ranks_relevant_items)\n",
    "    \n",
    "og_map = round((og_map/len(query_ids))*100,2)"
   ]
  },
  {
   "cell_type": "code",
   "execution_count": 25,
   "metadata": {},
   "outputs": [
    {
     "data": {
      "text/plain": [
       "19.6"
      ]
     },
     "execution_count": 25,
     "metadata": {},
     "output_type": "execute_result"
    }
   ],
   "source": [
    "og_map"
   ]
  },
  {
   "cell_type": "markdown",
   "metadata": {},
   "source": [
    "I achieve the same result as with trec_eval, which validates my implementation of MAP."
   ]
  }
 ],
 "metadata": {
  "kernelspec": {
   "display_name": "Python 3",
   "language": "python",
   "name": "python3"
  },
  "language_info": {
   "codemirror_mode": {
    "name": "ipython",
    "version": 3
   },
   "file_extension": ".py",
   "mimetype": "text/x-python",
   "name": "python",
   "nbconvert_exporter": "python",
   "pygments_lexer": "ipython3",
   "version": "3.5.4"
  }
 },
 "nbformat": 4,
 "nbformat_minor": 4
}
