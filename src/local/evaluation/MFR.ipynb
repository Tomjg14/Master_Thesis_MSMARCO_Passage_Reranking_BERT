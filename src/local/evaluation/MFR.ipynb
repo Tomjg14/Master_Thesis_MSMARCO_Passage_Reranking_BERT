{
 "cells": [
  {
   "cell_type": "markdown",
   "metadata": {},
   "source": [
    "This notebook will help to compute the MRR for the BERT re-ranking on the MS MARCO dataset making use of both the old relevance label dataset and the newly acquired relevance label dataset. "
   ]
  },
  {
   "cell_type": "markdown",
   "metadata": {},
   "source": [
    "## Import Libraries"
   ]
  },
  {
   "cell_type": "code",
   "execution_count": 1,
   "metadata": {},
   "outputs": [],
   "source": [
    "import pandas as pd\n",
    "import numpy as np\n",
    "from os import listdir\n",
    "from os.path import isfile, join\n",
    "from tqdm.auto import tqdm \n",
    "from tqdm import tqdm_notebook"
   ]
  },
  {
   "cell_type": "markdown",
   "metadata": {},
   "source": [
    "## Load Data"
   ]
  },
  {
   "cell_type": "code",
   "execution_count": 2,
   "metadata": {},
   "outputs": [],
   "source": [
    "data_dir = 'data/'\n",
    "\n",
    "# binary threshold (irrelevant <2; relevant >= 2)\n",
    "thesis_qrels_threshold2_filename = 'thesis_dataset_binary_threshold2.tsv'\n",
    "\n",
    "# binary theshold (irrelevant <3; relevant >= 3)\n",
    "thesis_qrels_threshold3_filename = 'thesis_dataset_binary_threshold3.tsv'\n",
    "\n",
    "# msmarco relevance file\n",
    "og_qrels_filename = 'qrels.dev.small.tsv'\n",
    "\n",
    "# BM25 top 100 ranking\n",
    "bm25_top100_filename = 'run_development_top100.tsv'\n",
    "\n",
    "# BERT top 100 ranking\n",
    "bert_top100_filename = 'bert_thesis_dataset_top100.tsv'"
   ]
  },
  {
   "cell_type": "code",
   "execution_count": 3,
   "metadata": {},
   "outputs": [],
   "source": [
    "bm25_df = pd.read_csv(data_dir + bm25_top100_filename,delimiter='\\t',encoding='utf-8',header=None)\n",
    "bm25_df.columns = ['query_id', 'passage_id', 'bm25_rank']\n",
    "\n",
    "bert_df = pd.read_csv(data_dir + bert_top100_filename,delimiter='\\t',encoding='utf-8',header=None)\n",
    "bert_df.columns = ['query_id', 'passage_id', 'bm25_rank', 'query', 'passage', 'bert_score', 'bert_rank']\n",
    "\n",
    "og_qrels_df = pd.read_csv(data_dir + og_qrels_filename,delimiter='\\t',encoding='utf-8',header=None)\n",
    "og_qrels_df.columns = ['query_id','label1','passage_id','label2']\n",
    "\n",
    "new_qrels2_df = pd.read_csv(data_dir + thesis_qrels_threshold2_filename,delimiter='\\t',encoding='utf-8',header=None)\n",
    "new_qrels2_df.columns = ['query_id','label1','passage_id','label2']\n",
    "\n",
    "new_qrels3_df = pd.read_csv(data_dir + thesis_qrels_threshold3_filename,delimiter='\\t',encoding='utf-8',header=None)\n",
    "new_qrels3_df.columns = ['query_id','label1','passage_id','label2']\n",
    "\n",
    "models_dict = {\"bm25\": bm25_df, \"bert\": bert_df}\n",
    "new_qrels_dict = {\"threshold=2\": new_qrels2_df, \"threshold=3\": new_qrels3_df}"
   ]
  },
  {
   "cell_type": "markdown",
   "metadata": {},
   "source": [
    "## Helper Functions"
   ]
  },
  {
   "cell_type": "code",
   "execution_count": 4,
   "metadata": {},
   "outputs": [],
   "source": [
    "def get_query_ids(dataframe):\n",
    "    return list(np.unique(dataframe['query_id'].tolist()))"
   ]
  },
  {
   "cell_type": "code",
   "execution_count": 5,
   "metadata": {},
   "outputs": [],
   "source": [
    "def get_top_n_ranking(dataframe,rank_column,n):\n",
    "    top_n_ranking = dataframe[dataframe[rank_column] <= n].sort_values(by=[rank_column])\n",
    "    return top_n_ranking"
   ]
  },
  {
   "cell_type": "code",
   "execution_count": 6,
   "metadata": {},
   "outputs": [],
   "source": [
    "def get_passage_ids(dataframe):\n",
    "    relevant_passages = dataframe['passage_id'].values.tolist()\n",
    "    return relevant_passages"
   ]
  },
  {
   "cell_type": "code",
   "execution_count": 7,
   "metadata": {},
   "outputs": [],
   "source": [
    "def compute_mfr(gt,ranking,model,n):\n",
    "    score = n+1\n",
    "    best_rank = n+1\n",
    "    for index, row in ranking.iterrows():\n",
    "        current_rank = row['%s_rank'%(model)]\n",
    "        if row['passage_id'] in gt:\n",
    "            if current_rank < best_rank:\n",
    "                score = row['%s_rank'%(model)]\n",
    "                best_rank = current_rank\n",
    "    return score"
   ]
  },
  {
   "cell_type": "markdown",
   "metadata": {},
   "source": [
    "## Settings"
   ]
  },
  {
   "cell_type": "code",
   "execution_count": 8,
   "metadata": {},
   "outputs": [],
   "source": [
    "N = 5"
   ]
  },
  {
   "cell_type": "markdown",
   "metadata": {},
   "source": [
    "# Evaluate BM25"
   ]
  },
  {
   "cell_type": "markdown",
   "metadata": {},
   "source": [
    "## Compute MRR (threshold = 2)"
   ]
  },
  {
   "cell_type": "code",
   "execution_count": 9,
   "metadata": {},
   "outputs": [
    {
     "name": "stderr",
     "output_type": "stream",
     "text": [
      "c:\\users\\tomjg\\appdata\\local\\programs\\python\\python35\\lib\\site-packages\\ipykernel_launcher.py:22: TqdmDeprecationWarning: This function will be removed in tqdm==5.0.0\n",
      "Please use `tqdm.notebook.tqdm` instead of `tqdm.tqdm_notebook`\n"
     ]
    },
    {
     "data": {
      "application/vnd.jupyter.widget-view+json": {
       "model_id": "f26cfa4bb4c44c1fa898df2d7733900b",
       "version_major": 2,
       "version_minor": 0
      },
      "text/plain": [
       "HBox(children=(FloatProgress(value=0.0, max=43.0), HTML(value='')))"
      ]
     },
     "metadata": {},
     "output_type": "display_data"
    },
    {
     "name": "stdout",
     "output_type": "stream",
     "text": [
      "\n"
     ]
    }
   ],
   "source": [
    "# Irrelevant < 2; relevant >= 2\n",
    "binary_threshold = 2\n",
    "\n",
    "model = \"bm25\"\n",
    "\n",
    "model_df = models_dict[model].copy()\n",
    "\n",
    "# Get new relevance dataset\n",
    "new_qrels_df = new_qrels_dict[\"threshold=%s\"%(binary_threshold)].copy()\n",
    "\n",
    "# Original MRR and new MRR set to zero\n",
    "# Original == ms marco relevance dataset; new == new relevance dataset\n",
    "og_mfr = 0.0\n",
    "new_mfr = 0.0\n",
    "\n",
    "# The new relevance dataset contains less query ids than the original msmarco dataset.\n",
    "# So get these query ids and use them to create subsets of the original dataset and the bm25 output.\n",
    "query_ids = get_query_ids(new_qrels_df)\n",
    "og_qrels_subset_df = og_qrels_df[og_qrels_df['query_id'].isin(query_ids)].copy()\n",
    "model_subset_df = model_df[model_df['query_id'].isin(query_ids)].copy()\n",
    "\n",
    "for query_id in tqdm_notebook(query_ids):\n",
    "    # Get query specific ranking and relevance datasets\n",
    "    query_subset = model_subset_df[model_subset_df['query_id'] == query_id].copy()\n",
    "    og_qrels_query_subset = og_qrels_subset_df[og_qrels_subset_df['query_id'] == query_id]\n",
    "    new_qrels_query_subset = new_qrels_df[new_qrels_df['query_id'] == query_id]\n",
    "    \n",
    "    top_n_ranking = get_top_n_ranking(query_subset,'%s_rank'%(model),N)\n",
    "    \n",
    "    og_relevant_passages = get_passage_ids(og_qrels_query_subset)\n",
    "    new_relevant_passages = get_passage_ids(new_qrels_query_subset)\n",
    "    \n",
    "    og_mfr += compute_mfr(og_relevant_passages,top_n_ranking,model,N)\n",
    "    new_mfr += compute_mfr(new_relevant_passages,top_n_ranking,model,N)\n",
    "    \n",
    "og_mfr = round((og_mfr/len(query_ids)),2)\n",
    "new_mfr = round((new_mfr/len(query_ids)),2)"
   ]
  },
  {
   "cell_type": "code",
   "execution_count": 10,
   "metadata": {},
   "outputs": [
    {
     "name": "stdout",
     "output_type": "stream",
     "text": [
      "3.44\n"
     ]
    }
   ],
   "source": [
    "print(og_mfr)"
   ]
  },
  {
   "cell_type": "code",
   "execution_count": 11,
   "metadata": {},
   "outputs": [
    {
     "name": "stdout",
     "output_type": "stream",
     "text": [
      "1.05\n"
     ]
    }
   ],
   "source": [
    "print(new_mfr)"
   ]
  },
  {
   "cell_type": "code",
   "execution_count": 12,
   "metadata": {},
   "outputs": [
    {
     "name": "stdout",
     "output_type": "stream",
     "text": [
      "43\n"
     ]
    }
   ],
   "source": [
    "print(len(query_ids))"
   ]
  },
  {
   "cell_type": "markdown",
   "metadata": {},
   "source": [
    "## Compute MRR (threshold = 3)"
   ]
  },
  {
   "cell_type": "code",
   "execution_count": 13,
   "metadata": {},
   "outputs": [
    {
     "name": "stderr",
     "output_type": "stream",
     "text": [
      "c:\\users\\tomjg\\appdata\\local\\programs\\python\\python35\\lib\\site-packages\\ipykernel_launcher.py:22: TqdmDeprecationWarning: This function will be removed in tqdm==5.0.0\n",
      "Please use `tqdm.notebook.tqdm` instead of `tqdm.tqdm_notebook`\n"
     ]
    },
    {
     "data": {
      "application/vnd.jupyter.widget-view+json": {
       "model_id": "b4a16bb90a164d2898cf06a6849b38cd",
       "version_major": 2,
       "version_minor": 0
      },
      "text/plain": [
       "HBox(children=(FloatProgress(value=0.0, max=43.0), HTML(value='')))"
      ]
     },
     "metadata": {},
     "output_type": "display_data"
    },
    {
     "name": "stdout",
     "output_type": "stream",
     "text": [
      "\n"
     ]
    }
   ],
   "source": [
    "# Irrelevant < 3; relevant >= 3\n",
    "binary_threshold = 3\n",
    "\n",
    "model = \"bm25\"\n",
    "\n",
    "model_df = models_dict[model].copy()\n",
    "\n",
    "# Get new relevance dataset\n",
    "new_qrels_df = new_qrels_dict[\"threshold=%s\"%(binary_threshold)].copy()\n",
    "\n",
    "# Original MRR and new MRR set to zero\n",
    "# Original == ms marco relevance dataset; new == new relevance dataset\n",
    "og_mfr = 0.0\n",
    "new_mfr = 0.0\n",
    "\n",
    "# The new relevance dataset contains less query ids than the original msmarco dataset.\n",
    "# So get these query ids and use them to create subsets of the original dataset and the bm25 output.\n",
    "query_ids = get_query_ids(new_qrels_df)\n",
    "og_qrels_subset_df = og_qrels_df[og_qrels_df['query_id'].isin(query_ids)].copy()\n",
    "model_subset_df = model_df[model_df['query_id'].isin(query_ids)].copy()\n",
    "\n",
    "for query_id in tqdm_notebook(query_ids):\n",
    "    # Get query specific ranking and relevance datasets\n",
    "    query_subset = model_subset_df[model_subset_df['query_id'] == query_id].copy()\n",
    "    og_qrels_query_subset = og_qrels_subset_df[og_qrels_subset_df['query_id'] == query_id]\n",
    "    new_qrels_query_subset = new_qrels_df[new_qrels_df['query_id'] == query_id]\n",
    "    \n",
    "    top_n_ranking = get_top_n_ranking(query_subset,'%s_rank'%(model),N)\n",
    "    \n",
    "    og_relevant_passages = get_passage_ids(og_qrels_query_subset)\n",
    "    new_relevant_passages = get_passage_ids(new_qrels_query_subset)\n",
    "    \n",
    "    og_mfr += compute_mfr(og_relevant_passages,top_n_ranking,model,N)\n",
    "    new_mfr += compute_mfr(new_relevant_passages,top_n_ranking,model,N)\n",
    "    \n",
    "og_mfr = round((og_mfr/len(query_ids)),2)\n",
    "new_mfr = round((new_mfr/len(query_ids)),2)"
   ]
  },
  {
   "cell_type": "code",
   "execution_count": 14,
   "metadata": {},
   "outputs": [
    {
     "name": "stdout",
     "output_type": "stream",
     "text": [
      "3.44\n"
     ]
    }
   ],
   "source": [
    "print(og_mfr)"
   ]
  },
  {
   "cell_type": "code",
   "execution_count": 15,
   "metadata": {},
   "outputs": [
    {
     "name": "stdout",
     "output_type": "stream",
     "text": [
      "1.26\n"
     ]
    }
   ],
   "source": [
    "print(new_mfr)"
   ]
  },
  {
   "cell_type": "code",
   "execution_count": 16,
   "metadata": {},
   "outputs": [
    {
     "name": "stdout",
     "output_type": "stream",
     "text": [
      "43\n"
     ]
    }
   ],
   "source": [
    "print(len(query_ids))"
   ]
  },
  {
   "cell_type": "markdown",
   "metadata": {},
   "source": [
    "# Evaluate BERT"
   ]
  },
  {
   "cell_type": "markdown",
   "metadata": {},
   "source": [
    "## Compute MFR (threshold = 2)"
   ]
  },
  {
   "cell_type": "code",
   "execution_count": 17,
   "metadata": {},
   "outputs": [
    {
     "name": "stderr",
     "output_type": "stream",
     "text": [
      "c:\\users\\tomjg\\appdata\\local\\programs\\python\\python35\\lib\\site-packages\\ipykernel_launcher.py:22: TqdmDeprecationWarning: This function will be removed in tqdm==5.0.0\n",
      "Please use `tqdm.notebook.tqdm` instead of `tqdm.tqdm_notebook`\n"
     ]
    },
    {
     "data": {
      "application/vnd.jupyter.widget-view+json": {
       "model_id": "90c481ab84934e3d8c6546a3519d80f3",
       "version_major": 2,
       "version_minor": 0
      },
      "text/plain": [
       "HBox(children=(FloatProgress(value=0.0, max=43.0), HTML(value='')))"
      ]
     },
     "metadata": {},
     "output_type": "display_data"
    },
    {
     "name": "stdout",
     "output_type": "stream",
     "text": [
      "\n"
     ]
    }
   ],
   "source": [
    "# Irrelevant < 2; relevant >= 2\n",
    "binary_threshold = 2\n",
    "\n",
    "model = \"bert\"\n",
    "\n",
    "model_df = models_dict[model].copy()\n",
    "\n",
    "# Get new relevance dataset\n",
    "new_qrels_df = new_qrels_dict[\"threshold=%s\"%(binary_threshold)].copy()\n",
    "\n",
    "# Original MRR and new MRR set to zero\n",
    "# Original == ms marco relevance dataset; new == new relevance dataset\n",
    "og_mfr = 0.0\n",
    "new_mfr = 0.0\n",
    "\n",
    "# The new relevance dataset contains less query ids than the original msmarco dataset.\n",
    "# So get these query ids and use them to create subsets of the original dataset and the bm25 output.\n",
    "query_ids = get_query_ids(new_qrels_df)\n",
    "og_qrels_subset_df = og_qrels_df[og_qrels_df['query_id'].isin(query_ids)].copy()\n",
    "model_subset_df = model_df[model_df['query_id'].isin(query_ids)].copy()\n",
    "\n",
    "for query_id in tqdm_notebook(query_ids):\n",
    "    # Get query specific ranking and relevance datasets\n",
    "    query_subset = model_subset_df[model_subset_df['query_id'] == query_id].copy()\n",
    "    og_qrels_query_subset = og_qrels_subset_df[og_qrels_subset_df['query_id'] == query_id]\n",
    "    new_qrels_query_subset = new_qrels_df[new_qrels_df['query_id'] == query_id]\n",
    "    \n",
    "    top_n_ranking = get_top_n_ranking(query_subset,'%s_rank'%(model),N)\n",
    "    \n",
    "    og_relevant_passages = get_passage_ids(og_qrels_query_subset)\n",
    "    new_relevant_passages = get_passage_ids(new_qrels_query_subset)\n",
    "    \n",
    "    og_mfr += compute_mfr(og_relevant_passages,top_n_ranking,model,N)\n",
    "    new_mfr += compute_mfr(new_relevant_passages,top_n_ranking,model,N)\n",
    "    \n",
    "og_mfr = round((og_mfr/len(query_ids)),2)\n",
    "new_mfr = round((new_mfr/len(query_ids)),2)"
   ]
  },
  {
   "cell_type": "code",
   "execution_count": 18,
   "metadata": {},
   "outputs": [
    {
     "name": "stdout",
     "output_type": "stream",
     "text": [
      "2.21\n"
     ]
    }
   ],
   "source": [
    "print(og_mfr)"
   ]
  },
  {
   "cell_type": "code",
   "execution_count": 19,
   "metadata": {},
   "outputs": [
    {
     "name": "stdout",
     "output_type": "stream",
     "text": [
      "1.28\n"
     ]
    }
   ],
   "source": [
    "print(new_mfr)"
   ]
  },
  {
   "cell_type": "code",
   "execution_count": 20,
   "metadata": {},
   "outputs": [
    {
     "name": "stdout",
     "output_type": "stream",
     "text": [
      "43\n"
     ]
    }
   ],
   "source": [
    "print(len(query_ids))"
   ]
  },
  {
   "cell_type": "markdown",
   "metadata": {},
   "source": [
    "## Compute MFR (threshold = 3)"
   ]
  },
  {
   "cell_type": "code",
   "execution_count": 21,
   "metadata": {},
   "outputs": [
    {
     "name": "stderr",
     "output_type": "stream",
     "text": [
      "c:\\users\\tomjg\\appdata\\local\\programs\\python\\python35\\lib\\site-packages\\ipykernel_launcher.py:22: TqdmDeprecationWarning: This function will be removed in tqdm==5.0.0\n",
      "Please use `tqdm.notebook.tqdm` instead of `tqdm.tqdm_notebook`\n"
     ]
    },
    {
     "data": {
      "application/vnd.jupyter.widget-view+json": {
       "model_id": "7e76aca7c758499198ee8934be000079",
       "version_major": 2,
       "version_minor": 0
      },
      "text/plain": [
       "HBox(children=(FloatProgress(value=0.0, max=43.0), HTML(value='')))"
      ]
     },
     "metadata": {},
     "output_type": "display_data"
    },
    {
     "name": "stdout",
     "output_type": "stream",
     "text": [
      "\n"
     ]
    }
   ],
   "source": [
    "# Irrelevant < 3; relevant >= 3\n",
    "binary_threshold = 3\n",
    "\n",
    "model = \"bert\"\n",
    "\n",
    "model_df = models_dict[model].copy()\n",
    "\n",
    "# Get new relevance dataset\n",
    "new_qrels_df = new_qrels_dict[\"threshold=%s\"%(binary_threshold)].copy()\n",
    "\n",
    "# Original MRR and new MRR set to zero\n",
    "# Original == ms marco relevance dataset; new == new relevance dataset\n",
    "og_mfr = 0.0\n",
    "new_mfr = 0.0\n",
    "\n",
    "# The new relevance dataset contains less query ids than the original msmarco dataset.\n",
    "# So get these query ids and use them to create subsets of the original dataset and the bm25 output.\n",
    "query_ids = get_query_ids(new_qrels_df)\n",
    "og_qrels_subset_df = og_qrels_df[og_qrels_df['query_id'].isin(query_ids)].copy()\n",
    "model_subset_df = model_df[model_df['query_id'].isin(query_ids)].copy()\n",
    "\n",
    "for query_id in tqdm_notebook(query_ids):\n",
    "    # Get query specific ranking and relevance datasets\n",
    "    query_subset = model_subset_df[model_subset_df['query_id'] == query_id].copy()\n",
    "    og_qrels_query_subset = og_qrels_subset_df[og_qrels_subset_df['query_id'] == query_id]\n",
    "    new_qrels_query_subset = new_qrels_df[new_qrels_df['query_id'] == query_id]\n",
    "    \n",
    "    top_n_ranking = get_top_n_ranking(query_subset,'%s_rank'%(model),N)\n",
    "    \n",
    "    og_relevant_passages = get_passage_ids(og_qrels_query_subset)\n",
    "    new_relevant_passages = get_passage_ids(new_qrels_query_subset)\n",
    "    \n",
    "    og_mfr += compute_mfr(og_relevant_passages,top_n_ranking,model,N)\n",
    "    new_mfr += compute_mfr(new_relevant_passages,top_n_ranking,model,N)\n",
    "    \n",
    "og_mfr = round((og_mfr/len(query_ids)),2)\n",
    "new_mfr = round((new_mfr/len(query_ids)),2)"
   ]
  },
  {
   "cell_type": "code",
   "execution_count": 22,
   "metadata": {},
   "outputs": [
    {
     "name": "stdout",
     "output_type": "stream",
     "text": [
      "2.21\n"
     ]
    }
   ],
   "source": [
    "print(og_mfr)"
   ]
  },
  {
   "cell_type": "code",
   "execution_count": 23,
   "metadata": {},
   "outputs": [
    {
     "name": "stdout",
     "output_type": "stream",
     "text": [
      "1.37\n"
     ]
    }
   ],
   "source": [
    "print(new_mfr)"
   ]
  },
  {
   "cell_type": "code",
   "execution_count": 24,
   "metadata": {},
   "outputs": [
    {
     "name": "stdout",
     "output_type": "stream",
     "text": [
      "43\n"
     ]
    }
   ],
   "source": [
    "print(len(query_ids))"
   ]
  }
 ],
 "metadata": {
  "kernelspec": {
   "display_name": "Python 3",
   "language": "python",
   "name": "python3"
  },
  "language_info": {
   "codemirror_mode": {
    "name": "ipython",
    "version": 3
   },
   "file_extension": ".py",
   "mimetype": "text/x-python",
   "name": "python",
   "nbconvert_exporter": "python",
   "pygments_lexer": "ipython3",
   "version": "3.5.4"
  }
 },
 "nbformat": 4,
 "nbformat_minor": 4
}
