{
 "cells": [
  {
   "cell_type": "markdown",
   "metadata": {},
   "source": [
    "This notebook will help to compute the MRR for the BERT re-ranking on the MS MARCO dataset making use of both the old relevance label dataset and the newly acquired relevance label dataset. "
   ]
  },
  {
   "cell_type": "markdown",
   "metadata": {},
   "source": [
    "## Import Libraries"
   ]
  },
  {
   "cell_type": "code",
   "execution_count": 1,
   "metadata": {},
   "outputs": [],
   "source": [
    "import pandas as pd\n",
    "import numpy as np\n",
    "from os import listdir\n",
    "from os.path import isfile, join\n",
    "from tqdm.auto import tqdm \n",
    "from tqdm import tqdm_notebook"
   ]
  },
  {
   "cell_type": "markdown",
   "metadata": {},
   "source": [
    "## Load Data"
   ]
  },
  {
   "cell_type": "code",
   "execution_count": 2,
   "metadata": {},
   "outputs": [],
   "source": [
    "data_dir = 'data/'\n",
    "\n",
    "# binary threshold (irrelevant <2; relevant >= 2)\n",
    "thesis_qrels_threshold2_filename = 'thesis_dataset_binary_threshold2.tsv'\n",
    "\n",
    "# binary theshold (irrelevant <3; relevant >= 3)\n",
    "thesis_qrels_threshold3_filename = 'thesis_dataset_binary_threshold3.tsv'\n",
    "\n",
    "# msmarco relevance file\n",
    "og_qrels_filename = 'qrels.dev.small.tsv'\n",
    "\n",
    "# BM25 top 100 ranking\n",
    "bm25_top100_filename = 'run_development_top100.tsv'\n",
    "\n",
    "# BERT top 100 ranking\n",
    "bert_top100_filename = 'bert_thesis_dataset_top100.tsv'"
   ]
  },
  {
   "cell_type": "code",
   "execution_count": 3,
   "metadata": {},
   "outputs": [],
   "source": [
    "bm25_df = pd.read_csv(data_dir + bm25_top100_filename,delimiter='\\t',encoding='utf-8',header=None)\n",
    "bm25_df.columns = ['query_id', 'passage_id', 'bm25_rank']\n",
    "\n",
    "bert_df = pd.read_csv(data_dir + bert_top100_filename,delimiter='\\t',encoding='utf-8',header=None)\n",
    "bert_df.columns = ['query_id', 'passage_id', 'bm25_rank', 'query', 'passage', 'bert_score', 'bert_rank']\n",
    "\n",
    "og_qrels_df = pd.read_csv(data_dir + og_qrels_filename,delimiter='\\t',encoding='utf-8',header=None)\n",
    "og_qrels_df.columns = ['query_id','label1','passage_id','label2']\n",
    "\n",
    "new_qrels2_df = pd.read_csv(data_dir + thesis_qrels_threshold2_filename,delimiter='\\t',encoding='utf-8',header=None)\n",
    "new_qrels2_df.columns = ['query_id','label1','passage_id','label2']\n",
    "\n",
    "new_qrels3_df = pd.read_csv(data_dir + thesis_qrels_threshold3_filename,delimiter='\\t',encoding='utf-8',header=None)\n",
    "new_qrels3_df.columns = ['query_id','label1','passage_id','label2']\n",
    "\n",
    "models_dict = {\"bm25\": bm25_df, \"bert\": bert_df}\n",
    "new_qrels_dict = {\"threshold=2\": new_qrels2_df, \"threshold=3\": new_qrels3_df}"
   ]
  },
  {
   "cell_type": "markdown",
   "metadata": {},
   "source": [
    "## Helper Functions"
   ]
  },
  {
   "cell_type": "code",
   "execution_count": 4,
   "metadata": {},
   "outputs": [],
   "source": [
    "def get_query_ids(dataframe):\n",
    "    return list(np.unique(dataframe['query_id'].tolist()))"
   ]
  },
  {
   "cell_type": "code",
   "execution_count": 5,
   "metadata": {},
   "outputs": [],
   "source": [
    "def get_top_n_ranking(dataframe,rank_column,n):\n",
    "    top_n_ranking = dataframe[dataframe[rank_column] <= n].sort_values(by=[rank_column])\n",
    "    return top_n_ranking"
   ]
  },
  {
   "cell_type": "code",
   "execution_count": 6,
   "metadata": {},
   "outputs": [],
   "source": [
    "def get_passage_ids(dataframe):\n",
    "    relevant_passages = dataframe['passage_id'].values.tolist()\n",
    "    return relevant_passages"
   ]
  },
  {
   "cell_type": "code",
   "execution_count": 7,
   "metadata": {},
   "outputs": [],
   "source": [
    "def compute_mrr(gt,ranking,model,n):\n",
    "    score = 0.0\n",
    "    best_rank = n+1\n",
    "    for index, row in ranking.iterrows():\n",
    "        current_rank = row['%s_rank'%(model)]\n",
    "        if row['passage_id'] in gt:\n",
    "            if current_rank < best_rank:\n",
    "                score = 1.0 / (row['%s_rank'%(model)])\n",
    "                best_rank = current_rank\n",
    "    return score"
   ]
  },
  {
   "cell_type": "markdown",
   "metadata": {},
   "source": [
    "# Test Case"
   ]
  },
  {
   "cell_type": "markdown",
   "metadata": {},
   "source": [
    "This section helps to check if the MRR is correctly computed.\n",
    "We follow the example found on this page: https://medium.com/swlh/rank-aware-recsys-evaluation-metrics-5191bba16832"
   ]
  },
  {
   "cell_type": "code",
   "execution_count": 8,
   "metadata": {},
   "outputs": [],
   "source": [
    "n = 3\n",
    "model = \"test\"\n",
    "ground_truth_df = pd.DataFrame({\"query_id\":[1,2,2,3,3], \"passage_id\":[3,5,6,7,8]},columns=[\"query_id\",\"passage_id\"])\n",
    "test_rank_df = pd.DataFrame({\"query_id\":[1,1,1,2,2,2,3,3,3], \"passage_id\":[1,2,3,4,5,6,7,8,9], \"test_rank\": [1, 2, 3, 1, 2, 3, 1, 2, 3]},columns=[\"query_id\",\"passage_id\",\"test_rank\"])"
   ]
  },
  {
   "cell_type": "code",
   "execution_count": 9,
   "metadata": {},
   "outputs": [
    {
     "data": {
      "text/html": [
       "<div>\n",
       "<style scoped>\n",
       "    .dataframe tbody tr th:only-of-type {\n",
       "        vertical-align: middle;\n",
       "    }\n",
       "\n",
       "    .dataframe tbody tr th {\n",
       "        vertical-align: top;\n",
       "    }\n",
       "\n",
       "    .dataframe thead th {\n",
       "        text-align: right;\n",
       "    }\n",
       "</style>\n",
       "<table border=\"1\" class=\"dataframe\">\n",
       "  <thead>\n",
       "    <tr style=\"text-align: right;\">\n",
       "      <th></th>\n",
       "      <th>query_id</th>\n",
       "      <th>passage_id</th>\n",
       "    </tr>\n",
       "  </thead>\n",
       "  <tbody>\n",
       "    <tr>\n",
       "      <th>0</th>\n",
       "      <td>1</td>\n",
       "      <td>3</td>\n",
       "    </tr>\n",
       "    <tr>\n",
       "      <th>1</th>\n",
       "      <td>2</td>\n",
       "      <td>5</td>\n",
       "    </tr>\n",
       "    <tr>\n",
       "      <th>2</th>\n",
       "      <td>2</td>\n",
       "      <td>6</td>\n",
       "    </tr>\n",
       "    <tr>\n",
       "      <th>3</th>\n",
       "      <td>3</td>\n",
       "      <td>7</td>\n",
       "    </tr>\n",
       "    <tr>\n",
       "      <th>4</th>\n",
       "      <td>3</td>\n",
       "      <td>8</td>\n",
       "    </tr>\n",
       "  </tbody>\n",
       "</table>\n",
       "</div>"
      ],
      "text/plain": [
       "   query_id  passage_id\n",
       "0         1           3\n",
       "1         2           5\n",
       "2         2           6\n",
       "3         3           7\n",
       "4         3           8"
      ]
     },
     "execution_count": 9,
     "metadata": {},
     "output_type": "execute_result"
    }
   ],
   "source": [
    "ground_truth_df"
   ]
  },
  {
   "cell_type": "code",
   "execution_count": 10,
   "metadata": {},
   "outputs": [
    {
     "data": {
      "text/html": [
       "<div>\n",
       "<style scoped>\n",
       "    .dataframe tbody tr th:only-of-type {\n",
       "        vertical-align: middle;\n",
       "    }\n",
       "\n",
       "    .dataframe tbody tr th {\n",
       "        vertical-align: top;\n",
       "    }\n",
       "\n",
       "    .dataframe thead th {\n",
       "        text-align: right;\n",
       "    }\n",
       "</style>\n",
       "<table border=\"1\" class=\"dataframe\">\n",
       "  <thead>\n",
       "    <tr style=\"text-align: right;\">\n",
       "      <th></th>\n",
       "      <th>query_id</th>\n",
       "      <th>passage_id</th>\n",
       "      <th>test_rank</th>\n",
       "    </tr>\n",
       "  </thead>\n",
       "  <tbody>\n",
       "    <tr>\n",
       "      <th>0</th>\n",
       "      <td>1</td>\n",
       "      <td>1</td>\n",
       "      <td>1</td>\n",
       "    </tr>\n",
       "    <tr>\n",
       "      <th>1</th>\n",
       "      <td>1</td>\n",
       "      <td>2</td>\n",
       "      <td>2</td>\n",
       "    </tr>\n",
       "    <tr>\n",
       "      <th>2</th>\n",
       "      <td>1</td>\n",
       "      <td>3</td>\n",
       "      <td>3</td>\n",
       "    </tr>\n",
       "    <tr>\n",
       "      <th>3</th>\n",
       "      <td>2</td>\n",
       "      <td>4</td>\n",
       "      <td>1</td>\n",
       "    </tr>\n",
       "    <tr>\n",
       "      <th>4</th>\n",
       "      <td>2</td>\n",
       "      <td>5</td>\n",
       "      <td>2</td>\n",
       "    </tr>\n",
       "    <tr>\n",
       "      <th>5</th>\n",
       "      <td>2</td>\n",
       "      <td>6</td>\n",
       "      <td>3</td>\n",
       "    </tr>\n",
       "    <tr>\n",
       "      <th>6</th>\n",
       "      <td>3</td>\n",
       "      <td>7</td>\n",
       "      <td>1</td>\n",
       "    </tr>\n",
       "    <tr>\n",
       "      <th>7</th>\n",
       "      <td>3</td>\n",
       "      <td>8</td>\n",
       "      <td>2</td>\n",
       "    </tr>\n",
       "    <tr>\n",
       "      <th>8</th>\n",
       "      <td>3</td>\n",
       "      <td>9</td>\n",
       "      <td>3</td>\n",
       "    </tr>\n",
       "  </tbody>\n",
       "</table>\n",
       "</div>"
      ],
      "text/plain": [
       "   query_id  passage_id  test_rank\n",
       "0         1           1          1\n",
       "1         1           2          2\n",
       "2         1           3          3\n",
       "3         2           4          1\n",
       "4         2           5          2\n",
       "5         2           6          3\n",
       "6         3           7          1\n",
       "7         3           8          2\n",
       "8         3           9          3"
      ]
     },
     "execution_count": 10,
     "metadata": {},
     "output_type": "execute_result"
    }
   ],
   "source": [
    "test_rank_df"
   ]
  },
  {
   "cell_type": "code",
   "execution_count": 11,
   "metadata": {},
   "outputs": [],
   "source": [
    "mrr = 0.0\n",
    "query_ids = list(np.unique(test_rank_df['query_id'].values.tolist()))\n",
    "for query_id in query_ids:\n",
    "    gt = ground_truth_df[ground_truth_df['query_id'] == query_id].copy()\n",
    "    test_ranking = test_rank_df[test_rank_df['query_id'] == query_id].copy()\n",
    "    \n",
    "    gt_values = gt['passage_id'].values.tolist()\n",
    "    mrr += compute_mrr(gt_values,test_ranking,model,n)\n",
    "mrr = round(mrr/len(query_ids),2)"
   ]
  },
  {
   "cell_type": "code",
   "execution_count": 12,
   "metadata": {},
   "outputs": [
    {
     "data": {
      "text/plain": [
       "0.61"
      ]
     },
     "execution_count": 12,
     "metadata": {},
     "output_type": "execute_result"
    }
   ],
   "source": [
    "mrr"
   ]
  },
  {
   "cell_type": "markdown",
   "metadata": {},
   "source": [
    "Like on the webpage we consulted, we achieve a MRR of 0.61. So we implemented the MRR function correctly."
   ]
  },
  {
   "cell_type": "markdown",
   "metadata": {},
   "source": [
    "# Settings"
   ]
  },
  {
   "cell_type": "code",
   "execution_count": 13,
   "metadata": {},
   "outputs": [],
   "source": [
    "N = 10"
   ]
  },
  {
   "cell_type": "markdown",
   "metadata": {},
   "source": [
    "# Evaluate BM25"
   ]
  },
  {
   "cell_type": "markdown",
   "metadata": {},
   "source": [
    "## Compute MRR (threshold = 2)"
   ]
  },
  {
   "cell_type": "code",
   "execution_count": 14,
   "metadata": {},
   "outputs": [
    {
     "name": "stderr",
     "output_type": "stream",
     "text": [
      "c:\\users\\tomjg\\appdata\\local\\programs\\python\\python35\\lib\\site-packages\\ipykernel_launcher.py:22: TqdmDeprecationWarning: This function will be removed in tqdm==5.0.0\n",
      "Please use `tqdm.notebook.tqdm` instead of `tqdm.tqdm_notebook`\n"
     ]
    },
    {
     "data": {
      "application/vnd.jupyter.widget-view+json": {
       "model_id": "cb87ef2060054a0fac9f8665e978ce55",
       "version_major": 2,
       "version_minor": 0
      },
      "text/plain": [
       "HBox(children=(FloatProgress(value=0.0, max=43.0), HTML(value='')))"
      ]
     },
     "metadata": {},
     "output_type": "display_data"
    },
    {
     "name": "stdout",
     "output_type": "stream",
     "text": [
      "\n"
     ]
    }
   ],
   "source": [
    "# Irrelevant < 2; relevant >= 2\n",
    "binary_threshold = 2\n",
    "\n",
    "model = \"bm25\"\n",
    "\n",
    "model_df = models_dict[model].copy()\n",
    "\n",
    "# Get new relevance dataset\n",
    "new_qrels_df = new_qrels_dict[\"threshold=%s\"%(binary_threshold)].copy()\n",
    "\n",
    "# Original MRR and new MRR set to zero\n",
    "# Original == ms marco relevance dataset; new == new relevance dataset\n",
    "og_mrr = 0.0\n",
    "new_mrr = 0.0\n",
    "\n",
    "# The new relevance dataset contains less query ids than the original msmarco dataset.\n",
    "# So get these query ids and use them to create subsets of the original dataset and the bm25 output.\n",
    "query_ids = get_query_ids(new_qrels_df)\n",
    "og_qrels_subset_df = og_qrels_df[og_qrels_df['query_id'].isin(query_ids)].copy()\n",
    "model_subset_df = model_df[model_df['query_id'].isin(query_ids)].copy()\n",
    "\n",
    "for query_id in tqdm_notebook(query_ids):\n",
    "    # Get query specific ranking and relevance datasets\n",
    "    query_subset = model_subset_df[model_subset_df['query_id'] == query_id].copy()\n",
    "    og_qrels_query_subset = og_qrels_subset_df[og_qrels_subset_df['query_id'] == query_id]\n",
    "    new_qrels_query_subset = new_qrels_df[new_qrels_df['query_id'] == query_id]\n",
    "    \n",
    "    top_n_ranking = get_top_n_ranking(query_subset,'%s_rank'%(model),N)\n",
    "    \n",
    "    og_relevant_passages = get_passage_ids(og_qrels_query_subset)\n",
    "    new_relevant_passages = get_passage_ids(new_qrels_query_subset)\n",
    "    \n",
    "    og_mrr += compute_mrr(og_relevant_passages,top_n_ranking,model,N)\n",
    "    new_mrr += compute_mrr(new_relevant_passages,top_n_ranking,model,N)\n",
    "    \n",
    "og_mrr = round((og_mrr/len(query_ids))*100,1)\n",
    "new_mrr = round((new_mrr/len(query_ids))*100,1)"
   ]
  },
  {
   "cell_type": "code",
   "execution_count": 15,
   "metadata": {},
   "outputs": [
    {
     "name": "stdout",
     "output_type": "stream",
     "text": [
      "45.6\n"
     ]
    }
   ],
   "source": [
    "print(og_mrr)"
   ]
  },
  {
   "cell_type": "code",
   "execution_count": 16,
   "metadata": {},
   "outputs": [
    {
     "name": "stdout",
     "output_type": "stream",
     "text": [
      "97.7\n"
     ]
    }
   ],
   "source": [
    "print(new_mrr)"
   ]
  },
  {
   "cell_type": "code",
   "execution_count": 17,
   "metadata": {},
   "outputs": [
    {
     "name": "stdout",
     "output_type": "stream",
     "text": [
      "43\n"
     ]
    }
   ],
   "source": [
    "print(len(query_ids))"
   ]
  },
  {
   "cell_type": "markdown",
   "metadata": {},
   "source": [
    "## Compute MRR (threshold = 3)"
   ]
  },
  {
   "cell_type": "code",
   "execution_count": 18,
   "metadata": {},
   "outputs": [
    {
     "name": "stderr",
     "output_type": "stream",
     "text": [
      "c:\\users\\tomjg\\appdata\\local\\programs\\python\\python35\\lib\\site-packages\\ipykernel_launcher.py:22: TqdmDeprecationWarning: This function will be removed in tqdm==5.0.0\n",
      "Please use `tqdm.notebook.tqdm` instead of `tqdm.tqdm_notebook`\n"
     ]
    },
    {
     "data": {
      "application/vnd.jupyter.widget-view+json": {
       "model_id": "535b4ea1114646548fded061a3e21368",
       "version_major": 2,
       "version_minor": 0
      },
      "text/plain": [
       "HBox(children=(FloatProgress(value=0.0, max=43.0), HTML(value='')))"
      ]
     },
     "metadata": {},
     "output_type": "display_data"
    },
    {
     "name": "stdout",
     "output_type": "stream",
     "text": [
      "\n"
     ]
    }
   ],
   "source": [
    "# Irrelevant < 3; relevant >= 3\n",
    "binary_threshold = 3\n",
    "\n",
    "model = \"bm25\"\n",
    "\n",
    "model_df = models_dict[model].copy()\n",
    "\n",
    "# Get new relevance dataset\n",
    "new_qrels_df = new_qrels_dict[\"threshold=%s\"%(binary_threshold)].copy()\n",
    "\n",
    "# Original MRR and new MRR set to zero\n",
    "# Original == ms marco relevance dataset; new == new relevance dataset\n",
    "og_mrr = 0.0\n",
    "new_mrr = 0.0\n",
    "\n",
    "# The new relevance dataset contains less query ids than the original msmarco dataset.\n",
    "# So get these query ids and use them to create subsets of the original dataset and the bm25 output.\n",
    "query_ids = get_query_ids(new_qrels_df)\n",
    "og_qrels_subset_df = og_qrels_df[og_qrels_df['query_id'].isin(query_ids)].copy()\n",
    "model_subset_df = model_df[model_df['query_id'].isin(query_ids)].copy()\n",
    "\n",
    "for query_id in tqdm_notebook(query_ids):\n",
    "    # Get query specific ranking and relevance datasets\n",
    "    query_subset = model_subset_df[model_subset_df['query_id'] == query_id].copy()\n",
    "    og_qrels_query_subset = og_qrels_subset_df[og_qrels_subset_df['query_id'] == query_id]\n",
    "    new_qrels_query_subset = new_qrels_df[new_qrels_df['query_id'] == query_id]\n",
    "    \n",
    "    top_n_ranking = get_top_n_ranking(query_subset,'%s_rank'%(model),N)\n",
    "    \n",
    "    og_relevant_passages = get_passage_ids(og_qrels_query_subset)\n",
    "    new_relevant_passages = get_passage_ids(new_qrels_query_subset)\n",
    "    \n",
    "    og_mrr += compute_mrr(og_relevant_passages,top_n_ranking,model,N)\n",
    "    new_mrr += compute_mrr(new_relevant_passages,top_n_ranking,model,N)\n",
    "    \n",
    "og_mrr = round((og_mrr/len(query_ids))*100,1)\n",
    "new_mrr = round((new_mrr/len(query_ids))*100,1)"
   ]
  },
  {
   "cell_type": "code",
   "execution_count": 19,
   "metadata": {},
   "outputs": [
    {
     "name": "stdout",
     "output_type": "stream",
     "text": [
      "45.6\n"
     ]
    }
   ],
   "source": [
    "print(og_mrr)"
   ]
  },
  {
   "cell_type": "code",
   "execution_count": 20,
   "metadata": {},
   "outputs": [
    {
     "name": "stdout",
     "output_type": "stream",
     "text": [
      "90.7\n"
     ]
    }
   ],
   "source": [
    "print(new_mrr)"
   ]
  },
  {
   "cell_type": "code",
   "execution_count": 21,
   "metadata": {},
   "outputs": [
    {
     "name": "stdout",
     "output_type": "stream",
     "text": [
      "43\n"
     ]
    }
   ],
   "source": [
    "print(len(query_ids))"
   ]
  },
  {
   "cell_type": "markdown",
   "metadata": {},
   "source": [
    "# Evaluate BERT"
   ]
  },
  {
   "cell_type": "markdown",
   "metadata": {},
   "source": [
    "## Compute MRR (threshold = 2)"
   ]
  },
  {
   "cell_type": "code",
   "execution_count": 23,
   "metadata": {},
   "outputs": [
    {
     "name": "stderr",
     "output_type": "stream",
     "text": [
      "c:\\users\\tomjg\\appdata\\local\\programs\\python\\python35\\lib\\site-packages\\ipykernel_launcher.py:22: TqdmDeprecationWarning: This function will be removed in tqdm==5.0.0\n",
      "Please use `tqdm.notebook.tqdm` instead of `tqdm.tqdm_notebook`\n"
     ]
    },
    {
     "data": {
      "application/vnd.jupyter.widget-view+json": {
       "model_id": "699f2368095d4796a37de0c77b10186d",
       "version_major": 2,
       "version_minor": 0
      },
      "text/plain": [
       "HBox(children=(FloatProgress(value=0.0, max=43.0), HTML(value='')))"
      ]
     },
     "metadata": {},
     "output_type": "display_data"
    },
    {
     "name": "stdout",
     "output_type": "stream",
     "text": [
      "\n"
     ]
    }
   ],
   "source": [
    "# Irrelevant < 2; relevant >= 2\n",
    "binary_threshold = 2\n",
    "\n",
    "model = \"bert\"\n",
    "\n",
    "model_df = models_dict[model].copy()\n",
    "\n",
    "# Get new relevance dataset\n",
    "new_qrels_df = new_qrels_dict[\"threshold=%s\"%(binary_threshold)].copy()\n",
    "\n",
    "# Original MRR and new MRR set to zero\n",
    "# Original == ms marco relevance dataset; new == new relevance dataset\n",
    "og_mrr = 0.0\n",
    "new_mrr = 0.0\n",
    "\n",
    "# The new relevance dataset contains less query ids than the original msmarco dataset.\n",
    "# So get these query ids and use them to create subsets of the original dataset and the bm25 output.\n",
    "query_ids = get_query_ids(new_qrels_df)\n",
    "og_qrels_subset_df = og_qrels_df[og_qrels_df['query_id'].isin(query_ids)].copy()\n",
    "model_subset_df = model_df[model_df['query_id'].isin(query_ids)].copy()\n",
    "\n",
    "for query_id in tqdm_notebook(query_ids):\n",
    "    # Get query specific ranking and relevance datasets\n",
    "    query_subset = model_subset_df[model_subset_df['query_id'] == query_id].copy()\n",
    "    og_qrels_query_subset = og_qrels_subset_df[og_qrels_subset_df['query_id'] == query_id]\n",
    "    new_qrels_query_subset = new_qrels_df[new_qrels_df['query_id'] == query_id]\n",
    "    \n",
    "    top_n_ranking = get_top_n_ranking(query_subset,'%s_rank'%(model),N)\n",
    "    \n",
    "    og_relevant_passages = get_passage_ids(og_qrels_query_subset)\n",
    "    new_relevant_passages = get_passage_ids(new_qrels_query_subset)\n",
    "    \n",
    "    og_mrr += compute_mrr(og_relevant_passages,top_n_ranking,model,N)\n",
    "    new_mrr += compute_mrr(new_relevant_passages,top_n_ranking,model,N)\n",
    "    \n",
    "og_mrr = round((og_mrr/len(query_ids))*100,1)\n",
    "new_mrr = round((new_mrr/len(query_ids))*100,1)"
   ]
  },
  {
   "cell_type": "code",
   "execution_count": 24,
   "metadata": {},
   "outputs": [
    {
     "name": "stdout",
     "output_type": "stream",
     "text": [
      "68.6\n"
     ]
    }
   ],
   "source": [
    "print(og_mrr)"
   ]
  },
  {
   "cell_type": "code",
   "execution_count": 25,
   "metadata": {},
   "outputs": [
    {
     "name": "stdout",
     "output_type": "stream",
     "text": [
      "91.4\n"
     ]
    }
   ],
   "source": [
    "print(new_mrr)"
   ]
  },
  {
   "cell_type": "code",
   "execution_count": 26,
   "metadata": {},
   "outputs": [
    {
     "data": {
      "text/plain": [
       "43"
      ]
     },
     "execution_count": 26,
     "metadata": {},
     "output_type": "execute_result"
    }
   ],
   "source": [
    "len(query_ids)"
   ]
  },
  {
   "cell_type": "markdown",
   "metadata": {},
   "source": [
    "## Compute MRR@10 (threshold = 3)"
   ]
  },
  {
   "cell_type": "code",
   "execution_count": 27,
   "metadata": {},
   "outputs": [
    {
     "name": "stderr",
     "output_type": "stream",
     "text": [
      "c:\\users\\tomjg\\appdata\\local\\programs\\python\\python35\\lib\\site-packages\\ipykernel_launcher.py:22: TqdmDeprecationWarning: This function will be removed in tqdm==5.0.0\n",
      "Please use `tqdm.notebook.tqdm` instead of `tqdm.tqdm_notebook`\n"
     ]
    },
    {
     "data": {
      "application/vnd.jupyter.widget-view+json": {
       "model_id": "befb5a62cc17450b94a73e2e6a21cc93",
       "version_major": 2,
       "version_minor": 0
      },
      "text/plain": [
       "HBox(children=(FloatProgress(value=0.0, max=43.0), HTML(value='')))"
      ]
     },
     "metadata": {},
     "output_type": "display_data"
    },
    {
     "name": "stdout",
     "output_type": "stream",
     "text": [
      "\n"
     ]
    }
   ],
   "source": [
    "# Irrelevant < 3; relevant >= 3\n",
    "binary_threshold = 3\n",
    "\n",
    "model = \"bert\"\n",
    "\n",
    "model_df = models_dict[model].copy()\n",
    "\n",
    "# Get new relevance dataset\n",
    "new_qrels_df = new_qrels_dict[\"threshold=%s\"%(binary_threshold)].copy()\n",
    "\n",
    "# Original MRR and new MRR set to zero\n",
    "# Original == ms marco relevance dataset; new == new relevance dataset\n",
    "og_mrr = 0.0\n",
    "new_mrr = 0.0\n",
    "\n",
    "# The new relevance dataset contains less query ids than the original msmarco dataset.\n",
    "# So get these query ids and use them to create subsets of the original dataset and the bm25 output.\n",
    "query_ids = get_query_ids(new_qrels_df)\n",
    "og_qrels_subset_df = og_qrels_df[og_qrels_df['query_id'].isin(query_ids)].copy()\n",
    "model_subset_df = model_df[model_df['query_id'].isin(query_ids)].copy()\n",
    "\n",
    "for query_id in tqdm_notebook(query_ids):\n",
    "    # Get query specific ranking and relevance datasets\n",
    "    query_subset = model_subset_df[model_subset_df['query_id'] == query_id].copy()\n",
    "    og_qrels_query_subset = og_qrels_subset_df[og_qrels_subset_df['query_id'] == query_id]\n",
    "    new_qrels_query_subset = new_qrels_df[new_qrels_df['query_id'] == query_id]\n",
    "    \n",
    "    top_n_ranking = get_top_n_ranking(query_subset,'%s_rank'%(model),N)\n",
    "    \n",
    "    og_relevant_passages = get_passage_ids(og_qrels_query_subset)\n",
    "    new_relevant_passages = get_passage_ids(new_qrels_query_subset)\n",
    "    \n",
    "    og_mrr += compute_mrr(og_relevant_passages,top_n_ranking,model,N)\n",
    "    new_mrr += compute_mrr(new_relevant_passages,top_n_ranking,model,N)\n",
    "    \n",
    "og_mrr = round((og_mrr/len(query_ids))*100,1)\n",
    "new_mrr = round((new_mrr/len(query_ids))*100,1)"
   ]
  },
  {
   "cell_type": "code",
   "execution_count": 28,
   "metadata": {},
   "outputs": [
    {
     "name": "stdout",
     "output_type": "stream",
     "text": [
      "68.6\n"
     ]
    }
   ],
   "source": [
    "print(og_mrr)"
   ]
  },
  {
   "cell_type": "code",
   "execution_count": 29,
   "metadata": {},
   "outputs": [
    {
     "name": "stdout",
     "output_type": "stream",
     "text": [
      "88.4\n"
     ]
    }
   ],
   "source": [
    "print(new_mrr)"
   ]
  },
  {
   "cell_type": "code",
   "execution_count": 30,
   "metadata": {},
   "outputs": [
    {
     "data": {
      "text/plain": [
       "43"
      ]
     },
     "execution_count": 30,
     "metadata": {},
     "output_type": "execute_result"
    }
   ],
   "source": [
    "len(query_ids)"
   ]
  }
 ],
 "metadata": {
  "kernelspec": {
   "display_name": "Python 3",
   "language": "python",
   "name": "python3"
  },
  "language_info": {
   "codemirror_mode": {
    "name": "ipython",
    "version": 3
   },
   "file_extension": ".py",
   "mimetype": "text/x-python",
   "name": "python",
   "nbconvert_exporter": "python",
   "pygments_lexer": "ipython3",
   "version": "3.5.4"
  }
 },
 "nbformat": 4,
 "nbformat_minor": 4
}
