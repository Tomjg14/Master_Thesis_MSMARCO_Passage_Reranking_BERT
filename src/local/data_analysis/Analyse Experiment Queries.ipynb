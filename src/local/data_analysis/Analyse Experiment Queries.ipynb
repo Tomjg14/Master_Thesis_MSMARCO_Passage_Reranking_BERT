{
 "cells": [
  {
   "cell_type": "markdown",
   "metadata": {},
   "source": [
    "## Import Libraries"
   ]
  },
  {
   "cell_type": "code",
   "execution_count": 1,
   "metadata": {},
   "outputs": [],
   "source": [
    "import pandas as pd\n",
    "import json\n",
    "import numpy as np\n",
    "from collections import Counter\n",
    "import matplotlib.pyplot as plt\n",
    "%matplotlib inline"
   ]
  },
  {
   "cell_type": "markdown",
   "metadata": {},
   "source": [
    "## Load Data"
   ]
  },
  {
   "cell_type": "code",
   "execution_count": 2,
   "metadata": {},
   "outputs": [],
   "source": [
    "# filenames\n",
    "firebase_data = 'data/data.json'\n",
    "query_subset_filename = 'data/queries.dev.small.tsv'\n",
    "qrels_filename = 'data/qrels.dev.small.tsv'\n",
    "bm25_filename = 'data/run_development_top100.tsv'\n",
    "assessor_info = 'data/assessor_info.tsv'"
   ]
  },
  {
   "cell_type": "code",
   "execution_count": 3,
   "metadata": {},
   "outputs": [],
   "source": [
    "with open(firebase_data, 'r') as infile:\n",
    "    data = json.load(infile)\n",
    "query_ids = list(data.keys())"
   ]
  },
  {
   "cell_type": "code",
   "execution_count": 4,
   "metadata": {},
   "outputs": [],
   "source": [
    "query_subset = pd.read_csv(query_subset_filename,delimiter='\\t',encoding='utf-8', header=None)\n",
    "query_subset.columns = ['query_id', 'query']"
   ]
  },
  {
   "cell_type": "code",
   "execution_count": 5,
   "metadata": {},
   "outputs": [],
   "source": [
    "bm25_df = pd.read_csv(bm25_filename,delimiter='\\t',encoding='utf-8',header=None)\n",
    "bm25_df.columns = ['query_id', 'passage_id','bm25_rank']"
   ]
  },
  {
   "cell_type": "code",
   "execution_count": 6,
   "metadata": {},
   "outputs": [],
   "source": [
    "qrels_df = pd.read_csv(qrels_filename,delimiter='\\t',encoding='utf-8',header=None)\n",
    "qrels_df.columns = ['query_id','label1','passage_id','label2']"
   ]
  },
  {
   "cell_type": "code",
   "execution_count": 7,
   "metadata": {},
   "outputs": [],
   "source": [
    "assessor_df = pd.read_csv(assessor_info,delimiter='\\t',encoding='utf-8',header=None)\n",
    "assessor_df.columns = [\"user_id\",\"email\",\"consent\",\"contact\",\"english\",\"progress\",\"assessed_queries\"]"
   ]
  },
  {
   "cell_type": "code",
   "execution_count": 29,
   "metadata": {},
   "outputs": [],
   "source": [
    "experiment_query_ids = []\n",
    "with open(\"output/experiment_queries.txt\", \"r\") as infile:\n",
    "    for line in infile:\n",
    "        experiment_query_ids.append(line.rstrip())"
   ]
  },
  {
   "cell_type": "markdown",
   "metadata": {},
   "source": [
    "## Create DataFrames per Query"
   ]
  },
  {
   "cell_type": "code",
   "execution_count": 30,
   "metadata": {},
   "outputs": [],
   "source": [
    "def create_labels(nr_assessors):\n",
    "    labels = [\"query_id\",\"passageid\",\"msmarco\"]\n",
    "    for i in range(nr_assessors):\n",
    "        labels = labels + ['user%s_id'%(i+1),'user%s_label'%(i+1)]\n",
    "    return labels"
   ]
  },
  {
   "cell_type": "code",
   "execution_count": 31,
   "metadata": {},
   "outputs": [],
   "source": [
    "dataframe_data = {}\n",
    "label_data = {}\n",
    "assessor_data = {}\n",
    "for query_id in experiment_query_ids:\n",
    "    query_data_lists = []\n",
    "    query_data = data[query_id]\n",
    "    nr_assessors = 0\n",
    "    for i, passage_id in enumerate(query_data.keys()):\n",
    "        dataFrameRow2be = [query_id, passage_id] + query_data[passage_id]\n",
    "        query_data_lists.append(dataFrameRow2be)\n",
    "        if i == 0:\n",
    "            nr_assessors = int((len(query_data[passage_id])-1)/2)\n",
    "    dataframe_data[query_id] = query_data_lists\n",
    "    label_data[query_id] = create_labels(nr_assessors)\n",
    "    assessor_data[query_id] = nr_assessors"
   ]
  },
  {
   "cell_type": "code",
   "execution_count": 32,
   "metadata": {},
   "outputs": [],
   "source": [
    "dataframes = {}\n",
    "for query_id in experiment_query_ids:\n",
    "    df = pd.DataFrame(dataframe_data[query_id],columns=label_data[query_id])\n",
    "    dataframes[query_id] = df"
   ]
  },
  {
   "cell_type": "markdown",
   "metadata": {},
   "source": [
    "## Fix Missing Data"
   ]
  },
  {
   "cell_type": "code",
   "execution_count": 33,
   "metadata": {},
   "outputs": [],
   "source": [
    "del dataframes['993153']['user2_label']\n",
    "del dataframes['993153']['user2_id']"
   ]
  },
  {
   "cell_type": "code",
   "execution_count": 34,
   "metadata": {},
   "outputs": [],
   "source": [
    "assessor_data['993153'] = 6"
   ]
  },
  {
   "cell_type": "code",
   "execution_count": 35,
   "metadata": {},
   "outputs": [],
   "source": [
    "nr_assessors = assessor_data['993153']\n",
    "user_column_names = []\n",
    "for i in range(nr_assessors):\n",
    "    user_column_names = user_column_names + [\"user%s_id\"%(i+1), \"user%s_label\"%(i+1)]\n",
    "dataframes['993153'].columns = ['query_id','passageid','msmarco'] + user_column_names"
   ]
  },
  {
   "cell_type": "markdown",
   "metadata": {},
   "source": [
    "## Experiment Dataset Stats"
   ]
  },
  {
   "cell_type": "markdown",
   "metadata": {},
   "source": [
    "1. What is the number of assessors per query?"
   ]
  },
  {
   "cell_type": "code",
   "execution_count": 36,
   "metadata": {},
   "outputs": [],
   "source": [
    "assessor_count_list = []\n",
    "for query_id in experiment_query_ids:\n",
    "    nr_assessors = assessor_data[query_id]\n",
    "    assessor_count_list.append(nr_assessors)"
   ]
  },
  {
   "cell_type": "code",
   "execution_count": 37,
   "metadata": {},
   "outputs": [
    {
     "data": {
      "image/png": "[encoded data removed]",
      "text/plain": [
       "<Figure size 432x288 with 1 Axes>"
      ]
     },
     "metadata": {
      "needs_background": "light"
     },
     "output_type": "display_data"
    }
   ],
   "source": [
    "assessor_counts = Counter(assessor_count_list)\n",
    "plt.bar(list(assessor_counts.keys()), assessor_counts.values(), color='g')\n",
    "plt.xlabel(\"Nr of Assessors\")\n",
    "plt.ylabel(\"Nr of Queries\")\n",
    "plt.show()"
   ]
  },
  {
   "cell_type": "code",
   "execution_count": 28,
   "metadata": {},
   "outputs": [
    {
     "data": {
      "text/plain": [
       "Counter({3: 34, 4: 1, 5: 3, 6: 1, 7: 1})"
      ]
     },
     "execution_count": 28,
     "metadata": {},
     "output_type": "execute_result"
    }
   ],
   "source": [
    "assessor_counts"
   ]
  },
  {
   "cell_type": "markdown",
   "metadata": {},
   "source": [
    "2. How many terms does each query contain?"
   ]
  },
  {
   "cell_type": "code",
   "execution_count": 38,
   "metadata": {},
   "outputs": [],
   "source": [
    "experiment_query_subset = query_subset[query_subset['query_id'].isin(experiment_query_ids)].copy()"
   ]
  },
  {
   "cell_type": "code",
   "execution_count": 39,
   "metadata": {},
   "outputs": [],
   "source": [
    "experiment_query_subset.to_csv(\"output/experiment_query_subset.tsv\",sep=\"\\t\", header=False,index=False)"
   ]
  },
  {
   "cell_type": "code",
   "execution_count": 46,
   "metadata": {},
   "outputs": [],
   "source": [
    "experiment_query_texts = experiment_query_subset['query'].values.tolist()\n",
    "with open(\"output/experiment_query_texts.txt\",\"w\") as outfile:\n",
    "    for query_text in experiment_query_texts:\n",
    "        outfile.write(\"%s\\n\"%(query_text))"
   ]
  },
  {
   "cell_type": "code",
   "execution_count": 40,
   "metadata": {},
   "outputs": [],
   "source": [
    "query_texts = experiment_query_subset['query'].values.tolist()"
   ]
  },
  {
   "cell_type": "code",
   "execution_count": 41,
   "metadata": {},
   "outputs": [],
   "source": [
    "query_lengths = []\n",
    "for query_text in query_texts:\n",
    "    query_lengths.append(len(query_text.split()))\n",
    "query_lengths_counter = Counter(query_lengths)"
   ]
  },
  {
   "cell_type": "code",
   "execution_count": 42,
   "metadata": {},
   "outputs": [
    {
     "data": {
      "text/plain": [
       "Counter({3: 3,\n",
       "         4: 1,\n",
       "         5: 9,\n",
       "         6: 11,\n",
       "         7: 6,\n",
       "         8: 4,\n",
       "         9: 1,\n",
       "         10: 1,\n",
       "         11: 2,\n",
       "         12: 1,\n",
       "         15: 1})"
      ]
     },
     "execution_count": 42,
     "metadata": {},
     "output_type": "execute_result"
    }
   ],
   "source": [
    "query_lengths_counter"
   ]
  },
  {
   "cell_type": "code",
   "execution_count": 43,
   "metadata": {},
   "outputs": [
    {
     "data": {
      "image/png": "[encoded data removed]",
      "text/plain": [
       "<Figure size 432x288 with 1 Axes>"
      ]
     },
     "metadata": {
      "needs_background": "light"
     },
     "output_type": "display_data"
    }
   ],
   "source": [
    "plt.bar(list(query_lengths_counter.keys()), query_lengths_counter.values(), color='g')\n",
    "plt.xlabel(\"Nr of Query Terms\")\n",
    "plt.ylabel(\"Nr of Queries\")\n",
    "plt.show()"
   ]
  },
  {
   "cell_type": "code",
   "execution_count": 44,
   "metadata": {},
   "outputs": [
    {
     "data": {
      "image/png": "[encoded data removed]",
      "text/plain": [
       "<Figure size 432x288 with 1 Axes>"
      ]
     },
     "metadata": {
      "needs_background": "light"
     },
     "output_type": "display_data"
    }
   ],
   "source": [
    "plt.boxplot(list(query_lengths_counter.values()))\n",
    "plt.show()"
   ]
  },
  {
   "cell_type": "code",
   "execution_count": 45,
   "metadata": {},
   "outputs": [
    {
     "data": {
      "text/plain": [
       "2.0"
      ]
     },
     "execution_count": 45,
     "metadata": {},
     "output_type": "execute_result"
    }
   ],
   "source": [
    "np.median(list(query_lengths_counter.values()))"
   ]
  },
  {
   "cell_type": "markdown",
   "metadata": {},
   "source": [
    "3. What type of queries does the dataset contain?"
   ]
  },
  {
   "cell_type": "code",
   "execution_count": 48,
   "metadata": {},
   "outputs": [],
   "source": [
    "experiment_answer_types = {}\n",
    "counter_answer_types = 0\n",
    "counter_no_answer_types = 0\n",
    "with open(\"output/experiment_answer_types.txt\", \"r\") as infile:\n",
    "    for line in infile:\n",
    "        if(\"\\t\" in line.rstrip()):\n",
    "            counter_answer_types += 1\n",
    "            [query_text,answer_type] = line.rstrip().split(\"\\t\")\n",
    "            experiment_answer_types[query_text] = answer_type.split(\":\")[0]\n",
    "        else:\n",
    "            if not line.rstrip() == \"\":\n",
    "                counter_no_answer_types += 1\n",
    "                experiment_answer_types[line.rstrip()] = \"\""
   ]
  },
  {
   "cell_type": "code",
   "execution_count": 49,
   "metadata": {},
   "outputs": [
    {
     "name": "stdout",
     "output_type": "stream",
     "text": [
      "There are 19 queries for which no answer type could be classified.\n"
     ]
    }
   ],
   "source": [
    "print(\"There are %s queries for which no answer type could be classified.\"%(counter_no_answer_types))"
   ]
  },
  {
   "cell_type": "code",
   "execution_count": 50,
   "metadata": {},
   "outputs": [],
   "source": [
    "with open(\"output/manual_answer_types.txt\", \"r\", encoding='utf-8') as infile:\n",
    "    for line in infile:\n",
    "        [query_text,answer_type] = line.rstrip().split(\"\\t\")\n",
    "        if query_text in experiment_answer_types.keys():\n",
    "            experiment_answer_types[query_text] = answer_type"
   ]
  },
  {
   "cell_type": "code",
   "execution_count": 51,
   "metadata": {},
   "outputs": [],
   "source": [
    "for query_text, answer_type in experiment_answer_types.items():\n",
    "    if answer_type == \"\":\n",
    "        print(query_text)"
   ]
  },
  {
   "cell_type": "code",
   "execution_count": 52,
   "metadata": {},
   "outputs": [],
   "source": [
    "answer_types = list(experiment_answer_types.values())\n",
    "answer_types_counts = Counter(answer_types)"
   ]
  },
  {
   "cell_type": "code",
   "execution_count": 53,
   "metadata": {},
   "outputs": [],
   "source": [
    "answer_type_count_tuples = sorted(answer_types_counts.items(), key=lambda item: item[1],reverse=True)\n",
    "answer_types_sorted_on_count = [k for k, v in answer_type_count_tuples]\n",
    "answer_type_counts_sorted_on_count = [v for k, v in answer_type_count_tuples]"
   ]
  },
  {
   "cell_type": "code",
   "execution_count": 54,
   "metadata": {},
   "outputs": [
    {
     "data": {
      "image/png": "[encoded data removed]",
      "text/plain": [
       "<Figure size 432x288 with 1 Axes>"
      ]
     },
     "metadata": {
      "needs_background": "light"
     },
     "output_type": "display_data"
    }
   ],
   "source": [
    "fig, ax = plt.subplots() \n",
    "ax.bar(answer_types_sorted_on_count, answer_type_counts_sorted_on_count, color='g')\n",
    "for i, v in enumerate(answer_type_counts_sorted_on_count):\n",
    "    ax.text(i - 0.1, v + 1 , str(v), color='g', fontweight='bold')\n",
    "ax.set_ylim([0,30])\n",
    "plt.xlabel(\"Answer Types\")\n",
    "plt.ylabel(\"Number of Queries\")\n",
    "plt.show()"
   ]
  },
  {
   "cell_type": "code",
   "execution_count": 55,
   "metadata": {},
   "outputs": [
    {
     "data": {
      "text/plain": [
       "Counter({'DESC': 25, 'ENTY': 1, 'HUM': 3, 'LOC': 1, 'NUM': 10})"
      ]
     },
     "execution_count": 55,
     "metadata": {},
     "output_type": "execute_result"
    }
   ],
   "source": [
    "answer_types_counts"
   ]
  },
  {
   "cell_type": "markdown",
   "metadata": {},
   "source": [
    "4. How many queries are assessed by low English level assessors?"
   ]
  },
  {
   "cell_type": "code",
   "execution_count": 56,
   "metadata": {},
   "outputs": [
    {
     "name": "stdout",
     "output_type": "stream",
     "text": [
      "There are 18 queries assessed by a low English level assessor.\n"
     ]
    }
   ],
   "source": [
    "low_level_assessors_df = assessor_df[assessor_df['english'] < 7]\n",
    "low_english_level_users = list(np.unique(low_level_assessors_df['user_id'].values.tolist()))\n",
    "counter = 0\n",
    "for query_id in experiment_query_ids:\n",
    "    df = dataframes[query_id]\n",
    "    nr_assessors = assessor_data[query_id]\n",
    "    user_id_columns = [\"user%s_id\"%(i+1) for i in range(nr_assessors)]\n",
    "    for user_id_column in user_id_columns:\n",
    "        if df[user_id_column][0] in low_english_level_users:\n",
    "            counter += 1\n",
    "print(\"There are %s queries assessed by a low English level assessor.\"%(counter))"
   ]
  }
 ],
 "metadata": {
  "kernelspec": {
   "display_name": "Python 3",
   "language": "python",
   "name": "python3"
  },
  "language_info": {
   "codemirror_mode": {
    "name": "ipython",
    "version": 3
   },
   "file_extension": ".py",
   "mimetype": "text/x-python",
   "name": "python",
   "nbconvert_exporter": "python",
   "pygments_lexer": "ipython3",
   "version": "3.5.4"
  }
 },
 "nbformat": 4,
 "nbformat_minor": 4
}
