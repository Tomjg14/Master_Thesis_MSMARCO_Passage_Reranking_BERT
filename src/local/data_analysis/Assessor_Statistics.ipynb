{
 "cells": [
  {
   "cell_type": "markdown",
   "metadata": {},
   "source": [
    "## Import Libraries"
   ]
  },
  {
   "cell_type": "code",
   "execution_count": 1,
   "metadata": {},
   "outputs": [],
   "source": [
    "import pandas as pd\n",
    "import json\n",
    "import numpy as np\n",
    "from collections import Counter\n",
    "import matplotlib.pyplot as plt"
   ]
  },
  {
   "cell_type": "markdown",
   "metadata": {},
   "source": [
    "## Load Data"
   ]
  },
  {
   "cell_type": "code",
   "execution_count": 3,
   "metadata": {},
   "outputs": [],
   "source": [
    "firebase_data = 'data/data.json'\n",
    "with open(firebase_data, 'r') as infile:\n",
    "    data = json.load(infile)\n",
    "query_ids = list(data.keys())"
   ]
  },
  {
   "cell_type": "code",
   "execution_count": 4,
   "metadata": {},
   "outputs": [],
   "source": [
    "assessor_info = 'data/assessor_info.tsv'\n",
    "assessor_df = pd.read_csv(assessor_info,delimiter='\\t',encoding='utf-8',header=None)\n",
    "assessor_df.columns = [\"user_id\",\"email\",\"consent\",\"contact\",\"english\",\"progress\",\"assessed_queries\"]"
   ]
  },
  {
   "cell_type": "markdown",
   "metadata": {},
   "source": [
    "## Create DataFrames per Query"
   ]
  },
  {
   "cell_type": "code",
   "execution_count": 5,
   "metadata": {},
   "outputs": [],
   "source": [
    "def create_labels(nr_assessors):\n",
    "    labels = [\"query_id\",\"passageid\",\"msmarco\"]\n",
    "    for i in range(nr_assessors):\n",
    "        labels = labels + ['user%s_id'%(i+1),'user%s_label'%(i+1)]\n",
    "    return labels"
   ]
  },
  {
   "cell_type": "code",
   "execution_count": 6,
   "metadata": {},
   "outputs": [],
   "source": [
    "dataframe_data = {}\n",
    "label_data = {}\n",
    "assessor_data = {}\n",
    "for query_id in query_ids:\n",
    "    query_data_lists = []\n",
    "    query_data = data[query_id]\n",
    "    nr_assessors = 0\n",
    "    for i, passage_id in enumerate(query_data.keys()):\n",
    "        dataFrameRow2be = [query_id, passage_id] + query_data[passage_id]\n",
    "        query_data_lists.append(dataFrameRow2be)\n",
    "        if i == 0:\n",
    "            nr_assessors = int((len(query_data[passage_id])-1)/2)\n",
    "    dataframe_data[query_id] = query_data_lists\n",
    "    label_data[query_id] = create_labels(nr_assessors)\n",
    "    assessor_data[query_id] = nr_assessors"
   ]
  },
  {
   "cell_type": "code",
   "execution_count": 7,
   "metadata": {},
   "outputs": [],
   "source": [
    "dataframes = {}\n",
    "for query_id in query_ids:\n",
    "    df = pd.DataFrame(dataframe_data[query_id],columns=label_data[query_id])\n",
    "    dataframes[query_id] = df"
   ]
  },
  {
   "cell_type": "markdown",
   "metadata": {},
   "source": [
    "## Fix Missing Data"
   ]
  },
  {
   "cell_type": "code",
   "execution_count": 23,
   "metadata": {},
   "outputs": [],
   "source": [
    "del dataframes['993153']['user2_label']\n",
    "del dataframes['993153']['user2_id']"
   ]
  },
  {
   "cell_type": "code",
   "execution_count": 24,
   "metadata": {},
   "outputs": [],
   "source": [
    "assessor_data['993153'] = 6"
   ]
  },
  {
   "cell_type": "code",
   "execution_count": 25,
   "metadata": {},
   "outputs": [],
   "source": [
    "nr_assessors = assessor_data['993153']\n",
    "user_column_names = []\n",
    "for i in range(nr_assessors):\n",
    "    user_column_names = user_column_names + [\"user%s_id\"%(i+1), \"user%s_label\"%(i+1)]\n",
    "dataframes['993153'].columns = ['query_id','passageid','msmarco'] + user_column_names"
   ]
  },
  {
   "cell_type": "markdown",
   "metadata": {},
   "source": [
    "## Gather Experiment Queries"
   ]
  },
  {
   "cell_type": "code",
   "execution_count": 8,
   "metadata": {},
   "outputs": [],
   "source": [
    "experiment_query_ids = []\n",
    "with open(\"output/experiment_queries.txt\", \"r\") as infile:\n",
    "    for line in infile:\n",
    "        experiment_query_ids.append(line.rstrip())"
   ]
  },
  {
   "cell_type": "markdown",
   "metadata": {},
   "source": [
    "## Assessor Statistics"
   ]
  },
  {
   "cell_type": "markdown",
   "metadata": {},
   "source": [
    "1. How many assessors contributed?"
   ]
  },
  {
   "cell_type": "code",
   "execution_count": 9,
   "metadata": {},
   "outputs": [],
   "source": [
    "assessor_ids = []\n",
    "for query_id in query_ids:\n",
    "    df = dataframes[query_id]\n",
    "    nr_assessors = assessor_data[query_id]\n",
    "    user_id_columns = [\"user%s_id\"%(i+1) for i in range(nr_assessors)]\n",
    "    for user_id_column in user_id_columns:\n",
    "        user_id = list(np.unique(df[user_id_column].values.tolist()))[0]\n",
    "        if not user_id in assessor_ids:\n",
    "            assessor_ids.append(user_id)"
   ]
  },
  {
   "cell_type": "code",
   "execution_count": 10,
   "metadata": {},
   "outputs": [
    {
     "name": "stdout",
     "output_type": "stream",
     "text": [
      "The number of assessors is 37.\n"
     ]
    }
   ],
   "source": [
    "print(\"The number of assessors is %s.\"%(len(assessor_ids)))"
   ]
  },
  {
   "cell_type": "markdown",
   "metadata": {},
   "source": [
    "2. How was there English level?"
   ]
  },
  {
   "cell_type": "code",
   "execution_count": 12,
   "metadata": {},
   "outputs": [
    {
     "data": {
      "image/png": "[encoded data removed]",
      "text/plain": [
       "<Figure size 432x288 with 1 Axes>"
      ]
     },
     "metadata": {
      "needs_background": "light"
     },
     "output_type": "display_data"
    }
   ],
   "source": [
    "english_levels = assessor_df['english'].values.tolist()\n",
    "level_counts = Counter(english_levels)\n",
    "plt.bar(list(level_counts.keys()), level_counts.values(), color='g')\n",
    "plt.xlabel(\"Assessor English Level\")\n",
    "plt.ylabel(\"Number of Assessors\")\n",
    "plt.ylim([0,14])\n",
    "plt.savefig('images/assessor_english_distribution.png', bbox_inches='tight')\n",
    "plt.show()"
   ]
  },
  {
   "cell_type": "markdown",
   "metadata": {},
   "source": [
    "3. Did any low English level (<=6) assessors assess the same query?"
   ]
  },
  {
   "cell_type": "markdown",
   "metadata": {},
   "source": [
    "We will need to filter on the assessors with an english level of below 7 and see if they assessed the same queries."
   ]
  },
  {
   "cell_type": "code",
   "execution_count": 13,
   "metadata": {},
   "outputs": [],
   "source": [
    "import ast\n",
    "\n",
    "low_level_assessors_df = assessor_df[assessor_df['english'] < 7]\n",
    "\n",
    "query_assessor_dict = {}\n",
    "\n",
    "for index, row in low_level_assessors_df.iterrows():\n",
    "    user_id = row['user_id']\n",
    "    assessed_queries = ast.literal_eval(row['assessed_queries'])\n",
    "    for query_id in assessed_queries:\n",
    "        if not query_id in query_assessor_dict.keys():\n",
    "            query_assessor_dict[query_id] = [user_id]\n",
    "        else:\n",
    "            qeury_assessor_dict[query_id].append(user_id)"
   ]
  },
  {
   "cell_type": "code",
   "execution_count": 14,
   "metadata": {},
   "outputs": [
    {
     "data": {
      "text/plain": [
       "{'1006199': ['VuW5Bs9hZ5QYshUJICGGdMRJE803'],\n",
       " '1007473': ['RIH7GordAScQ8PxzXHptOYhe5La2'],\n",
       " '1040461': ['VuW5Bs9hZ5QYshUJICGGdMRJE803'],\n",
       " '1045227': ['RIH7GordAScQ8PxzXHptOYhe5La2'],\n",
       " '1046648': ['RIH7GordAScQ8PxzXHptOYhe5La2'],\n",
       " '1056446': ['VuW5Bs9hZ5QYshUJICGGdMRJE803'],\n",
       " '1065558': ['RIH7GordAScQ8PxzXHptOYhe5La2'],\n",
       " '1077356': ['IEem2CuVB8U5paYaSJPyxZML0lJ2'],\n",
       " '1083663': ['RIH7GordAScQ8PxzXHptOYhe5La2'],\n",
       " '1083852': ['IEem2CuVB8U5paYaSJPyxZML0lJ2'],\n",
       " '1085457': ['v1PE6B964Jd7CdtcUM26gX1giwe2'],\n",
       " '1088541': ['IEem2CuVB8U5paYaSJPyxZML0lJ2'],\n",
       " '1091688': ['VuW5Bs9hZ5QYshUJICGGdMRJE803'],\n",
       " '1095278': ['v1PE6B964Jd7CdtcUM26gX1giwe2'],\n",
       " '117113': ['IEem2CuVB8U5paYaSJPyxZML0lJ2'],\n",
       " '149161': ['RIH7GordAScQ8PxzXHptOYhe5La2'],\n",
       " '178468': ['IEem2CuVB8U5paYaSJPyxZML0lJ2'],\n",
       " '202306': ['Edf7tjdNpAYDtdJnkKkgrR11BDZ2'],\n",
       " '208494': ['Edf7tjdNpAYDtdJnkKkgrR11BDZ2'],\n",
       " '231877': ['RIH7GordAScQ8PxzXHptOYhe5La2'],\n",
       " '30860': ['Edf7tjdNpAYDtdJnkKkgrR11BDZ2'],\n",
       " '321951': ['VuW5Bs9hZ5QYshUJICGGdMRJE803'],\n",
       " '409143': ['VuW5Bs9hZ5QYshUJICGGdMRJE803'],\n",
       " '455456': ['IEem2CuVB8U5paYaSJPyxZML0lJ2'],\n",
       " '463230': ['v1PE6B964Jd7CdtcUM26gX1giwe2'],\n",
       " '503390': ['RIH7GordAScQ8PxzXHptOYhe5La2'],\n",
       " '564668': ['v1PE6B964Jd7CdtcUM26gX1giwe2'],\n",
       " '608323': ['IEem2CuVB8U5paYaSJPyxZML0lJ2'],\n",
       " '687375': ['IEem2CuVB8U5paYaSJPyxZML0lJ2'],\n",
       " '689885': ['IEem2CuVB8U5paYaSJPyxZML0lJ2'],\n",
       " '741392': ['RIH7GordAScQ8PxzXHptOYhe5La2'],\n",
       " '758519': ['v1PE6B964Jd7CdtcUM26gX1giwe2'],\n",
       " '785176': ['IEem2CuVB8U5paYaSJPyxZML0lJ2'],\n",
       " '785721': ['Edf7tjdNpAYDtdJnkKkgrR11BDZ2'],\n",
       " '837681': ['RIH7GordAScQ8PxzXHptOYhe5La2'],\n",
       " '846082': ['RIH7GordAScQ8PxzXHptOYhe5La2'],\n",
       " '897476': ['RIH7GordAScQ8PxzXHptOYhe5La2'],\n",
       " '904389': ['Edf7tjdNpAYDtdJnkKkgrR11BDZ2'],\n",
       " '991590': ['v1PE6B964Jd7CdtcUM26gX1giwe2'],\n",
       " '993987': ['Edf7tjdNpAYDtdJnkKkgrR11BDZ2']}"
      ]
     },
     "execution_count": 14,
     "metadata": {},
     "output_type": "execute_result"
    }
   ],
   "source": [
    "query_assessor_dict"
   ]
  },
  {
   "cell_type": "markdown",
   "metadata": {},
   "source": [
    "As you can see each query only has one low english level user id connected to it. This means that no query id has been assessed by more than 1 low level english assessor."
   ]
  },
  {
   "cell_type": "markdown",
   "metadata": {},
   "source": [
    "4. How many queries did each assessor assess?"
   ]
  },
  {
   "cell_type": "code",
   "execution_count": 15,
   "metadata": {},
   "outputs": [
    {
     "data": {
      "image/png": "[encoded data removed]",
      "text/plain": [
       "<Figure size 432x288 with 1 Axes>"
      ]
     },
     "metadata": {
      "needs_background": "light"
     },
     "output_type": "display_data"
    }
   ],
   "source": [
    "progress_numbers = assessor_df['progress'].values.tolist()\n",
    "progress_counter = Counter(progress_numbers)\n",
    "plt.bar(list(progress_counter.keys()), progress_counter.values(), color='g')\n",
    "plt.xlabel(\"Number of Queries Assessed\")\n",
    "plt.ylabel(\"Number of Assessors\")\n",
    "plt.xticks(np.arange(0, 22, 2.0))\n",
    "plt.yticks(np.arange(0, 22, 2.0))\n",
    "plt.savefig('images/assessor_queries_assessed.png', bbox_inches='tight')\n",
    "plt.show()"
   ]
  },
  {
   "cell_type": "markdown",
   "metadata": {},
   "source": [
    "5. How many queries are assessed by low English level assessors?"
   ]
  },
  {
   "cell_type": "code",
   "execution_count": 16,
   "metadata": {},
   "outputs": [],
   "source": [
    "queries_assessed_by_low_english_level_assessors = []\n",
    "for index, row in low_level_assessors_df.iterrows():\n",
    "    user_id = row['user_id']\n",
    "    assessed_queries = ast.literal_eval(row['assessed_queries'])\n",
    "    for query_id in assessed_queries:\n",
    "        if not query_id in queries_assessed_by_low_english_level_assessors:\n",
    "            queries_assessed_by_low_english_level_assessors.append(query_id)"
   ]
  },
  {
   "cell_type": "code",
   "execution_count": 17,
   "metadata": {},
   "outputs": [
    {
     "name": "stdout",
     "output_type": "stream",
     "text": [
      "There are 40 queries assessed by low English level assessors.\n"
     ]
    }
   ],
   "source": [
    "print(\"There are %s queries assessed by low English level assessors.\"%(len(queries_assessed_by_low_english_level_assessors)))"
   ]
  },
  {
   "cell_type": "markdown",
   "metadata": {},
   "source": [
    "6. What is the number of assessors per query?"
   ]
  },
  {
   "cell_type": "code",
   "execution_count": 26,
   "metadata": {},
   "outputs": [
    {
     "name": "stdout",
     "output_type": "stream",
     "text": [
      "Counter({1: 57, 3: 41, 2: 17, 5: 5, 6: 3, 4: 1, 7: 1})\n"
     ]
    }
   ],
   "source": [
    "assessor_counts = Counter(list(assessor_data.values()))\n",
    "print(assessor_counts)"
   ]
  },
  {
   "cell_type": "code",
   "execution_count": 27,
   "metadata": {},
   "outputs": [
    {
     "data": {
      "image/png": "[encoded data removed]",
      "text/plain": [
       "<Figure size 432x288 with 1 Axes>"
      ]
     },
     "metadata": {
      "needs_background": "light"
     },
     "output_type": "display_data"
    }
   ],
   "source": [
    "plt.bar(list(assessor_counts.keys()), assessor_counts.values(), color='g')\n",
    "plt.xlabel(\"Number of Assessors\")\n",
    "plt.ylabel(\"Number of Queries Assessed\")\n",
    "plt.ylim([0,60])\n",
    "plt.savefig('images/assessor_query_assessment_distribution.png', bbox_inches='tight')\n",
    "plt.show()"
   ]
  },
  {
   "cell_type": "markdown",
   "metadata": {},
   "source": [
    "7. What is the number of assessors per experiment query?"
   ]
  },
  {
   "cell_type": "code",
   "execution_count": 28,
   "metadata": {},
   "outputs": [],
   "source": [
    "experiment_assessor_data = {}\n",
    "for query_id in experiment_query_ids:\n",
    "    experiment_assessor_data[query_id] = assessor_data[str(query_id)]"
   ]
  },
  {
   "cell_type": "code",
   "execution_count": 29,
   "metadata": {},
   "outputs": [
    {
     "name": "stdout",
     "output_type": "stream",
     "text": [
      "Counter({3: 34, 5: 3, 4: 1, 6: 1, 7: 1})\n"
     ]
    }
   ],
   "source": [
    "experiment_assessor_counts = Counter(list(experiment_assessor_data.values()))\n",
    "print(experiment_assessor_counts)"
   ]
  },
  {
   "cell_type": "code",
   "execution_count": 30,
   "metadata": {},
   "outputs": [
    {
     "data": {
      "image/png": "[encoded data removed]",
      "text/plain": [
       "<Figure size 432x288 with 1 Axes>"
      ]
     },
     "metadata": {
      "needs_background": "light"
     },
     "output_type": "display_data"
    }
   ],
   "source": [
    "plt.bar(list(experiment_assessor_counts.keys()), experiment_assessor_counts.values(), color='g')\n",
    "plt.xlabel(\"Number of Assessors\")\n",
    "plt.ylabel(\"Number of Queries Assessed\")\n",
    "plt.ylim([0,40])\n",
    "plt.savefig('images/assessor_experiment_query_assessment_distribution.png', bbox_inches='tight')\n",
    "plt.show()"
   ]
  },
  {
   "cell_type": "markdown",
   "metadata": {},
   "source": [
    "Get assessor ids that helped to assess the experiment queries"
   ]
  },
  {
   "cell_type": "code",
   "execution_count": 31,
   "metadata": {},
   "outputs": [],
   "source": [
    "assessor_ids = []\n",
    "for query_id in experiment_query_ids:\n",
    "    for index, row in assessor_df.iterrows():\n",
    "        if str(query_id) in row['assessed_queries']:\n",
    "            if not row['user_id'] in assessor_ids:\n",
    "                assessor_ids.append(row['user_id'])"
   ]
  },
  {
   "cell_type": "code",
   "execution_count": 33,
   "metadata": {},
   "outputs": [
    {
     "data": {
      "text/plain": [
       "36"
      ]
     },
     "execution_count": 33,
     "metadata": {},
     "output_type": "execute_result"
    }
   ],
   "source": [
    "len(assessor_ids)"
   ]
  }
 ],
 "metadata": {
  "kernelspec": {
   "display_name": "Python 3",
   "language": "python",
   "name": "python3"
  },
  "language_info": {
   "codemirror_mode": {
    "name": "ipython",
    "version": 3
   },
   "file_extension": ".py",
   "mimetype": "text/x-python",
   "name": "python",
   "nbconvert_exporter": "python",
   "pygments_lexer": "ipython3",
   "version": "3.5.4"
  }
 },
 "nbformat": 4,
 "nbformat_minor": 4
}
