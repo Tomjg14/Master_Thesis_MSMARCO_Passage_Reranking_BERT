{
 "cells": [
  {
   "cell_type": "markdown",
   "metadata": {},
   "source": [
    "# 1. Label Ranker"
   ]
  },
  {
   "cell_type": "markdown",
   "metadata": {},
   "source": [
    "This notebook contains code that is used to analyse the Anserini BM25 top 100 passage ranks and find if the MSMARCO relevant passage is in the top 100. It then provides each top 100 of an label. \n",
    "\n",
    "The label is either:\n",
    "- high: rank 1-20\n",
    "- medium: rank 21-80\n",
    "- low: rank 81-100\n",
    "- outside scope: rank >100"
   ]
  },
  {
   "cell_type": "markdown",
   "metadata": {},
   "source": [
    "## Imports"
   ]
  },
  {
   "cell_type": "code",
   "execution_count": 44,
   "metadata": {},
   "outputs": [],
   "source": [
    "import pandas as pd\n",
    "import numpy as np"
   ]
  },
  {
   "cell_type": "markdown",
   "metadata": {},
   "source": [
    "## Paths"
   ]
  },
  {
   "cell_type": "code",
   "execution_count": 45,
   "metadata": {},
   "outputs": [],
   "source": [
    "msmarco_dir = \"../data/msmarco_files/\"\n",
    "anserini_dir = \"../data/anserini_output/\"\n",
    "output_dir = \"../data/output/\""
   ]
  },
  {
   "cell_type": "markdown",
   "metadata": {},
   "source": [
    "## Load Data"
   ]
  },
  {
   "cell_type": "markdown",
   "metadata": {},
   "source": [
    "CHANGE THE FOLLOWING FILENAMES"
   ]
  },
  {
   "cell_type": "code",
   "execution_count": 46,
   "metadata": {},
   "outputs": [],
   "source": [
    "anserini_filename = 'run_development_top100.tsv'\n",
    "relevance_filename = 'qrels.dev.small.tsv'\n",
    "top100_query_id_filename = 'top100_dev_small_query_ids.tsv'\n",
    "output_filename = 'bm25_rank_labels_dev_small.tsv'"
   ]
  },
  {
   "cell_type": "markdown",
   "metadata": {},
   "source": [
    "#### Anserini BM25 Top 100 Ranking"
   ]
  },
  {
   "cell_type": "code",
   "execution_count": 47,
   "metadata": {},
   "outputs": [],
   "source": [
    "bm25_rankings = pd.read_csv(anserini_dir + anserini_filename,delimiter='\\t',encoding='utf-8', header=None)\n",
    "bm25_rankings.columns = ['query_id', 'passage_id', 'ranking']"
   ]
  },
  {
   "cell_type": "code",
   "execution_count": 48,
   "metadata": {},
   "outputs": [
    {
     "data": {
      "text/plain": [
       "(697868, 3)"
      ]
     },
     "execution_count": 48,
     "metadata": {},
     "output_type": "execute_result"
    }
   ],
   "source": [
    "bm25_rankings.shape"
   ]
  },
  {
   "cell_type": "code",
   "execution_count": 49,
   "metadata": {},
   "outputs": [
    {
     "data": {
      "text/plain": [
       "6980"
      ]
     },
     "execution_count": 49,
     "metadata": {},
     "output_type": "execute_result"
    }
   ],
   "source": [
    "len(np.unique(bm25_rankings['query_id'].tolist()))"
   ]
  },
  {
   "cell_type": "markdown",
   "metadata": {},
   "source": [
    "SKIP THIS: Apparently Anserini was not able to find a top 100 for every query. So we it is an option to filter out those queries which do not have a complete top 100 ranking. But it can be the case that these queries have certain passages that share a rank. "
   ]
  },
  {
   "cell_type": "code",
   "execution_count": 5,
   "metadata": {},
   "outputs": [
    {
     "data": {
      "text/plain": [
       "\"\\nids_100 = bm25_rankings[bm25_rankings['ranking'] == 100]['query_id'].tolist()\\nbm25_rankings = bm25_rankings[bm25_rankings['query_id'].isin(ids_100)].copy()\\nbm25_rankings.shape\\nbm25_rankings.ranking.value_counts()[100]\\n\""
      ]
     },
     "execution_count": 5,
     "metadata": {},
     "output_type": "execute_result"
    }
   ],
   "source": [
    "'''\n",
    "ids_100 = bm25_rankings[bm25_rankings['ranking'] == 100]['query_id'].tolist()\n",
    "bm25_rankings = bm25_rankings[bm25_rankings['query_id'].isin(ids_100)].copy()\n",
    "bm25_rankings.shape\n",
    "bm25_rankings.ranking.value_counts()[100]\n",
    "'''"
   ]
  },
  {
   "cell_type": "markdown",
   "metadata": {},
   "source": [
    "#### MSMARCO Relevance File"
   ]
  },
  {
   "cell_type": "code",
   "execution_count": 50,
   "metadata": {},
   "outputs": [],
   "source": [
    "msmarco_relevance_df = pd.read_csv(msmarco_dir + relevance_filename,delimiter='\\t',encoding='utf-8', header=None)\n",
    "msmarco_relevance_df.columns = ['query_id', 'label1', 'passage_id', 'label2']"
   ]
  },
  {
   "cell_type": "code",
   "execution_count": 51,
   "metadata": {},
   "outputs": [
    {
     "data": {
      "text/plain": [
       "6980"
      ]
     },
     "execution_count": 51,
     "metadata": {},
     "output_type": "execute_result"
    }
   ],
   "source": [
    "len(np.unique(msmarco_relevance_df['query_id'].tolist()))"
   ]
  },
  {
   "cell_type": "markdown",
   "metadata": {},
   "source": [
    "## Merge Anserini Ranking with MSMARCO Relevance"
   ]
  },
  {
   "cell_type": "markdown",
   "metadata": {},
   "source": [
    "Here we merge the BM25 ranking dataframe with the MSMARCO relevance dataframe. The MSMARCO relevance dataframe contains a column named label2. If we merge on query\\_id and passage\\_id we either get NaN in the label2 column or the actual value, which is 1, from the MSMARCO relevance file. We can then make a new column named true\\_label, which sets each NaN to zero and take the sum of the column to get the number of top-100 rankings which include the MSMARCO most relevant passage."
   ]
  },
  {
   "cell_type": "code",
   "execution_count": 52,
   "metadata": {},
   "outputs": [
    {
     "data": {
      "text/plain": [
       "4925.0"
      ]
     },
     "execution_count": 52,
     "metadata": {},
     "output_type": "execute_result"
    }
   ],
   "source": [
    "ranking_relevance_merged_df = bm25_rankings.merge(msmarco_relevance_df,how='left',on=['query_id','passage_id'])\n",
    "ranking_relevance_merged_df['true_label'] = ranking_relevance_merged_df['label2'].fillna(0)\n",
    "ranking_relevance_merged_df['true_label'].sum()"
   ]
  },
  {
   "cell_type": "markdown",
   "metadata": {},
   "source": [
    "In total there were 6890 queries with a top 100 computed with BM25. There are 4925 passages labeled most relevant by MSMARCO ranked inside the top100."
   ]
  },
  {
   "cell_type": "markdown",
   "metadata": {},
   "source": [
    "#### Save queries with most relevent passage in top 100"
   ]
  },
  {
   "cell_type": "code",
   "execution_count": 53,
   "metadata": {},
   "outputs": [],
   "source": [
    "top100_query_ids = np.unique(ranking_relevance_merged_df[ranking_relevance_merged_df['label2'] == 1]['query_id'].tolist())"
   ]
  },
  {
   "cell_type": "code",
   "execution_count": 54,
   "metadata": {},
   "outputs": [
    {
     "data": {
      "text/plain": [
       "4737"
      ]
     },
     "execution_count": 54,
     "metadata": {},
     "output_type": "execute_result"
    }
   ],
   "source": [
    "len(top100_query_ids)"
   ]
  },
  {
   "cell_type": "markdown",
   "metadata": {},
   "source": [
    "There are 4737 unique query ids with one or more msmarco relevant passage in the top 100."
   ]
  },
  {
   "cell_type": "code",
   "execution_count": 55,
   "metadata": {},
   "outputs": [],
   "source": [
    "top100_query_ids_df = pd.DataFrame(top100_query_ids)\n",
    "top100_query_ids_df.columns = ['query_id']\n",
    "top100_query_ids_df.to_csv(output_dir + top100_query_id_filename,sep=\"\\t\", header=False,index=False)"
   ]
  },
  {
   "cell_type": "markdown",
   "metadata": {},
   "source": [
    "## Label Relevance Rank"
   ]
  },
  {
   "cell_type": "markdown",
   "metadata": {},
   "source": [
    "#### Sort Query ids"
   ]
  },
  {
   "cell_type": "code",
   "execution_count": 56,
   "metadata": {},
   "outputs": [],
   "source": [
    "high_ids = ranking_relevance_merged_df[(ranking_relevance_merged_df['ranking'] < 21) & (ranking_relevance_merged_df['label2'] == 1)][['query_id', 'passage_id']].values.tolist()\n",
    "medium_ids = ranking_relevance_merged_df[(ranking_relevance_merged_df['ranking'] > 20) & (ranking_relevance_merged_df['ranking'] < 81) & (ranking_relevance_merged_df['label2'] == 1)][['query_id', 'passage_id']].values.tolist()\n",
    "low_ids = ranking_relevance_merged_df[(ranking_relevance_merged_df['ranking'] > 80) & (ranking_relevance_merged_df['label2'] == 1)][['query_id', 'passage_id']].values.tolist()"
   ]
  },
  {
   "cell_type": "markdown",
   "metadata": {},
   "source": [
    "#### Create New Dataframe"
   ]
  },
  {
   "cell_type": "code",
   "execution_count": 57,
   "metadata": {},
   "outputs": [],
   "source": [
    "def getLabel(query_id, passage_id):\n",
    "    entry = [query_id,passage_id]\n",
    "    if entry in high_ids:\n",
    "        return \"high\"\n",
    "    elif entry in medium_ids:\n",
    "        return \"medium\"\n",
    "    elif entry in low_ids:\n",
    "        return \"low\"\n",
    "    else:\n",
    "        return \"outside scope\""
   ]
  },
  {
   "cell_type": "code",
   "execution_count": 58,
   "metadata": {},
   "outputs": [
    {
     "data": {
      "text/plain": [
       "(4737, 1)"
      ]
     },
     "execution_count": 58,
     "metadata": {},
     "output_type": "execute_result"
    }
   ],
   "source": [
    "output_df = pd.DataFrame(top100_query_ids)\n",
    "output_df.columns = ['query_id']\n",
    "output_df.shape"
   ]
  },
  {
   "cell_type": "code",
   "execution_count": 59,
   "metadata": {},
   "outputs": [
    {
     "data": {
      "text/plain": [
       "(5057, 4)"
      ]
     },
     "execution_count": 59,
     "metadata": {},
     "output_type": "execute_result"
    }
   ],
   "source": [
    "output_df = output_df.merge(msmarco_relevance_df,how='left',on=['query_id'])\n",
    "output_df.shape"
   ]
  },
  {
   "cell_type": "code",
   "execution_count": 60,
   "metadata": {},
   "outputs": [
    {
     "data": {
      "text/plain": [
       "(5057, 5)"
      ]
     },
     "execution_count": 60,
     "metadata": {},
     "output_type": "execute_result"
    }
   ],
   "source": [
    "output_df['label'] = output_df.apply(lambda x: getLabel(x.query_id, x.passage_id), axis=1)\n",
    "output_df.shape"
   ]
  },
  {
   "cell_type": "code",
   "execution_count": 61,
   "metadata": {},
   "outputs": [
    {
     "data": {
      "text/plain": [
       "4737"
      ]
     },
     "execution_count": 61,
     "metadata": {},
     "output_type": "execute_result"
    }
   ],
   "source": [
    "len(np.unique(output_df['query_id'].tolist()))"
   ]
  },
  {
   "cell_type": "markdown",
   "metadata": {},
   "source": [
    "Some query_ids have multiple relevant passages linked to them. That is why, for now, I remove those query_ids."
   ]
  },
  {
   "cell_type": "code",
   "execution_count": 62,
   "metadata": {},
   "outputs": [],
   "source": [
    "ids_of_interest = []\n",
    "vc = output_df['query_id'].value_counts()\n",
    "for k,v in vc.items():\n",
    "    if v > 1:\n",
    "        ids_of_interest.append(k)"
   ]
  },
  {
   "cell_type": "code",
   "execution_count": 63,
   "metadata": {},
   "outputs": [
    {
     "data": {
      "text/plain": [
       "(4460, 5)"
      ]
     },
     "execution_count": 63,
     "metadata": {},
     "output_type": "execute_result"
    }
   ],
   "source": [
    "output_df = output_df[~output_df['query_id'].isin(ids_of_interest)]\n",
    "output_df.shape"
   ]
  },
  {
   "cell_type": "code",
   "execution_count": 64,
   "metadata": {},
   "outputs": [],
   "source": [
    "del output_df['label1']\n",
    "del output_df['label2']"
   ]
  },
  {
   "cell_type": "code",
   "execution_count": 65,
   "metadata": {},
   "outputs": [],
   "source": [
    "output_df.to_csv(output_dir + output_filename,sep=\"\\t\", header=False,index=False)"
   ]
  }
 ],
 "metadata": {
  "kernelspec": {
   "display_name": "Python 3",
   "language": "python",
   "name": "python3"
  },
  "language_info": {
   "codemirror_mode": {
    "name": "ipython",
    "version": 3
   },
   "file_extension": ".py",
   "mimetype": "text/x-python",
   "name": "python",
   "nbconvert_exporter": "python",
   "pygments_lexer": "ipython3",
   "version": "3.5.4"
  }
 },
 "nbformat": 4,
 "nbformat_minor": 4
}
