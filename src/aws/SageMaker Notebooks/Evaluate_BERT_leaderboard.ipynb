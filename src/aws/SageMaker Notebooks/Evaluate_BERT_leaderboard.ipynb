{
 "cells": [
  {
   "cell_type": "markdown",
   "metadata": {},
   "source": [
    "## Import Libraries"
   ]
  },
  {
   "cell_type": "code",
   "execution_count": 1,
   "metadata": {},
   "outputs": [
    {
     "name": "stdout",
     "output_type": "stream",
     "text": [
      "Collecting tqdm\n",
      "\u001b[?25l  Downloading https://files.pythonhosted.org/packages/f3/76/4697ce203a3d42b2ead61127b35e5fcc26bba9a35c03b32a2bd342a4c869/tqdm-4.46.1-py2.py3-none-any.whl (63kB)\n",
      "\u001b[K    100% |████████████████████████████████| 71kB 10.5MB/s ta 0:00:01\n",
      "\u001b[?25hInstalling collected packages: tqdm\n",
      "Successfully installed tqdm-4.46.1\n",
      "\u001b[33mYou are using pip version 10.0.1, however version 20.2b1 is available.\n",
      "You should consider upgrading via the 'pip install --upgrade pip' command.\u001b[0m\n"
     ]
    }
   ],
   "source": [
    "!pip install tqdm"
   ]
  },
  {
   "cell_type": "code",
   "execution_count": 2,
   "metadata": {},
   "outputs": [],
   "source": [
    "import pandas as pd\n",
    "import numpy as np\n",
    "from os import listdir\n",
    "from os.path import isfile, join\n",
    "from tqdm.auto import tqdm \n",
    "from tqdm import tqdm_notebook"
   ]
  },
  {
   "cell_type": "markdown",
   "metadata": {},
   "source": [
    "## Paths"
   ]
  },
  {
   "cell_type": "code",
   "execution_count": 3,
   "metadata": {},
   "outputs": [],
   "source": [
    "msmarco_dir = \"../data/msmarco_files/\"\n",
    "anserini_dir = \"../data/anserini_output/\"\n",
    "output_dir = \"../data/output/\""
   ]
  },
  {
   "cell_type": "markdown",
   "metadata": {},
   "source": [
    "## Load Data"
   ]
  },
  {
   "cell_type": "code",
   "execution_count": 4,
   "metadata": {},
   "outputs": [],
   "source": [
    "relevance_df = pd.read_csv(msmarco_dir + 'qrels.dev.small.tsv',delimiter='\\t',encoding='utf-8',header=None)\n",
    "relevance_df.columns = ['query_id','label1','passage_id','label2']\n",
    "relevance_df = relevance_df.drop(columns=['label1','label2'])"
   ]
  },
  {
   "cell_type": "code",
   "execution_count": 5,
   "metadata": {},
   "outputs": [],
   "source": [
    "bert_filenames = [f for f in listdir(output_dir) if (isfile(join(output_dir, f))) and (f.startswith(\"bert_run_msmarco_leaderboard\"))]"
   ]
  },
  {
   "cell_type": "code",
   "execution_count": 6,
   "metadata": {},
   "outputs": [
    {
     "data": {
      "text/plain": [
       "['bert_run_msmarco_leaderboard_df_subset_9.tsv',\n",
       " 'bert_run_msmarco_leaderboard_df_subset_8.tsv',\n",
       " 'bert_run_msmarco_leaderboard_df_subset_24.tsv',\n",
       " 'bert_run_msmarco_leaderboard_df_subset_18.tsv',\n",
       " 'bert_run_msmarco_leaderboard_df_subset_10.tsv',\n",
       " 'bert_run_msmarco_leaderboard_df_subset_11.tsv',\n",
       " 'bert_run_msmarco_leaderboard_df_subset_13.tsv',\n",
       " 'bert_run_msmarco_leaderboard_df_subset_17.tsv',\n",
       " 'bert_run_msmarco_leaderboard_df_subset_21.tsv',\n",
       " 'bert_run_msmarco_leaderboard_df_subset_28.tsv',\n",
       " 'bert_run_msmarco_leaderboard_df_subset_3.tsv',\n",
       " 'bert_run_msmarco_leaderboard_df_subset_6.tsv',\n",
       " 'bert_run_msmarco_leaderboard_df_subset_27.tsv',\n",
       " 'bert_run_msmarco_leaderboard_df_subset_14.tsv',\n",
       " 'bert_run_msmarco_leaderboard_df_subset_20.tsv',\n",
       " 'bert_run_msmarco_leaderboard_df_subset_22.tsv',\n",
       " 'bert_run_msmarco_leaderboard_df_subset_23.tsv',\n",
       " 'bert_run_msmarco_leaderboard_df_subset_4.tsv',\n",
       " 'bert_run_msmarco_leaderboard_df_subset_5.tsv',\n",
       " 'bert_run_msmarco_leaderboard_df_subset_12.tsv',\n",
       " 'bert_run_msmarco_leaderboard_df_subset_7.tsv',\n",
       " 'bert_run_msmarco_leaderboard_df_subset_1.tsv',\n",
       " 'bert_run_msmarco_leaderboard_df_subset_19.tsv',\n",
       " 'bert_run_msmarco_leaderboard_df_subset_16.tsv',\n",
       " 'bert_run_msmarco_leaderboard_df_subset_25.tsv',\n",
       " 'bert_run_msmarco_leaderboard_df_subset_15.tsv',\n",
       " 'bert_run_msmarco_leaderboard_df_subset_26.tsv']"
      ]
     },
     "execution_count": 6,
     "metadata": {},
     "output_type": "execute_result"
    }
   ],
   "source": [
    "bert_filenames"
   ]
  },
  {
   "cell_type": "markdown",
   "metadata": {},
   "source": [
    "Note: it seems as you are missing a file (file 2). But file 1 contains both 1 & 2, after this file I decided to make even smaller subsets. Which is why I continued with 3. Files 3 an onward contain 250 queries. While file 1 contains 500 queries."
   ]
  },
  {
   "cell_type": "code",
   "execution_count": 7,
   "metadata": {},
   "outputs": [
    {
     "name": "stderr",
     "output_type": "stream",
     "text": [
      "/home/ec2-user/anaconda3/envs/python3/lib/python3.6/site-packages/ipykernel/__main__.py:2: TqdmDeprecationWarning: This function will be removed in tqdm==5.0.0\n",
      "Please use `tqdm.notebook.tqdm` instead of `tqdm.tqdm_notebook`\n",
      "  from ipykernel import kernelapp as app\n"
     ]
    },
    {
     "data": {
      "application/vnd.jupyter.widget-view+json": {
       "model_id": "1ba0921799034679af757b8379cbe553",
       "version_major": 2,
       "version_minor": 0
      },
      "text/plain": [
       "HBox(children=(FloatProgress(value=0.0, max=27.0), HTML(value='')))"
      ]
     },
     "metadata": {},
     "output_type": "display_data"
    },
    {
     "name": "stdout",
     "output_type": "stream",
     "text": [
      "\n"
     ]
    }
   ],
   "source": [
    "bert_dfs = []\n",
    "for bert_filename in tqdm_notebook(bert_filenames):\n",
    "    bert_df = pd.read_csv(output_dir + bert_filename,delimiter='\\t',encoding='utf-8', header=None)\n",
    "    bert_df.columns = ['query_id', 'passage_id', 'bm25_rank', 'query', 'passage', 'bert_score', 'bert_rank']\n",
    "    bert_dfs.append(bert_df)"
   ]
  },
  {
   "cell_type": "markdown",
   "metadata": {},
   "source": [
    "## Make 1 big DataFrame"
   ]
  },
  {
   "cell_type": "code",
   "execution_count": 8,
   "metadata": {},
   "outputs": [],
   "source": [
    "bert_rankings = pd.concat(bert_dfs, ignore_index=True)"
   ]
  },
  {
   "cell_type": "code",
   "execution_count": 9,
   "metadata": {},
   "outputs": [],
   "source": [
    "bert_rankings.to_csv(output_dir + 'bert_run_msmarco_leaderboard_df_all_subsets.tsv',sep=\"\\t\", header=False,index=False)"
   ]
  },
  {
   "cell_type": "code",
   "execution_count": 5,
   "metadata": {},
   "outputs": [],
   "source": [
    "bert_rankings = pd.read_csv(output_dir + 'bert_run_msmarco_leaderboard_df_all_subsets.tsv',delimiter='\\t',encoding='utf-8', header=None)\n",
    "bert_rankings.columns = ['query_id', 'passage_id', 'bm25_rank', 'query', 'passage', 'bert_score', 'bert_rank']"
   ]
  },
  {
   "cell_type": "markdown",
   "metadata": {},
   "source": [
    "## Compute MRR@10"
   ]
  },
  {
   "cell_type": "code",
   "execution_count": 6,
   "metadata": {},
   "outputs": [],
   "source": [
    "def compute_mrr(gt, pred):\n",
    "    score = 0.0\n",
    "    best_rank = 11\n",
    "    for index, row in pred.iterrows():\n",
    "        current_rank = row['bert_rank']\n",
    "        if row['passage_id'] in gt:\n",
    "            if current_rank < best_rank:\n",
    "                score = 1.0 / (row['bert_rank'])\n",
    "                best_rank = current_rank\n",
    "    return score"
   ]
  },
  {
   "cell_type": "code",
   "execution_count": null,
   "metadata": {},
   "outputs": [
    {
     "name": "stderr",
     "output_type": "stream",
     "text": [
      "/home/ec2-user/anaconda3/envs/python3/lib/python3.6/site-packages/ipykernel/__main__.py:4: TqdmDeprecationWarning: This function will be removed in tqdm==5.0.0\n",
      "Please use `tqdm.notebook.tqdm` instead of `tqdm.tqdm_notebook`\n"
     ]
    },
    {
     "data": {
      "application/vnd.jupyter.widget-view+json": {
       "model_id": "bc3c9eb33b8b473b9ffa3ad1dd06f442",
       "version_major": 2,
       "version_minor": 0
      },
      "text/plain": [
       "HBox(children=(FloatProgress(value=0.0, max=6980.0), HTML(value='')))"
      ]
     },
     "metadata": {},
     "output_type": "display_data"
    }
   ],
   "source": [
    "mrr = 0.0\n",
    "query_ids = list(np.unique(bert_rankings['query_id'].tolist()))\n",
    "relevance_df = relevance_df[relevance_df['query_id'].isin(query_ids)]\n",
    "for query_id in tqdm_notebook(query_ids):\n",
    "    query_preds_df = bert_rankings[(bert_rankings['query_id'] == query_id) & (bert_rankings['bert_rank'] < 11)]\n",
    "    gt = relevance_df[relevance_df['query_id'] == query_id]['passage_id'].values.tolist()\n",
    "    mrr += compute_mrr(gt, query_preds_df)"
   ]
  },
  {
   "cell_type": "code",
   "execution_count": 16,
   "metadata": {},
   "outputs": [
    {
     "data": {
      "text/plain": [
       "34.7"
      ]
     },
     "execution_count": 16,
     "metadata": {},
     "output_type": "execute_result"
    }
   ],
   "source": [
    "round((mrr/len(query_ids))*100,1)"
   ]
  }
 ],
 "metadata": {
  "kernelspec": {
   "display_name": "Python 3",
   "language": "python",
   "name": "python3"
  },
  "language_info": {
   "codemirror_mode": {
    "name": "ipython",
    "version": 3
   },
   "file_extension": ".py",
   "mimetype": "text/x-python",
   "name": "python",
   "nbconvert_exporter": "python",
   "pygments_lexer": "ipython3",
   "version": "3.5.4"
  }
 },
 "nbformat": 4,
 "nbformat_minor": 4
}
