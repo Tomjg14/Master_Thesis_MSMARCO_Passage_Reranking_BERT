{
 "cells": [
  {
   "cell_type": "markdown",
   "metadata": {},
   "source": [
    "# Label Reranker"
   ]
  },
  {
   "cell_type": "markdown",
   "metadata": {},
   "source": [
    "This notebook contains code that is used to analyse the BERT top 100 reranking. It will provide each query top 100 of a label.\n",
    "\n",
    "The labels are:\n",
    "- high: rank 1-20\n",
    "- medium: rank 21-80\n",
    "- low: rank 81-100\n",
    "- outside scope: rank >100"
   ]
  },
  {
   "cell_type": "markdown",
   "metadata": {},
   "source": [
    "## Imports"
   ]
  },
  {
   "cell_type": "code",
   "execution_count": 1,
   "metadata": {},
   "outputs": [],
   "source": [
    "import pandas as pd\n",
    "import numpy as np"
   ]
  },
  {
   "cell_type": "markdown",
   "metadata": {},
   "source": [
    "## Paths"
   ]
  },
  {
   "cell_type": "code",
   "execution_count": 2,
   "metadata": {},
   "outputs": [],
   "source": [
    "msmarco_dir = \"../data/msmarco_files/\"\n",
    "anserini_dir = \"../data/anserini_output/\"\n",
    "output_dir = \"../data/output/\""
   ]
  },
  {
   "cell_type": "markdown",
   "metadata": {},
   "source": [
    "## Load Data"
   ]
  },
  {
   "cell_type": "markdown",
   "metadata": {},
   "source": [
    "CHANGE THE FOLLOWING FILENAMES"
   ]
  },
  {
   "cell_type": "code",
   "execution_count": 3,
   "metadata": {},
   "outputs": [],
   "source": [
    "bert_output_filename = 'bert_run_development_top100.tsv'\n",
    "relevance_filename = 'qrels.dev.small.tsv'\n",
    "output_filename = 'bert_rank_labels_dev_small.tsv'"
   ]
  },
  {
   "cell_type": "markdown",
   "metadata": {},
   "source": [
    "#### Bert Reranks"
   ]
  },
  {
   "cell_type": "code",
   "execution_count": 4,
   "metadata": {},
   "outputs": [],
   "source": [
    "bert_output_df = pd.read_csv(output_dir + bert_output_filename,delimiter='\\t',encoding='utf-8', header=None)\n",
    "bert_output_df.columns = ['query_id', 'passage_id', 'bm25_rank', 'query', 'passage', 'score_bert', 'bert_rank']"
   ]
  },
  {
   "cell_type": "code",
   "execution_count": 5,
   "metadata": {},
   "outputs": [
    {
     "data": {
      "text/html": [
       "<div>\n",
       "<style scoped>\n",
       "    .dataframe tbody tr th:only-of-type {\n",
       "        vertical-align: middle;\n",
       "    }\n",
       "\n",
       "    .dataframe tbody tr th {\n",
       "        vertical-align: top;\n",
       "    }\n",
       "\n",
       "    .dataframe thead th {\n",
       "        text-align: right;\n",
       "    }\n",
       "</style>\n",
       "<table border=\"1\" class=\"dataframe\">\n",
       "  <thead>\n",
       "    <tr style=\"text-align: right;\">\n",
       "      <th></th>\n",
       "      <th>query_id</th>\n",
       "      <th>passage_id</th>\n",
       "      <th>bm25_rank</th>\n",
       "      <th>query</th>\n",
       "      <th>passage</th>\n",
       "      <th>score_bert</th>\n",
       "      <th>bert_rank</th>\n",
       "    </tr>\n",
       "  </thead>\n",
       "  <tbody>\n",
       "    <tr>\n",
       "      <th>0</th>\n",
       "      <td>2</td>\n",
       "      <td>1782337</td>\n",
       "      <td>1</td>\n",
       "      <td>androgen receptor define</td>\n",
       "      <td>enzalutamide is an androgen receptor inhibitor...</td>\n",
       "      <td>-1.713628</td>\n",
       "      <td>34</td>\n",
       "    </tr>\n",
       "  </tbody>\n",
       "</table>\n",
       "</div>"
      ],
      "text/plain": [
       "   query_id  passage_id  bm25_rank                      query  \\\n",
       "0         2     1782337          1   androgen receptor define   \n",
       "\n",
       "                                             passage  score_bert  bert_rank  \n",
       "0  enzalutamide is an androgen receptor inhibitor...   -1.713628         34  "
      ]
     },
     "execution_count": 5,
     "metadata": {},
     "output_type": "execute_result"
    }
   ],
   "source": [
    "bert_output_df.head(1)"
   ]
  },
  {
   "cell_type": "markdown",
   "metadata": {},
   "source": [
    "#### MSMARCO Relevance File"
   ]
  },
  {
   "cell_type": "code",
   "execution_count": 6,
   "metadata": {},
   "outputs": [],
   "source": [
    "msmarco_relevance_df = pd.read_csv(msmarco_dir + relevance_filename,delimiter='\\t',encoding='utf-8', header=None)\n",
    "msmarco_relevance_df.columns = ['query_id', 'label1', 'passage_id', 'label2']"
   ]
  },
  {
   "cell_type": "code",
   "execution_count": 7,
   "metadata": {},
   "outputs": [
    {
     "data": {
      "text/html": [
       "<div>\n",
       "<style scoped>\n",
       "    .dataframe tbody tr th:only-of-type {\n",
       "        vertical-align: middle;\n",
       "    }\n",
       "\n",
       "    .dataframe tbody tr th {\n",
       "        vertical-align: top;\n",
       "    }\n",
       "\n",
       "    .dataframe thead th {\n",
       "        text-align: right;\n",
       "    }\n",
       "</style>\n",
       "<table border=\"1\" class=\"dataframe\">\n",
       "  <thead>\n",
       "    <tr style=\"text-align: right;\">\n",
       "      <th></th>\n",
       "      <th>query_id</th>\n",
       "      <th>label1</th>\n",
       "      <th>passage_id</th>\n",
       "      <th>label2</th>\n",
       "    </tr>\n",
       "  </thead>\n",
       "  <tbody>\n",
       "    <tr>\n",
       "      <th>0</th>\n",
       "      <td>300674</td>\n",
       "      <td>0</td>\n",
       "      <td>7067032</td>\n",
       "      <td>1</td>\n",
       "    </tr>\n",
       "  </tbody>\n",
       "</table>\n",
       "</div>"
      ],
      "text/plain": [
       "   query_id  label1  passage_id  label2\n",
       "0    300674       0     7067032       1"
      ]
     },
     "execution_count": 7,
     "metadata": {},
     "output_type": "execute_result"
    }
   ],
   "source": [
    "msmarco_relevance_df.head(1)"
   ]
  },
  {
   "cell_type": "markdown",
   "metadata": {},
   "source": [
    "## Merge Bert Reranking with MSMARCO Relevance"
   ]
  },
  {
   "cell_type": "markdown",
   "metadata": {},
   "source": [
    "#### Sort Query ids"
   ]
  },
  {
   "cell_type": "code",
   "execution_count": 8,
   "metadata": {},
   "outputs": [
    {
     "data": {
      "text/plain": [
       "4925.0"
      ]
     },
     "execution_count": 8,
     "metadata": {},
     "output_type": "execute_result"
    }
   ],
   "source": [
    "ranking_relevance_merged_df = bert_output_df.merge(msmarco_relevance_df,how='left',on=['query_id','passage_id'])\n",
    "ranking_relevance_merged_df['true_label'] = ranking_relevance_merged_df['label2'].fillna(0)\n",
    "ranking_relevance_merged_df['true_label'].sum()"
   ]
  },
  {
   "cell_type": "code",
   "execution_count": 9,
   "metadata": {},
   "outputs": [
    {
     "data": {
      "text/plain": [
       "4737"
      ]
     },
     "execution_count": 9,
     "metadata": {},
     "output_type": "execute_result"
    }
   ],
   "source": [
    "len(np.unique(ranking_relevance_merged_df['query_id'].tolist()))"
   ]
  },
  {
   "cell_type": "code",
   "execution_count": 10,
   "metadata": {},
   "outputs": [
    {
     "data": {
      "text/html": [
       "<div>\n",
       "<style scoped>\n",
       "    .dataframe tbody tr th:only-of-type {\n",
       "        vertical-align: middle;\n",
       "    }\n",
       "\n",
       "    .dataframe tbody tr th {\n",
       "        vertical-align: top;\n",
       "    }\n",
       "\n",
       "    .dataframe thead th {\n",
       "        text-align: right;\n",
       "    }\n",
       "</style>\n",
       "<table border=\"1\" class=\"dataframe\">\n",
       "  <thead>\n",
       "    <tr style=\"text-align: right;\">\n",
       "      <th></th>\n",
       "      <th>query_id</th>\n",
       "      <th>passage_id</th>\n",
       "      <th>bm25_rank</th>\n",
       "      <th>query</th>\n",
       "      <th>passage</th>\n",
       "      <th>score_bert</th>\n",
       "      <th>bert_rank</th>\n",
       "      <th>label1</th>\n",
       "      <th>label2</th>\n",
       "      <th>true_label</th>\n",
       "    </tr>\n",
       "  </thead>\n",
       "  <tbody>\n",
       "    <tr>\n",
       "      <th>0</th>\n",
       "      <td>2</td>\n",
       "      <td>1782337</td>\n",
       "      <td>1</td>\n",
       "      <td>androgen receptor define</td>\n",
       "      <td>enzalutamide is an androgen receptor inhibitor...</td>\n",
       "      <td>-1.713628</td>\n",
       "      <td>34</td>\n",
       "      <td>NaN</td>\n",
       "      <td>NaN</td>\n",
       "      <td>0.0</td>\n",
       "    </tr>\n",
       "    <tr>\n",
       "      <th>1</th>\n",
       "      <td>2</td>\n",
       "      <td>1001873</td>\n",
       "      <td>2</td>\n",
       "      <td>androgen receptor define</td>\n",
       "      <td>the ar gene provides instructions for making a...</td>\n",
       "      <td>2.283455</td>\n",
       "      <td>5</td>\n",
       "      <td>NaN</td>\n",
       "      <td>NaN</td>\n",
       "      <td>0.0</td>\n",
       "    </tr>\n",
       "    <tr>\n",
       "      <th>2</th>\n",
       "      <td>2</td>\n",
       "      <td>4339075</td>\n",
       "      <td>3</td>\n",
       "      <td>androgen receptor define</td>\n",
       "      <td>during androgen independent progression  prost...</td>\n",
       "      <td>-1.800174</td>\n",
       "      <td>36</td>\n",
       "      <td>NaN</td>\n",
       "      <td>NaN</td>\n",
       "      <td>0.0</td>\n",
       "    </tr>\n",
       "    <tr>\n",
       "      <th>3</th>\n",
       "      <td>2</td>\n",
       "      <td>6285817</td>\n",
       "      <td>4</td>\n",
       "      <td>androgen receptor define</td>\n",
       "      <td>the term sarms stands for aselective androgen ...</td>\n",
       "      <td>2.404728</td>\n",
       "      <td>4</td>\n",
       "      <td>NaN</td>\n",
       "      <td>NaN</td>\n",
       "      <td>0.0</td>\n",
       "    </tr>\n",
       "    <tr>\n",
       "      <th>4</th>\n",
       "      <td>2</td>\n",
       "      <td>3634076</td>\n",
       "      <td>5</td>\n",
       "      <td>androgen receptor define</td>\n",
       "      <td>sarms or selective androgen receptor modulator...</td>\n",
       "      <td>2.029060</td>\n",
       "      <td>8</td>\n",
       "      <td>NaN</td>\n",
       "      <td>NaN</td>\n",
       "      <td>0.0</td>\n",
       "    </tr>\n",
       "  </tbody>\n",
       "</table>\n",
       "</div>"
      ],
      "text/plain": [
       "   query_id  passage_id  bm25_rank                      query  \\\n",
       "0         2     1782337          1   androgen receptor define   \n",
       "1         2     1001873          2   androgen receptor define   \n",
       "2         2     4339075          3   androgen receptor define   \n",
       "3         2     6285817          4   androgen receptor define   \n",
       "4         2     3634076          5   androgen receptor define   \n",
       "\n",
       "                                             passage  score_bert  bert_rank  \\\n",
       "0  enzalutamide is an androgen receptor inhibitor...   -1.713628         34   \n",
       "1  the ar gene provides instructions for making a...    2.283455          5   \n",
       "2  during androgen independent progression  prost...   -1.800174         36   \n",
       "3  the term sarms stands for aselective androgen ...    2.404728          4   \n",
       "4  sarms or selective androgen receptor modulator...    2.029060          8   \n",
       "\n",
       "   label1  label2  true_label  \n",
       "0     NaN     NaN         0.0  \n",
       "1     NaN     NaN         0.0  \n",
       "2     NaN     NaN         0.0  \n",
       "3     NaN     NaN         0.0  \n",
       "4     NaN     NaN         0.0  "
      ]
     },
     "execution_count": 10,
     "metadata": {},
     "output_type": "execute_result"
    }
   ],
   "source": [
    "ranking_relevance_merged_df.head(5)"
   ]
  },
  {
   "cell_type": "code",
   "execution_count": 11,
   "metadata": {},
   "outputs": [],
   "source": [
    "top100_query_ids = np.unique(ranking_relevance_merged_df[ranking_relevance_merged_df['label2'] == 1]['query_id'].tolist())"
   ]
  },
  {
   "cell_type": "code",
   "execution_count": 12,
   "metadata": {},
   "outputs": [
    {
     "data": {
      "text/plain": [
       "4737"
      ]
     },
     "execution_count": 12,
     "metadata": {},
     "output_type": "execute_result"
    }
   ],
   "source": [
    "len(top100_query_ids)"
   ]
  },
  {
   "cell_type": "markdown",
   "metadata": {},
   "source": [
    "## Label Relevance Rank"
   ]
  },
  {
   "cell_type": "markdown",
   "metadata": {},
   "source": [
    "#### Sort Query ids"
   ]
  },
  {
   "cell_type": "code",
   "execution_count": 13,
   "metadata": {},
   "outputs": [],
   "source": [
    "query_label_dict = {}\n",
    "\n",
    "query_ids_high = ranking_relevance_merged_df[(ranking_relevance_merged_df['bert_rank'] < 21) & (ranking_relevance_merged_df['label2'] == 1)]['query_id'].tolist()\n",
    "passage_ids_high = ranking_relevance_merged_df[(ranking_relevance_merged_df['bert_rank'] < 21) & (ranking_relevance_merged_df['label2'] == 1)]['passage_id'].tolist()\n",
    "query_ids_medium = ranking_relevance_merged_df[(ranking_relevance_merged_df['bert_rank'] > 20) & (ranking_relevance_merged_df['bert_rank'] < 81) & (ranking_relevance_merged_df['label2'] == 1)]['query_id'].tolist()\n",
    "passage_ids_medium = ranking_relevance_merged_df[(ranking_relevance_merged_df['bert_rank'] > 20) & (ranking_relevance_merged_df['bert_rank'] < 81) & (ranking_relevance_merged_df['label2'] == 1)]['passage_id'].tolist()\n",
    "query_ids_low = ranking_relevance_merged_df[(ranking_relevance_merged_df['bert_rank'] > 80) & (ranking_relevance_merged_df['label2'] == 1)]['query_id'].tolist()\n",
    "passage_ids_low = ranking_relevance_merged_df[(ranking_relevance_merged_df['bert_rank'] > 80) & (ranking_relevance_merged_df['label2'] == 1)]['passage_id'].tolist()"
   ]
  },
  {
   "cell_type": "code",
   "execution_count": 14,
   "metadata": {},
   "outputs": [],
   "source": [
    "high_ids = ranking_relevance_merged_df[(ranking_relevance_merged_df['bert_rank'] < 21) & (ranking_relevance_merged_df['label2'] == 1)][['query_id', 'passage_id']].values.tolist()\n",
    "medium_ids = ranking_relevance_merged_df[(ranking_relevance_merged_df['bert_rank'] > 20) & (ranking_relevance_merged_df['bert_rank'] < 81) & (ranking_relevance_merged_df['label2'] == 1)][['query_id', 'passage_id']].values.tolist()\n",
    "low_ids = ranking_relevance_merged_df[(ranking_relevance_merged_df['bert_rank'] > 80) & (ranking_relevance_merged_df['label2'] == 1)][['query_id', 'passage_id']].values.tolist()"
   ]
  },
  {
   "cell_type": "markdown",
   "metadata": {},
   "source": [
    "Bert ranks some passages equally, which means that not all queries have a full top 100. Certain passages might share a rank. Also certain queries have more than one msmarco relevant passage. It is key to label them according to passage used for the bm25 labeling."
   ]
  },
  {
   "cell_type": "code",
   "execution_count": 15,
   "metadata": {},
   "outputs": [
    {
     "data": {
      "text/plain": [
       "query_id\n",
       "2          5050\n",
       "1215       5050\n",
       "1288       5050\n",
       "2235       5050\n",
       "2798       5050\n",
       "2962       5037\n",
       "4696       5007\n",
       "4947       5050\n",
       "6217       5050\n",
       "7968       5050\n",
       "8701       5050\n",
       "8798       5050\n",
       "8854       5050\n",
       "9083       5050\n",
       "9926       5025\n",
       "10157      5050\n",
       "10205      5050\n",
       "10264      5050\n",
       "11050      5025\n",
       "12903      5050\n",
       "13397      5050\n",
       "14151      5050\n",
       "14947      5050\n",
       "14963      5050\n",
       "15039      5050\n",
       "15063      5050\n",
       "15382      4963\n",
       "15441      5050\n",
       "16559      5050\n",
       "16860      5014\n",
       "           ... \n",
       "1101723    4995\n",
       "1101739    5050\n",
       "1101761    5050\n",
       "1101784    5050\n",
       "1101806    5050\n",
       "1101822    4855\n",
       "1101861    5050\n",
       "1101868    5050\n",
       "1101870    5013\n",
       "1101871    5050\n",
       "1101902    4892\n",
       "1101906    5050\n",
       "1101961    5012\n",
       "1101977    5050\n",
       "1102001    5050\n",
       "1102028    5050\n",
       "1102088    4932\n",
       "1102099    4986\n",
       "1102121    5050\n",
       "1102177    5050\n",
       "1102206    5050\n",
       "1102235    5050\n",
       "1102240    5050\n",
       "1102262    5050\n",
       "1102300    5050\n",
       "1102325    5050\n",
       "1102330    5050\n",
       "1102351    5017\n",
       "1102393    5050\n",
       "1102400    5050\n",
       "Name: bert_rank, Length: 4737, dtype: int64"
      ]
     },
     "execution_count": 15,
     "metadata": {},
     "output_type": "execute_result"
    }
   ],
   "source": [
    "bert_output_df.groupby(['query_id'])['bert_rank'].sum()"
   ]
  },
  {
   "cell_type": "markdown",
   "metadata": {},
   "source": [
    "#### Create new Dataframe"
   ]
  },
  {
   "cell_type": "code",
   "execution_count": 16,
   "metadata": {},
   "outputs": [],
   "source": [
    "def getLabel(query_id, passage_id):\n",
    "    entry = [query_id,passage_id]\n",
    "    if entry in high_ids:\n",
    "        return \"high\"\n",
    "    elif entry in medium_ids:\n",
    "        return \"medium\"\n",
    "    elif entry in low_ids:\n",
    "        return \"low\"\n",
    "    else:\n",
    "        return \"outside scope\""
   ]
  },
  {
   "cell_type": "code",
   "execution_count": 17,
   "metadata": {},
   "outputs": [
    {
     "data": {
      "text/plain": [
       "(4737, 1)"
      ]
     },
     "execution_count": 17,
     "metadata": {},
     "output_type": "execute_result"
    }
   ],
   "source": [
    "output_df = pd.DataFrame(top100_query_ids)\n",
    "output_df.columns = ['query_id']\n",
    "output_df.shape"
   ]
  },
  {
   "cell_type": "code",
   "execution_count": 18,
   "metadata": {},
   "outputs": [
    {
     "data": {
      "text/plain": [
       "(5057, 4)"
      ]
     },
     "execution_count": 18,
     "metadata": {},
     "output_type": "execute_result"
    }
   ],
   "source": [
    "output_df = output_df.merge(msmarco_relevance_df,how='left',on=['query_id'])\n",
    "output_df.shape"
   ]
  },
  {
   "cell_type": "code",
   "execution_count": 19,
   "metadata": {},
   "outputs": [
    {
     "data": {
      "text/plain": [
       "(5057, 5)"
      ]
     },
     "execution_count": 19,
     "metadata": {},
     "output_type": "execute_result"
    }
   ],
   "source": [
    "output_df['label'] = output_df.apply(lambda x: getLabel(x.query_id, x.passage_id), axis=1)\n",
    "output_df.shape"
   ]
  },
  {
   "cell_type": "code",
   "execution_count": 20,
   "metadata": {},
   "outputs": [],
   "source": [
    "ids_of_interest = []\n",
    "vc = output_df['query_id'].value_counts()\n",
    "for k,v in vc.items():\n",
    "    if v > 1:\n",
    "        ids_of_interest.append(k)"
   ]
  },
  {
   "cell_type": "code",
   "execution_count": 21,
   "metadata": {},
   "outputs": [
    {
     "data": {
      "text/plain": [
       "(4460, 5)"
      ]
     },
     "execution_count": 21,
     "metadata": {},
     "output_type": "execute_result"
    }
   ],
   "source": [
    "output_df = output_df[~output_df['query_id'].isin(ids_of_interest)]\n",
    "output_df.shape"
   ]
  },
  {
   "cell_type": "code",
   "execution_count": 22,
   "metadata": {},
   "outputs": [],
   "source": [
    "del output_df['label1']\n",
    "del output_df['label2']"
   ]
  },
  {
   "cell_type": "code",
   "execution_count": 23,
   "metadata": {},
   "outputs": [],
   "source": [
    "output_df.to_csv(output_dir + output_filename,sep=\"\\t\", header=False,index=False)"
   ]
  }
 ],
 "metadata": {
  "kernelspec": {
   "display_name": "conda_python3",
   "language": "python",
   "name": "conda_python3"
  },
  "language_info": {
   "codemirror_mode": {
    "name": "ipython",
    "version": 3
   },
   "file_extension": ".py",
   "mimetype": "text/x-python",
   "name": "python",
   "nbconvert_exporter": "python",
   "pygments_lexer": "ipython3",
   "version": "3.6.5"
  }
 },
 "nbformat": 4,
 "nbformat_minor": 4
}
