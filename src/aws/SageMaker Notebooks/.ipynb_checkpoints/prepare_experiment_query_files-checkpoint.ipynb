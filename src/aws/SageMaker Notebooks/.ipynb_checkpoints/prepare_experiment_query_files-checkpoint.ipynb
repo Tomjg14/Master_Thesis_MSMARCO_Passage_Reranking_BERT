{
 "cells": [
  {
   "cell_type": "markdown",
   "metadata": {},
   "source": [
    "# Prepare Query Files"
   ]
  },
  {
   "cell_type": "markdown",
   "metadata": {},
   "source": [
    "This notebook contains code to gather the queries that I want to use for my assessment experiment."
   ]
  },
  {
   "cell_type": "markdown",
   "metadata": {},
   "source": [
    "## Imports"
   ]
  },
  {
   "cell_type": "code",
   "execution_count": 1,
   "metadata": {},
   "outputs": [],
   "source": [
    "import pandas as pd\n",
    "import numpy as np"
   ]
  },
  {
   "cell_type": "markdown",
   "metadata": {},
   "source": [
    "## Paths"
   ]
  },
  {
   "cell_type": "code",
   "execution_count": 2,
   "metadata": {},
   "outputs": [],
   "source": [
    "msmarco_dir = \"../data/msmarco_files/\"\n",
    "anserini_dir = \"../data/anserini_output/\"\n",
    "output_dir = \"../data/output/\""
   ]
  },
  {
   "cell_type": "markdown",
   "metadata": {},
   "source": [
    "## Load Data"
   ]
  },
  {
   "cell_type": "markdown",
   "metadata": {},
   "source": [
    "CHANGE THE FOLLOWING FILENAMES"
   ]
  },
  {
   "cell_type": "code",
   "execution_count": 3,
   "metadata": {},
   "outputs": [],
   "source": [
    "query_filename = 'queries.dev.small.tsv'\n",
    "bm25_filename = 'run_development_top100.tsv'\n",
    "bert_filename = 'bert_run_development_top100.tsv'\n",
    "label_filename = \"label_analysis_dev_small.tsv\"\n",
    "relevance_filename = 'qrels.dev.small.tsv'"
   ]
  },
  {
   "cell_type": "code",
   "execution_count": 4,
   "metadata": {},
   "outputs": [],
   "source": [
    "query_subset = pd.read_csv(msmarco_dir + query_filename,delimiter='\\t',encoding='utf-8', header=None)\n",
    "query_subset.columns = ['query_id', 'query_text']"
   ]
  },
  {
   "cell_type": "code",
   "execution_count": 5,
   "metadata": {},
   "outputs": [
    {
     "data": {
      "text/plain": [
       "(6980, 2)"
      ]
     },
     "execution_count": 5,
     "metadata": {},
     "output_type": "execute_result"
    }
   ],
   "source": [
    "query_subset.shape"
   ]
  },
  {
   "cell_type": "code",
   "execution_count": 6,
   "metadata": {},
   "outputs": [],
   "source": [
    "bm25_rankings = pd.read_csv(anserini_dir + bm25_filename,delimiter='\\t',encoding='utf-8', header=None)\n",
    "bm25_rankings.columns = ['query_id', 'passage_id', 'ranking']"
   ]
  },
  {
   "cell_type": "code",
   "execution_count": 6,
   "metadata": {},
   "outputs": [
    {
     "data": {
      "text/plain": [
       "(808500, 3)"
      ]
     },
     "execution_count": 6,
     "metadata": {},
     "output_type": "execute_result"
    }
   ],
   "source": [
    "bm25_rankings.shape"
   ]
  },
  {
   "cell_type": "code",
   "execution_count": 7,
   "metadata": {},
   "outputs": [
    {
     "data": {
      "text/html": [
       "<div>\n",
       "<style scoped>\n",
       "    .dataframe tbody tr th:only-of-type {\n",
       "        vertical-align: middle;\n",
       "    }\n",
       "\n",
       "    .dataframe tbody tr th {\n",
       "        vertical-align: top;\n",
       "    }\n",
       "\n",
       "    .dataframe thead th {\n",
       "        text-align: right;\n",
       "    }\n",
       "</style>\n",
       "<table border=\"1\" class=\"dataframe\">\n",
       "  <thead>\n",
       "    <tr style=\"text-align: right;\">\n",
       "      <th></th>\n",
       "      <th>query_id</th>\n",
       "      <th>passage_id</th>\n",
       "      <th>ranking</th>\n",
       "    </tr>\n",
       "  </thead>\n",
       "  <tbody>\n",
       "    <tr>\n",
       "      <th>74826</th>\n",
       "      <td>1074807</td>\n",
       "      <td>7564409</td>\n",
       "      <td>27</td>\n",
       "    </tr>\n",
       "    <tr>\n",
       "      <th>596174</th>\n",
       "      <td>750111</td>\n",
       "      <td>7564409</td>\n",
       "      <td>23</td>\n",
       "    </tr>\n",
       "  </tbody>\n",
       "</table>\n",
       "</div>"
      ],
      "text/plain": [
       "        query_id  passage_id  ranking\n",
       "74826    1074807     7564409       27\n",
       "596174    750111     7564409       23"
      ]
     },
     "execution_count": 7,
     "metadata": {},
     "output_type": "execute_result"
    }
   ],
   "source": [
    "bm25_rankings[bm25_rankings['passage_id'] == 7564409]"
   ]
  },
  {
   "cell_type": "code",
   "execution_count": 8,
   "metadata": {},
   "outputs": [],
   "source": [
    "labels_df = pd.read_csv(output_dir + label_filename,delimiter='\\t',encoding='utf-8',header=None)\n",
    "labels_df.columns = ['query_id', 'passage_id', 'bm25_label', 'bert_label', 'bm25_num_label', 'bert_num_label', 'label_comparison', 'query_text', 'passage_text']"
   ]
  },
  {
   "cell_type": "code",
   "execution_count": 9,
   "metadata": {},
   "outputs": [
    {
     "data": {
      "text/plain": [
       "(4460, 9)"
      ]
     },
     "execution_count": 9,
     "metadata": {},
     "output_type": "execute_result"
    }
   ],
   "source": [
    "labels_df.shape"
   ]
  },
  {
   "cell_type": "code",
   "execution_count": 10,
   "metadata": {},
   "outputs": [],
   "source": [
    "passage_df = pd.read_csv(msmarco_dir + 'collection.tsv',delimiter='\\t',encoding='utf-8',header=None)\n",
    "passage_df.columns = ['passage_id','passage_text']"
   ]
  },
  {
   "cell_type": "code",
   "execution_count": 11,
   "metadata": {},
   "outputs": [],
   "source": [
    "bert_rankings = pd.read_csv(output_dir + bert_filename, delimiter='\\t',encoding='utf-8',header=None)\n",
    "bert_rankings.columns = ['query_id', 'passage_id', 'bm25_rank', 'query_text', 'passage_text', 'bert_score', 'bert_rank']"
   ]
  },
  {
   "cell_type": "code",
   "execution_count": 12,
   "metadata": {},
   "outputs": [
    {
     "data": {
      "text/plain": [
       "(473568, 7)"
      ]
     },
     "execution_count": 12,
     "metadata": {},
     "output_type": "execute_result"
    }
   ],
   "source": [
    "bert_rankings.shape"
   ]
  },
  {
   "cell_type": "code",
   "execution_count": 13,
   "metadata": {},
   "outputs": [],
   "source": [
    "rel_labels_df = pd.read_csv(msmarco_dir + relevance_filename, delimiter='\\t',encoding='utf-8',header=None)\n",
    "rel_labels_df.columns = ['query_id', 'unknown_label', 'passage_id', 'relevance_label']"
   ]
  },
  {
   "cell_type": "code",
   "execution_count": 14,
   "metadata": {},
   "outputs": [],
   "source": [
    "idsWithRelLabel = labels_df['query_id'].tolist()\n",
    "idsWithoutRelLabel = list(np.unique(bm25_rankings[~bm25_rankings['query_id'].isin(idsWithRelLabel)]['query_id'].tolist()))"
   ]
  },
  {
   "cell_type": "code",
   "execution_count": 15,
   "metadata": {},
   "outputs": [
    {
     "data": {
      "text/plain": [
       "6980"
      ]
     },
     "execution_count": 15,
     "metadata": {},
     "output_type": "execute_result"
    }
   ],
   "source": [
    "len(idsWithoutRelLabel + idsWithRelLabel)"
   ]
  },
  {
   "cell_type": "markdown",
   "metadata": {},
   "source": [
    "## Combine Data"
   ]
  },
  {
   "cell_type": "code",
   "execution_count": 16,
   "metadata": {},
   "outputs": [
    {
     "data": {
      "text/plain": [
       "(6980, 1)"
      ]
     },
     "execution_count": 16,
     "metadata": {},
     "output_type": "execute_result"
    }
   ],
   "source": [
    "bm25_output_df = pd.DataFrame(idsWithoutRelLabel + idsWithRelLabel)\n",
    "bm25_output_df.columns = ['query_id']\n",
    "bm25_output_df.shape"
   ]
  },
  {
   "cell_type": "code",
   "execution_count": 17,
   "metadata": {},
   "outputs": [
    {
     "data": {
      "text/plain": [
       "(139596, 3)"
      ]
     },
     "execution_count": 17,
     "metadata": {},
     "output_type": "execute_result"
    }
   ],
   "source": [
    "bm25_output_df = bm25_output_df.merge(bm25_rankings[bm25_rankings['ranking'] < 21],how='left',on=['query_id'])\n",
    "bm25_output_df.shape"
   ]
  },
  {
   "cell_type": "code",
   "execution_count": 18,
   "metadata": {},
   "outputs": [
    {
     "data": {
      "text/plain": [
       "(139596, 4)"
      ]
     },
     "execution_count": 18,
     "metadata": {},
     "output_type": "execute_result"
    }
   ],
   "source": [
    "bm25_output_df = bm25_output_df.merge(query_subset,how='left',on=['query_id'])\n",
    "bm25_output_df.shape"
   ]
  },
  {
   "cell_type": "code",
   "execution_count": 19,
   "metadata": {},
   "outputs": [
    {
     "data": {
      "text/plain": [
       "(139596, 5)"
      ]
     },
     "execution_count": 19,
     "metadata": {},
     "output_type": "execute_result"
    }
   ],
   "source": [
    "bm25_output_df = bm25_output_df.merge(passage_df,how='left',on=['passage_id'])\n",
    "bm25_output_df.shape"
   ]
  },
  {
   "cell_type": "code",
   "execution_count": 20,
   "metadata": {},
   "outputs": [
    {
     "name": "stdout",
     "output_type": "stream",
     "text": [
      "['high' 'low' 'medium' 'nan']\n"
     ]
    },
    {
     "data": {
      "text/plain": [
       "(139596, 6)"
      ]
     },
     "execution_count": 20,
     "metadata": {},
     "output_type": "execute_result"
    }
   ],
   "source": [
    "bm25_output_df = bm25_output_df.merge(labels_df[['query_id','bm25_label']],how='left',on=['query_id'])\n",
    "print(np.unique(bm25_output_df['bm25_label'].tolist()))\n",
    "bm25_output_df.shape"
   ]
  },
  {
   "cell_type": "code",
   "execution_count": 21,
   "metadata": {},
   "outputs": [
    {
     "name": "stdout",
     "output_type": "stream",
     "text": [
      "['high' 'low' 'medium' 'outside scope']\n"
     ]
    },
    {
     "data": {
      "text/plain": [
       "(139596, 6)"
      ]
     },
     "execution_count": 21,
     "metadata": {},
     "output_type": "execute_result"
    }
   ],
   "source": [
    "bm25_output_df['bm25_label'] = bm25_output_df['bm25_label'].fillna('outside scope')\n",
    "print(np.unique(bm25_output_df['bm25_label'].tolist()))\n",
    "bm25_output_df.shape"
   ]
  },
  {
   "cell_type": "code",
   "execution_count": 22,
   "metadata": {},
   "outputs": [
    {
     "data": {
      "text/plain": [
       "(139596, 7)"
      ]
     },
     "execution_count": 22,
     "metadata": {},
     "output_type": "execute_result"
    }
   ],
   "source": [
    "bm25_output_df = bm25_output_df.merge(rel_labels_df[['query_id','passage_id','relevance_label']],how='left',on=['query_id','passage_id'])\n",
    "bm25_output_df.shape"
   ]
  },
  {
   "cell_type": "code",
   "execution_count": 23,
   "metadata": {},
   "outputs": [],
   "source": [
    "bm25_output_df['relevance_label'] = bm25_output_df['relevance_label'].fillna(0.0)"
   ]
  },
  {
   "cell_type": "code",
   "execution_count": 24,
   "metadata": {},
   "outputs": [
    {
     "name": "stdout",
     "output_type": "stream",
     "text": [
      "high\n",
      "3248.8\n",
      "outside scope\n",
      "2520.0\n",
      "medium\n",
      "1063.0\n",
      "low\n",
      "148.0\n"
     ]
    }
   ],
   "source": [
    "vc = bm25_output_df['bm25_label'].value_counts()\n",
    "for k, v in vc.items():\n",
    "    print(k)\n",
    "    print(v/20)"
   ]
  },
  {
   "cell_type": "markdown",
   "metadata": {},
   "source": [
    "#### BERT output dataframe"
   ]
  },
  {
   "cell_type": "code",
   "execution_count": 25,
   "metadata": {},
   "outputs": [
    {
     "data": {
      "text/plain": [
       "(4460, 1)"
      ]
     },
     "execution_count": 25,
     "metadata": {},
     "output_type": "execute_result"
    }
   ],
   "source": [
    "bert_output_df = pd.DataFrame(idsWithRelLabel)\n",
    "bert_output_df.columns = ['query_id']\n",
    "bert_output_df.shape"
   ]
  },
  {
   "cell_type": "code",
   "execution_count": 26,
   "metadata": {},
   "outputs": [
    {
     "data": {
      "text/plain": [
       "(89841, 3)"
      ]
     },
     "execution_count": 26,
     "metadata": {},
     "output_type": "execute_result"
    }
   ],
   "source": [
    "bert_output_df = bert_output_df.merge(bert_rankings[bert_rankings['bert_rank'] < 21][['query_id','passage_id','bert_rank']],how='left',on=['query_id'])\n",
    "bert_output_df.shape"
   ]
  },
  {
   "cell_type": "code",
   "execution_count": 27,
   "metadata": {},
   "outputs": [
    {
     "data": {
      "text/plain": [
       "(89841, 3)"
      ]
     },
     "execution_count": 27,
     "metadata": {},
     "output_type": "execute_result"
    }
   ],
   "source": [
    "bert_output_df = bert_output_df.sort_values(by=['query_id','bert_rank'])\n",
    "bert_output_df.shape"
   ]
  },
  {
   "cell_type": "markdown",
   "metadata": {},
   "source": [
    "Be aware: bert sometimes gave multiple query passage combinations the same rank. This means that instead of only top 20 you sometimes get top 21, 22 or more. For my experiment I only need 20 passages thus I ranked them on bert rank and later on I will only take the first 20 passages. "
   ]
  },
  {
   "cell_type": "code",
   "execution_count": 28,
   "metadata": {},
   "outputs": [],
   "source": [
    "ids = []\n",
    "vc = bert_output_df['query_id'].value_counts()\n",
    "for k, v in vc.items():\n",
    "    if v > 20:\n",
    "        ids.append(k)"
   ]
  },
  {
   "cell_type": "code",
   "execution_count": 30,
   "metadata": {},
   "outputs": [
    {
     "data": {
      "text/plain": [
       "(89841, 4)"
      ]
     },
     "execution_count": 30,
     "metadata": {},
     "output_type": "execute_result"
    }
   ],
   "source": [
    "bert_output_df = bert_output_df.merge(query_subset,how='left',on=['query_id'])\n",
    "bert_output_df.shape"
   ]
  },
  {
   "cell_type": "code",
   "execution_count": 31,
   "metadata": {},
   "outputs": [
    {
     "data": {
      "text/plain": [
       "(89841, 5)"
      ]
     },
     "execution_count": 31,
     "metadata": {},
     "output_type": "execute_result"
    }
   ],
   "source": [
    "bert_output_df = bert_output_df.merge(passage_df,how='left',on=['passage_id'])\n",
    "bert_output_df.shape"
   ]
  },
  {
   "cell_type": "code",
   "execution_count": 32,
   "metadata": {},
   "outputs": [
    {
     "name": "stdout",
     "output_type": "stream",
     "text": [
      "['high' 'low' 'medium']\n"
     ]
    },
    {
     "data": {
      "text/plain": [
       "(89841, 6)"
      ]
     },
     "execution_count": 32,
     "metadata": {},
     "output_type": "execute_result"
    }
   ],
   "source": [
    "bert_output_df = bert_output_df.merge(labels_df[['query_id','bert_label']],how='left',on=['query_id'])\n",
    "print(np.unique(bert_output_df['bert_label'].tolist()))\n",
    "bert_output_df.shape"
   ]
  },
  {
   "cell_type": "markdown",
   "metadata": {},
   "source": [
    "I only took the queries with the msmarco relevant label inside top 100 and reranked those with bert. That is why in this dataframe you wont find any passages with \"outside scope\" label."
   ]
  },
  {
   "cell_type": "code",
   "execution_count": 33,
   "metadata": {},
   "outputs": [
    {
     "data": {
      "text/plain": [
       "(89841, 7)"
      ]
     },
     "execution_count": 33,
     "metadata": {},
     "output_type": "execute_result"
    }
   ],
   "source": [
    "bert_output_df = bert_output_df.merge(rel_labels_df[['query_id','passage_id','relevance_label']],how='left',on=['query_id','passage_id'])\n",
    "bert_output_df.shape"
   ]
  },
  {
   "cell_type": "code",
   "execution_count": 34,
   "metadata": {},
   "outputs": [
    {
     "data": {
      "text/plain": [
       "(89841, 7)"
      ]
     },
     "execution_count": 34,
     "metadata": {},
     "output_type": "execute_result"
    }
   ],
   "source": [
    "bert_output_df['relevance_label'] = bert_output_df['relevance_label'].fillna(0.0)\n",
    "bert_output_df.shape"
   ]
  },
  {
   "cell_type": "code",
   "execution_count": 35,
   "metadata": {},
   "outputs": [
    {
     "name": "stdout",
     "output_type": "stream",
     "text": [
      "high\n",
      "4175\n",
      "medium\n",
      "313\n",
      "low\n",
      "3\n"
     ]
    }
   ],
   "source": [
    "import math\n",
    "vc = bert_output_df['bert_label'].value_counts()\n",
    "for k, v in vc.items():\n",
    "    print(k)\n",
    "    print(math.floor(v/20))"
   ]
  },
  {
   "cell_type": "code",
   "execution_count": 36,
   "metadata": {},
   "outputs": [
    {
     "data": {
      "text/html": [
       "<div>\n",
       "<style scoped>\n",
       "    .dataframe tbody tr th:only-of-type {\n",
       "        vertical-align: middle;\n",
       "    }\n",
       "\n",
       "    .dataframe tbody tr th {\n",
       "        vertical-align: top;\n",
       "    }\n",
       "\n",
       "    .dataframe thead th {\n",
       "        text-align: right;\n",
       "    }\n",
       "</style>\n",
       "<table border=\"1\" class=\"dataframe\">\n",
       "  <thead>\n",
       "    <tr style=\"text-align: right;\">\n",
       "      <th></th>\n",
       "      <th>query_id</th>\n",
       "      <th>passage_id</th>\n",
       "      <th>bert_rank</th>\n",
       "      <th>query_text</th>\n",
       "      <th>passage_text</th>\n",
       "      <th>bert_label</th>\n",
       "      <th>relevance_label</th>\n",
       "    </tr>\n",
       "  </thead>\n",
       "  <tbody>\n",
       "    <tr>\n",
       "      <th>0</th>\n",
       "      <td>2</td>\n",
       "      <td>4339068</td>\n",
       "      <td>1</td>\n",
       "      <td>Androgen receptor define</td>\n",
       "      <td>The androgen receptor (AR), also known as NR3C...</td>\n",
       "      <td>high</td>\n",
       "      <td>1.0</td>\n",
       "    </tr>\n",
       "    <tr>\n",
       "      <th>1</th>\n",
       "      <td>2</td>\n",
       "      <td>378374</td>\n",
       "      <td>2</td>\n",
       "      <td>Androgen receptor define</td>\n",
       "      <td>An androgen (from Greek andro meaning male hum...</td>\n",
       "      <td>high</td>\n",
       "      <td>0.0</td>\n",
       "    </tr>\n",
       "    <tr>\n",
       "      <th>2</th>\n",
       "      <td>2</td>\n",
       "      <td>3575680</td>\n",
       "      <td>3</td>\n",
       "      <td>Androgen receptor define</td>\n",
       "      <td>Androgen (from Greek andro meaning male human ...</td>\n",
       "      <td>high</td>\n",
       "      <td>0.0</td>\n",
       "    </tr>\n",
       "    <tr>\n",
       "      <th>3</th>\n",
       "      <td>2</td>\n",
       "      <td>6285817</td>\n",
       "      <td>4</td>\n",
       "      <td>Androgen receptor define</td>\n",
       "      <td>The term SARMS stands for âSelective Androge...</td>\n",
       "      <td>high</td>\n",
       "      <td>0.0</td>\n",
       "    </tr>\n",
       "    <tr>\n",
       "      <th>4</th>\n",
       "      <td>2</td>\n",
       "      <td>1001873</td>\n",
       "      <td>5</td>\n",
       "      <td>Androgen receptor define</td>\n",
       "      <td>The AR gene provides instructions for making a...</td>\n",
       "      <td>high</td>\n",
       "      <td>0.0</td>\n",
       "    </tr>\n",
       "    <tr>\n",
       "      <th>5</th>\n",
       "      <td>2</td>\n",
       "      <td>7496503</td>\n",
       "      <td>6</td>\n",
       "      <td>Androgen receptor define</td>\n",
       "      <td>The androgen receptor gene is more than 90 kb ...</td>\n",
       "      <td>high</td>\n",
       "      <td>0.0</td>\n",
       "    </tr>\n",
       "    <tr>\n",
       "      <th>6</th>\n",
       "      <td>2</td>\n",
       "      <td>6920058</td>\n",
       "      <td>7</td>\n",
       "      <td>Androgen receptor define</td>\n",
       "      <td>The AR gene provides instructions for making a...</td>\n",
       "      <td>high</td>\n",
       "      <td>0.0</td>\n",
       "    </tr>\n",
       "    <tr>\n",
       "      <th>7</th>\n",
       "      <td>2</td>\n",
       "      <td>3634076</td>\n",
       "      <td>8</td>\n",
       "      <td>Androgen receptor define</td>\n",
       "      <td>SARMS or Selective Androgen Receptor Modulator...</td>\n",
       "      <td>high</td>\n",
       "      <td>0.0</td>\n",
       "    </tr>\n",
       "    <tr>\n",
       "      <th>8</th>\n",
       "      <td>2</td>\n",
       "      <td>6285819</td>\n",
       "      <td>9</td>\n",
       "      <td>Androgen receptor define</td>\n",
       "      <td>SARMS stands for selective androgen receptor m...</td>\n",
       "      <td>high</td>\n",
       "      <td>0.0</td>\n",
       "    </tr>\n",
       "    <tr>\n",
       "      <th>9</th>\n",
       "      <td>2</td>\n",
       "      <td>4542570</td>\n",
       "      <td>10</td>\n",
       "      <td>Androgen receptor define</td>\n",
       "      <td>Antiandrogens, also known as androgen antagoni...</td>\n",
       "      <td>high</td>\n",
       "      <td>0.0</td>\n",
       "    </tr>\n",
       "  </tbody>\n",
       "</table>\n",
       "</div>"
      ],
      "text/plain": [
       "   query_id  passage_id  bert_rank                 query_text  \\\n",
       "0         2     4339068          1   Androgen receptor define   \n",
       "1         2      378374          2   Androgen receptor define   \n",
       "2         2     3575680          3   Androgen receptor define   \n",
       "3         2     6285817          4   Androgen receptor define   \n",
       "4         2     1001873          5   Androgen receptor define   \n",
       "5         2     7496503          6   Androgen receptor define   \n",
       "6         2     6920058          7   Androgen receptor define   \n",
       "7         2     3634076          8   Androgen receptor define   \n",
       "8         2     6285819          9   Androgen receptor define   \n",
       "9         2     4542570         10   Androgen receptor define   \n",
       "\n",
       "                                        passage_text bert_label  \\\n",
       "0  The androgen receptor (AR), also known as NR3C...       high   \n",
       "1  An androgen (from Greek andro meaning male hum...       high   \n",
       "2  Androgen (from Greek andro meaning male human ...       high   \n",
       "3  The term SARMS stands for âSelective Androge...       high   \n",
       "4  The AR gene provides instructions for making a...       high   \n",
       "5  The androgen receptor gene is more than 90 kb ...       high   \n",
       "6  The AR gene provides instructions for making a...       high   \n",
       "7  SARMS or Selective Androgen Receptor Modulator...       high   \n",
       "8  SARMS stands for selective androgen receptor m...       high   \n",
       "9  Antiandrogens, also known as androgen antagoni...       high   \n",
       "\n",
       "   relevance_label  \n",
       "0              1.0  \n",
       "1              0.0  \n",
       "2              0.0  \n",
       "3              0.0  \n",
       "4              0.0  \n",
       "5              0.0  \n",
       "6              0.0  \n",
       "7              0.0  \n",
       "8              0.0  \n",
       "9              0.0  "
      ]
     },
     "execution_count": 36,
     "metadata": {},
     "output_type": "execute_result"
    }
   ],
   "source": [
    "bert_output_df[bert_output_df['bert_label'] == 'high'].head(10)"
   ]
  },
  {
   "cell_type": "markdown",
   "metadata": {},
   "source": [
    "## Write to TSV file"
   ]
  },
  {
   "cell_type": "markdown",
   "metadata": {},
   "source": [
    "#### BM25"
   ]
  },
  {
   "cell_type": "code",
   "execution_count": 37,
   "metadata": {},
   "outputs": [],
   "source": [
    "bm25_output_dir = output_dir + \"experiment_files/tsv/bm25/\""
   ]
  },
  {
   "cell_type": "code",
   "execution_count": 38,
   "metadata": {},
   "outputs": [],
   "source": [
    "labels = ['outside scope', 'low', 'medium', 'high']"
   ]
  },
  {
   "cell_type": "code",
   "execution_count": 39,
   "metadata": {},
   "outputs": [],
   "source": [
    "for label in labels:\n",
    "    temp_df = bm25_output_df[bm25_output_df['bm25_label'] == label]\n",
    "    query_ids = np.unique(temp_df['query_id'].tolist())\n",
    "    for query_id in query_ids:\n",
    "        query_top20_df = temp_df[temp_df['query_id'] == query_id]\n",
    "        if query_top20_df.shape[0] == 20:\n",
    "            if label == 'outside scope':\n",
    "                filename = bm25_output_dir + 'outside_scope/' + str(query_id) + '.tsv'\n",
    "            else:\n",
    "                filename = bm25_output_dir + label + '/' + str(query_id) + '.tsv'\n",
    "            query_top20_df.to_csv(filename,sep=\"\\t\", header=False,index=False)"
   ]
  },
  {
   "cell_type": "markdown",
   "metadata": {},
   "source": [
    "#### BERT"
   ]
  },
  {
   "cell_type": "code",
   "execution_count": 40,
   "metadata": {},
   "outputs": [],
   "source": [
    "bert_output_dir = output_dir + \"experiment_files/tsv/bert/\""
   ]
  },
  {
   "cell_type": "code",
   "execution_count": 41,
   "metadata": {},
   "outputs": [],
   "source": [
    "labels = ['low', 'medium', 'high']"
   ]
  },
  {
   "cell_type": "code",
   "execution_count": 42,
   "metadata": {},
   "outputs": [],
   "source": [
    "for label in labels:\n",
    "    temp_df = bert_output_df[bert_output_df['bert_label'] == label]\n",
    "    query_ids = np.unique(temp_df['query_id'].tolist())\n",
    "    for query_id in query_ids:\n",
    "        query_top20_df = temp_df[temp_df['query_id'] == query_id]\n",
    "        if query_top20_df.shape[0] == 20:\n",
    "            filename = bert_output_dir + label + \"/\" + str(query_id) + '.tsv'\n",
    "            query_top20_df.to_csv(filename,sep=\"\\t\",header=False,index=False)\n",
    "        elif query_top20_df.shape[0] > 20:\n",
    "            query_top20_df = query_top20_df.iloc[:20]\n",
    "            filename = bert_output_dir + label + \"/\" + str(query_id) + '.tsv'\n",
    "            query_top20_df.to_csv(filename,sep=\"\\t\",header=False,index=False)"
   ]
  },
  {
   "cell_type": "markdown",
   "metadata": {},
   "source": [
    "## Write to JSON"
   ]
  },
  {
   "cell_type": "markdown",
   "metadata": {},
   "source": [
    "#### BM25"
   ]
  },
  {
   "cell_type": "code",
   "execution_count": 43,
   "metadata": {},
   "outputs": [],
   "source": [
    "bm25_output_dir = output_dir + \"experiment_files/json/bm25/\""
   ]
  },
  {
   "cell_type": "code",
   "execution_count": 44,
   "metadata": {},
   "outputs": [],
   "source": [
    "labels = ['outside scope', 'low', 'medium', 'high']"
   ]
  },
  {
   "cell_type": "code",
   "execution_count": 45,
   "metadata": {},
   "outputs": [],
   "source": [
    "for label in labels:\n",
    "    temp_df = bm25_output_df[bm25_output_df['bm25_label'] == label]\n",
    "    query_ids = np.unique(temp_df['query_id'].tolist())\n",
    "    for query_id in query_ids:\n",
    "        query_top20_df = temp_df[temp_df['query_id'] == query_id]\n",
    "        if query_top20_df.shape[0] == 20:\n",
    "            if label == 'outside scope':\n",
    "                filename = bm25_output_dir + 'outside_scope/' + str(query_id) + '.json'\n",
    "            else:\n",
    "                filename = bm25_output_dir + label + '/' + str(query_id) + '.json'\n",
    "            query_top20_df.to_json(filename,orient='records')"
   ]
  },
  {
   "cell_type": "code",
   "execution_count": 46,
   "metadata": {},
   "outputs": [],
   "source": [
    "example_file = pd.read_json(bm25_output_dir + \"outside_scope/1102335.json\")"
   ]
  },
  {
   "cell_type": "code",
   "execution_count": 47,
   "metadata": {},
   "outputs": [
    {
     "data": {
      "text/html": [
       "<div>\n",
       "<style scoped>\n",
       "    .dataframe tbody tr th:only-of-type {\n",
       "        vertical-align: middle;\n",
       "    }\n",
       "\n",
       "    .dataframe tbody tr th {\n",
       "        vertical-align: top;\n",
       "    }\n",
       "\n",
       "    .dataframe thead th {\n",
       "        text-align: right;\n",
       "    }\n",
       "</style>\n",
       "<table border=\"1\" class=\"dataframe\">\n",
       "  <thead>\n",
       "    <tr style=\"text-align: right;\">\n",
       "      <th></th>\n",
       "      <th>bm25_label</th>\n",
       "      <th>passage_id</th>\n",
       "      <th>passage_text</th>\n",
       "      <th>query_id</th>\n",
       "      <th>query_text</th>\n",
       "      <th>ranking</th>\n",
       "      <th>relevance_label</th>\n",
       "    </tr>\n",
       "  </thead>\n",
       "  <tbody>\n",
       "    <tr>\n",
       "      <th>0</th>\n",
       "      <td>outside scope</td>\n",
       "      <td>7826611</td>\n",
       "      <td>Your question why don't people view a car sole...</td>\n",
       "      <td>1102335</td>\n",
       "      <td>why do people buy cars</td>\n",
       "      <td>1</td>\n",
       "      <td>0</td>\n",
       "    </tr>\n",
       "  </tbody>\n",
       "</table>\n",
       "</div>"
      ],
      "text/plain": [
       "      bm25_label  passage_id  \\\n",
       "0  outside scope     7826611   \n",
       "\n",
       "                                        passage_text  query_id  \\\n",
       "0  Your question why don't people view a car sole...   1102335   \n",
       "\n",
       "               query_text  ranking  relevance_label  \n",
       "0  why do people buy cars        1                0  "
      ]
     },
     "execution_count": 47,
     "metadata": {},
     "output_type": "execute_result"
    }
   ],
   "source": [
    "example_file.head(1)"
   ]
  },
  {
   "cell_type": "markdown",
   "metadata": {},
   "source": [
    "#### BERT"
   ]
  },
  {
   "cell_type": "code",
   "execution_count": 48,
   "metadata": {},
   "outputs": [],
   "source": [
    "bert_output_dir = output_dir + \"experiment_files/json/bert/\""
   ]
  },
  {
   "cell_type": "code",
   "execution_count": 49,
   "metadata": {},
   "outputs": [],
   "source": [
    "labels = ['low', 'medium', 'high']"
   ]
  },
  {
   "cell_type": "code",
   "execution_count": 50,
   "metadata": {},
   "outputs": [],
   "source": [
    "for label in labels:\n",
    "    temp_df = bert_output_df[bert_output_df['bert_label'] == label]\n",
    "    query_ids = np.unique(temp_df['query_id'].tolist())\n",
    "    for query_id in query_ids:\n",
    "        query_top20_df = temp_df[temp_df['query_id'] == query_id]\n",
    "        if query_top20_df.shape[0] == 20:\n",
    "            filename = bert_output_dir + label + '/' + str(query_id) + '.json'\n",
    "            query_top20_df.to_json(filename,orient='records')\n",
    "        elif query_top20_df.shape[0] > 20:\n",
    "            query_top20_df = query_top20_df.iloc[:20]\n",
    "            filename = bert_output_dir + label + '/' + str(query_id) + '.json'\n",
    "            query_top20_df.to_json(filename,orient='records')"
   ]
  }
 ],
 "metadata": {
  "kernelspec": {
   "display_name": "Python 3",
   "language": "python",
   "name": "python3"
  },
  "language_info": {
   "codemirror_mode": {
    "name": "ipython",
    "version": 3
   },
   "file_extension": ".py",
   "mimetype": "text/x-python",
   "name": "python",
   "nbconvert_exporter": "python",
   "pygments_lexer": "ipython3",
   "version": "3.5.4"
  }
 },
 "nbformat": 4,
 "nbformat_minor": 4
}
