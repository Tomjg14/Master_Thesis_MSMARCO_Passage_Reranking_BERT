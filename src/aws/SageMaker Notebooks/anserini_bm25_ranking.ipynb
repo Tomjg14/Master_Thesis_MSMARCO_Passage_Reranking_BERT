{
 "cells": [
  {
   "cell_type": "markdown",
   "metadata": {},
   "source": [
    "# Anserini BM25 Ranking"
   ]
  },
  {
   "cell_type": "markdown",
   "metadata": {},
   "source": [
    "This notebook explains how to retrieve top N passages per query using BM25 with Anserini.\n",
    "The commands are note executed on AWS, but on the rure-vm server."
   ]
  },
  {
   "cell_type": "markdown",
   "metadata": {},
   "source": [
    "## Create JSON files for indexing:"
   ]
  },
  {
   "cell_type": "markdown",
   "metadata": {},
   "source": [
    "```\n",
    "python3 ./src/main/python/msmarco/convert_collection_to_jsonl.py --collection_path=${MSMARCO_DIR}/collection.tsv --output_folder=${MSMARCO_DIR}/collection_jsonl\n",
    "```"
   ]
  },
  {
   "cell_type": "markdown",
   "metadata": {},
   "source": [
    "## Indexing:"
   ]
  },
  {
   "cell_type": "markdown",
   "metadata": {},
   "source": [
    "```\n",
    "sh ./target/appassembler/bin/IndexCollection -collection JsonCollection -generator LuceneDocumentGenerator -threads 9 -input ${MSMARCO_DIR}/collection_jsonl -index msmarco-passage/lucene-index-msmarco -storePositions -storeDocvectors -storeRawDocs\n",
    "```"
   ]
  },
  {
   "cell_type": "markdown",
   "metadata": {},
   "source": [
    "## Retrieve top N passages per query:"
   ]
  },
  {
   "cell_type": "markdown",
   "metadata": {},
   "source": [
    "QUERY_FILENAME: the file that contains the queries (columns: query\\_id, query\\_text)\n",
    "\n",
    "OUTPUT_FILENAME: the file that is created containing query with top N passages (columns: query\\_id, passage\\_id, bm25\\_ranking)"
   ]
  },
  {
   "cell_type": "markdown",
   "metadata": {},
   "source": [
    "```\n",
    "./target/appassembler/bin/SearchMsmarco  -hits N -index msmarco-passage/lucene-index-msmarco -qid_queries ${QUERIES_DIR}/${QUERY_FILENAME}.tsv -output ${QUERIES_DIR}/${OUTPUT_FILENAME}.tsv\n",
    "```"
   ]
  },
  {
   "cell_type": "code",
   "execution_count": null,
   "metadata": {},
   "outputs": [],
   "source": []
  }
 ],
 "metadata": {
  "kernelspec": {
   "display_name": "conda_python3",
   "language": "python",
   "name": "conda_python3"
  },
  "language_info": {
   "codemirror_mode": {
    "name": "ipython",
    "version": 3
   },
   "file_extension": ".py",
   "mimetype": "text/x-python",
   "name": "python",
   "nbconvert_exporter": "python",
   "pygments_lexer": "ipython3",
   "version": "3.6.5"
  }
 },
 "nbformat": 4,
 "nbformat_minor": 4
}
