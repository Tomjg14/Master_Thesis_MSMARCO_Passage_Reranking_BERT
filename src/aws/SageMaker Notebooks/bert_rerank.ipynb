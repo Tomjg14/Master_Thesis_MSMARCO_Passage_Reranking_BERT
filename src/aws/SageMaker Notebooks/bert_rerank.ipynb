{
 "cells": [
  {
   "cell_type": "markdown",
   "metadata": {},
   "source": [
    "# 2. BERT Rerank"
   ]
  },
  {
   "cell_type": "markdown",
   "metadata": {},
   "source": [
    "## Imports"
   ]
  },
  {
   "cell_type": "code",
   "execution_count": 1,
   "metadata": {},
   "outputs": [
    {
     "name": "stdout",
     "output_type": "stream",
     "text": [
      "Collecting pytorch-pretrained-bert\n",
      "\u001b[?25l  Downloading https://files.pythonhosted.org/packages/d7/e0/c08d5553b89973d9a240605b9c12404bcf8227590de62bae27acbcfe076b/pytorch_pretrained_bert-0.6.2-py3-none-any.whl (123kB)\n",
      "\u001b[K    100% |████████████████████████████████| 133kB 21.7MB/s ta 0:00:01\n",
      "\u001b[?25hRequirement already satisfied: tqdm in /home/ec2-user/anaconda3/envs/pytorch_p36/lib/python3.6/site-packages (from pytorch-pretrained-bert) (4.38.0)\n",
      "Requirement already satisfied: boto3 in /home/ec2-user/anaconda3/envs/pytorch_p36/lib/python3.6/site-packages (from pytorch-pretrained-bert) (1.11.14)\n",
      "Requirement already satisfied: torch>=0.4.1 in /home/ec2-user/anaconda3/envs/pytorch_p36/lib/python3.6/site-packages (from pytorch-pretrained-bert) (1.3.1)\n",
      "Collecting regex (from pytorch-pretrained-bert)\n",
      "\u001b[?25l  Downloading https://files.pythonhosted.org/packages/ed/36/fd20c656fb4a4fbe8db367ea274c3465b81cb2e01ffc57b9980f0578e131/regex-2020.2.20-cp36-cp36m-manylinux1_x86_64.whl (690kB)\n",
      "\u001b[K    100% |████████████████████████████████| 696kB 28.2MB/s ta 0:00:01\n",
      "\u001b[?25hRequirement already satisfied: requests in /home/ec2-user/anaconda3/envs/pytorch_p36/lib/python3.6/site-packages (from pytorch-pretrained-bert) (2.20.0)\n",
      "Requirement already satisfied: numpy in /home/ec2-user/anaconda3/envs/pytorch_p36/lib/python3.6/site-packages (from pytorch-pretrained-bert) (1.15.4)\n",
      "Requirement already satisfied: botocore<1.15.0,>=1.14.14 in /home/ec2-user/anaconda3/envs/pytorch_p36/lib/python3.6/site-packages (from boto3->pytorch-pretrained-bert) (1.14.14)\n",
      "Requirement already satisfied: jmespath<1.0.0,>=0.7.1 in /home/ec2-user/anaconda3/envs/pytorch_p36/lib/python3.6/site-packages (from boto3->pytorch-pretrained-bert) (0.9.4)\n",
      "Requirement already satisfied: s3transfer<0.4.0,>=0.3.0 in /home/ec2-user/anaconda3/envs/pytorch_p36/lib/python3.6/site-packages (from boto3->pytorch-pretrained-bert) (0.3.3)\n",
      "Requirement already satisfied: chardet<3.1.0,>=3.0.2 in /home/ec2-user/anaconda3/envs/pytorch_p36/lib/python3.6/site-packages (from requests->pytorch-pretrained-bert) (3.0.4)\n",
      "Requirement already satisfied: urllib3<1.25,>=1.21.1 in /home/ec2-user/anaconda3/envs/pytorch_p36/lib/python3.6/site-packages (from requests->pytorch-pretrained-bert) (1.23)\n",
      "Requirement already satisfied: certifi>=2017.4.17 in /home/ec2-user/anaconda3/envs/pytorch_p36/lib/python3.6/site-packages (from requests->pytorch-pretrained-bert) (2019.9.11)\n",
      "Requirement already satisfied: idna<2.8,>=2.5 in /home/ec2-user/anaconda3/envs/pytorch_p36/lib/python3.6/site-packages (from requests->pytorch-pretrained-bert) (2.6)\n",
      "Requirement already satisfied: python-dateutil<3.0.0,>=2.1 in /home/ec2-user/anaconda3/envs/pytorch_p36/lib/python3.6/site-packages (from botocore<1.15.0,>=1.14.14->boto3->pytorch-pretrained-bert) (2.7.3)\n",
      "Requirement already satisfied: docutils<0.16,>=0.10 in /home/ec2-user/anaconda3/envs/pytorch_p36/lib/python3.6/site-packages (from botocore<1.15.0,>=1.14.14->boto3->pytorch-pretrained-bert) (0.14)\n",
      "Requirement already satisfied: six>=1.5 in /home/ec2-user/anaconda3/envs/pytorch_p36/lib/python3.6/site-packages (from python-dateutil<3.0.0,>=2.1->botocore<1.15.0,>=1.14.14->boto3->pytorch-pretrained-bert) (1.11.0)\n",
      "\u001b[31mfastai 1.0.59 requires nvidia-ml-py3, which is not installed.\u001b[0m\n",
      "Installing collected packages: regex, pytorch-pretrained-bert\n",
      "Successfully installed pytorch-pretrained-bert-0.6.2 regex-2020.2.20\n",
      "\u001b[33mYou are using pip version 10.0.1, however version 20.0.2 is available.\n",
      "You should consider upgrading via the 'pip install --upgrade pip' command.\u001b[0m\n",
      "Collecting livelossplot\n",
      "  Downloading https://files.pythonhosted.org/packages/11/df/67ad42757269422c0ef753e69ac64e78d5b3457bac66c85e23bbb1b08b1f/livelossplot-0.4.2-py3-none-any.whl\n",
      "Requirement already satisfied: notebook in /home/ec2-user/anaconda3/envs/pytorch_p36/lib/python3.6/site-packages (from livelossplot) (5.5.0)\n",
      "Requirement already satisfied: matplotlib in /home/ec2-user/anaconda3/envs/pytorch_p36/lib/python3.6/site-packages (from livelossplot) (3.0.3)\n",
      "Requirement already satisfied: tornado>=4 in /home/ec2-user/anaconda3/envs/pytorch_p36/lib/python3.6/site-packages (from notebook->livelossplot) (5.0.2)\n",
      "Requirement already satisfied: ipykernel in /home/ec2-user/anaconda3/envs/pytorch_p36/lib/python3.6/site-packages (from notebook->livelossplot) (4.8.2)\n",
      "Requirement already satisfied: traitlets>=4.2.1 in /home/ec2-user/anaconda3/envs/pytorch_p36/lib/python3.6/site-packages (from notebook->livelossplot) (4.3.2)\n",
      "Requirement already satisfied: nbformat in /home/ec2-user/anaconda3/envs/pytorch_p36/lib/python3.6/site-packages (from notebook->livelossplot) (4.4.0)\n",
      "Requirement already satisfied: terminado>=0.8.1 in /home/ec2-user/anaconda3/envs/pytorch_p36/lib/python3.6/site-packages (from notebook->livelossplot) (0.8.1)\n",
      "Requirement already satisfied: jupyter-client>=5.2.0 in /home/ec2-user/anaconda3/envs/pytorch_p36/lib/python3.6/site-packages (from notebook->livelossplot) (5.2.3)\n",
      "Requirement already satisfied: nbconvert in /home/ec2-user/anaconda3/envs/pytorch_p36/lib/python3.6/site-packages (from notebook->livelossplot) (5.4.1)\n",
      "Requirement already satisfied: jupyter-core>=4.4.0 in /home/ec2-user/anaconda3/envs/pytorch_p36/lib/python3.6/site-packages (from notebook->livelossplot) (4.4.0)\n",
      "Requirement already satisfied: Send2Trash in /home/ec2-user/anaconda3/envs/pytorch_p36/lib/python3.6/site-packages (from notebook->livelossplot) (1.5.0)\n",
      "Requirement already satisfied: pyzmq>=17 in /home/ec2-user/anaconda3/envs/pytorch_p36/lib/python3.6/site-packages (from notebook->livelossplot) (17.0.0)\n",
      "Requirement already satisfied: jinja2 in /home/ec2-user/anaconda3/envs/pytorch_p36/lib/python3.6/site-packages (from notebook->livelossplot) (2.10)\n",
      "Requirement already satisfied: ipython-genutils in /home/ec2-user/anaconda3/envs/pytorch_p36/lib/python3.6/site-packages (from notebook->livelossplot) (0.2.0)\n",
      "Requirement already satisfied: numpy>=1.10.0 in /home/ec2-user/anaconda3/envs/pytorch_p36/lib/python3.6/site-packages (from matplotlib->livelossplot) (1.15.4)\n",
      "Requirement already satisfied: cycler>=0.10 in /home/ec2-user/anaconda3/envs/pytorch_p36/lib/python3.6/site-packages (from matplotlib->livelossplot) (0.10.0)\n",
      "Requirement already satisfied: kiwisolver>=1.0.1 in /home/ec2-user/anaconda3/envs/pytorch_p36/lib/python3.6/site-packages (from matplotlib->livelossplot) (1.0.1)\n",
      "Requirement already satisfied: pyparsing!=2.0.4,!=2.1.2,!=2.1.6,>=2.0.1 in /home/ec2-user/anaconda3/envs/pytorch_p36/lib/python3.6/site-packages (from matplotlib->livelossplot) (2.2.0)\n",
      "Requirement already satisfied: python-dateutil>=2.1 in /home/ec2-user/anaconda3/envs/pytorch_p36/lib/python3.6/site-packages (from matplotlib->livelossplot) (2.7.3)\n",
      "Requirement already satisfied: ipython>=4.0.0 in /home/ec2-user/anaconda3/envs/pytorch_p36/lib/python3.6/site-packages (from ipykernel->notebook->livelossplot) (6.4.0)\n",
      "Requirement already satisfied: six in /home/ec2-user/anaconda3/envs/pytorch_p36/lib/python3.6/site-packages (from traitlets>=4.2.1->notebook->livelossplot) (1.11.0)\n",
      "Requirement already satisfied: decorator in /home/ec2-user/anaconda3/envs/pytorch_p36/lib/python3.6/site-packages (from traitlets>=4.2.1->notebook->livelossplot) (4.3.0)\n",
      "Requirement already satisfied: jsonschema!=2.5.0,>=2.4 in /home/ec2-user/anaconda3/envs/pytorch_p36/lib/python3.6/site-packages (from nbformat->notebook->livelossplot) (2.6.0)\n",
      "Requirement already satisfied: mistune>=0.8.1 in /home/ec2-user/anaconda3/envs/pytorch_p36/lib/python3.6/site-packages (from nbconvert->notebook->livelossplot) (0.8.3)\n",
      "Requirement already satisfied: pygments in /home/ec2-user/anaconda3/envs/pytorch_p36/lib/python3.6/site-packages (from nbconvert->notebook->livelossplot) (2.2.0)\n",
      "Requirement already satisfied: entrypoints>=0.2.2 in /home/ec2-user/anaconda3/envs/pytorch_p36/lib/python3.6/site-packages (from nbconvert->notebook->livelossplot) (0.2.3)\n",
      "Requirement already satisfied: bleach in /home/ec2-user/anaconda3/envs/pytorch_p36/lib/python3.6/site-packages (from nbconvert->notebook->livelossplot) (2.1.3)\n",
      "Requirement already satisfied: pandocfilters>=1.4.1 in /home/ec2-user/anaconda3/envs/pytorch_p36/lib/python3.6/site-packages (from nbconvert->notebook->livelossplot) (1.4.2)\n",
      "Requirement already satisfied: testpath in /home/ec2-user/anaconda3/envs/pytorch_p36/lib/python3.6/site-packages (from nbconvert->notebook->livelossplot) (0.3.1)\n",
      "Requirement already satisfied: defusedxml in /home/ec2-user/anaconda3/envs/pytorch_p36/lib/python3.6/site-packages (from nbconvert->notebook->livelossplot) (0.6.0)\n",
      "Requirement already satisfied: MarkupSafe>=0.23 in /home/ec2-user/anaconda3/envs/pytorch_p36/lib/python3.6/site-packages (from jinja2->notebook->livelossplot) (1.0)\n",
      "Requirement already satisfied: setuptools in /home/ec2-user/anaconda3/envs/pytorch_p36/lib/python3.6/site-packages (from kiwisolver>=1.0.1->matplotlib->livelossplot) (39.1.0)\n",
      "Requirement already satisfied: prompt-toolkit<2.0.0,>=1.0.15 in /home/ec2-user/anaconda3/envs/pytorch_p36/lib/python3.6/site-packages (from ipython>=4.0.0->ipykernel->notebook->livelossplot) (1.0.15)\n",
      "Requirement already satisfied: pexpect; sys_platform != \"win32\" in /home/ec2-user/anaconda3/envs/pytorch_p36/lib/python3.6/site-packages (from ipython>=4.0.0->ipykernel->notebook->livelossplot) (4.5.0)\n",
      "Requirement already satisfied: pickleshare in /home/ec2-user/anaconda3/envs/pytorch_p36/lib/python3.6/site-packages (from ipython>=4.0.0->ipykernel->notebook->livelossplot) (0.7.4)\n",
      "Requirement already satisfied: backcall in /home/ec2-user/anaconda3/envs/pytorch_p36/lib/python3.6/site-packages (from ipython>=4.0.0->ipykernel->notebook->livelossplot) (0.1.0)\n",
      "Requirement already satisfied: jedi>=0.10 in /home/ec2-user/anaconda3/envs/pytorch_p36/lib/python3.6/site-packages (from ipython>=4.0.0->ipykernel->notebook->livelossplot) (0.12.0)\n",
      "Requirement already satisfied: simplegeneric>0.8 in /home/ec2-user/anaconda3/envs/pytorch_p36/lib/python3.6/site-packages (from ipython>=4.0.0->ipykernel->notebook->livelossplot) (0.8.1)\n",
      "Requirement already satisfied: html5lib!=1.0b1,!=1.0b2,!=1.0b3,!=1.0b4,!=1.0b5,!=1.0b6,!=1.0b7,!=1.0b8,>=0.99999999pre in /home/ec2-user/anaconda3/envs/pytorch_p36/lib/python3.6/site-packages (from bleach->nbconvert->notebook->livelossplot) (1.0.1)\n",
      "Requirement already satisfied: wcwidth in /home/ec2-user/anaconda3/envs/pytorch_p36/lib/python3.6/site-packages (from prompt-toolkit<2.0.0,>=1.0.15->ipython>=4.0.0->ipykernel->notebook->livelossplot) (0.1.7)\n",
      "Requirement already satisfied: ptyprocess>=0.5 in /home/ec2-user/anaconda3/envs/pytorch_p36/lib/python3.6/site-packages (from pexpect; sys_platform != \"win32\"->ipython>=4.0.0->ipykernel->notebook->livelossplot) (0.5.2)\n",
      "Requirement already satisfied: parso>=0.2.0 in /home/ec2-user/anaconda3/envs/pytorch_p36/lib/python3.6/site-packages (from jedi>=0.10->ipython>=4.0.0->ipykernel->notebook->livelossplot) (0.2.0)\n",
      "Requirement already satisfied: webencodings in /home/ec2-user/anaconda3/envs/pytorch_p36/lib/python3.6/site-packages (from html5lib!=1.0b1,!=1.0b2,!=1.0b3,!=1.0b4,!=1.0b5,!=1.0b6,!=1.0b7,!=1.0b8,>=0.99999999pre->bleach->nbconvert->notebook->livelossplot) (0.5.1)\n",
      "\u001b[31mfastai 1.0.59 requires nvidia-ml-py3, which is not installed.\u001b[0m\n",
      "Installing collected packages: livelossplot\n",
      "Successfully installed livelossplot-0.4.2\n",
      "\u001b[33mYou are using pip version 10.0.1, however version 20.0.2 is available.\n",
      "You should consider upgrading via the 'pip install --upgrade pip' command.\u001b[0m\n",
      "Collecting nvidia-ml-py3\n",
      "  Downloading https://files.pythonhosted.org/packages/6d/64/cce82bddb80c0b0f5c703bbdafa94bfb69a1c5ad7a79cff00b482468f0d3/nvidia-ml-py3-7.352.0.tar.gz\n",
      "Building wheels for collected packages: nvidia-ml-py3\n",
      "  Running setup.py bdist_wheel for nvidia-ml-py3 ... \u001b[?25ldone\n",
      "\u001b[?25h  Stored in directory: /home/ec2-user/.cache/pip/wheels/e4/1d/06/640c93f5270d67d0247f30be91f232700d19023f9e66d735c7\n",
      "Successfully built nvidia-ml-py3\n",
      "Installing collected packages: nvidia-ml-py3\n",
      "Successfully installed nvidia-ml-py3-7.352.0\n",
      "\u001b[33mYou are using pip version 10.0.1, however version 20.0.2 is available.\n",
      "You should consider upgrading via the 'pip install --upgrade pip' command.\u001b[0m\n",
      "Collecting unidecode\n",
      "\u001b[?25l  Downloading https://files.pythonhosted.org/packages/d0/42/d9edfed04228bacea2d824904cae367ee9efd05e6cce7ceaaedd0b0ad964/Unidecode-1.1.1-py2.py3-none-any.whl (238kB)\n",
      "\u001b[K    100% |████████████████████████████████| 245kB 17.2MB/s ta 0:00:01\n",
      "\u001b[?25hInstalling collected packages: unidecode\n",
      "Successfully installed unidecode-1.1.1\n",
      "\u001b[33mYou are using pip version 10.0.1, however version 20.0.2 is available.\n",
      "You should consider upgrading via the 'pip install --upgrade pip' command.\u001b[0m\n"
     ]
    }
   ],
   "source": [
    "!pip install pytorch-pretrained-bert\n",
    "!pip install livelossplot\n",
    "!pip install nvidia-ml-py3\n",
    "!pip install unidecode\n",
    "import pandas as pd\n",
    "import numpy as np\n",
    "import os\n",
    "import json\n",
    "import unidecode\n",
    "import re\n",
    "import torch\n",
    "\n",
    "from tqdm.auto import tqdm \n",
    "from tqdm import tqdm_notebook\n",
    "\n",
    "from pytorch_pretrained_bert import BertTokenizer, BertModel\n",
    "from pytorch_pretrained_bert.file_utils import PYTORCH_PRETRAINED_BERT_CACHE\n",
    "from pytorch_pretrained_bert.modeling import BertForSequenceClassification, BertConfig, WEIGHTS_NAME, CONFIG_NAME, BertForMultipleChoice\n",
    "from pytorch_pretrained_bert.optimization import BertAdam\n",
    "from pytorch_pretrained_bert.tokenization import (BasicTokenizer,\n",
    "                                                  BertTokenizer,\n",
    "                                                  whitespace_tokenize)"
   ]
  },
  {
   "cell_type": "markdown",
   "metadata": {},
   "source": [
    "## Helper Functions"
   ]
  },
  {
   "cell_type": "code",
   "execution_count": 2,
   "metadata": {},
   "outputs": [],
   "source": [
    "# function to get the IDs of the previous queries of a query in a session \n",
    "def get_lower_ids(session_df, query_id):\n",
    "    session_id = int(query_id.split('_')[0])\n",
    "    current_id = int(query_id.split('_')[1])\n",
    "    all_ids = [int(x.split('_')[1]) for x in session_df['query_id'].tolist()]\n",
    "    lower_ids = [x for x in all_ids if x < current_id]\n",
    "    lower_ids = [str(session_id) + '_' + str(x) for x in lower_ids]\n",
    "    return lower_ids"
   ]
  },
  {
   "cell_type": "code",
   "execution_count": 3,
   "metadata": {},
   "outputs": [],
   "source": [
    "# function that strips all non-alphanumeric characters\n",
    "def remove_non_alphanumeric(text):\n",
    "    text = unidecode.unidecode(str(text))\n",
    "    text = re.sub(r'[^a-zA-Z0-9]', ' ', text)\n",
    "    return text"
   ]
  },
  {
   "cell_type": "code",
   "execution_count": 4,
   "metadata": {},
   "outputs": [],
   "source": [
    "# function that returns a list of segment ids based on indexed tokens (BERT)\n",
    "def get_segment_ids_from_index_tokens(indexed_tokens):\n",
    "    segment_ids = []\n",
    "    sep = False\n",
    "    for i, token in enumerate(indexed_tokens):\n",
    "        if token == 102:\n",
    "            sep = True\n",
    "        if sep:\n",
    "            segment_ids.append(1)\n",
    "        else:\n",
    "            segment_ids.append(0)\n",
    "    return segment_ids"
   ]
  },
  {
   "cell_type": "code",
   "execution_count": 5,
   "metadata": {},
   "outputs": [],
   "source": [
    "def run_bert(data):\n",
    "    activations = []\n",
    "    for i in tqdm_notebook(range(len(data))):\n",
    "        # convert inputs to PyTorch tensors\n",
    "        tokens = data.iloc[i]['indexed_tokens']\n",
    "        segment_ids = data.iloc[i]['segment_ids']\n",
    "        \n",
    "        # make sure the input fits\n",
    "        token_size_diff = len(tokens) - 512\n",
    "        if token_size_diff > 0:\n",
    "            tokens = [tokens[0]] + tokens[token_size_diff:]\n",
    "            segment_ids = [segment_ids[0]] + segment_ids[token_size_diff:]\n",
    "\n",
    "        tokens_tensor = torch.tensor([tokens])\n",
    "        segments_tensors = torch.tensor([segment_ids])\n",
    "\n",
    "        # set everything to run on GPU\n",
    "        tokens_tensor = tokens_tensor.to('cuda')\n",
    "        segments_tensors = segments_tensors.to('cuda')\n",
    "\n",
    "        with torch.no_grad():\n",
    "            prediction = bertmodel(tokens_tensor, segments_tensors) \n",
    "            activations.append(prediction)\n",
    "\n",
    "    data['pooled_output'] = activations\n",
    "    return data"
   ]
  },
  {
   "cell_type": "markdown",
   "metadata": {},
   "source": [
    "## Load Data"
   ]
  },
  {
   "cell_type": "markdown",
   "metadata": {},
   "source": [
    "CHANGE FOLLOWING FILENAMES"
   ]
  },
  {
   "cell_type": "code",
   "execution_count": 1,
   "metadata": {},
   "outputs": [],
   "source": [
    "query_subset_filename = 'queries.dev.small.tsv'\n",
    "anserini_output_filename = 'run_development_top100.tsv'\n",
    "top100_query_ids_filename = 'top100_dev_small_query_ids.tsv'\n",
    "output_filename = 'bert_run_development_top100.tsv'"
   ]
  },
  {
   "cell_type": "code",
   "execution_count": 7,
   "metadata": {},
   "outputs": [],
   "source": [
    "models_dir = \"../data/models/\"\n",
    "msmarco_dir = \"../data/msmarco_files/\"\n",
    "anserini_output_dir = \"../data/anserini_output/\"\n",
    "output_dir = \"../data/output/\""
   ]
  },
  {
   "cell_type": "code",
   "execution_count": 8,
   "metadata": {},
   "outputs": [],
   "source": [
    "# MSMARCO collection\n",
    "msmarco_collection = pd.read_csv(msmarco_dir + 'collection.tsv',delimiter='\\t',encoding='utf-8', header=None)\n",
    "msmarco_collection.columns = ['passage_id', 'passage']"
   ]
  },
  {
   "cell_type": "code",
   "execution_count": 9,
   "metadata": {},
   "outputs": [],
   "source": [
    "query_subset = pd.read_csv(msmarco_dir + query_subset_filename,delimiter='\\t',encoding='utf-8', header=None)\n",
    "query_subset.columns = ['query_id', 'query']"
   ]
  },
  {
   "cell_type": "code",
   "execution_count": 10,
   "metadata": {},
   "outputs": [],
   "source": [
    "query_anserini_output = pd.read_csv(anserini_output_dir + anserini_output_filename,delimiter='\\t',encoding='utf-8', header=None)\n",
    "query_anserini_output.columns = ['query_id', 'passage_id', 'bm25_rank']"
   ]
  },
  {
   "cell_type": "code",
   "execution_count": 11,
   "metadata": {},
   "outputs": [],
   "source": [
    "top100_query_ids = pd.read_csv(output_dir + top100_query_ids_filename,delimiter='\\t',encoding='utf-8', header=None)\n",
    "top100_query_ids.columns = ['query_id']"
   ]
  },
  {
   "cell_type": "markdown",
   "metadata": {},
   "source": [
    "## Make BERT Dataframe"
   ]
  },
  {
   "cell_type": "code",
   "execution_count": 12,
   "metadata": {},
   "outputs": [
    {
     "data": {
      "application/vnd.jupyter.widget-view+json": {
       "model_id": "3173ddf6077141349a56ed8660ed184f",
       "version_major": 2,
       "version_minor": 0
      },
      "text/plain": [
       "HBox(children=(IntProgress(value=0, max=473568), HTML(value='')))"
      ]
     },
     "metadata": {},
     "output_type": "display_data"
    },
    {
     "name": "stdout",
     "output_type": "stream",
     "text": [
      "\n"
     ]
    },
    {
     "data": {
      "application/vnd.jupyter.widget-view+json": {
       "model_id": "8ecaa0cce5a44237a0765892acb36a51",
       "version_major": 2,
       "version_minor": 0
      },
      "text/plain": [
       "HBox(children=(IntProgress(value=0, max=473568), HTML(value='')))"
      ]
     },
     "metadata": {},
     "output_type": "display_data"
    },
    {
     "name": "stdout",
     "output_type": "stream",
     "text": [
      "\n"
     ]
    }
   ],
   "source": [
    "tqdm.pandas()\n",
    "bert_df = top100_query_ids.copy()\n",
    "bert_df = bert_df.merge(query_anserini_output,how='left',on=['query_id'])\n",
    "bert_df = bert_df.merge(query_subset,how='left',on=['query_id'])\n",
    "bert_df = bert_df.merge(msmarco_collection,how='left',on=['passage_id'])\n",
    "bert_df['query'] = bert_df['query'].progress_apply(lambda x: remove_non_alphanumeric(x.lower()))\n",
    "tqdm.pandas()\n",
    "bert_df['passage'] = bert_df['passage'].progress_apply(lambda x: remove_non_alphanumeric(x.lower()))\n",
    "bert_df['input_text'] = \"[CLS] \" + bert_df['query'] +\" [SEP] \" + bert_df['passage'] + \" [SEP]\""
   ]
  },
  {
   "cell_type": "code",
   "execution_count": 13,
   "metadata": {},
   "outputs": [
    {
     "data": {
      "text/html": [
       "<div>\n",
       "<style scoped>\n",
       "    .dataframe tbody tr th:only-of-type {\n",
       "        vertical-align: middle;\n",
       "    }\n",
       "\n",
       "    .dataframe tbody tr th {\n",
       "        vertical-align: top;\n",
       "    }\n",
       "\n",
       "    .dataframe thead th {\n",
       "        text-align: right;\n",
       "    }\n",
       "</style>\n",
       "<table border=\"1\" class=\"dataframe\">\n",
       "  <thead>\n",
       "    <tr style=\"text-align: right;\">\n",
       "      <th></th>\n",
       "      <th>query_id</th>\n",
       "      <th>passage_id</th>\n",
       "      <th>bm25_rank</th>\n",
       "      <th>query</th>\n",
       "      <th>passage</th>\n",
       "      <th>input_text</th>\n",
       "    </tr>\n",
       "  </thead>\n",
       "  <tbody>\n",
       "    <tr>\n",
       "      <th>0</th>\n",
       "      <td>2</td>\n",
       "      <td>1782337</td>\n",
       "      <td>1</td>\n",
       "      <td>androgen receptor define</td>\n",
       "      <td>enzalutamide is an androgen receptor inhibitor...</td>\n",
       "      <td>[CLS]  androgen receptor define [SEP] enzaluta...</td>\n",
       "    </tr>\n",
       "    <tr>\n",
       "      <th>1</th>\n",
       "      <td>2</td>\n",
       "      <td>1001873</td>\n",
       "      <td>2</td>\n",
       "      <td>androgen receptor define</td>\n",
       "      <td>the ar gene provides instructions for making a...</td>\n",
       "      <td>[CLS]  androgen receptor define [SEP] the ar g...</td>\n",
       "    </tr>\n",
       "    <tr>\n",
       "      <th>2</th>\n",
       "      <td>2</td>\n",
       "      <td>4339075</td>\n",
       "      <td>3</td>\n",
       "      <td>androgen receptor define</td>\n",
       "      <td>during androgen independent progression  prost...</td>\n",
       "      <td>[CLS]  androgen receptor define [SEP] during a...</td>\n",
       "    </tr>\n",
       "    <tr>\n",
       "      <th>3</th>\n",
       "      <td>2</td>\n",
       "      <td>6285817</td>\n",
       "      <td>4</td>\n",
       "      <td>androgen receptor define</td>\n",
       "      <td>the term sarms stands for aselective androgen ...</td>\n",
       "      <td>[CLS]  androgen receptor define [SEP] the term...</td>\n",
       "    </tr>\n",
       "    <tr>\n",
       "      <th>4</th>\n",
       "      <td>2</td>\n",
       "      <td>3634076</td>\n",
       "      <td>5</td>\n",
       "      <td>androgen receptor define</td>\n",
       "      <td>sarms or selective androgen receptor modulator...</td>\n",
       "      <td>[CLS]  androgen receptor define [SEP] sarms or...</td>\n",
       "    </tr>\n",
       "  </tbody>\n",
       "</table>\n",
       "</div>"
      ],
      "text/plain": [
       "   query_id  passage_id  bm25_rank                      query  \\\n",
       "0         2     1782337          1   androgen receptor define   \n",
       "1         2     1001873          2   androgen receptor define   \n",
       "2         2     4339075          3   androgen receptor define   \n",
       "3         2     6285817          4   androgen receptor define   \n",
       "4         2     3634076          5   androgen receptor define   \n",
       "\n",
       "                                             passage  \\\n",
       "0  enzalutamide is an androgen receptor inhibitor...   \n",
       "1  the ar gene provides instructions for making a...   \n",
       "2  during androgen independent progression  prost...   \n",
       "3  the term sarms stands for aselective androgen ...   \n",
       "4  sarms or selective androgen receptor modulator...   \n",
       "\n",
       "                                          input_text  \n",
       "0  [CLS]  androgen receptor define [SEP] enzaluta...  \n",
       "1  [CLS]  androgen receptor define [SEP] the ar g...  \n",
       "2  [CLS]  androgen receptor define [SEP] during a...  \n",
       "3  [CLS]  androgen receptor define [SEP] the term...  \n",
       "4  [CLS]  androgen receptor define [SEP] sarms or...  "
      ]
     },
     "execution_count": 13,
     "metadata": {},
     "output_type": "execute_result"
    }
   ],
   "source": [
    "bert_df.head(5)"
   ]
  },
  {
   "cell_type": "markdown",
   "metadata": {},
   "source": [
    "## Load BERT Model"
   ]
  },
  {
   "cell_type": "markdown",
   "metadata": {},
   "source": [
    "IMPORTANT NOTE: please make sure to run instance of ml.p2.xlarge instead of ml.t2.2xlarge --> otherwise no cuda available"
   ]
  },
  {
   "cell_type": "code",
   "execution_count": 14,
   "metadata": {},
   "outputs": [
    {
     "name": "stderr",
     "output_type": "stream",
     "text": [
      "100%|██████████| 407873900/407873900 [00:18<00:00, 21895566.39B/s]\n"
     ]
    },
    {
     "data": {
      "text/plain": [
       "BertForSequenceClassification(\n",
       "  (bert): BertModel(\n",
       "    (embeddings): BertEmbeddings(\n",
       "      (word_embeddings): Embedding(30522, 768, padding_idx=0)\n",
       "      (position_embeddings): Embedding(512, 768)\n",
       "      (token_type_embeddings): Embedding(2, 768)\n",
       "      (LayerNorm): BertLayerNorm()\n",
       "      (dropout): Dropout(p=0.1, inplace=False)\n",
       "    )\n",
       "    (encoder): BertEncoder(\n",
       "      (layer): ModuleList(\n",
       "        (0): BertLayer(\n",
       "          (attention): BertAttention(\n",
       "            (self): BertSelfAttention(\n",
       "              (query): Linear(in_features=768, out_features=768, bias=True)\n",
       "              (key): Linear(in_features=768, out_features=768, bias=True)\n",
       "              (value): Linear(in_features=768, out_features=768, bias=True)\n",
       "              (dropout): Dropout(p=0.1, inplace=False)\n",
       "            )\n",
       "            (output): BertSelfOutput(\n",
       "              (dense): Linear(in_features=768, out_features=768, bias=True)\n",
       "              (LayerNorm): BertLayerNorm()\n",
       "              (dropout): Dropout(p=0.1, inplace=False)\n",
       "            )\n",
       "          )\n",
       "          (intermediate): BertIntermediate(\n",
       "            (dense): Linear(in_features=768, out_features=3072, bias=True)\n",
       "          )\n",
       "          (output): BertOutput(\n",
       "            (dense): Linear(in_features=3072, out_features=768, bias=True)\n",
       "            (LayerNorm): BertLayerNorm()\n",
       "            (dropout): Dropout(p=0.1, inplace=False)\n",
       "          )\n",
       "        )\n",
       "        (1): BertLayer(\n",
       "          (attention): BertAttention(\n",
       "            (self): BertSelfAttention(\n",
       "              (query): Linear(in_features=768, out_features=768, bias=True)\n",
       "              (key): Linear(in_features=768, out_features=768, bias=True)\n",
       "              (value): Linear(in_features=768, out_features=768, bias=True)\n",
       "              (dropout): Dropout(p=0.1, inplace=False)\n",
       "            )\n",
       "            (output): BertSelfOutput(\n",
       "              (dense): Linear(in_features=768, out_features=768, bias=True)\n",
       "              (LayerNorm): BertLayerNorm()\n",
       "              (dropout): Dropout(p=0.1, inplace=False)\n",
       "            )\n",
       "          )\n",
       "          (intermediate): BertIntermediate(\n",
       "            (dense): Linear(in_features=768, out_features=3072, bias=True)\n",
       "          )\n",
       "          (output): BertOutput(\n",
       "            (dense): Linear(in_features=3072, out_features=768, bias=True)\n",
       "            (LayerNorm): BertLayerNorm()\n",
       "            (dropout): Dropout(p=0.1, inplace=False)\n",
       "          )\n",
       "        )\n",
       "        (2): BertLayer(\n",
       "          (attention): BertAttention(\n",
       "            (self): BertSelfAttention(\n",
       "              (query): Linear(in_features=768, out_features=768, bias=True)\n",
       "              (key): Linear(in_features=768, out_features=768, bias=True)\n",
       "              (value): Linear(in_features=768, out_features=768, bias=True)\n",
       "              (dropout): Dropout(p=0.1, inplace=False)\n",
       "            )\n",
       "            (output): BertSelfOutput(\n",
       "              (dense): Linear(in_features=768, out_features=768, bias=True)\n",
       "              (LayerNorm): BertLayerNorm()\n",
       "              (dropout): Dropout(p=0.1, inplace=False)\n",
       "            )\n",
       "          )\n",
       "          (intermediate): BertIntermediate(\n",
       "            (dense): Linear(in_features=768, out_features=3072, bias=True)\n",
       "          )\n",
       "          (output): BertOutput(\n",
       "            (dense): Linear(in_features=3072, out_features=768, bias=True)\n",
       "            (LayerNorm): BertLayerNorm()\n",
       "            (dropout): Dropout(p=0.1, inplace=False)\n",
       "          )\n",
       "        )\n",
       "        (3): BertLayer(\n",
       "          (attention): BertAttention(\n",
       "            (self): BertSelfAttention(\n",
       "              (query): Linear(in_features=768, out_features=768, bias=True)\n",
       "              (key): Linear(in_features=768, out_features=768, bias=True)\n",
       "              (value): Linear(in_features=768, out_features=768, bias=True)\n",
       "              (dropout): Dropout(p=0.1, inplace=False)\n",
       "            )\n",
       "            (output): BertSelfOutput(\n",
       "              (dense): Linear(in_features=768, out_features=768, bias=True)\n",
       "              (LayerNorm): BertLayerNorm()\n",
       "              (dropout): Dropout(p=0.1, inplace=False)\n",
       "            )\n",
       "          )\n",
       "          (intermediate): BertIntermediate(\n",
       "            (dense): Linear(in_features=768, out_features=3072, bias=True)\n",
       "          )\n",
       "          (output): BertOutput(\n",
       "            (dense): Linear(in_features=3072, out_features=768, bias=True)\n",
       "            (LayerNorm): BertLayerNorm()\n",
       "            (dropout): Dropout(p=0.1, inplace=False)\n",
       "          )\n",
       "        )\n",
       "        (4): BertLayer(\n",
       "          (attention): BertAttention(\n",
       "            (self): BertSelfAttention(\n",
       "              (query): Linear(in_features=768, out_features=768, bias=True)\n",
       "              (key): Linear(in_features=768, out_features=768, bias=True)\n",
       "              (value): Linear(in_features=768, out_features=768, bias=True)\n",
       "              (dropout): Dropout(p=0.1, inplace=False)\n",
       "            )\n",
       "            (output): BertSelfOutput(\n",
       "              (dense): Linear(in_features=768, out_features=768, bias=True)\n",
       "              (LayerNorm): BertLayerNorm()\n",
       "              (dropout): Dropout(p=0.1, inplace=False)\n",
       "            )\n",
       "          )\n",
       "          (intermediate): BertIntermediate(\n",
       "            (dense): Linear(in_features=768, out_features=3072, bias=True)\n",
       "          )\n",
       "          (output): BertOutput(\n",
       "            (dense): Linear(in_features=3072, out_features=768, bias=True)\n",
       "            (LayerNorm): BertLayerNorm()\n",
       "            (dropout): Dropout(p=0.1, inplace=False)\n",
       "          )\n",
       "        )\n",
       "        (5): BertLayer(\n",
       "          (attention): BertAttention(\n",
       "            (self): BertSelfAttention(\n",
       "              (query): Linear(in_features=768, out_features=768, bias=True)\n",
       "              (key): Linear(in_features=768, out_features=768, bias=True)\n",
       "              (value): Linear(in_features=768, out_features=768, bias=True)\n",
       "              (dropout): Dropout(p=0.1, inplace=False)\n",
       "            )\n",
       "            (output): BertSelfOutput(\n",
       "              (dense): Linear(in_features=768, out_features=768, bias=True)\n",
       "              (LayerNorm): BertLayerNorm()\n",
       "              (dropout): Dropout(p=0.1, inplace=False)\n",
       "            )\n",
       "          )\n",
       "          (intermediate): BertIntermediate(\n",
       "            (dense): Linear(in_features=768, out_features=3072, bias=True)\n",
       "          )\n",
       "          (output): BertOutput(\n",
       "            (dense): Linear(in_features=3072, out_features=768, bias=True)\n",
       "            (LayerNorm): BertLayerNorm()\n",
       "            (dropout): Dropout(p=0.1, inplace=False)\n",
       "          )\n",
       "        )\n",
       "        (6): BertLayer(\n",
       "          (attention): BertAttention(\n",
       "            (self): BertSelfAttention(\n",
       "              (query): Linear(in_features=768, out_features=768, bias=True)\n",
       "              (key): Linear(in_features=768, out_features=768, bias=True)\n",
       "              (value): Linear(in_features=768, out_features=768, bias=True)\n",
       "              (dropout): Dropout(p=0.1, inplace=False)\n",
       "            )\n",
       "            (output): BertSelfOutput(\n",
       "              (dense): Linear(in_features=768, out_features=768, bias=True)\n",
       "              (LayerNorm): BertLayerNorm()\n",
       "              (dropout): Dropout(p=0.1, inplace=False)\n",
       "            )\n",
       "          )\n",
       "          (intermediate): BertIntermediate(\n",
       "            (dense): Linear(in_features=768, out_features=3072, bias=True)\n",
       "          )\n",
       "          (output): BertOutput(\n",
       "            (dense): Linear(in_features=3072, out_features=768, bias=True)\n",
       "            (LayerNorm): BertLayerNorm()\n",
       "            (dropout): Dropout(p=0.1, inplace=False)\n",
       "          )\n",
       "        )\n",
       "        (7): BertLayer(\n",
       "          (attention): BertAttention(\n",
       "            (self): BertSelfAttention(\n",
       "              (query): Linear(in_features=768, out_features=768, bias=True)\n",
       "              (key): Linear(in_features=768, out_features=768, bias=True)\n",
       "              (value): Linear(in_features=768, out_features=768, bias=True)\n",
       "              (dropout): Dropout(p=0.1, inplace=False)\n",
       "            )\n",
       "            (output): BertSelfOutput(\n",
       "              (dense): Linear(in_features=768, out_features=768, bias=True)\n",
       "              (LayerNorm): BertLayerNorm()\n",
       "              (dropout): Dropout(p=0.1, inplace=False)\n",
       "            )\n",
       "          )\n",
       "          (intermediate): BertIntermediate(\n",
       "            (dense): Linear(in_features=768, out_features=3072, bias=True)\n",
       "          )\n",
       "          (output): BertOutput(\n",
       "            (dense): Linear(in_features=3072, out_features=768, bias=True)\n",
       "            (LayerNorm): BertLayerNorm()\n",
       "            (dropout): Dropout(p=0.1, inplace=False)\n",
       "          )\n",
       "        )\n",
       "        (8): BertLayer(\n",
       "          (attention): BertAttention(\n",
       "            (self): BertSelfAttention(\n",
       "              (query): Linear(in_features=768, out_features=768, bias=True)\n",
       "              (key): Linear(in_features=768, out_features=768, bias=True)\n",
       "              (value): Linear(in_features=768, out_features=768, bias=True)\n",
       "              (dropout): Dropout(p=0.1, inplace=False)\n",
       "            )\n",
       "            (output): BertSelfOutput(\n",
       "              (dense): Linear(in_features=768, out_features=768, bias=True)\n",
       "              (LayerNorm): BertLayerNorm()\n",
       "              (dropout): Dropout(p=0.1, inplace=False)\n",
       "            )\n",
       "          )\n",
       "          (intermediate): BertIntermediate(\n",
       "            (dense): Linear(in_features=768, out_features=3072, bias=True)\n",
       "          )\n",
       "          (output): BertOutput(\n",
       "            (dense): Linear(in_features=3072, out_features=768, bias=True)\n",
       "            (LayerNorm): BertLayerNorm()\n",
       "            (dropout): Dropout(p=0.1, inplace=False)\n",
       "          )\n",
       "        )\n",
       "        (9): BertLayer(\n",
       "          (attention): BertAttention(\n",
       "            (self): BertSelfAttention(\n",
       "              (query): Linear(in_features=768, out_features=768, bias=True)\n",
       "              (key): Linear(in_features=768, out_features=768, bias=True)\n",
       "              (value): Linear(in_features=768, out_features=768, bias=True)\n",
       "              (dropout): Dropout(p=0.1, inplace=False)\n",
       "            )\n",
       "            (output): BertSelfOutput(\n",
       "              (dense): Linear(in_features=768, out_features=768, bias=True)\n",
       "              (LayerNorm): BertLayerNorm()\n",
       "              (dropout): Dropout(p=0.1, inplace=False)\n",
       "            )\n",
       "          )\n",
       "          (intermediate): BertIntermediate(\n",
       "            (dense): Linear(in_features=768, out_features=3072, bias=True)\n",
       "          )\n",
       "          (output): BertOutput(\n",
       "            (dense): Linear(in_features=3072, out_features=768, bias=True)\n",
       "            (LayerNorm): BertLayerNorm()\n",
       "            (dropout): Dropout(p=0.1, inplace=False)\n",
       "          )\n",
       "        )\n",
       "        (10): BertLayer(\n",
       "          (attention): BertAttention(\n",
       "            (self): BertSelfAttention(\n",
       "              (query): Linear(in_features=768, out_features=768, bias=True)\n",
       "              (key): Linear(in_features=768, out_features=768, bias=True)\n",
       "              (value): Linear(in_features=768, out_features=768, bias=True)\n",
       "              (dropout): Dropout(p=0.1, inplace=False)\n",
       "            )\n",
       "            (output): BertSelfOutput(\n",
       "              (dense): Linear(in_features=768, out_features=768, bias=True)\n",
       "              (LayerNorm): BertLayerNorm()\n",
       "              (dropout): Dropout(p=0.1, inplace=False)\n",
       "            )\n",
       "          )\n",
       "          (intermediate): BertIntermediate(\n",
       "            (dense): Linear(in_features=768, out_features=3072, bias=True)\n",
       "          )\n",
       "          (output): BertOutput(\n",
       "            (dense): Linear(in_features=3072, out_features=768, bias=True)\n",
       "            (LayerNorm): BertLayerNorm()\n",
       "            (dropout): Dropout(p=0.1, inplace=False)\n",
       "          )\n",
       "        )\n",
       "        (11): BertLayer(\n",
       "          (attention): BertAttention(\n",
       "            (self): BertSelfAttention(\n",
       "              (query): Linear(in_features=768, out_features=768, bias=True)\n",
       "              (key): Linear(in_features=768, out_features=768, bias=True)\n",
       "              (value): Linear(in_features=768, out_features=768, bias=True)\n",
       "              (dropout): Dropout(p=0.1, inplace=False)\n",
       "            )\n",
       "            (output): BertSelfOutput(\n",
       "              (dense): Linear(in_features=768, out_features=768, bias=True)\n",
       "              (LayerNorm): BertLayerNorm()\n",
       "              (dropout): Dropout(p=0.1, inplace=False)\n",
       "            )\n",
       "          )\n",
       "          (intermediate): BertIntermediate(\n",
       "            (dense): Linear(in_features=768, out_features=3072, bias=True)\n",
       "          )\n",
       "          (output): BertOutput(\n",
       "            (dense): Linear(in_features=3072, out_features=768, bias=True)\n",
       "            (LayerNorm): BertLayerNorm()\n",
       "            (dropout): Dropout(p=0.1, inplace=False)\n",
       "          )\n",
       "        )\n",
       "      )\n",
       "    )\n",
       "    (pooler): BertPooler(\n",
       "      (dense): Linear(in_features=768, out_features=768, bias=True)\n",
       "      (activation): Tanh()\n",
       "    )\n",
       "  )\n",
       "  (dropout): Dropout(p=0.1, inplace=False)\n",
       "  (classifier): Linear(in_features=768, out_features=2, bias=True)\n",
       ")"
      ]
     },
     "execution_count": 14,
     "metadata": {},
     "output_type": "execute_result"
    }
   ],
   "source": [
    "bertmodel = BertForSequenceClassification.from_pretrained('bert-base-uncased', 2)\n",
    "bertmodel.load_state_dict(torch.load(models_dir + 'fine_tuned_bert_base_uncased'))\n",
    "\n",
    "bertmodel.eval()\n",
    "bertmodel.to('cuda')"
   ]
  },
  {
   "cell_type": "code",
   "execution_count": 15,
   "metadata": {},
   "outputs": [
    {
     "name": "stderr",
     "output_type": "stream",
     "text": [
      "100%|██████████| 231508/231508 [00:00<00:00, 815534.16B/s]\n"
     ]
    }
   ],
   "source": [
    "tqdm.pandas()\n",
    "tokenizer = BertTokenizer.from_pretrained('bert-base-uncased')"
   ]
  },
  {
   "cell_type": "markdown",
   "metadata": {},
   "source": [
    "## Run Bert"
   ]
  },
  {
   "cell_type": "markdown",
   "metadata": {},
   "source": [
    "Running Bert takes a long time on the dataset. Therefor, it is wise to first split the dataset in two subsets."
   ]
  },
  {
   "cell_type": "markdown",
   "metadata": {},
   "source": [
    "#### Make subsets"
   ]
  },
  {
   "cell_type": "markdown",
   "metadata": {},
   "source": [
    "This is only necessary with large sets. Not if you use the development set"
   ]
  },
  {
   "cell_type": "code",
   "execution_count": 16,
   "metadata": {},
   "outputs": [
    {
     "data": {
      "text/plain": [
       "(473568, 6)"
      ]
     },
     "execution_count": 16,
     "metadata": {},
     "output_type": "execute_result"
    }
   ],
   "source": [
    "bert_df.shape"
   ]
  },
  {
   "cell_type": "code",
   "execution_count": 41,
   "metadata": {},
   "outputs": [],
   "source": [
    "bert_df_pt1 = bert_df[:1654400]\n",
    "bert_df_pt2 = bert_df[1654400:]"
   ]
  },
  {
   "cell_type": "code",
   "execution_count": 42,
   "metadata": {},
   "outputs": [
    {
     "data": {
      "text/plain": [
       "(1654400, 6)"
      ]
     },
     "execution_count": 42,
     "metadata": {},
     "output_type": "execute_result"
    }
   ],
   "source": [
    "bert_df_pt1.shape"
   ]
  },
  {
   "cell_type": "code",
   "execution_count": 43,
   "metadata": {},
   "outputs": [
    {
     "data": {
      "text/html": [
       "<div>\n",
       "<style scoped>\n",
       "    .dataframe tbody tr th:only-of-type {\n",
       "        vertical-align: middle;\n",
       "    }\n",
       "\n",
       "    .dataframe tbody tr th {\n",
       "        vertical-align: top;\n",
       "    }\n",
       "\n",
       "    .dataframe thead th {\n",
       "        text-align: right;\n",
       "    }\n",
       "</style>\n",
       "<table border=\"1\" class=\"dataframe\">\n",
       "  <thead>\n",
       "    <tr style=\"text-align: right;\">\n",
       "      <th></th>\n",
       "      <th>query_id</th>\n",
       "      <th>passage_id</th>\n",
       "      <th>bm25_rank</th>\n",
       "      <th>query</th>\n",
       "      <th>passage</th>\n",
       "      <th>input_text</th>\n",
       "    </tr>\n",
       "  </thead>\n",
       "  <tbody>\n",
       "    <tr>\n",
       "      <th>1654398</th>\n",
       "      <td>613748</td>\n",
       "      <td>6169808</td>\n",
       "      <td>99</td>\n",
       "      <td>what county is tonopah nv</td>\n",
       "      <td>the real property transfer tax is a tax collec...</td>\n",
       "      <td>[CLS] what county is tonopah nv  [SEP] the rea...</td>\n",
       "    </tr>\n",
       "    <tr>\n",
       "      <th>1654399</th>\n",
       "      <td>613748</td>\n",
       "      <td>6987332</td>\n",
       "      <td>100</td>\n",
       "      <td>what county is tonopah nv</td>\n",
       "      <td>battle mountain  nv  sponsored topics  battle ...</td>\n",
       "      <td>[CLS] what county is tonopah nv  [SEP] battle ...</td>\n",
       "    </tr>\n",
       "  </tbody>\n",
       "</table>\n",
       "</div>"
      ],
      "text/plain": [
       "         query_id  passage_id  bm25_rank                       query  \\\n",
       "1654398    613748     6169808         99  what county is tonopah nv    \n",
       "1654399    613748     6987332        100  what county is tonopah nv    \n",
       "\n",
       "                                                   passage  \\\n",
       "1654398  the real property transfer tax is a tax collec...   \n",
       "1654399  battle mountain  nv  sponsored topics  battle ...   \n",
       "\n",
       "                                                input_text  \n",
       "1654398  [CLS] what county is tonopah nv  [SEP] the rea...  \n",
       "1654399  [CLS] what county is tonopah nv  [SEP] battle ...  "
      ]
     },
     "execution_count": 43,
     "metadata": {},
     "output_type": "execute_result"
    }
   ],
   "source": [
    "bert_df_pt1.tail(2)"
   ]
  },
  {
   "cell_type": "code",
   "execution_count": 44,
   "metadata": {},
   "outputs": [
    {
     "data": {
      "text/plain": [
       "(1654300, 6)"
      ]
     },
     "execution_count": 44,
     "metadata": {},
     "output_type": "execute_result"
    }
   ],
   "source": [
    "bert_df_pt2.shape"
   ]
  },
  {
   "cell_type": "code",
   "execution_count": 45,
   "metadata": {},
   "outputs": [
    {
     "data": {
      "text/html": [
       "<div>\n",
       "<style scoped>\n",
       "    .dataframe tbody tr th:only-of-type {\n",
       "        vertical-align: middle;\n",
       "    }\n",
       "\n",
       "    .dataframe tbody tr th {\n",
       "        vertical-align: top;\n",
       "    }\n",
       "\n",
       "    .dataframe thead th {\n",
       "        text-align: right;\n",
       "    }\n",
       "</style>\n",
       "<table border=\"1\" class=\"dataframe\">\n",
       "  <thead>\n",
       "    <tr style=\"text-align: right;\">\n",
       "      <th></th>\n",
       "      <th>query_id</th>\n",
       "      <th>passage_id</th>\n",
       "      <th>bm25_rank</th>\n",
       "      <th>query</th>\n",
       "      <th>passage</th>\n",
       "      <th>input_text</th>\n",
       "    </tr>\n",
       "  </thead>\n",
       "  <tbody>\n",
       "    <tr>\n",
       "      <th>1654400</th>\n",
       "      <td>613749</td>\n",
       "      <td>1988501</td>\n",
       "      <td>1</td>\n",
       "      <td>what county is tontogany oh in</td>\n",
       "      <td>currently our records indicate that there are ...</td>\n",
       "      <td>[CLS] what county is tontogany oh in [SEP] cur...</td>\n",
       "    </tr>\n",
       "    <tr>\n",
       "      <th>1654401</th>\n",
       "      <td>613749</td>\n",
       "      <td>1988505</td>\n",
       "      <td>2</td>\n",
       "      <td>what county is tontogany oh in</td>\n",
       "      <td>sex offenders registry statistics for tontogan...</td>\n",
       "      <td>[CLS] what county is tontogany oh in [SEP] sex...</td>\n",
       "    </tr>\n",
       "  </tbody>\n",
       "</table>\n",
       "</div>"
      ],
      "text/plain": [
       "         query_id  passage_id  bm25_rank                           query  \\\n",
       "1654400    613749     1988501          1  what county is tontogany oh in   \n",
       "1654401    613749     1988505          2  what county is tontogany oh in   \n",
       "\n",
       "                                                   passage  \\\n",
       "1654400  currently our records indicate that there are ...   \n",
       "1654401  sex offenders registry statistics for tontogan...   \n",
       "\n",
       "                                                input_text  \n",
       "1654400  [CLS] what county is tontogany oh in [SEP] cur...  \n",
       "1654401  [CLS] what county is tontogany oh in [SEP] sex...  "
      ]
     },
     "execution_count": 45,
     "metadata": {},
     "output_type": "execute_result"
    }
   ],
   "source": [
    "bert_df_pt2.head(2)"
   ]
  },
  {
   "cell_type": "markdown",
   "metadata": {},
   "source": [
    "#### Run Bert"
   ]
  },
  {
   "cell_type": "code",
   "execution_count": 17,
   "metadata": {},
   "outputs": [
    {
     "data": {
      "application/vnd.jupyter.widget-view+json": {
       "model_id": "4528ca99bad34ff689d494b13719a794",
       "version_major": 2,
       "version_minor": 0
      },
      "text/plain": [
       "HBox(children=(IntProgress(value=0, max=473568), HTML(value='')))"
      ]
     },
     "metadata": {},
     "output_type": "display_data"
    },
    {
     "name": "stdout",
     "output_type": "stream",
     "text": [
      "\n"
     ]
    }
   ],
   "source": [
    "bert_df['indexed_tokens'] = bert_df.progress_apply(lambda row: tokenizer.convert_tokens_to_ids(tokenizer.tokenize(row['input_text'])), axis=1)"
   ]
  },
  {
   "cell_type": "code",
   "execution_count": 18,
   "metadata": {},
   "outputs": [
    {
     "data": {
      "text/html": [
       "<div>\n",
       "<style scoped>\n",
       "    .dataframe tbody tr th:only-of-type {\n",
       "        vertical-align: middle;\n",
       "    }\n",
       "\n",
       "    .dataframe tbody tr th {\n",
       "        vertical-align: top;\n",
       "    }\n",
       "\n",
       "    .dataframe thead th {\n",
       "        text-align: right;\n",
       "    }\n",
       "</style>\n",
       "<table border=\"1\" class=\"dataframe\">\n",
       "  <thead>\n",
       "    <tr style=\"text-align: right;\">\n",
       "      <th></th>\n",
       "      <th>query_id</th>\n",
       "      <th>passage_id</th>\n",
       "      <th>bm25_rank</th>\n",
       "      <th>query</th>\n",
       "      <th>passage</th>\n",
       "      <th>input_text</th>\n",
       "      <th>indexed_tokens</th>\n",
       "    </tr>\n",
       "  </thead>\n",
       "  <tbody>\n",
       "    <tr>\n",
       "      <th>0</th>\n",
       "      <td>2</td>\n",
       "      <td>1782337</td>\n",
       "      <td>1</td>\n",
       "      <td>androgen receptor define</td>\n",
       "      <td>enzalutamide is an androgen receptor inhibitor...</td>\n",
       "      <td>[CLS]  androgen receptor define [SEP] enzaluta...</td>\n",
       "      <td>[101, 1998, 22991, 10769, 9375, 102, 4372, 167...</td>\n",
       "    </tr>\n",
       "  </tbody>\n",
       "</table>\n",
       "</div>"
      ],
      "text/plain": [
       "   query_id  passage_id  bm25_rank                      query  \\\n",
       "0         2     1782337          1   androgen receptor define   \n",
       "\n",
       "                                             passage  \\\n",
       "0  enzalutamide is an androgen receptor inhibitor...   \n",
       "\n",
       "                                          input_text  \\\n",
       "0  [CLS]  androgen receptor define [SEP] enzaluta...   \n",
       "\n",
       "                                      indexed_tokens  \n",
       "0  [101, 1998, 22991, 10769, 9375, 102, 4372, 167...  "
      ]
     },
     "execution_count": 18,
     "metadata": {},
     "output_type": "execute_result"
    }
   ],
   "source": [
    "bert_df.head(1)"
   ]
  },
  {
   "cell_type": "code",
   "execution_count": 19,
   "metadata": {},
   "outputs": [
    {
     "data": {
      "application/vnd.jupyter.widget-view+json": {
       "model_id": "067152316a514d438189d16ac25b1bd9",
       "version_major": 2,
       "version_minor": 0
      },
      "text/plain": [
       "HBox(children=(IntProgress(value=0, max=473568), HTML(value='')))"
      ]
     },
     "metadata": {},
     "output_type": "display_data"
    },
    {
     "name": "stdout",
     "output_type": "stream",
     "text": [
      "\n"
     ]
    }
   ],
   "source": [
    "bert_df['segment_ids'] = bert_df.progress_apply(lambda row: get_segment_ids_from_index_tokens(row['indexed_tokens']), axis=1)"
   ]
  },
  {
   "cell_type": "code",
   "execution_count": 20,
   "metadata": {},
   "outputs": [
    {
     "data": {
      "text/html": [
       "<div>\n",
       "<style scoped>\n",
       "    .dataframe tbody tr th:only-of-type {\n",
       "        vertical-align: middle;\n",
       "    }\n",
       "\n",
       "    .dataframe tbody tr th {\n",
       "        vertical-align: top;\n",
       "    }\n",
       "\n",
       "    .dataframe thead th {\n",
       "        text-align: right;\n",
       "    }\n",
       "</style>\n",
       "<table border=\"1\" class=\"dataframe\">\n",
       "  <thead>\n",
       "    <tr style=\"text-align: right;\">\n",
       "      <th></th>\n",
       "      <th>query_id</th>\n",
       "      <th>passage_id</th>\n",
       "      <th>bm25_rank</th>\n",
       "      <th>query</th>\n",
       "      <th>passage</th>\n",
       "      <th>input_text</th>\n",
       "      <th>indexed_tokens</th>\n",
       "      <th>segment_ids</th>\n",
       "    </tr>\n",
       "  </thead>\n",
       "  <tbody>\n",
       "    <tr>\n",
       "      <th>0</th>\n",
       "      <td>2</td>\n",
       "      <td>1782337</td>\n",
       "      <td>1</td>\n",
       "      <td>androgen receptor define</td>\n",
       "      <td>enzalutamide is an androgen receptor inhibitor...</td>\n",
       "      <td>[CLS]  androgen receptor define [SEP] enzaluta...</td>\n",
       "      <td>[101, 1998, 22991, 10769, 9375, 102, 4372, 167...</td>\n",
       "      <td>[0, 0, 0, 0, 0, 1, 1, 1, 1, 1, 1, 1, 1, 1, 1, ...</td>\n",
       "    </tr>\n",
       "  </tbody>\n",
       "</table>\n",
       "</div>"
      ],
      "text/plain": [
       "   query_id  passage_id  bm25_rank                      query  \\\n",
       "0         2     1782337          1   androgen receptor define   \n",
       "\n",
       "                                             passage  \\\n",
       "0  enzalutamide is an androgen receptor inhibitor...   \n",
       "\n",
       "                                          input_text  \\\n",
       "0  [CLS]  androgen receptor define [SEP] enzaluta...   \n",
       "\n",
       "                                      indexed_tokens  \\\n",
       "0  [101, 1998, 22991, 10769, 9375, 102, 4372, 167...   \n",
       "\n",
       "                                         segment_ids  \n",
       "0  [0, 0, 0, 0, 0, 1, 1, 1, 1, 1, 1, 1, 1, 1, 1, ...  "
      ]
     },
     "execution_count": 20,
     "metadata": {},
     "output_type": "execute_result"
    }
   ],
   "source": [
    "bert_df.head(1)"
   ]
  },
  {
   "cell_type": "code",
   "execution_count": 21,
   "metadata": {},
   "outputs": [
    {
     "name": "stderr",
     "output_type": "stream",
     "text": [
      "/home/ec2-user/anaconda3/envs/pytorch_p36/lib/python3.6/site-packages/ipykernel/__main__.py:3: TqdmDeprecationWarning: This function will be removed in tqdm==5.0.0\n",
      "Please use `tqdm.notebook.tqdm` instead of `tqdm.tqdm_notebook`\n",
      "  app.launch_new_instance()\n"
     ]
    },
    {
     "data": {
      "application/vnd.jupyter.widget-view+json": {
       "model_id": "c3e4e419b0a04ea7b39e6032f5155de8",
       "version_major": 2,
       "version_minor": 0
      },
      "text/plain": [
       "HBox(children=(IntProgress(value=0, max=473568), HTML(value='')))"
      ]
     },
     "metadata": {},
     "output_type": "display_data"
    },
    {
     "name": "stdout",
     "output_type": "stream",
     "text": [
      "\n"
     ]
    }
   ],
   "source": [
    "output_df = run_bert(bert_df)"
   ]
  },
  {
   "cell_type": "code",
   "execution_count": 22,
   "metadata": {},
   "outputs": [
    {
     "data": {
      "text/html": [
       "<div>\n",
       "<style scoped>\n",
       "    .dataframe tbody tr th:only-of-type {\n",
       "        vertical-align: middle;\n",
       "    }\n",
       "\n",
       "    .dataframe tbody tr th {\n",
       "        vertical-align: top;\n",
       "    }\n",
       "\n",
       "    .dataframe thead th {\n",
       "        text-align: right;\n",
       "    }\n",
       "</style>\n",
       "<table border=\"1\" class=\"dataframe\">\n",
       "  <thead>\n",
       "    <tr style=\"text-align: right;\">\n",
       "      <th></th>\n",
       "      <th>query_id</th>\n",
       "      <th>passage_id</th>\n",
       "      <th>bm25_rank</th>\n",
       "      <th>query</th>\n",
       "      <th>passage</th>\n",
       "      <th>input_text</th>\n",
       "      <th>indexed_tokens</th>\n",
       "      <th>segment_ids</th>\n",
       "      <th>pooled_output</th>\n",
       "    </tr>\n",
       "  </thead>\n",
       "  <tbody>\n",
       "    <tr>\n",
       "      <th>0</th>\n",
       "      <td>2</td>\n",
       "      <td>1782337</td>\n",
       "      <td>1</td>\n",
       "      <td>androgen receptor define</td>\n",
       "      <td>enzalutamide is an androgen receptor inhibitor...</td>\n",
       "      <td>[CLS]  androgen receptor define [SEP] enzaluta...</td>\n",
       "      <td>[101, 1998, 22991, 10769, 9375, 102, 4372, 167...</td>\n",
       "      <td>[0, 0, 0, 0, 0, 1, 1, 1, 1, 1, 1, 1, 1, 1, 1, ...</td>\n",
       "      <td>[[tensor(1.7580, device='cuda:0'), tensor(-1.7...</td>\n",
       "    </tr>\n",
       "    <tr>\n",
       "      <th>1</th>\n",
       "      <td>2</td>\n",
       "      <td>1001873</td>\n",
       "      <td>2</td>\n",
       "      <td>androgen receptor define</td>\n",
       "      <td>the ar gene provides instructions for making a...</td>\n",
       "      <td>[CLS]  androgen receptor define [SEP] the ar g...</td>\n",
       "      <td>[101, 1998, 22991, 10769, 9375, 102, 1996, 120...</td>\n",
       "      <td>[0, 0, 0, 0, 0, 1, 1, 1, 1, 1, 1, 1, 1, 1, 1, ...</td>\n",
       "      <td>[[tensor(-0.7092, device='cuda:0'), tensor(2.2...</td>\n",
       "    </tr>\n",
       "    <tr>\n",
       "      <th>2</th>\n",
       "      <td>2</td>\n",
       "      <td>4339075</td>\n",
       "      <td>3</td>\n",
       "      <td>androgen receptor define</td>\n",
       "      <td>during androgen independent progression  prost...</td>\n",
       "      <td>[CLS]  androgen receptor define [SEP] during a...</td>\n",
       "      <td>[101, 1998, 22991, 10769, 9375, 102, 2076, 199...</td>\n",
       "      <td>[0, 0, 0, 0, 0, 1, 1, 1, 1, 1, 1, 1, 1, 1, 1, ...</td>\n",
       "      <td>[[tensor(1.8136, device='cuda:0'), tensor(-1.8...</td>\n",
       "    </tr>\n",
       "    <tr>\n",
       "      <th>3</th>\n",
       "      <td>2</td>\n",
       "      <td>6285817</td>\n",
       "      <td>4</td>\n",
       "      <td>androgen receptor define</td>\n",
       "      <td>the term sarms stands for aselective androgen ...</td>\n",
       "      <td>[CLS]  androgen receptor define [SEP] the term...</td>\n",
       "      <td>[101, 1998, 22991, 10769, 9375, 102, 1996, 274...</td>\n",
       "      <td>[0, 0, 0, 0, 0, 1, 1, 1, 1, 1, 1, 1, 1, 1, 1, ...</td>\n",
       "      <td>[[tensor(-0.9003, device='cuda:0'), tensor(2.4...</td>\n",
       "    </tr>\n",
       "    <tr>\n",
       "      <th>4</th>\n",
       "      <td>2</td>\n",
       "      <td>3634076</td>\n",
       "      <td>5</td>\n",
       "      <td>androgen receptor define</td>\n",
       "      <td>sarms or selective androgen receptor modulator...</td>\n",
       "      <td>[CLS]  androgen receptor define [SEP] sarms or...</td>\n",
       "      <td>[101, 1998, 22991, 10769, 9375, 102, 18906, 52...</td>\n",
       "      <td>[0, 0, 0, 0, 0, 1, 1, 1, 1, 1, 1, 1, 1, 1, 1, ...</td>\n",
       "      <td>[[tensor(-0.4892, device='cuda:0'), tensor(2.0...</td>\n",
       "    </tr>\n",
       "  </tbody>\n",
       "</table>\n",
       "</div>"
      ],
      "text/plain": [
       "   query_id  passage_id  bm25_rank                      query  \\\n",
       "0         2     1782337          1   androgen receptor define   \n",
       "1         2     1001873          2   androgen receptor define   \n",
       "2         2     4339075          3   androgen receptor define   \n",
       "3         2     6285817          4   androgen receptor define   \n",
       "4         2     3634076          5   androgen receptor define   \n",
       "\n",
       "                                             passage  \\\n",
       "0  enzalutamide is an androgen receptor inhibitor...   \n",
       "1  the ar gene provides instructions for making a...   \n",
       "2  during androgen independent progression  prost...   \n",
       "3  the term sarms stands for aselective androgen ...   \n",
       "4  sarms or selective androgen receptor modulator...   \n",
       "\n",
       "                                          input_text  \\\n",
       "0  [CLS]  androgen receptor define [SEP] enzaluta...   \n",
       "1  [CLS]  androgen receptor define [SEP] the ar g...   \n",
       "2  [CLS]  androgen receptor define [SEP] during a...   \n",
       "3  [CLS]  androgen receptor define [SEP] the term...   \n",
       "4  [CLS]  androgen receptor define [SEP] sarms or...   \n",
       "\n",
       "                                      indexed_tokens  \\\n",
       "0  [101, 1998, 22991, 10769, 9375, 102, 4372, 167...   \n",
       "1  [101, 1998, 22991, 10769, 9375, 102, 1996, 120...   \n",
       "2  [101, 1998, 22991, 10769, 9375, 102, 2076, 199...   \n",
       "3  [101, 1998, 22991, 10769, 9375, 102, 1996, 274...   \n",
       "4  [101, 1998, 22991, 10769, 9375, 102, 18906, 52...   \n",
       "\n",
       "                                         segment_ids  \\\n",
       "0  [0, 0, 0, 0, 0, 1, 1, 1, 1, 1, 1, 1, 1, 1, 1, ...   \n",
       "1  [0, 0, 0, 0, 0, 1, 1, 1, 1, 1, 1, 1, 1, 1, 1, ...   \n",
       "2  [0, 0, 0, 0, 0, 1, 1, 1, 1, 1, 1, 1, 1, 1, 1, ...   \n",
       "3  [0, 0, 0, 0, 0, 1, 1, 1, 1, 1, 1, 1, 1, 1, 1, ...   \n",
       "4  [0, 0, 0, 0, 0, 1, 1, 1, 1, 1, 1, 1, 1, 1, 1, ...   \n",
       "\n",
       "                                       pooled_output  \n",
       "0  [[tensor(1.7580, device='cuda:0'), tensor(-1.7...  \n",
       "1  [[tensor(-0.7092, device='cuda:0'), tensor(2.2...  \n",
       "2  [[tensor(1.8136, device='cuda:0'), tensor(-1.8...  \n",
       "3  [[tensor(-0.9003, device='cuda:0'), tensor(2.4...  \n",
       "4  [[tensor(-0.4892, device='cuda:0'), tensor(2.0...  "
      ]
     },
     "execution_count": 22,
     "metadata": {},
     "output_type": "execute_result"
    }
   ],
   "source": [
    "output_df.head(5)"
   ]
  },
  {
   "cell_type": "code",
   "execution_count": 23,
   "metadata": {},
   "outputs": [],
   "source": [
    "output_df.to_csv(output_dir + output_filename,sep=\"\\t\", header=False,index=False)"
   ]
  },
  {
   "cell_type": "code",
   "execution_count": 24,
   "metadata": {},
   "outputs": [
    {
     "data": {
      "application/vnd.jupyter.widget-view+json": {
       "model_id": "c90a6eab789240338eb9ea4947864a89",
       "version_major": 2,
       "version_minor": 0
      },
      "text/plain": [
       "HBox(children=(IntProgress(value=0, max=473568), HTML(value='')))"
      ]
     },
     "metadata": {},
     "output_type": "display_data"
    },
    {
     "name": "stdout",
     "output_type": "stream",
     "text": [
      "\n"
     ]
    }
   ],
   "source": [
    "output_df['score_bert'] = output_df.progress_apply(lambda row: row['pooled_output'].data[0][1].item(), axis=1)\n",
    "output_df = output_df.drop(columns=['input_text', 'indexed_tokens', 'segment_ids', 'pooled_output'])"
   ]
  },
  {
   "cell_type": "code",
   "execution_count": 25,
   "metadata": {},
   "outputs": [],
   "source": [
    "output_df[\"bert_rank\"] = output_df.groupby(\"query_id\")[\"score_bert\"].rank(ascending=0,method='dense')\n",
    "output_df[\"bert_rank\"] = output_df['bert_rank'].astype(int)"
   ]
  },
  {
   "cell_type": "code",
   "execution_count": 26,
   "metadata": {},
   "outputs": [
    {
     "data": {
      "text/html": [
       "<div>\n",
       "<style scoped>\n",
       "    .dataframe tbody tr th:only-of-type {\n",
       "        vertical-align: middle;\n",
       "    }\n",
       "\n",
       "    .dataframe tbody tr th {\n",
       "        vertical-align: top;\n",
       "    }\n",
       "\n",
       "    .dataframe thead th {\n",
       "        text-align: right;\n",
       "    }\n",
       "</style>\n",
       "<table border=\"1\" class=\"dataframe\">\n",
       "  <thead>\n",
       "    <tr style=\"text-align: right;\">\n",
       "      <th></th>\n",
       "      <th>query_id</th>\n",
       "      <th>passage_id</th>\n",
       "      <th>bm25_rank</th>\n",
       "      <th>query</th>\n",
       "      <th>passage</th>\n",
       "      <th>score_bert</th>\n",
       "      <th>bert_rank</th>\n",
       "    </tr>\n",
       "  </thead>\n",
       "  <tbody>\n",
       "    <tr>\n",
       "      <th>0</th>\n",
       "      <td>2</td>\n",
       "      <td>1782337</td>\n",
       "      <td>1</td>\n",
       "      <td>androgen receptor define</td>\n",
       "      <td>enzalutamide is an androgen receptor inhibitor...</td>\n",
       "      <td>-1.713628</td>\n",
       "      <td>34</td>\n",
       "    </tr>\n",
       "    <tr>\n",
       "      <th>1</th>\n",
       "      <td>2</td>\n",
       "      <td>1001873</td>\n",
       "      <td>2</td>\n",
       "      <td>androgen receptor define</td>\n",
       "      <td>the ar gene provides instructions for making a...</td>\n",
       "      <td>2.283455</td>\n",
       "      <td>5</td>\n",
       "    </tr>\n",
       "    <tr>\n",
       "      <th>2</th>\n",
       "      <td>2</td>\n",
       "      <td>4339075</td>\n",
       "      <td>3</td>\n",
       "      <td>androgen receptor define</td>\n",
       "      <td>during androgen independent progression  prost...</td>\n",
       "      <td>-1.800174</td>\n",
       "      <td>36</td>\n",
       "    </tr>\n",
       "    <tr>\n",
       "      <th>3</th>\n",
       "      <td>2</td>\n",
       "      <td>6285817</td>\n",
       "      <td>4</td>\n",
       "      <td>androgen receptor define</td>\n",
       "      <td>the term sarms stands for aselective androgen ...</td>\n",
       "      <td>2.404728</td>\n",
       "      <td>4</td>\n",
       "    </tr>\n",
       "    <tr>\n",
       "      <th>4</th>\n",
       "      <td>2</td>\n",
       "      <td>3634076</td>\n",
       "      <td>5</td>\n",
       "      <td>androgen receptor define</td>\n",
       "      <td>sarms or selective androgen receptor modulator...</td>\n",
       "      <td>2.029060</td>\n",
       "      <td>8</td>\n",
       "    </tr>\n",
       "    <tr>\n",
       "      <th>5</th>\n",
       "      <td>2</td>\n",
       "      <td>7496506</td>\n",
       "      <td>6</td>\n",
       "      <td>androgen receptor define</td>\n",
       "      <td>the binding of an androgen to the androgen rec...</td>\n",
       "      <td>-0.913418</td>\n",
       "      <td>22</td>\n",
       "    </tr>\n",
       "    <tr>\n",
       "      <th>6</th>\n",
       "      <td>2</td>\n",
       "      <td>4339068</td>\n",
       "      <td>7</td>\n",
       "      <td>androgen receptor define</td>\n",
       "      <td>the androgen receptor  ar   also known as nr3c...</td>\n",
       "      <td>2.824988</td>\n",
       "      <td>1</td>\n",
       "    </tr>\n",
       "    <tr>\n",
       "      <th>7</th>\n",
       "      <td>2</td>\n",
       "      <td>2022782</td>\n",
       "      <td>8</td>\n",
       "      <td>androgen receptor define</td>\n",
       "      <td>the androgen dihydrotestosterone binds to the ...</td>\n",
       "      <td>-0.705901</td>\n",
       "      <td>20</td>\n",
       "    </tr>\n",
       "    <tr>\n",
       "      <th>8</th>\n",
       "      <td>2</td>\n",
       "      <td>7496507</td>\n",
       "      <td>9</td>\n",
       "      <td>androgen receptor define</td>\n",
       "      <td>the gene for the syndrome is on the x chromoso...</td>\n",
       "      <td>-1.256110</td>\n",
       "      <td>29</td>\n",
       "    </tr>\n",
       "    <tr>\n",
       "      <th>9</th>\n",
       "      <td>2</td>\n",
       "      <td>4339072</td>\n",
       "      <td>10</td>\n",
       "      <td>androgen receptor define</td>\n",
       "      <td>in some cell types  testosterone interacts dir...</td>\n",
       "      <td>-2.665199</td>\n",
       "      <td>58</td>\n",
       "    </tr>\n",
       "  </tbody>\n",
       "</table>\n",
       "</div>"
      ],
      "text/plain": [
       "   query_id  passage_id  bm25_rank                      query  \\\n",
       "0         2     1782337          1   androgen receptor define   \n",
       "1         2     1001873          2   androgen receptor define   \n",
       "2         2     4339075          3   androgen receptor define   \n",
       "3         2     6285817          4   androgen receptor define   \n",
       "4         2     3634076          5   androgen receptor define   \n",
       "5         2     7496506          6   androgen receptor define   \n",
       "6         2     4339068          7   androgen receptor define   \n",
       "7         2     2022782          8   androgen receptor define   \n",
       "8         2     7496507          9   androgen receptor define   \n",
       "9         2     4339072         10   androgen receptor define   \n",
       "\n",
       "                                             passage  score_bert  bert_rank  \n",
       "0  enzalutamide is an androgen receptor inhibitor...   -1.713628         34  \n",
       "1  the ar gene provides instructions for making a...    2.283455          5  \n",
       "2  during androgen independent progression  prost...   -1.800174         36  \n",
       "3  the term sarms stands for aselective androgen ...    2.404728          4  \n",
       "4  sarms or selective androgen receptor modulator...    2.029060          8  \n",
       "5  the binding of an androgen to the androgen rec...   -0.913418         22  \n",
       "6  the androgen receptor  ar   also known as nr3c...    2.824988          1  \n",
       "7  the androgen dihydrotestosterone binds to the ...   -0.705901         20  \n",
       "8  the gene for the syndrome is on the x chromoso...   -1.256110         29  \n",
       "9  in some cell types  testosterone interacts dir...   -2.665199         58  "
      ]
     },
     "execution_count": 26,
     "metadata": {},
     "output_type": "execute_result"
    }
   ],
   "source": [
    "output_df.head(10)"
   ]
  },
  {
   "cell_type": "code",
   "execution_count": 27,
   "metadata": {},
   "outputs": [],
   "source": [
    "output_df.to_csv(output_dir + output_filename,sep=\"\\t\", header=False,index=False)"
   ]
  }
 ],
 "metadata": {
  "kernelspec": {
   "display_name": "conda_pytorch_p36",
   "language": "python",
   "name": "conda_pytorch_p36"
  },
  "language_info": {
   "codemirror_mode": {
    "name": "ipython",
    "version": 3
   },
   "file_extension": ".py",
   "mimetype": "text/x-python",
   "name": "python",
   "nbconvert_exporter": "python",
   "pygments_lexer": "ipython3",
   "version": "3.6.5"
  }
 },
 "nbformat": 4,
 "nbformat_minor": 4
}
